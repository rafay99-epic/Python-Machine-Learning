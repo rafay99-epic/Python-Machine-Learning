{
 "cells": [
  {
   "cell_type": "markdown",
   "id": "a72d288b",
   "metadata": {},
   "source": [
    "# Creating Dictionary"
   ]
  },
  {
   "cell_type": "markdown",
   "id": "eab6938d",
   "metadata": {},
   "source": [
    "### Distionary\n",
    "- Dictionary in Python is an unordered collection of data values, used to store data values like a map, which, unlike other Data Types that hold only a single value as an element, Dictionary holds key:value pair. Key-value is provided in the dictionary to make it more optimized. <br>\n",
    "\n",
    "- Disctionary is created with a sequence of curly brackets{} and there must be a key so that data can be assifned in the dictionary"
   ]
  },
  {
   "cell_type": "code",
   "execution_count": 1,
   "id": "47bb3f87",
   "metadata": {},
   "outputs": [
    {
     "name": "stdout",
     "output_type": "stream",
     "text": [
      "{1: 'Rafay', 2: 'Moeez', 3: 'Muqeet'}\n"
     ]
    }
   ],
   "source": [
    "# creating Dictionary\n",
    "Dic={1:'Rafay', 2: 'Moeez', 3: 'Muqeet'}\n",
    "# Printing Disctionary\n",
    "print(Dic)"
   ]
  },
  {
   "cell_type": "markdown",
   "id": "958e5991",
   "metadata": {},
   "source": [
    "## Adding List in a disctionary\n",
    "Yes, you can list in a dictionary."
   ]
  },
  {
   "cell_type": "code",
   "execution_count": 2,
   "id": "e8d57928",
   "metadata": {},
   "outputs": [
    {
     "name": "stdout",
     "output_type": "stream",
     "text": [
      "{1: 'Rafay', 2: 'Moeez', 3: 'Muqeet', 4: [4, 5, 7, 'Hello World']}\n"
     ]
    }
   ],
   "source": [
    "# creating Dictionary\n",
    "Dic={1:'Rafay', 2: 'Moeez', 3: 'Muqeet', 4: [4,5,7,'Hello World']}\n",
    "# Printing Disctionary\n",
    "print(Dic)"
   ]
  },
  {
   "cell_type": "markdown",
   "id": "b00cc789",
   "metadata": {},
   "source": [
    "## Adding Elements in the Dictionary"
   ]
  },
  {
   "cell_type": "code",
   "execution_count": 9,
   "id": "119d69bf",
   "metadata": {},
   "outputs": [
    {
     "name": "stdout",
     "output_type": "stream",
     "text": [
      "{}\n",
      "{0: 'Rafay', 1: 'Moeez', 2: 'Muqeet', 3: 'Saqib', 4: 'Saima'}\n",
      "{0: 'Rafay', 1: 'Moeez', 2: 'Affat', 3: 'Saqib', 4: 'Saima'}\n"
     ]
    }
   ],
   "source": [
    "# creating an empty Disctionary \n",
    "Disc={}\n",
    "# printing\n",
    "print(Disc)\n",
    "\n",
    "# Adding Elements:\n",
    "Disc[0] = 'Rafay'\n",
    "Disc[1] = 'Moeez'\n",
    "Disc[2] = 'Muqeet'\n",
    "Disc[3] = 'Saqib'\n",
    "Disc[4] = 'Saima'\n",
    "\n",
    "# printing the Dictionary\n",
    "print(Disc)\n",
    "\n",
    "# Printing some of the values from the disctionary\n",
    "Disc[2]\n",
    "\n",
    "# Replacing some of the values in the disctionay\n",
    "Disc[2]= 'Affat'\n",
    "print(Disc)"
   ]
  },
  {
   "cell_type": "markdown",
   "id": "2428ddfa",
   "metadata": {},
   "source": [
    "## Accessing Different Values from the Disctionary "
   ]
  },
  {
   "cell_type": "code",
   "execution_count": 10,
   "id": "76fd259d",
   "metadata": {},
   "outputs": [
    {
     "name": "stdout",
     "output_type": "stream",
     "text": [
      "Moeez\n"
     ]
    }
   ],
   "source": [
    "# Accessing the values using the key\n",
    "print(Disc[1])"
   ]
  },
  {
   "cell_type": "code",
   "execution_count": 14,
   "id": "66831f5d",
   "metadata": {},
   "outputs": [
    {
     "ename": "KeyError",
     "evalue": "'Rafay'",
     "output_type": "error",
     "traceback": [
      "\u001b[0;31m---------------------------------------------------------------------------\u001b[0m",
      "\u001b[0;31mKeyError\u001b[0m                                  Traceback (most recent call last)",
      "\u001b[0;32m<ipython-input-14-0ec5602a7c7a>\u001b[0m in \u001b[0;36m<module>\u001b[0;34m\u001b[0m\n\u001b[1;32m      2\u001b[0m \u001b[0;31m# In the  example bellow< Iwas accessing the element without ID\u001b[0m\u001b[0;34m\u001b[0m\u001b[0;34m\u001b[0m\u001b[0;34m\u001b[0m\u001b[0m\n\u001b[1;32m      3\u001b[0m \u001b[0;31m# Error Occured\u001b[0m\u001b[0;34m\u001b[0m\u001b[0;34m\u001b[0m\u001b[0;34m\u001b[0m\u001b[0m\n\u001b[0;32m----> 4\u001b[0;31m \u001b[0mprint\u001b[0m\u001b[0;34m(\u001b[0m\u001b[0mDisc\u001b[0m\u001b[0;34m[\u001b[0m\u001b[0;34m'Rafay'\u001b[0m\u001b[0;34m]\u001b[0m\u001b[0;34m)\u001b[0m\u001b[0;34m\u001b[0m\u001b[0;34m\u001b[0m\u001b[0m\n\u001b[0m",
      "\u001b[0;31mKeyError\u001b[0m: 'Rafay'"
     ]
    }
   ],
   "source": [
    "# You can not access the element without Id in dictionary\n",
    "# In the  example bellow< Iwas accessing the element without ID \n",
    "# Error Occured\n",
    "print(Disc['Rafay'])"
   ]
  },
  {
   "cell_type": "markdown",
   "id": "6586bc06",
   "metadata": {},
   "source": [
    "## Access Data in nested Dictionary"
   ]
  },
  {
   "cell_type": "code",
   "execution_count": 20,
   "id": "edc2b1af",
   "metadata": {},
   "outputs": [
    {
     "name": "stdout",
     "output_type": "stream",
     "text": [
      "{'Disc1': {1: 'Rafay'}, 'Disc2': {2: 'Moeez'}}\n",
      "{1: 'Rafay'}\n",
      "Rafay\n",
      "Moeez\n"
     ]
    }
   ],
   "source": [
    "# Creating a Nested Disctionary\n",
    "Dict={'Disc1':{1:'Rafay'},\n",
    "      'Disc2': {2 : 'Moeez'}\n",
    "     }\n",
    "# Printing the Disc\n",
    "print(Dict)\n",
    "\n",
    "# printting a couple of parts in the dictionay\n",
    "# printing one part of the Disctionary using the key\n",
    "print(Dict['Disc1'])\n",
    "\n",
    "# Calling some of the values from dictionary inside a disctionary\n",
    "print(Dict['Disc1'][1])\n",
    "\n",
    "print(Dict['Disc2'][2])"
   ]
  },
  {
   "cell_type": "markdown",
   "id": "6b759cca",
   "metadata": {},
   "source": [
    "## Removing Elements from Disctionary\n",
    "You can delete a part of the dictionary using the del function and you can delete the whole dictionay as well"
   ]
  },
  {
   "cell_type": "code",
   "execution_count": 21,
   "id": "19e35fed",
   "metadata": {},
   "outputs": [
    {
     "name": "stdout",
     "output_type": "stream",
     "text": [
      "{'Disc1': {1: 'Rafay'}, 'Disc2': {2: 'Moeez'}}\n",
      "{'Disc2': {2: 'Moeez'}}\n"
     ]
    }
   ],
   "source": [
    "# Creating a Nested Disctionary\n",
    "Dict={'Disc1':{1:'Rafay'},\n",
    "      'Disc2': {2 : 'Moeez'}\n",
    "     }\n",
    "#printing the dictionary\n",
    "print(Dict)\n",
    "\n",
    "# Delete on the bases of ID\n",
    "del Dict['Disc1']\n",
    "\n",
    "#printing the new dictionary \n",
    "print(Dict)"
   ]
  },
  {
   "cell_type": "code",
   "execution_count": 30,
   "id": "60adb26b",
   "metadata": {},
   "outputs": [
    {
     "ename": "KeyError",
     "evalue": "'Disc2'",
     "output_type": "error",
     "traceback": [
      "\u001b[0;31m---------------------------------------------------------------------------\u001b[0m",
      "\u001b[0;31mKeyError\u001b[0m                                  Traceback (most recent call last)",
      "\u001b[0;32m<ipython-input-30-8b0172651ac2>\u001b[0m in \u001b[0;36m<module>\u001b[0;34m\u001b[0m\n\u001b[0;32m----> 1\u001b[0;31m \u001b[0;32mdel\u001b[0m \u001b[0mDict\u001b[0m\u001b[0;34m[\u001b[0m\u001b[0;34m'Disc2'\u001b[0m\u001b[0;34m]\u001b[0m\u001b[0;34m\u001b[0m\u001b[0;34m\u001b[0m\u001b[0m\n\u001b[0m\u001b[1;32m      2\u001b[0m \u001b[0mprint\u001b[0m\u001b[0;34m(\u001b[0m\u001b[0mDict\u001b[0m\u001b[0;34m)\u001b[0m\u001b[0;34m\u001b[0m\u001b[0;34m\u001b[0m\u001b[0m\n",
      "\u001b[0;31mKeyError\u001b[0m: 'Disc2'"
     ]
    }
   ],
   "source": [
    "# Deleteing some part of the Dictionay\n",
    "del Dict['Disc2']\n",
    "print(Dict)"
   ]
  },
  {
   "cell_type": "markdown",
   "id": "b580d0ca",
   "metadata": {},
   "source": [
    "### Dictionary Methods \n",
    "\n",
    "**1) copy()<br>**\n",
    "They copy() method returns a shallow copy of the dictionary.<br>\n",
    "\n",
    "**2) clear()**<br>\n",
    "The clear() method removes all items from the dictionary.<br>\n",
    "\n",
    "**3) pop()**<br>\n",
    "Removes and returns an element from a dictionary having the given key.<br>\n",
    "\n",
    "**4) popitem()**<br>\n",
    "Removes the arbitrary key-value pair from the dictionary and returns it as tuple.<br>\n",
    "\n",
    "**5) get()**<br>\n",
    "It is a conventional method to access a value for a key.\n",
    "dictionary_name.values()\treturns a list of all the values available \n",
    "in a given dictionary.<br>\n",
    "\n",
    "**6) str()**<br>\n",
    "Produces a printable string representation of a dictionary.<br>\n",
    "\n",
    "**7) update()**\t<br>\n",
    "Adds dictionary dict2’s key-values pairs to dict<br>\n",
    "\n",
    "**8) setdefault()**\t<br>\n",
    "Set dict[key]=default if key is not already in dict <br>\n",
    "\n",
    "**9) keys()<br>**\n",
    "Returns list of dictionary dict’s keys <br>\n",
    "\n",
    "**10) items()\t<br>**\n",
    "Returns a list of dict’s (key, value) tuple pairs <br>\n",
    "\n",
    "**11) has_key()<br>**\n",
    "Returns true if key in dictionary dict, false otherwise <br>\n",
    "\n",
    "**12) fromkeys()<br>**\t\n",
    "Create a new dictionary with keys from seq and values set to value. <br>\n",
    "\n",
    "**13) type()\t<br>**\n",
    "Returns the type of the passed variable.<br>\n",
    "\n",
    "**14) cmp()\t<br>**\n",
    "Compares elements of both dict.<br>"
   ]
  },
  {
   "cell_type": "code",
   "execution_count": null,
   "id": "32fddbc3",
   "metadata": {},
   "outputs": [],
   "source": []
  }
 ],
 "metadata": {
  "kernelspec": {
   "display_name": "Python 3",
   "language": "python",
   "name": "python3"
  },
  "language_info": {
   "codemirror_mode": {
    "name": "ipython",
    "version": 3
   },
   "file_extension": ".py",
   "mimetype": "text/x-python",
   "name": "python",
   "nbconvert_exporter": "python",
   "pygments_lexer": "ipython3",
   "version": "3.8.8"
  }
 },
 "nbformat": 4,
 "nbformat_minor": 5
}
