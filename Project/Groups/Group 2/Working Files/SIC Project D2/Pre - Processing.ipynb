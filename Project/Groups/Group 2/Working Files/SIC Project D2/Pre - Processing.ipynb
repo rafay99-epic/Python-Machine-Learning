{
 "cells": [
  {
   "cell_type": "code",
   "execution_count": 1,
   "id": "b7b312cf",
   "metadata": {},
   "outputs": [],
   "source": [
    "import pandas as pd\n",
    "import numpy as np\n",
    "import nltk\n",
    "from nltk.stem.porter import *\n",
    "import re\n",
    "from wordsegment import load, segment, clean\n",
    "load() #loading segment\n",
    "import matplotlib.pyplot as plt\n",
    "from keras.preprocessing.sequence import pad_sequences\n",
    "%matplotlib inline"
   ]
  },
  {
   "cell_type": "code",
   "execution_count": 2,
   "id": "4056b471",
   "metadata": {},
   "outputs": [],
   "source": [
    "df = pd.read_csv('D2.csv', header='infer')"
   ]
  },
  {
   "cell_type": "code",
   "execution_count": 3,
   "id": "90259b49",
   "metadata": {},
   "outputs": [],
   "source": [
    "del df['id']"
   ]
  },
  {
   "cell_type": "code",
   "execution_count": 4,
   "id": "064af571",
   "metadata": {},
   "outputs": [
    {
     "data": {
      "text/plain": [
       "(31962, 2)"
      ]
     },
     "execution_count": 4,
     "metadata": {},
     "output_type": "execute_result"
    }
   ],
   "source": [
    "df.shape"
   ]
  },
  {
   "cell_type": "code",
   "execution_count": 5,
   "id": "bc2fac11",
   "metadata": {},
   "outputs": [
    {
     "name": "stdout",
     "output_type": "stream",
     "text": [
      "number of rows and columns i.e. dimension of the dataset:  (31962, 2)\n",
      "\n",
      "column names of the dataset:  Index(['label', 'tweet'], dtype='object')\n"
     ]
    }
   ],
   "source": [
    "print('number of rows and columns i.e. dimension of the dataset: ',df.shape)\n",
    "print('\\ncolumn names of the dataset: ',df.columns)"
   ]
  },
  {
   "cell_type": "code",
   "execution_count": 6,
   "id": "c645c85e",
   "metadata": {},
   "outputs": [],
   "source": [
    "ClassLabel = df['label']\n",
    "tweets = df.tweet"
   ]
  },
  {
   "cell_type": "code",
   "execution_count": 7,
   "id": "3199af4e",
   "metadata": {},
   "outputs": [
    {
     "data": {
      "image/png": "[encoded data removed]",
      "text/plain": [
       "<Figure size 432x432 with 1 Axes>"
      ]
     },
     "metadata": {
      "needs_background": "light"
     },
     "output_type": "display_data"
    }
   ],
   "source": [
    "fig, ax = plt.subplots(figsize = (6, 6))\n",
    "ax.spines['right'].set_visible(False)\n",
    "ax.spines['top'].set_visible(False)\n",
    "ax.spines['left'].set_visible(False)\n",
    "plt.hist(ClassLabel, bins=5, color='#33FF83', density=False, edgecolor='black')\n",
    "plt.title('HateSpeech Classification Initial Histogram')\n",
    "plt.xlabel('Classes \\n0 - HateSpeech, 1 - Offensive Laguage')\n",
    "plt.ylabel('Number of Tweets')\n",
    "plt.show()"
   ]
  },
  {
   "cell_type": "code",
   "execution_count": 8,
   "id": "e6ed0c0b",
   "metadata": {},
   "outputs": [
    {
     "name": "stdout",
     "output_type": "stream",
     "text": [
      "0         @user when a father is dysfunctional and is s...\n",
      "1        @user @user thanks for #lyft credit i can't us...\n",
      "2                                      bihday your majesty\n",
      "3        #model   i love u take with u all the time in ...\n",
      "4                   factsguide: society now    #motivation\n",
      "                               ...                        \n",
      "31957    ate @user isz that youuu?ðððððð...\n",
      "31958      to see nina turner on the airwaves trying to...\n",
      "31959    listening to sad songs on a monday morning otw...\n",
      "31960    @user #sikh #temple vandalised in in #calgary,...\n",
      "31961                     thank you @user for you follow  \n",
      "Name: tweet, Length: 31962, dtype: object\n"
     ]
    }
   ],
   "source": [
    "print(tweets)"
   ]
  },
  {
   "cell_type": "code",
   "execution_count": 9,
   "id": "00a26394",
   "metadata": {},
   "outputs": [
    {
     "data": {
      "text/plain": [
       "'finally caught up with the 21st century and signed us up to twitter ð\\x9f\\x91\\x8cð\\x9f\\x8f¼   #staytuned'"
      ]
     },
     "execution_count": 9,
     "metadata": {},
     "output_type": "execute_result"
    }
   ],
   "source": [
    "tweets[20000]"
   ]
  },
  {
   "cell_type": "code",
   "execution_count": 10,
   "id": "7a42ec82",
   "metadata": {},
   "outputs": [],
   "source": [
    "corpus = []\n",
    "char_regExp = '[,\\?:\\|]'\n",
    "re.compile(char_regExp)\n",
    "for i in range(0,len(tweets)):\n",
    "    Modified_Tweets = re.sub(char_regExp,'',tweets[i]).split()\n",
    "    Modified_Tweets = \"\".join(Modified_Tweets)\n",
    "    Modified_Tweets = Modified_Tweets.lower().split()                         # 3.1.2 - converting to lower characters and removing spaces from left and right\n",
    "    Modified_Tweets = \" \".join(Modified_Tweets)  \n",
    "    Modified_Tweets = segment(Modified_Tweets)\n",
    "    Modified_Tweets = \" \".join(Modified_Tweets) \n",
    "    corpus.append(Modified_Tweets)\n"
   ]
  },
  {
   "cell_type": "code",
   "execution_count": 11,
   "id": "00fae1ee",
   "metadata": {},
   "outputs": [
    {
     "data": {
      "text/plain": [
       "'ireland consumer price index mom climbed from previous 02to05inmay blog silver gold forex'"
      ]
     },
     "execution_count": 11,
     "metadata": {},
     "output_type": "execute_result"
    }
   ],
   "source": [
    "corpus[10]"
   ]
  },
  {
   "cell_type": "code",
   "execution_count": 15,
   "id": "9726a24e",
   "metadata": {},
   "outputs": [],
   "source": [
    "df['ClassLabel'] = ClassLabel "
   ]
  },
  {
   "cell_type": "code",
   "execution_count": 17,
   "id": "fdaff04c",
   "metadata": {},
   "outputs": [],
   "source": [
    "# df.columns = ['tweets','ClassLabel']\n",
    "df1 = pd.DataFrame(corpus)\n",
    "df1['ClassLabel'] = ClassLabel\n",
    "df1.columns = ['tweets','ClassLabel']\n",
    "df1.to_csv(r'C:\\Users\\Haseeb Ahmed\\SIC ProjectUpdated_Dataset_Friday.csv', index = False, header=True)"
   ]
  }
 ],
 "metadata": {
  "kernelspec": {
   "display_name": "Python 3",
   "language": "python",
   "name": "python3"
  },
  "language_info": {
   "codemirror_mode": {
    "name": "ipython",
    "version": 3
   },
   "file_extension": ".py",
   "mimetype": "text/x-python",
   "name": "python",
   "nbconvert_exporter": "python",
   "pygments_lexer": "ipython3",
   "version": "3.8.8"
  }
 },
 "nbformat": 4,
 "nbformat_minor": 5
}
