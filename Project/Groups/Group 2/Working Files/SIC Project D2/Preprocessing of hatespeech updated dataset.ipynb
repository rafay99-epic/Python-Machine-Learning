{
 "cells": [
  {
   "cell_type": "markdown",
   "id": "5e86118b",
   "metadata": {},
   "source": [
    "# Importing Necessary Libraries"
   ]
  },
  {
   "cell_type": "code",
   "execution_count": 3,
   "id": "c6c1984d",
   "metadata": {},
   "outputs": [],
   "source": [
    "import pandas as pd\n",
    "import numpy as np\n",
    "import nltk\n",
    "from nltk.stem.porter import *\n",
    "import re\n",
    "from wordsegment import load, segment, clean\n",
    "load() #loading segment\n",
    "import matplotlib.pyplot as plt\n",
    "from keras.preprocessing.sequence import pad_sequences\n",
    "%matplotlib inline"
   ]
  },
  {
   "cell_type": "markdown",
   "id": "030c8cab",
   "metadata": {},
   "source": [
    "# Reading the dataset and Data Exploration"
   ]
  },
  {
   "cell_type": "code",
   "execution_count": 4,
   "id": "fe14d270",
   "metadata": {},
   "outputs": [],
   "source": [
    "df = pd.read_csv('labeled_data-updated.csv',header = 'infer') "
   ]
  },
  {
   "cell_type": "code",
   "execution_count": 5,
   "id": "fac9d0aa",
   "metadata": {},
   "outputs": [
    {
     "data": {
      "text/html": [
       "<div>\n",
       "<style scoped>\n",
       "    .dataframe tbody tr th:only-of-type {\n",
       "        vertical-align: middle;\n",
       "    }\n",
       "\n",
       "    .dataframe tbody tr th {\n",
       "        vertical-align: top;\n",
       "    }\n",
       "\n",
       "    .dataframe thead th {\n",
       "        text-align: right;\n",
       "    }\n",
       "</style>\n",
       "<table border=\"1\" class=\"dataframe\">\n",
       "  <thead>\n",
       "    <tr style=\"text-align: right;\">\n",
       "      <th></th>\n",
       "      <th>tweet</th>\n",
       "      <th>Class Label</th>\n",
       "    </tr>\n",
       "  </thead>\n",
       "  <tbody>\n",
       "    <tr>\n",
       "      <th>0</th>\n",
       "      <td>!!! RT @mayasolovely: As a woman you shouldn't...</td>\n",
       "      <td>2</td>\n",
       "    </tr>\n",
       "    <tr>\n",
       "      <th>1</th>\n",
       "      <td>!!!!! RT @mleew17: boy dats cold...tyga dwn ba...</td>\n",
       "      <td>1</td>\n",
       "    </tr>\n",
       "    <tr>\n",
       "      <th>2</th>\n",
       "      <td>!!!!!!! RT @UrKindOfBrand Dawg!!!! RT @80sbaby...</td>\n",
       "      <td>1</td>\n",
       "    </tr>\n",
       "    <tr>\n",
       "      <th>3</th>\n",
       "      <td>!!!!!!!!! RT @C_G_Anderson: @viva_based she lo...</td>\n",
       "      <td>1</td>\n",
       "    </tr>\n",
       "    <tr>\n",
       "      <th>4</th>\n",
       "      <td>!!!!!!!!!!!!! RT @ShenikaRoberts: The shit you...</td>\n",
       "      <td>1</td>\n",
       "    </tr>\n",
       "    <tr>\n",
       "      <th>...</th>\n",
       "      <td>...</td>\n",
       "      <td>...</td>\n",
       "    </tr>\n",
       "    <tr>\n",
       "      <th>24778</th>\n",
       "      <td>you's a muthaf***in lie &amp;#8220;@LifeAsKing: @2...</td>\n",
       "      <td>1</td>\n",
       "    </tr>\n",
       "    <tr>\n",
       "      <th>24779</th>\n",
       "      <td>you've gone and broke the wrong heart baby, an...</td>\n",
       "      <td>2</td>\n",
       "    </tr>\n",
       "    <tr>\n",
       "      <th>24780</th>\n",
       "      <td>young buck wanna eat!!.. dat nigguh like I ain...</td>\n",
       "      <td>1</td>\n",
       "    </tr>\n",
       "    <tr>\n",
       "      <th>24781</th>\n",
       "      <td>youu got wild bitches tellin you lies</td>\n",
       "      <td>1</td>\n",
       "    </tr>\n",
       "    <tr>\n",
       "      <th>24782</th>\n",
       "      <td>~~Ruffled | Ntac Eileen Dahlia - Beautiful col...</td>\n",
       "      <td>2</td>\n",
       "    </tr>\n",
       "  </tbody>\n",
       "</table>\n",
       "<p>24783 rows × 2 columns</p>\n",
       "</div>"
      ],
      "text/plain": [
       "                                                   tweet  Class Label\n",
       "0      !!! RT @mayasolovely: As a woman you shouldn't...            2\n",
       "1      !!!!! RT @mleew17: boy dats cold...tyga dwn ba...            1\n",
       "2      !!!!!!! RT @UrKindOfBrand Dawg!!!! RT @80sbaby...            1\n",
       "3      !!!!!!!!! RT @C_G_Anderson: @viva_based she lo...            1\n",
       "4      !!!!!!!!!!!!! RT @ShenikaRoberts: The shit you...            1\n",
       "...                                                  ...          ...\n",
       "24778  you's a muthaf***in lie &#8220;@LifeAsKing: @2...            1\n",
       "24779  you've gone and broke the wrong heart baby, an...            2\n",
       "24780  young buck wanna eat!!.. dat nigguh like I ain...            1\n",
       "24781              youu got wild bitches tellin you lies            1\n",
       "24782  ~~Ruffled | Ntac Eileen Dahlia - Beautiful col...            2\n",
       "\n",
       "[24783 rows x 2 columns]"
      ]
     },
     "execution_count": 5,
     "metadata": {},
     "output_type": "execute_result"
    }
   ],
   "source": [
    "df"
   ]
  },
  {
   "cell_type": "code",
   "execution_count": 6,
   "id": "4e8f2cfe",
   "metadata": {},
   "outputs": [
    {
     "name": "stdout",
     "output_type": "stream",
     "text": [
      "number of rows and columns i.e. dimension of the dataset:  (24783, 2)\n",
      "\n",
      "column names of the dataset:  Index(['tweet', 'Class Label'], dtype='object')\n"
     ]
    }
   ],
   "source": [
    "print('number of rows and columns i.e. dimension of the dataset: ',df.shape)\n",
    "print('\\ncolumn names of the dataset: ',df.columns)"
   ]
  },
  {
   "cell_type": "markdown",
   "id": "a72eb596",
   "metadata": {},
   "source": [
    "## Separating the tweets and class label"
   ]
  },
  {
   "cell_type": "code",
   "execution_count": 7,
   "id": "652a8c97",
   "metadata": {},
   "outputs": [],
   "source": [
    "ClassLabel = df['Class Label']\n",
    "tweets = df.tweet"
   ]
  },
  {
   "cell_type": "markdown",
   "id": "beb261c7",
   "metadata": {},
   "source": [
    "### Plotting the class label"
   ]
  },
  {
   "cell_type": "code",
   "execution_count": 8,
   "id": "baf1f254",
   "metadata": {},
   "outputs": [
    {
     "data": {
      "image/png": "[encoded data removed]",
      "text/plain": [
       "<Figure size 432x432 with 1 Axes>"
      ]
     },
     "metadata": {
      "needs_background": "light"
     },
     "output_type": "display_data"
    }
   ],
   "source": [
    "fig, ax = plt.subplots(figsize = (6, 6))\n",
    "ax.spines['right'].set_visible(False)\n",
    "ax.spines['top'].set_visible(False)\n",
    "ax.spines['left'].set_visible(False)\n",
    "plt.hist(ClassLabel, bins=5, color='#33FF83', density=False, edgecolor='black')\n",
    "plt.title('HateSpeech Classification Initial Histogram')\n",
    "plt.xlabel('Classes \\n0 - HateSpeech, 1 - Offensive Laguage, 2- Neither')\n",
    "plt.ylabel('Number of Tweets')\n",
    "plt.show()"
   ]
  },
  {
   "cell_type": "markdown",
   "id": "fdc97597",
   "metadata": {},
   "source": [
    "# Preprocessing"
   ]
  },
  {
   "cell_type": "code",
   "execution_count": 9,
   "id": "50953544",
   "metadata": {},
   "outputs": [
    {
     "name": "stdout",
     "output_type": "stream",
     "text": [
      "0        !!! RT @mayasolovely: As a woman you shouldn't...\n",
      "1        !!!!! RT @mleew17: boy dats cold...tyga dwn ba...\n",
      "2        !!!!!!! RT @UrKindOfBrand Dawg!!!! RT @80sbaby...\n",
      "3        !!!!!!!!! RT @C_G_Anderson: @viva_based she lo...\n",
      "4        !!!!!!!!!!!!! RT @ShenikaRoberts: The shit you...\n",
      "                               ...                        \n",
      "24778    you's a muthaf***in lie &#8220;@LifeAsKing: @2...\n",
      "24779    you've gone and broke the wrong heart baby, an...\n",
      "24780    young buck wanna eat!!.. dat nigguh like I ain...\n",
      "24781                youu got wild bitches tellin you lies\n",
      "24782    ~~Ruffled | Ntac Eileen Dahlia - Beautiful col...\n",
      "Name: tweet, Length: 24783, dtype: object\n"
     ]
    }
   ],
   "source": [
    "print(tweets)"
   ]
  },
  {
   "cell_type": "code",
   "execution_count": 48,
   "id": "ef94b6b8",
   "metadata": {},
   "outputs": [],
   "source": [
    "corpus = []\n",
    "num_urls_regExp = '(https?:\\/\\/t\\.co\\/\\w+)'\n",
    "char_regExp = '[,\\?:\\|]'\n",
    "quoteHtml_regExp = '(&#8220;)|(&#8221;)'\n",
    "andHtml_regExp = '(&amp;)'\n",
    "emo_happy = '[&#...[514;]$]+|[&#...[513;]$]+'\n",
    "for i in range(0, len(tweets)):\n",
    "    tweetsUpdated = re.sub(num_urls_regExp, '',tweets[i]).split()         # 3.1.1 - removing URLS & numbers\n",
    "    tweetsUpdated = \" \".join(tweetsUpdated)                               # joining the string after split\n",
    "    tweetsUpdated = re.sub(andHtml_regExp,'and',tweetsUpdated).split()    # replacemnt of html_and_code with text and\n",
    "    tweetsUpdated = \" \".join(tweetsUpdated)                               # joining the string after split\n",
    "    tweetsUpdated = re.sub(char_regExp, ' ',tweetsUpdated).split()               # 3.1.1 - removing ,:|?\n",
    "    tweetsUpdated = \" \".join(tweetsUpdated)                               # joining the string after split\n",
    "    tweetsUpdated = re.sub(quoteHtml_regExp,'',tweetsUpdated)             # removing quotation marks in html codes\n",
    "    tweetsUpdated = tweetsUpdated.lower().split()                         # 3.1.2 - converting to lower characters and removing spaces from left and right\n",
    "    tweetsUpdated = \" \".join(tweetsUpdated)                               # joining the string after split\n",
    "    tweetsUpdated = re.sub(emo_happy,'happy',tweetsUpdated)\n",
    "#     tweetsUpdated = clean(tweetsUpdated)                                  # 3.1.3 - cleaning data for segmentation\n",
    "#     tweetsUpdated = segment(tweetsUpdated)                                # 3.1.3 - word segmentation using word segment module\n",
    "#     tweetsUpdated = \" \".join(tweetsUpdated)                               # joining the string after split\n",
    "    corpus.append(tweetsUpdated)                                          # Inserting the updated tweets into a corpus i.e. list of words"
   ]
  },
  {
   "cell_type": "code",
   "execution_count": 47,
   "id": "cd2c10d8",
   "metadata": {},
   "outputs": [
    {
     "data": {
      "text/plain": [
       "\"&#128129;&#128513;&#128586;- lmao my nigga . let's go half on a weed brownie &#128553; we will be laughing hard as hell in senior seminar\""
      ]
     },
     "execution_count": 47,
     "metadata": {},
     "output_type": "execute_result"
    }
   ],
   "source": [
    "corpus[958]"
   ]
  },
  {
   "cell_type": "code",
   "execution_count": 33,
   "id": "b1cdc2b3",
   "metadata": {},
   "outputs": [],
   "source": [
    "df1 = pd.DataFrame(corpus)"
   ]
  },
  {
   "cell_type": "code",
   "execution_count": 34,
   "id": "acb6bbb1",
   "metadata": {},
   "outputs": [],
   "source": [
    "df1['ClassLabel'] = ClassLabel "
   ]
  },
  {
   "cell_type": "code",
   "execution_count": 35,
   "id": "63a0f0d9",
   "metadata": {},
   "outputs": [],
   "source": [
    "df1.columns = ['tweets','ClassLabel']"
   ]
  },
  {
   "cell_type": "code",
   "execution_count": 36,
   "id": "d968eac2",
   "metadata": {},
   "outputs": [],
   "source": [
    "df1.to_csv(r'C:\\Users\\MrPablo\\Desktop\\updated_dataframe_with_no_urls_no_four_characters_and_numbers_and_in_lower_case_htmlAnd_htmlQuote.csv', index = False, header=True)"
   ]
  },
  {
   "cell_type": "code",
   "execution_count": null,
   "id": "4e262ed1",
   "metadata": {},
   "outputs": [],
   "source": []
  }
 ],
 "metadata": {
  "kernelspec": {
   "display_name": "Python 3",
   "language": "python",
   "name": "python3"
  },
  "language_info": {
   "codemirror_mode": {
    "name": "ipython",
    "version": 3
   },
   "file_extension": ".py",
   "mimetype": "text/x-python",
   "name": "python",
   "nbconvert_exporter": "python",
   "pygments_lexer": "ipython3",
   "version": "3.8.8"
  }
 },
 "nbformat": 4,
 "nbformat_minor": 5
}
