{
 "cells": [
  {
   "cell_type": "code",
   "execution_count": null,
   "id": "0d8a719b",
   "metadata": {},
   "outputs": [],
   "source": [
    "class Dog:\n",
    "    def __init__(self, name, age): # this is an constructor\n",
    "        self.name= name\n",
    "        self.age= age\n",
    "        print(\"A Dog object is created: \")\n",
    "\n",
    "dog1 = Dog('Fido', 2)       "
   ]
  }
 ],
 "metadata": {
  "kernelspec": {
   "display_name": "Python 3",
   "language": "python",
   "name": "python3"
  },
  "language_info": {
   "codemirror_mode": {
    "name": "ipython",
    "version": 3
   },
   "file_extension": ".py",
   "mimetype": "text/x-python",
   "name": "python",
   "nbconvert_exporter": "python",
   "pygments_lexer": "ipython3",
   "version": "3.8.8"
  }
 },
 "nbformat": 4,
 "nbformat_minor": 5
}
