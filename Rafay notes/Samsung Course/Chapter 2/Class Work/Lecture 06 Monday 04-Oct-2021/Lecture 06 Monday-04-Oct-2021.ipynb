{
 "cells": [
  {
   "cell_type": "markdown",
   "id": "8819893e",
   "metadata": {},
   "source": [
    "## Date: 04 Oct 2021\n",
    "## Day: Monday\n",
    "## Lecture 06"
   ]
  },
  {
   "cell_type": "markdown",
   "id": "5b95184b",
   "metadata": {},
   "source": [
    "# Data Structures"
   ]
  },
  {
   "cell_type": "markdown",
   "id": "7617ce9d",
   "metadata": {},
   "source": [
    "## Stack"
   ]
  },
  {
   "cell_type": "code",
   "execution_count": 1,
   "id": "47bff51f",
   "metadata": {},
   "outputs": [
    {
     "name": "stdout",
     "output_type": "stream",
     "text": [
      "10\n"
     ]
    }
   ],
   "source": [
    "# for stack\n",
    "# remove a vlue\n",
    "st =[1,2,3,4,5,6,10]\n",
    "x = st.pop()\n",
    "print(x)"
   ]
  },
  {
   "cell_type": "code",
   "execution_count": 2,
   "id": "c27b51a0",
   "metadata": {},
   "outputs": [
    {
     "name": "stdout",
     "output_type": "stream",
     "text": [
      "Enter a Number11\n",
      "[1, 2, 3, 4, 5, 6, 11]\n"
     ]
    }
   ],
   "source": [
    "# for input of element\n",
    "y = int(input(\"Enter a Number\"))\n",
    "st.append(y)\n",
    "print(st)"
   ]
  },
  {
   "cell_type": "markdown",
   "id": "79264c19",
   "metadata": {},
   "source": [
    "## Queue"
   ]
  },
  {
   "cell_type": "code",
   "execution_count": null,
   "id": "0e575379",
   "metadata": {},
   "outputs": [],
   "source": [
    "# for queue\n",
    "que= [10,12,34,56]\n"
   ]
  },
  {
   "cell_type": "markdown",
   "id": "6be2040f",
   "metadata": {},
   "source": [
    "# Exercise 10"
   ]
  },
  {
   "cell_type": "markdown",
   "id": "74f6c541",
   "metadata": {},
   "source": [
    "# 1: Queue vs Stack"
   ]
  },
  {
   "cell_type": "code",
   "execution_count": 3,
   "id": "19718ff2",
   "metadata": {},
   "outputs": [
    {
     "name": "stdout",
     "output_type": "stream",
     "text": [
      "a\n",
      "b\n",
      "c\n",
      "d\n",
      "e\n"
     ]
    }
   ],
   "source": [
    "a =['a','b','c','d','e']\n",
    "while a:\n",
    "    print(a.pop(0))\n",
    "    "
   ]
  },
  {
   "cell_type": "code",
   "execution_count": 4,
   "id": "51d6e914",
   "metadata": {},
   "outputs": [
    {
     "name": "stdout",
     "output_type": "stream",
     "text": [
      "e\n",
      "d\n",
      "c\n",
      "b\n",
      "a\n"
     ]
    }
   ],
   "source": [
    "a =['a','b','c','d','e']\n",
    "while a:\n",
    "    print(a.pop())"
   ]
  },
  {
   "cell_type": "markdown",
   "id": "39e8cd0e",
   "metadata": {},
   "source": [
    "# 2. Using stack"
   ]
  },
  {
   "cell_type": "markdown",
   "id": "21746f4e",
   "metadata": {},
   "source": [
    "## 2.1: Revrse the order of a list:"
   ]
  },
  {
   "cell_type": "code",
   "execution_count": 8,
   "id": "7491e25e",
   "metadata": {},
   "outputs": [
    {
     "name": "stdout",
     "output_type": "stream",
     "text": [
      "['e', 'd', 'c', 'b', 'a']\n"
     ]
    }
   ],
   "source": [
    "a = ['a','b','c','d','e']\n",
    "b = []\n",
    "while a:\n",
    "    x = a.pop()\n",
    "    b.append(x)\n",
    "print(b)"
   ]
  },
  {
   "cell_type": "markdown",
   "id": "d2f8bab7",
   "metadata": {},
   "source": [
    "Reverse the order of a string"
   ]
  },
  {
   "cell_type": "code",
   "execution_count": 13,
   "id": "9cd5b155",
   "metadata": {},
   "outputs": [],
   "source": [
    "def inverse_string(a):\n",
    "    b = ' '\n",
    "    letter = []\n",
    "    \n",
    "    for x in a:\n",
    "        letter.append(x)\n",
    "        \n",
    "    while letter:\n",
    "        c = letter.pop()\n",
    "        b +=c\n",
    "    return b"
   ]
  },
  {
   "cell_type": "code",
   "execution_count": 14,
   "id": "be01a218",
   "metadata": {},
   "outputs": [
    {
     "data": {
      "text/plain": [
       "' rafay'"
      ]
     },
     "execution_count": 14,
     "metadata": {},
     "output_type": "execute_result"
    }
   ],
   "source": [
    "inverse_string('yafar')"
   ]
  },
  {
   "cell_type": "markdown",
   "id": "623e9c57",
   "metadata": {},
   "source": [
    "Removing the spaces from the string"
   ]
  },
  {
   "cell_type": "code",
   "execution_count": 15,
   "id": "ddb54ae3",
   "metadata": {},
   "outputs": [],
   "source": [
    "def invers_string2(a):\n",
    "    b = ''\n",
    "    letters =[]\n",
    "    for x in a:\n",
    "        if x .isalpha():\n",
    "            letters.append(x)\n",
    "    while letters:\n",
    "        c = letters.pop()\n",
    "        b+= c\n",
    "    return b"
   ]
  },
  {
   "cell_type": "code",
   "execution_count": 17,
   "id": "a59c6f55",
   "metadata": {},
   "outputs": [
    {
     "data": {
      "text/plain": [
       "'wasitacatisaw'"
      ]
     },
     "execution_count": 17,
     "metadata": {},
     "output_type": "execute_result"
    }
   ],
   "source": [
    "invers_string2('was it a cat i saw')"
   ]
  },
  {
   "cell_type": "code",
   "execution_count": 19,
   "id": "e60ed598",
   "metadata": {},
   "outputs": [
    {
     "name": "stdout",
     "output_type": "stream",
     "text": [
      "\u001b[?25l\u001b[?7l\u001b[0m\u001b[36m\u001b[1m                   -`\n",
      "                  .o+`\n",
      "                 `ooo/\n",
      "                `+oooo:\n",
      "               `+oooooo:\n",
      "               -+oooooo+:\n",
      "             `/:-:++oooo+:\n",
      "            `/++++/+++++++:\n",
      "           `/++++++++++++++:\n",
      "          `/+++o\u001b[0m\u001b[36m\u001b[1moooooooo\u001b[0m\u001b[36m\u001b[1moooo/`\n",
      "\u001b[0m\u001b[36m\u001b[1m         \u001b[0m\u001b[36m\u001b[1m./\u001b[0m\u001b[36m\u001b[1mooosssso++osssssso\u001b[0m\u001b[36m\u001b[1m+`\n",
      "\u001b[0m\u001b[36m\u001b[1m        .oossssso-````/ossssss+`\n",
      "       -osssssso.      :ssssssso.\n",
      "      :osssssss/        osssso+++.\n",
      "     /ossssssss/        +ssssooo/-\n",
      "   `/ossssso+/:-        -:/+osssso+-\n",
      "  `+sso+:-`                 `.-/+oso:\n",
      " `++:.                           `-/+/\n",
      " .`                                 `/\u001b[0m\n",
      "\u001b[19A\u001b[9999999D\u001b[41C\u001b[0m\u001b[1m\u001b[36m\u001b[1mscarlet-speedester\u001b[0m@\u001b[36m\u001b[1mScarlet-Speedester\u001b[0m \n",
      "\u001b[41C\u001b[0m-------------------------------------\u001b[0m \n",
      "\u001b[41C\u001b[0m\u001b[36m\u001b[1mOS\u001b[0m\u001b[0m:\u001b[0m Manjaro Linux x86_64\u001b[0m \n",
      "\u001b[41C\u001b[0m\u001b[36m\u001b[1mHost\u001b[0m\u001b[0m:\u001b[0m Inspiron 3580\u001b[0m \n",
      "\u001b[41C\u001b[0m\u001b[36m\u001b[1mKernel\u001b[0m\u001b[0m:\u001b[0m 5.13.19-2-MANJARO\u001b[0m \n",
      "\u001b[41C\u001b[0m\u001b[36m\u001b[1mUptime\u001b[0m\u001b[0m:\u001b[0m 48 mins\u001b[0m \n",
      "\u001b[41C\u001b[0m\u001b[36m\u001b[1mPackages\u001b[0m\u001b[0m:\u001b[0m 1284 (pacman), 13 (flatpak), 15 (snap)\u001b[0m \n",
      "\u001b[41C\u001b[0m\u001b[36m\u001b[1mShell\u001b[0m\u001b[0m:\u001b[0m fish 3.3.1\u001b[0m \n",
      "\u001b[41C\u001b[0m\u001b[36m\u001b[1mResolution\u001b[0m\u001b[0m:\u001b[0m 1920x1080\u001b[0m \n",
      "\u001b[41C\u001b[0m\u001b[36m\u001b[1mTheme\u001b[0m\u001b[0m:\u001b[0m Adwaita-maia-compact-dark [GTK2/3]\u001b[0m \n",
      "\u001b[41C\u001b[0m\u001b[36m\u001b[1mCPU\u001b[0m\u001b[0m:\u001b[0m Intel i7-8565U (8) @ 4.600GHz\u001b[0m \n",
      "\u001b[41C\u001b[0m\u001b[36m\u001b[1mGPU\u001b[0m\u001b[0m:\u001b[0m AMD ATI Radeon R5 M230 / R7 M260DX / Radeon 520 Mobile\u001b[0m \n",
      "\u001b[41C\u001b[0m\u001b[36m\u001b[1mGPU\u001b[0m\u001b[0m:\u001b[0m Intel WhiskeyLake-U GT2 [UHD Graphics 620]\u001b[0m \n",
      "\u001b[41C\u001b[0m\u001b[36m\u001b[1mMemory\u001b[0m\u001b[0m:\u001b[0m 3412MiB / 15866MiB\u001b[0m \n",
      "\n",
      "\n",
      "\n",
      "\n",
      "\n",
      "\n",
      "\u001b[?25h\u001b[?7h__        __   _                          \n",
      "\\ \\      / /__| | ___ ___  _ __ ___   ___ \n",
      " \\ \\ /\\ / / _ \\ |/ __/ _ \\| '_ ` _ \\ / _ \\\n",
      "  \\ V  V /  __/ | (_| (_) | | | | | |  __/\n",
      "   \\_/\\_/ \\___|_|\\___\\___/|_| |_| |_|\\___|\n",
      "                                          \n",
      " ____                      _           _            \n",
      "/ ___| _ __   ___  ___  __| | ___  ___| |_ ___ _ __ \n",
      "\\___ \\| '_ \\ / _ \\/ _ \\/ _` |/ _ \\/ __| __/ _ \\ '__|\n",
      " ___) | |_) |  __/  __/ (_| |  __/\\__ \\ ||  __/ |   \n",
      "|____/| .__/ \\___|\\___|\\__,_|\\___||___/\\__\\___|_|   \n",
      "      |_|                                           \n",
      "\u001b[31mERROR: Could not find a version that satisfies the requirement os\u001b[0m\n",
      "\u001b[31mERROR: No matching distribution found for os\u001b[0m\n"
     ]
    }
   ],
   "source": [
    "!pip install os"
   ]
  },
  {
   "cell_type": "markdown",
   "id": "74cf9b06",
   "metadata": {},
   "source": [
    "# Working with the file:\n"
   ]
  },
  {
   "cell_type": "markdown",
   "id": "85a6ddb0",
   "metadata": {},
   "source": [
    "## OS Libiary"
   ]
  },
  {
   "cell_type": "code",
   "execution_count": 20,
   "id": "cc050899",
   "metadata": {},
   "outputs": [],
   "source": [
    "# do download libiary from the internet for python using the following command\n",
    "# !pip install libary_name"
   ]
  },
  {
   "cell_type": "code",
   "execution_count": 21,
   "id": "e98fca03",
   "metadata": {},
   "outputs": [
    {
     "name": "stdout",
     "output_type": "stream",
     "text": [
      "/\n"
     ]
    }
   ],
   "source": [
    "import os\n",
    "print(os.path.sep)"
   ]
  },
  {
   "cell_type": "code",
   "execution_count": 24,
   "id": "9d398b4d",
   "metadata": {},
   "outputs": [
    {
     "name": "stdout",
     "output_type": "stream",
     "text": [
      "/home/scarlet-speedester/Documents/University/SIC Cource/SIC-Course-Notes/Samsung Course/Class Work/Lecture 06 Monday 04-Oct-2021\n"
     ]
    }
   ],
   "source": [
    "# print the current dirctory\n",
    "print(os.getcwd())"
   ]
  },
  {
   "cell_type": "markdown",
   "id": "fa7d4da7",
   "metadata": {},
   "source": [
    "### Different kind of Paths\n",
    "There are two paths <br>\n",
    "1. One is relative path (check the files from the proceptive of other files)<br>\n",
    "    - From one folder inside another path<br>\n",
    "    - Single dot will represent the current dictioary\n",
    "    - Double dot will represent the back directory or to access the file<br>\n",
    "    <br>\n",
    "2. One is absoulut path (From the begining to the end)<br>\n",
    "    from the begining of time to the end"
   ]
  },
  {
   "cell_type": "code",
   "execution_count": 32,
   "id": "1f33b1f5",
   "metadata": {},
   "outputs": [
    {
     "name": "stdout",
     "output_type": "stream",
     "text": [
      "/home/scarlet-speedester/Documents/University/SIC Cource/SIC-Course-Notes/Samsung Course/Class Work/Lecture 06 Monday 04-Oct-2021/ex_0101.html\n"
     ]
    }
   ],
   "source": [
    "# to find the path of a file in the current dirctory\n",
    "# it will can not find the file from the system\n",
    "str_path_abs=abs = os.path.abspath(\"ex_0101.html\")\n",
    "print(str_path_abs)"
   ]
  },
  {
   "cell_type": "code",
   "execution_count": 33,
   "id": "34e56b02",
   "metadata": {},
   "outputs": [
    {
     "name": "stdout",
     "output_type": "stream",
     "text": [
      "ex_0101.html\n"
     ]
    }
   ],
   "source": [
    "# this print the file name only\n",
    "print(os.path.basename(str_path_abs))"
   ]
  },
  {
   "cell_type": "code",
   "execution_count": 35,
   "id": "60fa4802",
   "metadata": {},
   "outputs": [
    {
     "name": "stdout",
     "output_type": "stream",
     "text": [
      "/home/scarlet-speedester/Documents/University/SIC Cource/SIC-Course-Notes/Samsung Course/Class Work/Lecture 06 Monday 04-Oct-2021\n"
     ]
    }
   ],
   "source": [
    "# this will print the location of the directory\n",
    "print(os.path.dirname(str_path_abs))"
   ]
  },
  {
   "cell_type": "code",
   "execution_count": 37,
   "id": "5f1b8d40",
   "metadata": {},
   "outputs": [
    {
     "name": "stdout",
     "output_type": "stream",
     "text": [
      "True\n"
     ]
    }
   ],
   "source": [
    "# this wil tell that the path is absoult path or not\n",
    "print(os.path.isabs(str_path_abs))"
   ]
  },
  {
   "cell_type": "code",
   "execution_count": 41,
   "id": "ea84539f",
   "metadata": {},
   "outputs": [
    {
     "name": "stdout",
     "output_type": "stream",
     "text": [
      "None\n"
     ]
    }
   ],
   "source": [
    "# list all of the directory:\n",
    "list_dir=os.listdir()\n",
    "print (list_dir.sort())"
   ]
  },
  {
   "cell_type": "code",
   "execution_count": 45,
   "id": "0b168abd",
   "metadata": {},
   "outputs": [
    {
     "name": "stdout",
     "output_type": "stream",
     "text": [
      "\u001b[?25l\u001b[?7l\u001b[0m\u001b[36m\u001b[1m                   -`\n",
      "                  .o+`\n",
      "                 `ooo/\n",
      "                `+oooo:\n",
      "               `+oooooo:\n",
      "               -+oooooo+:\n",
      "             `/:-:++oooo+:\n",
      "            `/++++/+++++++:\n",
      "           `/++++++++++++++:\n",
      "          `/+++o\u001b[0m\u001b[36m\u001b[1moooooooo\u001b[0m\u001b[36m\u001b[1moooo/`\n",
      "\u001b[0m\u001b[36m\u001b[1m         \u001b[0m\u001b[36m\u001b[1m./\u001b[0m\u001b[36m\u001b[1mooosssso++osssssso\u001b[0m\u001b[36m\u001b[1m+`\n",
      "\u001b[0m\u001b[36m\u001b[1m        .oossssso-````/ossssss+`\n",
      "       -osssssso.      :ssssssso.\n",
      "      :osssssss/        osssso+++.\n",
      "     /ossssssss/        +ssssooo/-\n",
      "   `/ossssso+/:-        -:/+osssso+-\n",
      "  `+sso+:-`                 `.-/+oso:\n",
      " `++:.                           `-/+/\n",
      " .`                                 `/\u001b[0m\n",
      "\u001b[19A\u001b[9999999D\u001b[41C\u001b[0m\u001b[1m\u001b[36m\u001b[1mscarlet-speedester\u001b[0m@\u001b[36m\u001b[1mScarlet-Speedester\u001b[0m \n",
      "\u001b[41C\u001b[0m-------------------------------------\u001b[0m \n",
      "\u001b[41C\u001b[0m\u001b[36m\u001b[1mOS\u001b[0m\u001b[0m:\u001b[0m Manjaro Linux x86_64\u001b[0m \n",
      "\u001b[41C\u001b[0m\u001b[36m\u001b[1mHost\u001b[0m\u001b[0m:\u001b[0m Inspiron 3580\u001b[0m \n",
      "\u001b[41C\u001b[0m\u001b[36m\u001b[1mKernel\u001b[0m\u001b[0m:\u001b[0m 5.13.19-2-MANJARO\u001b[0m \n",
      "\u001b[41C\u001b[0m\u001b[36m\u001b[1mUptime\u001b[0m\u001b[0m:\u001b[0m 1 hour, 25 mins\u001b[0m \n",
      "\u001b[41C\u001b[0m\u001b[36m\u001b[1mPackages\u001b[0m\u001b[0m:\u001b[0m 1284 (pacman), 13 (flatpak), 15 (snap)\u001b[0m \n",
      "\u001b[41C\u001b[0m\u001b[36m\u001b[1mShell\u001b[0m\u001b[0m:\u001b[0m fish 3.3.1\u001b[0m \n",
      "\u001b[41C\u001b[0m\u001b[36m\u001b[1mResolution\u001b[0m\u001b[0m:\u001b[0m 1920x1080\u001b[0m \n",
      "\u001b[41C\u001b[0m\u001b[36m\u001b[1mTheme\u001b[0m\u001b[0m:\u001b[0m Adwaita-maia-compact-dark [GTK2/3]\u001b[0m \n",
      "\u001b[41C\u001b[0m\u001b[36m\u001b[1mCPU\u001b[0m\u001b[0m:\u001b[0m Intel i7-8565U (8) @ 1.800GHz\u001b[0m \n",
      "\u001b[41C\u001b[0m\u001b[36m\u001b[1mGPU\u001b[0m\u001b[0m:\u001b[0m AMD ATI Radeon R5 M230 / R7 M260DX / Radeon 520 Mobile\u001b[0m \n",
      "\u001b[41C\u001b[0m\u001b[36m\u001b[1mGPU\u001b[0m\u001b[0m:\u001b[0m Intel WhiskeyLake-U GT2 [UHD Graphics 620]\u001b[0m \n",
      "\u001b[41C\u001b[0m\u001b[36m\u001b[1mMemory\u001b[0m\u001b[0m:\u001b[0m 3511MiB / 15866MiB\u001b[0m \n",
      "\n",
      "\n",
      "\n",
      "\n",
      "\n",
      "\n",
      "\u001b[?25h\u001b[?7h__        __   _                          \n",
      "\\ \\      / /__| | ___ ___  _ __ ___   ___ \n",
      " \\ \\ /\\ / / _ \\ |/ __/ _ \\| '_ ` _ \\ / _ \\\n",
      "  \\ V  V /  __/ | (_| (_) | | | | | |  __/\n",
      "   \\_/\\_/ \\___|_|\\___\\___/|_| |_| |_|\\___|\n",
      "                                          \n",
      " ____                      _           _            \n",
      "/ ___| _ __   ___  ___  __| | ___  ___| |_ ___ _ __ \n",
      "\\___ \\| '_ \\ / _ \\/ _ \\/ _` |/ _ \\/ __| __/ _ \\ '__|\n",
      " ___) | |_) |  __/  __/ (_| |  __/\\__ \\ ||  __/ |   \n",
      "|____/| .__/ \\___|\\___|\\__,_|\\___||___/\\__\\___|_|   \n",
      "      |_|                                           \n",
      "\u001b[31mERROR: Could not find a version that satisfies the requirement sheive\u001b[0m\n",
      "\u001b[31mERROR: No matching distribution found for sheive\u001b[0m\n"
     ]
    }
   ],
   "source": [
    "# you can install sheive using the following command but University net sucks for download command from terminal\n",
    "!pip install sheive"
   ]
  },
  {
   "cell_type": "code",
   "execution_count": 43,
   "id": "60581684",
   "metadata": {},
   "outputs": [
    {
     "ename": "ModuleNotFoundError",
     "evalue": "No module named 'sheive'",
     "output_type": "error",
     "traceback": [
      "\u001b[0;31m---------------------------------------------------------------------------\u001b[0m",
      "\u001b[0;31mModuleNotFoundError\u001b[0m                       Traceback (most recent call last)",
      "\u001b[0;32m<ipython-input-43-a3f26912b711>\u001b[0m in \u001b[0;36m<module>\u001b[0;34m\u001b[0m\n\u001b[0;32m----> 1\u001b[0;31m \u001b[0;32mimport\u001b[0m \u001b[0msheive\u001b[0m\u001b[0;34m\u001b[0m\u001b[0;34m\u001b[0m\u001b[0m\n\u001b[0m",
      "\u001b[0;31mModuleNotFoundError\u001b[0m: No module named 'sheive'"
     ]
    }
   ],
   "source": [
    "import sheive"
   ]
  },
  {
   "cell_type": "markdown",
   "id": "87f7596f",
   "metadata": {},
   "source": [
    "# Coding Exercise 11:"
   ]
  },
  {
   "cell_type": "markdown",
   "id": "a950dbb2",
   "metadata": {},
   "source": [
    "## 1. Using Os library"
   ]
  },
  {
   "cell_type": "code",
   "execution_count": 46,
   "id": "e7b2ecad",
   "metadata": {},
   "outputs": [],
   "source": [
    "import os"
   ]
  },
  {
   "cell_type": "code",
   "execution_count": 49,
   "id": "b5a80a0f",
   "metadata": {},
   "outputs": [],
   "source": [
    "str1= \"This computer: \"+ os.path.sep\n",
    "str2= \"user\"\n",
    "str3= \"Public\"\n",
    "str4= \"Documents\""
   ]
  },
  {
   "cell_type": "code",
   "execution_count": 50,
   "id": "50d879b3",
   "metadata": {
    "scrolled": true
   },
   "outputs": [
    {
     "name": "stdout",
     "output_type": "stream",
     "text": [
      "/\n",
      "This computer: /user/Public/Documents\n"
     ]
    }
   ],
   "source": [
    "str_path =os.path.join(str1,str2,str3,str4)\n",
    "print(os.path.sep)\n",
    "print(str_path)"
   ]
  },
  {
   "cell_type": "code",
   "execution_count": 51,
   "id": "70c7b1d6",
   "metadata": {},
   "outputs": [
    {
     "name": "stdout",
     "output_type": "stream",
     "text": [
      "/home/scarlet-speedester/Documents/University/SIC Cource/SIC-Course-Notes/Samsung Course/Class Work/Lecture 06 Monday 04-Oct-2021\n"
     ]
    }
   ],
   "source": [
    "# this will show your current directory\n",
    "print(os.getcwd())"
   ]
  },
  {
   "cell_type": "code",
   "execution_count": 55,
   "id": "2db235fa",
   "metadata": {},
   "outputs": [
    {
     "name": "stdout",
     "output_type": "stream",
     "text": [
      "/home/scarlet-speedester/anaconda3\n"
     ]
    }
   ],
   "source": [
    "# this will move to new directory\n",
    "path= \"/home/scarlet-speedester/anaconda3\"\n",
    "os.chdir(path)\n",
    "# your working current directory\n",
    "print(os.getcwd())"
   ]
  },
  {
   "cell_type": "code",
   "execution_count": 58,
   "id": "5f796de2",
   "metadata": {},
   "outputs": [
    {
     "name": "stdout",
     "output_type": "stream",
     "text": [
      "/home/scarlet-speedester/anaconda3/rafay.txt\n"
     ]
    }
   ],
   "source": [
    "str_path_abs = os.path.abspath(\"rafay.txt\")            # Please, change \"my_file.txt\" to a file of your own choice.\n",
    "print(str_path_abs)"
   ]
  },
  {
   "cell_type": "code",
   "execution_count": 59,
   "id": "f03aec42",
   "metadata": {},
   "outputs": [
    {
     "name": "stdout",
     "output_type": "stream",
     "text": [
      "True\n",
      "rafay.txt\n",
      "/home/scarlet-speedester/anaconda3\n"
     ]
    }
   ],
   "source": [
    "\n",
    "\n",
    "# Check whether it is an absolute path.\n",
    "print(os.path.isabs(str_path_abs))\n",
    "# Just the file name.\n",
    "print(os.path.basename(str_path_abs))\n",
    "# Just the path up to the directory.\n",
    "print(os.path.dirname(str_path_abs))\n",
    "\n"
   ]
  },
  {
   "cell_type": "code",
   "execution_count": 60,
   "id": "b8017bc1",
   "metadata": {},
   "outputs": [
    {
     "name": "stdout",
     "output_type": "stream",
     "text": [
      "False\n",
      "False\n"
     ]
    }
   ],
   "source": [
    "# Check whether the path is a directory.\n",
    "print(os.path.isdir(str_path))\n",
    "print(os.path.isdir(str_path_abs))"
   ]
  },
  {
   "cell_type": "code",
   "execution_count": 61,
   "id": "1ef1d382",
   "metadata": {},
   "outputs": [
    {
     "name": "stdout",
     "output_type": "stream",
     "text": [
      "False\n",
      "False\n"
     ]
    }
   ],
   "source": [
    "\n",
    "\n",
    "# Check whether the path ends in an actual file.\n",
    "print(os.path.isfile(str_path))\n",
    "print(os.path.isfile(str_path_abs))\n",
    "\n"
   ]
  },
  {
   "cell_type": "code",
   "execution_count": 63,
   "id": "317d5d22",
   "metadata": {},
   "outputs": [
    {
     "ename": "FileNotFoundError",
     "evalue": "[Errno 2] No such file or directory: 'rafay.txt'",
     "output_type": "error",
     "traceback": [
      "\u001b[0;31m---------------------------------------------------------------------------\u001b[0m",
      "\u001b[0;31mFileNotFoundError\u001b[0m                         Traceback (most recent call last)",
      "\u001b[0;32m<ipython-input-63-8772a934cec5>\u001b[0m in \u001b[0;36m<module>\u001b[0;34m\u001b[0m\n\u001b[1;32m      1\u001b[0m \u001b[0;31m# Size of the file.\u001b[0m\u001b[0;34m\u001b[0m\u001b[0;34m\u001b[0m\u001b[0;34m\u001b[0m\u001b[0m\n\u001b[0;32m----> 2\u001b[0;31m \u001b[0mos\u001b[0m\u001b[0;34m.\u001b[0m\u001b[0mpath\u001b[0m\u001b[0;34m.\u001b[0m\u001b[0mgetsize\u001b[0m\u001b[0;34m(\u001b[0m\u001b[0;34m\"rafay.txt\"\u001b[0m\u001b[0;34m)\u001b[0m\u001b[0;34m\u001b[0m\u001b[0;34m\u001b[0m\u001b[0m\n\u001b[0m",
      "\u001b[0;32m~/anaconda3/lib/python3.8/genericpath.py\u001b[0m in \u001b[0;36mgetsize\u001b[0;34m(filename)\u001b[0m\n\u001b[1;32m     48\u001b[0m \u001b[0;32mdef\u001b[0m \u001b[0mgetsize\u001b[0m\u001b[0;34m(\u001b[0m\u001b[0mfilename\u001b[0m\u001b[0;34m)\u001b[0m\u001b[0;34m:\u001b[0m\u001b[0;34m\u001b[0m\u001b[0;34m\u001b[0m\u001b[0m\n\u001b[1;32m     49\u001b[0m     \u001b[0;34m\"\"\"Return the size of a file, reported by os.stat().\"\"\"\u001b[0m\u001b[0;34m\u001b[0m\u001b[0;34m\u001b[0m\u001b[0m\n\u001b[0;32m---> 50\u001b[0;31m     \u001b[0;32mreturn\u001b[0m \u001b[0mos\u001b[0m\u001b[0;34m.\u001b[0m\u001b[0mstat\u001b[0m\u001b[0;34m(\u001b[0m\u001b[0mfilename\u001b[0m\u001b[0;34m)\u001b[0m\u001b[0;34m.\u001b[0m\u001b[0mst_size\u001b[0m\u001b[0;34m\u001b[0m\u001b[0;34m\u001b[0m\u001b[0m\n\u001b[0m\u001b[1;32m     51\u001b[0m \u001b[0;34m\u001b[0m\u001b[0m\n\u001b[1;32m     52\u001b[0m \u001b[0;34m\u001b[0m\u001b[0m\n",
      "\u001b[0;31mFileNotFoundError\u001b[0m: [Errno 2] No such file or directory: 'rafay.txt'"
     ]
    }
   ],
   "source": [
    "# Size of the file.\n",
    "os.path.getsize(\"rafay.txt\") "
   ]
  },
  {
   "cell_type": "code",
   "execution_count": 64,
   "id": "b8c543b1",
   "metadata": {},
   "outputs": [],
   "source": [
    "path= \"/home/scarlet-speedester/Documents\"\n",
    "os.chdir(path)"
   ]
  },
  {
   "cell_type": "code",
   "execution_count": 66,
   "id": "aadefe12",
   "metadata": {},
   "outputs": [
    {
     "name": "stdout",
     "output_type": "stream",
     "text": [
      "/home/scarlet-speedester/Documents\n"
     ]
    }
   ],
   "source": [
    "print(os.getcwd())"
   ]
  },
  {
   "cell_type": "code",
   "execution_count": 67,
   "id": "75dcebe9",
   "metadata": {},
   "outputs": [],
   "source": [
    "import openpyxl"
   ]
  },
  {
   "cell_type": "code",
   "execution_count": 69,
   "id": "05aaa111",
   "metadata": {},
   "outputs": [
    {
     "ename": "KeyError",
     "evalue": "\"There is no item named '[Content_Types].xml' in the archive\"",
     "output_type": "error",
     "traceback": [
      "\u001b[0;31m---------------------------------------------------------------------------\u001b[0m",
      "\u001b[0;31mKeyError\u001b[0m                                  Traceback (most recent call last)",
      "\u001b[0;32m<ipython-input-69-9f030523c656>\u001b[0m in \u001b[0;36m<module>\u001b[0;34m\u001b[0m\n\u001b[0;32m----> 1\u001b[0;31m \u001b[0mwb\u001b[0m\u001b[0;34m=\u001b[0m \u001b[0mopenpyxl\u001b[0m\u001b[0;34m.\u001b[0m\u001b[0mload_workbook\u001b[0m\u001b[0;34m(\u001b[0m\u001b[0;34m'data.xlsx'\u001b[0m\u001b[0;34m)\u001b[0m\u001b[0;34m\u001b[0m\u001b[0;34m\u001b[0m\u001b[0m\n\u001b[0m\u001b[1;32m      2\u001b[0m \u001b[0mwb\u001b[0m\u001b[0;34m.\u001b[0m\u001b[0msheetnames\u001b[0m\u001b[0;34m\u001b[0m\u001b[0;34m\u001b[0m\u001b[0m\n",
      "\u001b[0;32m~/anaconda3/lib/python3.8/site-packages/openpyxl/reader/excel.py\u001b[0m in \u001b[0;36mload_workbook\u001b[0;34m(filename, read_only, keep_vba, data_only, keep_links)\u001b[0m\n\u001b[1;32m    315\u001b[0m     reader = ExcelReader(filename, read_only, keep_vba,\n\u001b[1;32m    316\u001b[0m                         data_only, keep_links)\n\u001b[0;32m--> 317\u001b[0;31m     \u001b[0mreader\u001b[0m\u001b[0;34m.\u001b[0m\u001b[0mread\u001b[0m\u001b[0;34m(\u001b[0m\u001b[0;34m)\u001b[0m\u001b[0;34m\u001b[0m\u001b[0;34m\u001b[0m\u001b[0m\n\u001b[0m\u001b[1;32m    318\u001b[0m     \u001b[0;32mreturn\u001b[0m \u001b[0mreader\u001b[0m\u001b[0;34m.\u001b[0m\u001b[0mwb\u001b[0m\u001b[0;34m\u001b[0m\u001b[0;34m\u001b[0m\u001b[0m\n",
      "\u001b[0;32m~/anaconda3/lib/python3.8/site-packages/openpyxl/reader/excel.py\u001b[0m in \u001b[0;36mread\u001b[0;34m(self)\u001b[0m\n\u001b[1;32m    274\u001b[0m \u001b[0;34m\u001b[0m\u001b[0m\n\u001b[1;32m    275\u001b[0m     \u001b[0;32mdef\u001b[0m \u001b[0mread\u001b[0m\u001b[0;34m(\u001b[0m\u001b[0mself\u001b[0m\u001b[0;34m)\u001b[0m\u001b[0;34m:\u001b[0m\u001b[0;34m\u001b[0m\u001b[0;34m\u001b[0m\u001b[0m\n\u001b[0;32m--> 276\u001b[0;31m         \u001b[0mself\u001b[0m\u001b[0;34m.\u001b[0m\u001b[0mread_manifest\u001b[0m\u001b[0;34m(\u001b[0m\u001b[0;34m)\u001b[0m\u001b[0;34m\u001b[0m\u001b[0;34m\u001b[0m\u001b[0m\n\u001b[0m\u001b[1;32m    277\u001b[0m         \u001b[0mself\u001b[0m\u001b[0;34m.\u001b[0m\u001b[0mread_strings\u001b[0m\u001b[0;34m(\u001b[0m\u001b[0;34m)\u001b[0m\u001b[0;34m\u001b[0m\u001b[0;34m\u001b[0m\u001b[0m\n\u001b[1;32m    278\u001b[0m         \u001b[0mself\u001b[0m\u001b[0;34m.\u001b[0m\u001b[0mread_workbook\u001b[0m\u001b[0;34m(\u001b[0m\u001b[0;34m)\u001b[0m\u001b[0;34m\u001b[0m\u001b[0;34m\u001b[0m\u001b[0m\n",
      "\u001b[0;32m~/anaconda3/lib/python3.8/site-packages/openpyxl/reader/excel.py\u001b[0m in \u001b[0;36mread_manifest\u001b[0;34m(self)\u001b[0m\n\u001b[1;32m    132\u001b[0m \u001b[0;34m\u001b[0m\u001b[0m\n\u001b[1;32m    133\u001b[0m     \u001b[0;32mdef\u001b[0m \u001b[0mread_manifest\u001b[0m\u001b[0;34m(\u001b[0m\u001b[0mself\u001b[0m\u001b[0;34m)\u001b[0m\u001b[0;34m:\u001b[0m\u001b[0;34m\u001b[0m\u001b[0;34m\u001b[0m\u001b[0m\n\u001b[0;32m--> 134\u001b[0;31m         \u001b[0msrc\u001b[0m \u001b[0;34m=\u001b[0m \u001b[0mself\u001b[0m\u001b[0;34m.\u001b[0m\u001b[0marchive\u001b[0m\u001b[0;34m.\u001b[0m\u001b[0mread\u001b[0m\u001b[0;34m(\u001b[0m\u001b[0mARC_CONTENT_TYPES\u001b[0m\u001b[0;34m)\u001b[0m\u001b[0;34m\u001b[0m\u001b[0;34m\u001b[0m\u001b[0m\n\u001b[0m\u001b[1;32m    135\u001b[0m         \u001b[0mroot\u001b[0m \u001b[0;34m=\u001b[0m \u001b[0mfromstring\u001b[0m\u001b[0;34m(\u001b[0m\u001b[0msrc\u001b[0m\u001b[0;34m)\u001b[0m\u001b[0;34m\u001b[0m\u001b[0;34m\u001b[0m\u001b[0m\n\u001b[1;32m    136\u001b[0m         \u001b[0mself\u001b[0m\u001b[0;34m.\u001b[0m\u001b[0mpackage\u001b[0m \u001b[0;34m=\u001b[0m \u001b[0mManifest\u001b[0m\u001b[0;34m.\u001b[0m\u001b[0mfrom_tree\u001b[0m\u001b[0;34m(\u001b[0m\u001b[0mroot\u001b[0m\u001b[0;34m)\u001b[0m\u001b[0;34m\u001b[0m\u001b[0;34m\u001b[0m\u001b[0m\n",
      "\u001b[0;32m~/anaconda3/lib/python3.8/zipfile.py\u001b[0m in \u001b[0;36mread\u001b[0;34m(self, name, pwd)\u001b[0m\n\u001b[1;32m   1473\u001b[0m     \u001b[0;32mdef\u001b[0m \u001b[0mread\u001b[0m\u001b[0;34m(\u001b[0m\u001b[0mself\u001b[0m\u001b[0;34m,\u001b[0m \u001b[0mname\u001b[0m\u001b[0;34m,\u001b[0m \u001b[0mpwd\u001b[0m\u001b[0;34m=\u001b[0m\u001b[0;32mNone\u001b[0m\u001b[0;34m)\u001b[0m\u001b[0;34m:\u001b[0m\u001b[0;34m\u001b[0m\u001b[0;34m\u001b[0m\u001b[0m\n\u001b[1;32m   1474\u001b[0m         \u001b[0;34m\"\"\"Return file bytes for name.\"\"\"\u001b[0m\u001b[0;34m\u001b[0m\u001b[0;34m\u001b[0m\u001b[0m\n\u001b[0;32m-> 1475\u001b[0;31m         \u001b[0;32mwith\u001b[0m \u001b[0mself\u001b[0m\u001b[0;34m.\u001b[0m\u001b[0mopen\u001b[0m\u001b[0;34m(\u001b[0m\u001b[0mname\u001b[0m\u001b[0;34m,\u001b[0m \u001b[0;34m\"r\"\u001b[0m\u001b[0;34m,\u001b[0m \u001b[0mpwd\u001b[0m\u001b[0;34m)\u001b[0m \u001b[0;32mas\u001b[0m \u001b[0mfp\u001b[0m\u001b[0;34m:\u001b[0m\u001b[0;34m\u001b[0m\u001b[0;34m\u001b[0m\u001b[0m\n\u001b[0m\u001b[1;32m   1476\u001b[0m             \u001b[0;32mreturn\u001b[0m \u001b[0mfp\u001b[0m\u001b[0;34m.\u001b[0m\u001b[0mread\u001b[0m\u001b[0;34m(\u001b[0m\u001b[0;34m)\u001b[0m\u001b[0;34m\u001b[0m\u001b[0;34m\u001b[0m\u001b[0m\n\u001b[1;32m   1477\u001b[0m \u001b[0;34m\u001b[0m\u001b[0m\n",
      "\u001b[0;32m~/anaconda3/lib/python3.8/zipfile.py\u001b[0m in \u001b[0;36mopen\u001b[0;34m(self, name, mode, pwd, force_zip64)\u001b[0m\n\u001b[1;32m   1512\u001b[0m         \u001b[0;32melse\u001b[0m\u001b[0;34m:\u001b[0m\u001b[0;34m\u001b[0m\u001b[0;34m\u001b[0m\u001b[0m\n\u001b[1;32m   1513\u001b[0m             \u001b[0;31m# Get info object for name\u001b[0m\u001b[0;34m\u001b[0m\u001b[0;34m\u001b[0m\u001b[0;34m\u001b[0m\u001b[0m\n\u001b[0;32m-> 1514\u001b[0;31m             \u001b[0mzinfo\u001b[0m \u001b[0;34m=\u001b[0m \u001b[0mself\u001b[0m\u001b[0;34m.\u001b[0m\u001b[0mgetinfo\u001b[0m\u001b[0;34m(\u001b[0m\u001b[0mname\u001b[0m\u001b[0;34m)\u001b[0m\u001b[0;34m\u001b[0m\u001b[0;34m\u001b[0m\u001b[0m\n\u001b[0m\u001b[1;32m   1515\u001b[0m \u001b[0;34m\u001b[0m\u001b[0m\n\u001b[1;32m   1516\u001b[0m         \u001b[0;32mif\u001b[0m \u001b[0mmode\u001b[0m \u001b[0;34m==\u001b[0m \u001b[0;34m'w'\u001b[0m\u001b[0;34m:\u001b[0m\u001b[0;34m\u001b[0m\u001b[0;34m\u001b[0m\u001b[0m\n",
      "\u001b[0;32m~/anaconda3/lib/python3.8/zipfile.py\u001b[0m in \u001b[0;36mgetinfo\u001b[0;34m(self, name)\u001b[0m\n\u001b[1;32m   1439\u001b[0m         \u001b[0minfo\u001b[0m \u001b[0;34m=\u001b[0m \u001b[0mself\u001b[0m\u001b[0;34m.\u001b[0m\u001b[0mNameToInfo\u001b[0m\u001b[0;34m.\u001b[0m\u001b[0mget\u001b[0m\u001b[0;34m(\u001b[0m\u001b[0mname\u001b[0m\u001b[0;34m)\u001b[0m\u001b[0;34m\u001b[0m\u001b[0;34m\u001b[0m\u001b[0m\n\u001b[1;32m   1440\u001b[0m         \u001b[0;32mif\u001b[0m \u001b[0minfo\u001b[0m \u001b[0;32mis\u001b[0m \u001b[0;32mNone\u001b[0m\u001b[0;34m:\u001b[0m\u001b[0;34m\u001b[0m\u001b[0;34m\u001b[0m\u001b[0m\n\u001b[0;32m-> 1441\u001b[0;31m             raise KeyError(\n\u001b[0m\u001b[1;32m   1442\u001b[0m                 'There is no item named %r in the archive' % name)\n\u001b[1;32m   1443\u001b[0m \u001b[0;34m\u001b[0m\u001b[0m\n",
      "\u001b[0;31mKeyError\u001b[0m: \"There is no item named '[Content_Types].xml' in the archive\""
     ]
    }
   ],
   "source": [
    "wb= openpyxl.load_workbook('data.xlsx')\n",
    "wb.sheetnames"
   ]
  },
  {
   "cell_type": "code",
   "execution_count": 3,
   "id": "5fbd9570",
   "metadata": {},
   "outputs": [
    {
     "name": "stdout",
     "output_type": "stream",
     "text": [
      "/home/scarlet-speedester/Documents/University/SIC Cource/SIC-Course-Notes/Samsung Course/Class Work/Lecture 06 Monday 04-Oct-2021\n"
     ]
    }
   ],
   "source": [
    "import os\n",
    "print(os.getcwd())"
   ]
  },
  {
   "cell_type": "code",
   "execution_count": 4,
   "id": "db3b5272",
   "metadata": {},
   "outputs": [],
   "source": [
    "import openpyxl\n"
   ]
  },
  {
   "cell_type": "code",
   "execution_count": 5,
   "id": "cb32b76e",
   "metadata": {},
   "outputs": [
    {
     "name": "stdout",
     "output_type": "stream",
     "text": [
      "['Sheet']\n"
     ]
    }
   ],
   "source": [
    "my_wb =openpyxl.Workbook()\n",
    "print(my_wb.sheetnames)"
   ]
  },
  {
   "cell_type": "code",
   "execution_count": 8,
   "id": "63776818",
   "metadata": {},
   "outputs": [
    {
     "ename": "KeyError",
     "evalue": "'Worksheet Sheet does not exist.'",
     "output_type": "error",
     "traceback": [
      "\u001b[0;31m---------------------------------------------------------------------------\u001b[0m",
      "\u001b[0;31mKeyError\u001b[0m                                  Traceback (most recent call last)",
      "\u001b[0;32m<ipython-input-8-14f33199e707>\u001b[0m in \u001b[0;36m<module>\u001b[0;34m\u001b[0m\n\u001b[0;32m----> 1\u001b[0;31m \u001b[0mmy_sh\u001b[0m\u001b[0;34m=\u001b[0m \u001b[0mmy_wb\u001b[0m\u001b[0;34m[\u001b[0m\u001b[0;34m'Sheet'\u001b[0m\u001b[0;34m]\u001b[0m\u001b[0;34m\u001b[0m\u001b[0;34m\u001b[0m\u001b[0m\n\u001b[0m\u001b[1;32m      2\u001b[0m \u001b[0mmy_sh\u001b[0m\u001b[0;34m[\u001b[0m\u001b[0;34m'A1'\u001b[0m\u001b[0;34m]\u001b[0m\u001b[0;34m.\u001b[0m\u001b[0mvalue\u001b[0m\u001b[0;34m=\u001b[0m \u001b[0;36m999\u001b[0m\u001b[0;34m\u001b[0m\u001b[0;34m\u001b[0m\u001b[0m\n\u001b[1;32m      3\u001b[0m \u001b[0mmy_sh\u001b[0m\u001b[0;34m[\u001b[0m\u001b[0;34m'A2'\u001b[0m\u001b[0;34m]\u001b[0m\u001b[0;34m.\u001b[0m\u001b[0mvalue\u001b[0m\u001b[0;34m=\u001b[0m \u001b[0;36m666\u001b[0m\u001b[0;34m\u001b[0m\u001b[0;34m\u001b[0m\u001b[0m\n\u001b[1;32m      4\u001b[0m \u001b[0mmy_sh\u001b[0m\u001b[0;34m.\u001b[0m\u001b[0mtitle\u001b[0m\u001b[0;34m=\u001b[0m \u001b[0;34m'MySheet1'\u001b[0m\u001b[0;34m\u001b[0m\u001b[0;34m\u001b[0m\u001b[0m\n\u001b[1;32m      5\u001b[0m \u001b[0mmy_sh2\u001b[0m\u001b[0;34m=\u001b[0m \u001b[0mmy\u001b[0m\u001b[0;34m.\u001b[0m\u001b[0mcreare_sheet\u001b[0m\u001b[0;34m(\u001b[0m\u001b[0mindex\u001b[0m \u001b[0;34m=\u001b[0m\u001b[0;36m0\u001b[0m\u001b[0;34m,\u001b[0m \u001b[0mtitle\u001b[0m \u001b[0;34m=\u001b[0m\u001b[0;34m'MySheet2'\u001b[0m\u001b[0;34m)\u001b[0m\u001b[0;34m\u001b[0m\u001b[0;34m\u001b[0m\u001b[0m\n",
      "\u001b[0;32m~/anaconda3/lib/python3.8/site-packages/openpyxl/workbook/workbook.py\u001b[0m in \u001b[0;36m__getitem__\u001b[0;34m(self, key)\u001b[0m\n\u001b[1;32m    286\u001b[0m             \u001b[0;32mif\u001b[0m \u001b[0msheet\u001b[0m\u001b[0;34m.\u001b[0m\u001b[0mtitle\u001b[0m \u001b[0;34m==\u001b[0m \u001b[0mkey\u001b[0m\u001b[0;34m:\u001b[0m\u001b[0;34m\u001b[0m\u001b[0;34m\u001b[0m\u001b[0m\n\u001b[1;32m    287\u001b[0m                 \u001b[0;32mreturn\u001b[0m \u001b[0msheet\u001b[0m\u001b[0;34m\u001b[0m\u001b[0;34m\u001b[0m\u001b[0m\n\u001b[0;32m--> 288\u001b[0;31m         \u001b[0;32mraise\u001b[0m \u001b[0mKeyError\u001b[0m\u001b[0;34m(\u001b[0m\u001b[0;34m\"Worksheet {0} does not exist.\"\u001b[0m\u001b[0;34m.\u001b[0m\u001b[0mformat\u001b[0m\u001b[0;34m(\u001b[0m\u001b[0mkey\u001b[0m\u001b[0;34m)\u001b[0m\u001b[0;34m)\u001b[0m\u001b[0;34m\u001b[0m\u001b[0;34m\u001b[0m\u001b[0m\n\u001b[0m\u001b[1;32m    289\u001b[0m \u001b[0;34m\u001b[0m\u001b[0m\n\u001b[1;32m    290\u001b[0m     \u001b[0;32mdef\u001b[0m \u001b[0m__delitem__\u001b[0m\u001b[0;34m(\u001b[0m\u001b[0mself\u001b[0m\u001b[0;34m,\u001b[0m \u001b[0mkey\u001b[0m\u001b[0;34m)\u001b[0m\u001b[0;34m:\u001b[0m\u001b[0;34m\u001b[0m\u001b[0;34m\u001b[0m\u001b[0m\n",
      "\u001b[0;31mKeyError\u001b[0m: 'Worksheet Sheet does not exist.'"
     ]
    }
   ],
   "source": [
    "my_sh= my_wb['Sheet']\n",
    "my_sh['A1'].value= 999\n",
    "my_sh['A2'].value= 666\n",
    "my_sh.title= 'MySheet1'\n",
    "my_sh2= my.creare_sheet(index =0, title ='MySheet2')\n",
    "my_wb.save('my_new_excel.xlsx')"
   ]
  },
  {
   "cell_type": "markdown",
   "id": "831fdbc2",
   "metadata": {},
   "source": [
    "# Session 02"
   ]
  },
  {
   "cell_type": "code",
   "execution_count": 1,
   "id": "9d2293cf",
   "metadata": {},
   "outputs": [],
   "source": [
    "# liboary for docx file\n",
    "import docx"
   ]
  },
  {
   "cell_type": "code",
   "execution_count": 4,
   "id": "6273f49e",
   "metadata": {},
   "outputs": [],
   "source": [
    "import os"
   ]
  },
  {
   "cell_type": "code",
   "execution_count": 6,
   "id": "bf697e96",
   "metadata": {},
   "outputs": [
    {
     "data": {
      "text/plain": [
       "'/home/scarlet-speedester/Documents/University/SIC Cource/SIC-Course-Notes/Samsung Course/Class Work/Lecture 06 Monday 04-Oct-2021'"
      ]
     },
     "execution_count": 6,
     "metadata": {},
     "output_type": "execute_result"
    }
   ],
   "source": [
    "os.getcwd()"
   ]
  },
  {
   "cell_type": "code",
   "execution_count": 9,
   "id": "11462869",
   "metadata": {},
   "outputs": [
    {
     "name": "stdout",
     "output_type": "stream",
     "text": [
      "<docx.document.Document object at 0x7f1dd84357c0>\n"
     ]
    }
   ],
   "source": [
    "my_doc= docx.Document('file.docx')"
   ]
  },
  {
   "cell_type": "code",
   "execution_count": 13,
   "id": "88fde917",
   "metadata": {},
   "outputs": [],
   "source": [
    "import PyPDF2"
   ]
  },
  {
   "cell_type": "code",
   "execution_count": null,
   "id": "40f4ab7d",
   "metadata": {},
   "outputs": [],
   "source": []
  }
 ],
 "metadata": {
  "kernelspec": {
   "display_name": "Python 3",
   "language": "python",
   "name": "python3"
  },
  "language_info": {
   "codemirror_mode": {
    "name": "ipython",
    "version": 3
   },
   "file_extension": ".py",
   "mimetype": "text/x-python",
   "name": "python",
   "nbconvert_exporter": "python",
   "pygments_lexer": "ipython3",
   "version": "3.8.8"
  }
 },
 "nbformat": 4,
 "nbformat_minor": 5
}
