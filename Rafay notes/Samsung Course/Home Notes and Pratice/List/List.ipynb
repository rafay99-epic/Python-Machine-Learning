{
 "cells": [
  {
   "cell_type": "markdown",
   "id": "526d92d0",
   "metadata": {},
   "source": [
    "# Making List and Printing List"
   ]
  },
  {
   "cell_type": "code",
   "execution_count": 2,
   "id": "cf14a1c6",
   "metadata": {},
   "outputs": [
    {
     "name": "stdout",
     "output_type": "stream",
     "text": [
      "[4, 5, 7, 9, 20]\n"
     ]
    }
   ],
   "source": [
    "#this ismy list\n",
    "mylist =[4,5,7,9,20]\n",
    "\n",
    "#this will print the list\n",
    "print(mylist)"
   ]
  },
  {
   "cell_type": "markdown",
   "id": "810d89e1",
   "metadata": {},
   "source": [
    "# Check the length of the list "
   ]
  },
  {
   "cell_type": "code",
   "execution_count": 3,
   "id": "9f6de63a",
   "metadata": {},
   "outputs": [
    {
     "name": "stdout",
     "output_type": "stream",
     "text": [
      "5\n"
     ]
    }
   ],
   "source": [
    "# This will check and inform the length of the list  mylist = [\"apple\", \"banana\", \"cherry\"]\n",
    "print(len(mylist))"
   ]
  },
  {
   "cell_type": "markdown",
   "id": "473308f8",
   "metadata": {},
   "source": [
    "# Printing The vales from the list"
   ]
  },
  {
   "cell_type": "code",
   "execution_count": 8,
   "id": "8be2e8c6",
   "metadata": {},
   "outputs": [
    {
     "name": "stdout",
     "output_type": "stream",
     "text": [
      "<class 'list'>\n"
     ]
    }
   ],
   "source": [
    "# thiswill tell the type of the list \n",
    "Hellolist = [\"apple\", \"banana\", \"cherry\"]\n",
    "print(type(Hellolist))"
   ]
  },
  {
   "cell_type": "markdown",
   "id": "1320f59e",
   "metadata": {},
   "source": [
    "# Access Data From List"
   ]
  },
  {
   "cell_type": "code",
   "execution_count": 12,
   "id": "9e949b54",
   "metadata": {},
   "outputs": [
    {
     "name": "stdout",
     "output_type": "stream",
     "text": [
      "90\n"
     ]
    }
   ],
   "source": [
    "# You can access the elements from the list\n",
    "# index value matter if greater then it will through an error\n",
    "rafaylist= [10,50,69,78,90]\n",
    "#print(rafaylist[2])\n",
    "print(rafaylist[4])s"
   ]
  },
  {
   "cell_type": "markdown",
   "id": "77773991",
   "metadata": {},
   "source": [
    "# Negative Indexing\n",
    "\n",
    "Negative indexing means start from the end\n",
    "\n",
    "-1 refers to the last item, -2 refers to the second last item etc."
   ]
  },
  {
   "cell_type": "code",
   "execution_count": 15,
   "id": "43e7ee51",
   "metadata": {},
   "outputs": [
    {
     "name": "stdout",
     "output_type": "stream",
     "text": [
      "cherry\n"
     ]
    }
   ],
   "source": [
    "thislist = [\"apple\", \"banana\", \"cherry\"]\n",
    "print(thislist[-1])"
   ]
  },
  {
   "cell_type": "markdown",
   "id": "2c738231",
   "metadata": {},
   "source": [
    "# Range From the Index\n",
    "\n",
    "This will tell us about the range of the list from the starting point to the end point"
   ]
  },
  {
   "cell_type": "code",
   "execution_count": 21,
   "id": "f772df61",
   "metadata": {},
   "outputs": [
    {
     "name": "stdout",
     "output_type": "stream",
     "text": [
      "['Saqib', 'Saima', 'Moeez', 'Muqeet', 'Rafay', 'Kashif']\n"
     ]
    }
   ],
   "source": [
    "rafaylist2 = [\"Saqib\", \"Saima\", \"Moeez\", \"Muqeet\", \"Rafay\", \"Kashif\", \"Shazia\"]\n",
    "print(rafaylist2[0:6])"
   ]
  },
  {
   "cell_type": "markdown",
   "id": "7ade03f9",
   "metadata": {},
   "source": [
    "# Check for some Items in the list\n",
    "\n",
    "In this we shall check if an item is present in the list or not if the item is not installed then it will show an error"
   ]
  },
  {
   "cell_type": "code",
   "execution_count": 32,
   "id": "db919aec",
   "metadata": {},
   "outputs": [
    {
     "name": "stdout",
     "output_type": "stream",
     "text": [
      "The Word is not aviable in the list\n"
     ]
    }
   ],
   "source": [
    "rafaylist = [\"Rafay\",\"Moeez\",\"Muqeet\"]\n",
    "if \"Saqib\" in Rafaylist:\n",
    "    print(\"Yes,'Rafay' is in the fruits list\")\n",
    "else:\n",
    "    print(\"The Word is not aviable in the list\")\n",
    "# Rafaylist = [\"Rafay\", \"Moeez\", \"Muqeet\"]\n",
    "# if \"Ssqib\" in rafaylist:\n",
    "#       print(\"Yes, 'Saqib' is in the fruits list\") "
   ]
  },
  {
   "cell_type": "markdown",
   "id": "d9c90a69",
   "metadata": {},
   "source": [
    "# Change the values in the Index\n",
    "\n",
    "This will change the value in the list at the given index"
   ]
  },
  {
   "cell_type": "code",
   "execution_count": 34,
   "id": "4603404c",
   "metadata": {},
   "outputs": [
    {
     "name": "stdout",
     "output_type": "stream",
     "text": [
      "[56, 67, 90, 89, 67, 66]\n"
     ]
    }
   ],
   "source": [
    "rafaylist =[ 56,89,90,89,67,66]\n",
    "rafaylist[1]= 67\n",
    "print(rafaylist)"
   ]
  },
  {
   "cell_type": "markdown",
   "id": "8889a7c1",
   "metadata": {},
   "source": [
    "# Changing the values using Range\n",
    "\n",
    "In this we will replace the compoents of the list with the range, the value in the ranger will be chaged only as shown in the example bellow\n"
   ]
  },
  {
   "cell_type": "code",
   "execution_count": 36,
   "id": "43614042",
   "metadata": {},
   "outputs": [
    {
     "name": "stdout",
     "output_type": "stream",
     "text": [
      "['apple', 'blackcurrant', 'watermelon', 'orange', 'kiwi', 'mango']\n"
     ]
    }
   ],
   "source": [
    " thislist = [\"apple\", \"banana\", \"cherry\", \"orange\", \"kiwi\", \"mango\"]\n",
    "thislist[1:3] = [\"blackcurrant\", \"watermelon\"]\n",
    "print(thislist)"
   ]
  },
  {
   "cell_type": "markdown",
   "id": "81409ea7",
   "metadata": {},
   "source": [
    "## In case of less values:\n",
    "\n",
    "\n",
    "If you insert less items than you replace, the new items will be inserted where you specified, and the remaining items will move accordingly:"
   ]
  },
  {
   "cell_type": "code",
   "execution_count": 37,
   "id": "18117aa5",
   "metadata": {},
   "outputs": [
    {
     "name": "stdout",
     "output_type": "stream",
     "text": [
      "['apple', 'watermelon']\n"
     ]
    }
   ],
   "source": [
    "thislist = [\"apple\", \"banana\", \"cherry\"]\n",
    "thislist[1:3] = [\"watermelon\"]\n",
    "print(thislist)"
   ]
  },
  {
   "cell_type": "markdown",
   "id": "5a1af6ef",
   "metadata": {},
   "source": [
    "# Insert Values:\n",
    "\n",
    "You can add an element in the list using the insert command in the list"
   ]
  },
  {
   "cell_type": "code",
   "execution_count": 40,
   "id": "496255a4",
   "metadata": {},
   "outputs": [
    {
     "name": "stdout",
     "output_type": "stream",
     "text": [
      "['Saqib', 'Saima', 'Moeez', 'Chess']\n"
     ]
    }
   ],
   "source": [
    "Rafaylist = [\"Saqib\", \"Saima\", \"Chess\"]\n",
    "Rafaylist.insert(2, \"Moeez\")\n",
    "print(Rafaylist)"
   ]
  },
  {
   "cell_type": "markdown",
   "id": "dcbceda2",
   "metadata": {},
   "source": [
    "# Join List\n",
    "\n",
    "There are different ways to join two more more then two list, You can join using function or using for loop as well."
   ]
  },
  {
   "cell_type": "markdown",
   "id": "b69d52c9",
   "metadata": {},
   "source": [
    "##  1) Simple Way Joinning List\n",
    " In this we use plus sign to combine lists"
   ]
  },
  {
   "cell_type": "code",
   "execution_count": 2,
   "id": "e2eace82",
   "metadata": {},
   "outputs": [
    {
     "name": "stdout",
     "output_type": "stream",
     "text": [
      "['Saqib', 'Saima', 'rafay', 'Moeez', 'Muqeet']\n"
     ]
    }
   ],
   "source": [
    "family1=[\"Saqib\", \"Saima\"]\n",
    "family2= [\"rafay\",\"Moeez\",\"Muqeet\"]\n",
    "\n",
    "list3= family1 + family2\n",
    "print(list3)"
   ]
  },
  {
   "cell_type": "markdown",
   "id": "ba5e26ca",
   "metadata": {},
   "source": [
    "## 2) Joining using Append function\n",
    "\n",
    "In this we will be using the append() function and this function will help you to join list, but for append function we can use for loop"
   ]
  },
  {
   "cell_type": "code",
   "execution_count": null,
   "id": "8b1c5be9",
   "metadata": {},
   "outputs": [],
   "source": [
    "family1=[\"Saqib\", \"Saima\"]\n",
    "family2= [\"Rafay\",\"Moeez\",\"Muqeet\"]\n",
    "\n",
    "for x in family2:\n",
    "    family1.append(x)\n",
    "print(family1)"
   ]
  },
  {
   "cell_type": "markdown",
   "id": "a4fe8b22",
   "metadata": {},
   "source": [
    "# Insert value in list using insert function\n",
    "\n",
    "- You can enter the values in the list using the insert function in python <br>\n",
    "- The insert will requird an index to place an value in the list\n"
   ]
  },
  {
   "cell_type": "code",
   "execution_count": 2,
   "id": "92059195",
   "metadata": {},
   "outputs": [
    {
     "name": "stdout",
     "output_type": "stream",
     "text": [
      "[10, 'Rafay', 5, 6, 7, 8, 8]\n"
     ]
    }
   ],
   "source": [
    "thislist=[10,5,6,7,8,8]\n",
    "thislist.insert(1,\"Rafay\")\n",
    "print(thislist)"
   ]
  },
  {
   "cell_type": "markdown",
   "id": "355ff159",
   "metadata": {},
   "source": [
    "# Extend List\n",
    "- You can increase the size of the list using append funcction and extend function<br>\n",
    "- But the differece is that when you pass multiple functions in append(), it will generate a new list and that list will be saved in another list so list insode a list will be created"
   ]
  },
  {
   "cell_type": "code",
   "execution_count": 8,
   "id": "b97d1c29",
   "metadata": {},
   "outputs": [
    {
     "name": "stdout",
     "output_type": "stream",
     "text": [
      "[10, 5, 6, 7, 8, 8, 'Hello baby', 'fuck', 'your', 'ASS']\n"
     ]
    }
   ],
   "source": [
    "thislist=[10,5,6,7,8,8]\n",
    "rafaylist=[\"Hello baby\", \"fuck\", \"your\", \"ASS\"]\n",
    "thislist.extend(rafaylist)\n",
    "print(thislist)"
   ]
  },
  {
   "cell_type": "markdown",
   "id": "ad300da0",
   "metadata": {},
   "source": [
    "# Removing From List\n",
    "\n",
    "There are three ways to remove items from list<br> \n",
    "1) using the remove function remove()<br>\n",
    "2) using the pop function pop()<br>\n",
    "3) Using the clear function"
   ]
  },
  {
   "cell_type": "markdown",
   "id": "b22bf881",
   "metadata": {},
   "source": [
    "## Using remove()\n",
    "The remove function works on the bases of value, it will remove when the value is found in the list"
   ]
  },
  {
   "cell_type": "code",
   "execution_count": 9,
   "id": "bb5112e5",
   "metadata": {},
   "outputs": [
    {
     "name": "stdout",
     "output_type": "stream",
     "text": [
      "[10, 5, 6, 7, 8]\n"
     ]
    }
   ],
   "source": [
    "thislist=[10,5,6,7,8,8]\n",
    "thislist.remove(8)\n",
    "print(thislist)"
   ]
  },
  {
   "cell_type": "markdown",
   "id": "8d5d48be",
   "metadata": {},
   "source": [
    "## Using pop()\n",
    "POP function works on the bases of the index, provide the index and once found then it will delete the element"
   ]
  },
  {
   "cell_type": "code",
   "execution_count": 10,
   "id": "6559bb2e",
   "metadata": {},
   "outputs": [
    {
     "name": "stdout",
     "output_type": "stream",
     "text": [
      "[5, 6, 7, 8, 8]\n"
     ]
    }
   ],
   "source": [
    "thislist=[10,5,6,7,8,8]\n",
    "thislist.pop(0)\n",
    "print(thislist)"
   ]
  },
  {
   "cell_type": "markdown",
   "id": "dee940b4",
   "metadata": {},
   "source": [
    "## Using clear()"
   ]
  },
  {
   "cell_type": "code",
   "execution_count": 11,
   "id": "ad002694",
   "metadata": {},
   "outputs": [
    {
     "name": "stdout",
     "output_type": "stream",
     "text": [
      "[]\n"
     ]
    }
   ],
   "source": [
    "thislist = [\"apple\", \"banana\", \"cherry\"]\n",
    "thislist.clear()\n",
    "print(thislist)"
   ]
  },
  {
   "cell_type": "markdown",
   "id": "876958df",
   "metadata": {},
   "source": [
    "# Looping in the List"
   ]
  },
  {
   "cell_type": "markdown",
   "id": "4addab30",
   "metadata": {},
   "source": [
    "## For Loop:"
   ]
  },
  {
   "cell_type": "markdown",
   "id": "ee730540",
   "metadata": {},
   "source": [
    "### Printing list using  For Loop"
   ]
  },
  {
   "cell_type": "code",
   "execution_count": 12,
   "id": "9d81b654",
   "metadata": {},
   "outputs": [
    {
     "name": "stdout",
     "output_type": "stream",
     "text": [
      "4\n",
      "5\n",
      "6\n",
      "7\n",
      "8\n",
      "10\n"
     ]
    }
   ],
   "source": [
    "thislist=[4,5,6,7,8,10]\n",
    "for x in thislist:\n",
    "    print(x)"
   ]
  },
  {
   "cell_type": "markdown",
   "id": "8cb2c530",
   "metadata": {},
   "source": [
    "### Looping through using indexing"
   ]
  },
  {
   "cell_type": "code",
   "execution_count": 16,
   "id": "0dcad5c1",
   "metadata": {},
   "outputs": [
    {
     "name": "stdout",
     "output_type": "stream",
     "text": [
      "4\n",
      "5\n",
      "6\n",
      "7\n",
      "8\n",
      "10\n"
     ]
    }
   ],
   "source": [
    "# in this we are using the index value to print the list using loops\n",
    "thislist=[4,5,6,7,8,10]\n",
    "for x in range(len(thislist)):\n",
    "    print(thislist[x])"
   ]
  },
  {
   "cell_type": "markdown",
   "id": "737aeca9",
   "metadata": {},
   "source": [
    "## While loop"
   ]
  },
  {
   "cell_type": "markdown",
   "id": "073f7fa3",
   "metadata": {},
   "source": [
    "### Priniting list using while loop"
   ]
  },
  {
   "cell_type": "code",
   "execution_count": 17,
   "id": "075b1590",
   "metadata": {},
   "outputs": [
    {
     "name": "stdout",
     "output_type": "stream",
     "text": [
      "Rafay\n",
      "Moeez\n",
      "Muqeet\n",
      "Saima\n",
      "Saqib\n"
     ]
    }
   ],
   "source": [
    "thislist = [\"Rafay\", \"Moeez\", \"Muqeet\", \"Saima\", \"Saqib\"]\n",
    "i =0\n",
    "while i < len(thislist):\n",
    "    print(thislist[i])\n",
    "    i +=1\n"
   ]
  },
  {
   "cell_type": "markdown",
   "id": "6203cac4",
   "metadata": {},
   "source": [
    "# Sort List"
   ]
  },
  {
   "cell_type": "markdown",
   "id": "e84152e9",
   "metadata": {},
   "source": [
    "## Sort list"
   ]
  },
  {
   "cell_type": "code",
   "execution_count": 18,
   "id": "cdeed740",
   "metadata": {},
   "outputs": [
    {
     "name": "stdout",
     "output_type": "stream",
     "text": [
      "['Moeez', 'Muqeet', 'Rafay', 'Saima', 'Saqib']\n"
     ]
    }
   ],
   "source": [
    "thislist = [\"Rafay\", \"Moeez\", \"Muqeet\", \"Saima\", \"Saqib\"]\n",
    "thislist.sort()\n",
    "print(thislist)"
   ]
  },
  {
   "cell_type": "code",
   "execution_count": 19,
   "id": "2faa8340",
   "metadata": {},
   "outputs": [
    {
     "name": "stdout",
     "output_type": "stream",
     "text": [
      "['Saqib', 'Saima', 'Rafay', 'Muqeet', 'Moeez']\n"
     ]
    }
   ],
   "source": [
    "thislist = [\"Rafay\", \"Moeez\", \"Muqeet\", \"Saima\", \"Saqib\"]\n",
    "thislist.sort(reverse=True)\n",
    "print(thislist)"
   ]
  },
  {
   "cell_type": "markdown",
   "id": "c9a790c7",
   "metadata": {},
   "source": [
    "## Reverse Order\n"
   ]
  },
  {
   "cell_type": "code",
   "execution_count": 20,
   "id": "413db591",
   "metadata": {},
   "outputs": [
    {
     "name": "stdout",
     "output_type": "stream",
     "text": [
      "['Saqib', 'Saima', 'Muqeet', 'Moeez', 'Rafay']\n"
     ]
    }
   ],
   "source": [
    "thislist = [\"Rafay\", \"Moeez\", \"Muqeet\", \"Saima\", \"Saqib\"]\n",
    "thislist.reverse()\n",
    "print(thislist)"
   ]
  },
  {
   "cell_type": "markdown",
   "id": "666dab16",
   "metadata": {},
   "source": [
    "# Copy List"
   ]
  },
  {
   "cell_type": "code",
   "execution_count": 27,
   "id": "c16ec0c4",
   "metadata": {},
   "outputs": [
    {
     "name": "stdout",
     "output_type": "stream",
     "text": [
      "['Rafay', 'Moeez', 'Muqeet', 'Saima', 'Saqib']\n"
     ]
    }
   ],
   "source": [
    "import copy\n",
    "thislist = [\"Rafay\", \"Moeez\", \"Muqeet\", \"Saima\", \"Saqib\"]\n",
    "rafaylist=[]\n",
    "rafaylist= thislist.copy()\n",
    "print(rafaylist)"
   ]
  },
  {
   "cell_type": "markdown",
   "id": "f2ea2dd7",
   "metadata": {},
   "source": [
    "\n"
   ]
  }
 ],
 "metadata": {
  "kernelspec": {
   "display_name": "Python 3",
   "language": "python",
   "name": "python3"
  },
  "language_info": {
   "codemirror_mode": {
    "name": "ipython",
    "version": 3
   },
   "file_extension": ".py",
   "mimetype": "text/x-python",
   "name": "python",
   "nbconvert_exporter": "python",
   "pygments_lexer": "ipython3",
   "version": "3.8.8"
  }
 },
 "nbformat": 4,
 "nbformat_minor": 5
}
