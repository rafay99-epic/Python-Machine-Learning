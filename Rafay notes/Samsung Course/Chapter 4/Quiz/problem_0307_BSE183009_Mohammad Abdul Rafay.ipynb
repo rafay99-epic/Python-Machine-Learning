{
 "cells": [
  {
   "cell_type": "markdown",
   "metadata": {},
   "source": [
    "## Quiz #0307"
   ]
  },
  {
   "cell_type": "markdown",
   "metadata": {},
   "source": [
    "### \"EDA and ANOVA for guinea pig tooth growth\""
   ]
  },
  {
   "cell_type": "code",
   "execution_count": 2,
   "metadata": {},
   "outputs": [],
   "source": [
    "import numpy as np\n",
    "import pandas as pd\n",
    "import scipy.stats as st\n",
    "import matplotlib.pyplot as plt\n",
    "import os\n",
    "%matplotlib inline"
   ]
  },
  {
   "cell_type": "markdown",
   "metadata": {},
   "source": [
    "#### Answer the following questions by providing Python code:"
   ]
  },
  {
   "cell_type": "markdown",
   "metadata": {},
   "source": [
    "We will use the dataset \"data_ToothGrowth.csv\". \n",
    "- len = teeth length. \n",
    "- supp = supplementary type with two possible values: VC (vitamin C) or OJ (orange juice). \n",
    "- dose (mgr/day) = dosage per day with three possible values: 0.5, 1.0, 2.0."
   ]
  },
  {
   "cell_type": "code",
   "execution_count": 31,
   "metadata": {},
   "outputs": [],
   "source": [
    "df = pd.read_csv('data_ToothGrowth.csv', header='infer')"
   ]
  },
  {
   "cell_type": "code",
   "execution_count": 32,
   "metadata": {},
   "outputs": [
    {
     "data": {
      "text/html": [
       "<div>\n",
       "<style scoped>\n",
       "    .dataframe tbody tr th:only-of-type {\n",
       "        vertical-align: middle;\n",
       "    }\n",
       "\n",
       "    .dataframe tbody tr th {\n",
       "        vertical-align: top;\n",
       "    }\n",
       "\n",
       "    .dataframe thead th {\n",
       "        text-align: right;\n",
       "    }\n",
       "</style>\n",
       "<table border=\"1\" class=\"dataframe\">\n",
       "  <thead>\n",
       "    <tr style=\"text-align: right;\">\n",
       "      <th></th>\n",
       "      <th>len</th>\n",
       "      <th>supp</th>\n",
       "      <th>dose</th>\n",
       "    </tr>\n",
       "  </thead>\n",
       "  <tbody>\n",
       "    <tr>\n",
       "      <th>0</th>\n",
       "      <td>4.2</td>\n",
       "      <td>VC</td>\n",
       "      <td>0.5</td>\n",
       "    </tr>\n",
       "    <tr>\n",
       "      <th>1</th>\n",
       "      <td>11.5</td>\n",
       "      <td>VC</td>\n",
       "      <td>0.5</td>\n",
       "    </tr>\n",
       "    <tr>\n",
       "      <th>2</th>\n",
       "      <td>7.3</td>\n",
       "      <td>VC</td>\n",
       "      <td>0.5</td>\n",
       "    </tr>\n",
       "    <tr>\n",
       "      <th>3</th>\n",
       "      <td>5.8</td>\n",
       "      <td>VC</td>\n",
       "      <td>0.5</td>\n",
       "    </tr>\n",
       "    <tr>\n",
       "      <th>4</th>\n",
       "      <td>6.4</td>\n",
       "      <td>VC</td>\n",
       "      <td>0.5</td>\n",
       "    </tr>\n",
       "  </tbody>\n",
       "</table>\n",
       "</div>"
      ],
      "text/plain": [
       "    len supp  dose\n",
       "0   4.2   VC   0.5\n",
       "1  11.5   VC   0.5\n",
       "2   7.3   VC   0.5\n",
       "3   5.8   VC   0.5\n",
       "4   6.4   VC   0.5"
      ]
     },
     "execution_count": 32,
     "metadata": {},
     "output_type": "execute_result"
    }
   ],
   "source": [
    "df.head()"
   ]
  },
  {
   "cell_type": "code",
   "execution_count": 33,
   "metadata": {},
   "outputs": [
    {
     "name": "stdout",
     "output_type": "stream",
     "text": [
      "<class 'pandas.core.frame.DataFrame'>\n",
      "RangeIndex: 60 entries, 0 to 59\n",
      "Data columns (total 3 columns):\n",
      " #   Column  Non-Null Count  Dtype  \n",
      "---  ------  --------------  -----  \n",
      " 0   len     60 non-null     float64\n",
      " 1   supp    60 non-null     object \n",
      " 2   dose    60 non-null     float64\n",
      "dtypes: float64(2), object(1)\n",
      "memory usage: 1.5+ KB\n"
     ]
    }
   ],
   "source": [
    "df.info()"
   ]
  },
  {
   "cell_type": "markdown",
   "metadata": {},
   "source": [
    "1). Perform the EDA and ANOVA ($\\alpha=$ 5%) with the 'supp' variable. <br>\n",
    "Summarize the result."
   ]
  },
  {
   "cell_type": "code",
   "execution_count": 46,
   "metadata": {},
   "outputs": [
    {
     "name": "stdout",
     "output_type": "stream",
     "text": [
      "     len supp  dose\n",
      "0    4.2   VC   0.5\n",
      "1   11.5   VC   0.5\n",
      "2    7.3   VC   0.5\n",
      "3    5.8   VC   0.5\n",
      "4    6.4   VC   0.5\n",
      "5   10.0   VC   0.5\n",
      "6   11.2   VC   0.5\n",
      "7   11.2   VC   0.5\n",
      "8    5.2   VC   0.5\n",
      "9    7.0   VC   0.5\n",
      "10  16.5   VC   1.0\n",
      "11  16.5   VC   1.0\n",
      "12  15.2   VC   1.0\n",
      "13  17.3   VC   1.0\n",
      "14  22.5   VC   1.0\n",
      "15  17.3   VC   1.0\n",
      "16  13.6   VC   1.0\n",
      "17  14.5   VC   1.0\n",
      "18  18.8   VC   1.0\n",
      "19  15.5   VC   1.0\n",
      "20  23.6   VC   2.0\n",
      "21  18.5   VC   2.0\n",
      "22  33.9   VC   2.0\n",
      "23  25.5   VC   2.0\n",
      "24  26.4   VC   2.0\n",
      "25  32.5   VC   2.0\n",
      "26  26.7   VC   2.0\n",
      "27  21.5   VC   2.0\n",
      "28  23.3   VC   2.0\n",
      "29  29.5   VC   2.0\n",
      "     len supp  dose\n",
      "30  15.2   OJ   0.5\n",
      "31  21.5   OJ   0.5\n",
      "32  17.6   OJ   0.5\n",
      "33   9.7   OJ   0.5\n",
      "34  14.5   OJ   0.5\n",
      "35  10.0   OJ   0.5\n",
      "36   8.2   OJ   0.5\n",
      "37   9.4   OJ   0.5\n",
      "38  16.5   OJ   0.5\n",
      "39   9.7   OJ   0.5\n",
      "40  19.7   OJ   1.0\n",
      "41  23.3   OJ   1.0\n",
      "42  23.6   OJ   1.0\n",
      "43  26.4   OJ   1.0\n",
      "44  20.0   OJ   1.0\n",
      "45  25.2   OJ   1.0\n",
      "46  25.8   OJ   1.0\n",
      "47  21.2   OJ   1.0\n",
      "48  14.5   OJ   1.0\n",
      "49  27.3   OJ   1.0\n",
      "50  25.5   OJ   2.0\n",
      "51  26.4   OJ   2.0\n",
      "52  22.4   OJ   2.0\n",
      "53  24.5   OJ   2.0\n",
      "54  24.8   OJ   2.0\n",
      "55  30.9   OJ   2.0\n",
      "56  26.4   OJ   2.0\n",
      "57  27.3   OJ   2.0\n",
      "58  29.4   OJ   2.0\n",
      "59  23.0   OJ   2.0\n"
     ]
    }
   ],
   "source": [
    "# Categories of 'supp'. \n",
    "VC= df[df.supp == 'VC']\n",
    "print(VC)\n",
    "OJ = df[df.supp == 'OJ']\n",
    "print(OJ)"
   ]
  },
  {
   "cell_type": "code",
   "execution_count": 47,
   "metadata": {},
   "outputs": [],
   "source": [
    "# Group by category.\n"
   ]
  },
  {
   "cell_type": "code",
   "execution_count": null,
   "metadata": {},
   "outputs": [],
   "source": [
    "# Multiple Boxplots.\n",
    "plt.boxplot([VC,OJ],0)\n",
    "plt.show()"
   ]
  },
  {
   "cell_type": "code",
   "execution_count": null,
   "metadata": {
    "scrolled": true
   },
   "outputs": [],
   "source": [
    "# ANOVA.\n",
    "supp=st.f_oneway(VC, OJ,5)\n",
    "supp"
   ]
  },
  {
   "cell_type": "code",
   "execution_count": null,
   "metadata": {},
   "outputs": [],
   "source": [
    "# Result summary.\n"
   ]
  },
  {
   "cell_type": "markdown",
   "metadata": {},
   "source": [
    "2). Perform the EDA and ANOVA ($\\alpha=$ 5%) with the 'dose' variable. <br>\n",
    "Summarize the result."
   ]
  },
  {
   "cell_type": "code",
   "execution_count": 44,
   "metadata": {},
   "outputs": [
    {
     "name": "stdout",
     "output_type": "stream",
     "text": [
      "     len supp  dose\n",
      "10  16.5   VC   1.0\n",
      "11  16.5   VC   1.0\n",
      "12  15.2   VC   1.0\n",
      "13  17.3   VC   1.0\n",
      "14  22.5   VC   1.0\n",
      "15  17.3   VC   1.0\n",
      "16  13.6   VC   1.0\n",
      "17  14.5   VC   1.0\n",
      "18  18.8   VC   1.0\n",
      "19  15.5   VC   1.0\n",
      "40  19.7   OJ   1.0\n",
      "41  23.3   OJ   1.0\n",
      "42  23.6   OJ   1.0\n",
      "43  26.4   OJ   1.0\n",
      "44  20.0   OJ   1.0\n",
      "45  25.2   OJ   1.0\n",
      "46  25.8   OJ   1.0\n",
      "47  21.2   OJ   1.0\n",
      "48  14.5   OJ   1.0\n",
      "49  27.3   OJ   1.0\n",
      "     len supp  dose\n",
      "20  23.6   VC   2.0\n",
      "21  18.5   VC   2.0\n",
      "22  33.9   VC   2.0\n",
      "23  25.5   VC   2.0\n",
      "24  26.4   VC   2.0\n",
      "25  32.5   VC   2.0\n",
      "26  26.7   VC   2.0\n",
      "27  21.5   VC   2.0\n",
      "28  23.3   VC   2.0\n",
      "29  29.5   VC   2.0\n",
      "50  25.5   OJ   2.0\n",
      "51  26.4   OJ   2.0\n",
      "52  22.4   OJ   2.0\n",
      "53  24.5   OJ   2.0\n",
      "54  24.8   OJ   2.0\n",
      "55  30.9   OJ   2.0\n",
      "56  26.4   OJ   2.0\n",
      "57  27.3   OJ   2.0\n",
      "58  29.4   OJ   2.0\n",
      "59  23.0   OJ   2.0\n",
      "     len supp  dose\n",
      "0    4.2   VC   0.5\n",
      "1   11.5   VC   0.5\n",
      "2    7.3   VC   0.5\n",
      "3    5.8   VC   0.5\n",
      "4    6.4   VC   0.5\n",
      "5   10.0   VC   0.5\n",
      "6   11.2   VC   0.5\n",
      "7   11.2   VC   0.5\n",
      "8    5.2   VC   0.5\n",
      "9    7.0   VC   0.5\n",
      "30  15.2   OJ   0.5\n",
      "31  21.5   OJ   0.5\n",
      "32  17.6   OJ   0.5\n",
      "33   9.7   OJ   0.5\n",
      "34  14.5   OJ   0.5\n",
      "35  10.0   OJ   0.5\n",
      "36   8.2   OJ   0.5\n",
      "37   9.4   OJ   0.5\n",
      "38  16.5   OJ   0.5\n",
      "39   9.7   OJ   0.5\n"
     ]
    }
   ],
   "source": [
    "# Categories of 'dose'. \n",
    "one= df[df.dose == 1]\n",
    "print(one)\n",
    "two = df[df.dose == 2]\n",
    "print(two)\n",
    "xero_point_five = df[df.dose == 0.5]\n",
    "print(xero_point_five)"
   ]
  },
  {
   "cell_type": "code",
   "execution_count": null,
   "metadata": {},
   "outputs": [],
   "source": [
    "# Group by category.\n"
   ]
  },
  {
   "cell_type": "code",
   "execution_count": null,
   "metadata": {},
   "outputs": [],
   "source": [
    "# Multiple Boxplots.\n",
    "plt.boxplot([one,two,xero_point_five],0)\n",
    "plt.show()"
   ]
  },
  {
   "cell_type": "code",
   "execution_count": null,
   "metadata": {},
   "outputs": [],
   "source": [
    "# ANOVA.\n",
    "dose=st.f_oneway(one,two,xero_point_five,5)\n",
    "dose"
   ]
  },
  {
   "cell_type": "code",
   "execution_count": null,
   "metadata": {},
   "outputs": [],
   "source": [
    "# Result summary.\n"
   ]
  }
 ],
 "metadata": {
  "kernelspec": {
   "display_name": "Python 3",
   "language": "python",
   "name": "python3"
  },
  "language_info": {
   "codemirror_mode": {
    "name": "ipython",
    "version": 3
   },
   "file_extension": ".py",
   "mimetype": "text/x-python",
   "name": "python",
   "nbconvert_exporter": "python",
   "pygments_lexer": "ipython3",
   "version": "3.8.8"
  }
 },
 "nbformat": 4,
 "nbformat_minor": 4
}
