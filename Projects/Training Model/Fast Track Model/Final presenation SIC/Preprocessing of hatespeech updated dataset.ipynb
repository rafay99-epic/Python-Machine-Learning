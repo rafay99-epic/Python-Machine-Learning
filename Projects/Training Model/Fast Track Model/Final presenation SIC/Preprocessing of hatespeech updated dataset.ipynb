{
 "cells": [
  {
   "cell_type": "markdown",
   "id": "5e86118b",
   "metadata": {},
   "source": [
    "# Importing Necessary Libraries"
   ]
  },
  {
   "cell_type": "code",
   "execution_count": 25,
   "id": "c6c1984d",
   "metadata": {},
   "outputs": [],
   "source": [
    "import pandas as pd\n",
    "import numpy as np\n",
    "import nltk                                                        # word Tokenization\n",
    "from nltk.stem.porter import *\n",
    "import re                                                          # for regular expressions\n",
    "from wordsegment import load, segment, clean\n",
    "load()                                                             # loading segment\n",
    "import matplotlib.pyplot as plt                                    # for visualization\n",
    "from tensorflow.keras.preprocessing.sequence import pad_sequences\n",
    "%matplotlib inline\n",
    "\n",
    "from sklearn import preprocessing\n"
   ]
  },
  {
   "cell_type": "markdown",
   "id": "030c8cab",
   "metadata": {},
   "source": [
    "# Reading the dataset and Data Exploration"
   ]
  },
  {
   "cell_type": "code",
   "execution_count": 2,
   "id": "fe14d270",
   "metadata": {},
   "outputs": [],
   "source": [
    "df = pd.read_csv('Dataset.csv',header = 'infer')      # Loading Dataset"
   ]
  },
  {
   "cell_type": "code",
   "execution_count": 3,
   "id": "fac9d0aa",
   "metadata": {},
   "outputs": [
    {
     "data": {
      "text/html": [
       "<div>\n",
       "<style scoped>\n",
       "    .dataframe tbody tr th:only-of-type {\n",
       "        vertical-align: middle;\n",
       "    }\n",
       "\n",
       "    .dataframe tbody tr th {\n",
       "        vertical-align: top;\n",
       "    }\n",
       "\n",
       "    .dataframe thead th {\n",
       "        text-align: right;\n",
       "    }\n",
       "</style>\n",
       "<table border=\"1\" class=\"dataframe\">\n",
       "  <thead>\n",
       "    <tr style=\"text-align: right;\">\n",
       "      <th></th>\n",
       "      <th>tweets</th>\n",
       "      <th>ClassLabels</th>\n",
       "    </tr>\n",
       "  </thead>\n",
       "  <tbody>\n",
       "    <tr>\n",
       "      <th>0</th>\n",
       "      <td>@USER She should ask a few native Americans wh...</td>\n",
       "      <td>OFF</td>\n",
       "    </tr>\n",
       "    <tr>\n",
       "      <th>1</th>\n",
       "      <td>@USER @USER Go home you’re drunk!!! @USER #MAG...</td>\n",
       "      <td>OFF</td>\n",
       "    </tr>\n",
       "    <tr>\n",
       "      <th>2</th>\n",
       "      <td>Amazon is investigating Chinese employees who ...</td>\n",
       "      <td>NOT</td>\n",
       "    </tr>\n",
       "    <tr>\n",
       "      <th>3</th>\n",
       "      <td>@USER Someone should'veTaken\" this piece of sh...</td>\n",
       "      <td>OFF</td>\n",
       "    </tr>\n",
       "    <tr>\n",
       "      <th>4</th>\n",
       "      <td>@USER @USER Obama wanted liberals &amp;amp; illega...</td>\n",
       "      <td>NOT</td>\n",
       "    </tr>\n",
       "    <tr>\n",
       "      <th>...</th>\n",
       "      <td>...</td>\n",
       "      <td>...</td>\n",
       "    </tr>\n",
       "    <tr>\n",
       "      <th>13235</th>\n",
       "      <td>@USER Sometimes I get strong vibes from people...</td>\n",
       "      <td>OFF</td>\n",
       "    </tr>\n",
       "    <tr>\n",
       "      <th>13236</th>\n",
       "      <td>Benidorm ✅  Creamfields ✅  Maga ✅   Not too sh...</td>\n",
       "      <td>NOT</td>\n",
       "    </tr>\n",
       "    <tr>\n",
       "      <th>13237</th>\n",
       "      <td>@USER And why report this garbage.  We don't g...</td>\n",
       "      <td>OFF</td>\n",
       "    </tr>\n",
       "    <tr>\n",
       "      <th>13238</th>\n",
       "      <td>@USER Pussy</td>\n",
       "      <td>OFF</td>\n",
       "    </tr>\n",
       "    <tr>\n",
       "      <th>13239</th>\n",
       "      <td>#Spanishrevenge vs. #justice #HumanRights and ...</td>\n",
       "      <td>NOT</td>\n",
       "    </tr>\n",
       "  </tbody>\n",
       "</table>\n",
       "<p>13240 rows × 2 columns</p>\n",
       "</div>"
      ],
      "text/plain": [
       "                                                  tweets ClassLabels\n",
       "0      @USER She should ask a few native Americans wh...         OFF\n",
       "1      @USER @USER Go home you’re drunk!!! @USER #MAG...         OFF\n",
       "2      Amazon is investigating Chinese employees who ...         NOT\n",
       "3      @USER Someone should'veTaken\" this piece of sh...         OFF\n",
       "4      @USER @USER Obama wanted liberals &amp; illega...         NOT\n",
       "...                                                  ...         ...\n",
       "13235  @USER Sometimes I get strong vibes from people...         OFF\n",
       "13236  Benidorm ✅  Creamfields ✅  Maga ✅   Not too sh...         NOT\n",
       "13237  @USER And why report this garbage.  We don't g...         OFF\n",
       "13238                                        @USER Pussy         OFF\n",
       "13239  #Spanishrevenge vs. #justice #HumanRights and ...         NOT\n",
       "\n",
       "[13240 rows x 2 columns]"
      ]
     },
     "execution_count": 3,
     "metadata": {},
     "output_type": "execute_result"
    }
   ],
   "source": [
    "df                                                    # Displying dataset"
   ]
  },
  {
   "cell_type": "code",
   "execution_count": 4,
   "id": "4e8f2cfe",
   "metadata": {},
   "outputs": [
    {
     "name": "stdout",
     "output_type": "stream",
     "text": [
      "number of rows and columns i.e. dimension of the dataset:  (13240, 2)\n",
      "\n",
      "column names of the dataset:  Index(['tweets', 'ClassLabels'], dtype='object')\n"
     ]
    }
   ],
   "source": [
    "print('number of rows and columns i.e. dimension of the dataset: ',df.shape)\n",
    "print('\\ncolumn names of the dataset: ',df.columns)"
   ]
  },
  {
   "cell_type": "markdown",
   "id": "a72eb596",
   "metadata": {},
   "source": [
    "## Separating the tweets and class label"
   ]
  },
  {
   "cell_type": "code",
   "execution_count": 5,
   "id": "652a8c97",
   "metadata": {},
   "outputs": [],
   "source": [
    "ClassLabel = df['ClassLabels']\n",
    "tweets = df.tweets"
   ]
  },
  {
   "cell_type": "markdown",
   "id": "beb261c7",
   "metadata": {},
   "source": [
    "### Plotting the class label"
   ]
  },
  {
   "cell_type": "code",
   "execution_count": 12,
   "id": "baf1f254",
   "metadata": {},
   "outputs": [
    {
     "data": {
      "image/png": "[encoded data removed]",
      "text/plain": [
       "<Figure size 432x432 with 1 Axes>"
      ]
     },
     "metadata": {
      "needs_background": "light"
     },
     "output_type": "display_data"
    }
   ],
   "source": [
    "fig, ax = plt.subplots(figsize = (6, 6))\n",
    "ax.spines['right'].set_visible(True)\n",
    "ax.spines['top'].set_visible(True)\n",
    "ax.spines['left'].set_visible(True)\n",
    "plt.hist(ClassLabel, bins=3, color='#33FF83', density=False, edgecolor='black')\n",
    "plt.title('HateSpeech Classification Initial Histogram')\n",
    "plt.xlabel('Classes \\n0 - NOT, 1 - OFF')\n",
    "plt.ylabel('Number of Tweets')\n",
    "plt.show()"
   ]
  },
  {
   "cell_type": "markdown",
   "id": "fdc97597",
   "metadata": {},
   "source": [
    "# Preprocessing"
   ]
  },
  {
   "cell_type": "code",
   "execution_count": 8,
   "id": "50953544",
   "metadata": {},
   "outputs": [
    {
     "name": "stdout",
     "output_type": "stream",
     "text": [
      "0        @USER She should ask a few native Americans wh...\n",
      "1        @USER @USER Go home you’re drunk!!! @USER #MAG...\n",
      "2        Amazon is investigating Chinese employees who ...\n",
      "3        @USER Someone should'veTaken\" this piece of sh...\n",
      "4        @USER @USER Obama wanted liberals &amp; illega...\n",
      "                               ...                        \n",
      "13235    @USER Sometimes I get strong vibes from people...\n",
      "13236    Benidorm ✅  Creamfields ✅  Maga ✅   Not too sh...\n",
      "13237    @USER And why report this garbage.  We don't g...\n",
      "13238                                          @USER Pussy\n",
      "13239    #Spanishrevenge vs. #justice #HumanRights and ...\n",
      "Name: tweets, Length: 13240, dtype: object\n"
     ]
    }
   ],
   "source": [
    "print(tweets)"
   ]
  },
  {
   "cell_type": "code",
   "execution_count": null,
   "id": "d2e04531",
   "metadata": {},
   "outputs": [],
   "source": []
  },
  {
   "cell_type": "code",
   "execution_count": 34,
   "id": "783c21cf",
   "metadata": {},
   "outputs": [
    {
     "data": {
      "text/html": [
       "<div>\n",
       "<style scoped>\n",
       "    .dataframe tbody tr th:only-of-type {\n",
       "        vertical-align: middle;\n",
       "    }\n",
       "\n",
       "    .dataframe tbody tr th {\n",
       "        vertical-align: top;\n",
       "    }\n",
       "\n",
       "    .dataframe thead th {\n",
       "        text-align: right;\n",
       "    }\n",
       "</style>\n",
       "<table border=\"1\" class=\"dataframe\">\n",
       "  <thead>\n",
       "    <tr style=\"text-align: right;\">\n",
       "      <th></th>\n",
       "      <th>tweets</th>\n",
       "      <th>ClassLabels</th>\n",
       "    </tr>\n",
       "  </thead>\n",
       "  <tbody>\n",
       "    <tr>\n",
       "      <th>0</th>\n",
       "      <td>@USER She should ask a few native Americans wh...</td>\n",
       "      <td>OFF</td>\n",
       "    </tr>\n",
       "    <tr>\n",
       "      <th>1</th>\n",
       "      <td>@USER @USER Go home you’re drunk!!! @USER #MAG...</td>\n",
       "      <td>OFF</td>\n",
       "    </tr>\n",
       "    <tr>\n",
       "      <th>2</th>\n",
       "      <td>Amazon is investigating Chinese employees who ...</td>\n",
       "      <td>NOT</td>\n",
       "    </tr>\n",
       "    <tr>\n",
       "      <th>3</th>\n",
       "      <td>@USER Someone should'veTaken\" this piece of sh...</td>\n",
       "      <td>OFF</td>\n",
       "    </tr>\n",
       "    <tr>\n",
       "      <th>4</th>\n",
       "      <td>@USER @USER Obama wanted liberals &amp;amp; illega...</td>\n",
       "      <td>NOT</td>\n",
       "    </tr>\n",
       "    <tr>\n",
       "      <th>...</th>\n",
       "      <td>...</td>\n",
       "      <td>...</td>\n",
       "    </tr>\n",
       "    <tr>\n",
       "      <th>13235</th>\n",
       "      <td>@USER Sometimes I get strong vibes from people...</td>\n",
       "      <td>OFF</td>\n",
       "    </tr>\n",
       "    <tr>\n",
       "      <th>13236</th>\n",
       "      <td>Benidorm ✅  Creamfields ✅  Maga ✅   Not too sh...</td>\n",
       "      <td>NOT</td>\n",
       "    </tr>\n",
       "    <tr>\n",
       "      <th>13237</th>\n",
       "      <td>@USER And why report this garbage.  We don't g...</td>\n",
       "      <td>OFF</td>\n",
       "    </tr>\n",
       "    <tr>\n",
       "      <th>13238</th>\n",
       "      <td>@USER Pussy</td>\n",
       "      <td>OFF</td>\n",
       "    </tr>\n",
       "    <tr>\n",
       "      <th>13239</th>\n",
       "      <td>#Spanishrevenge vs. #justice #HumanRights and ...</td>\n",
       "      <td>NOT</td>\n",
       "    </tr>\n",
       "  </tbody>\n",
       "</table>\n",
       "<p>13240 rows × 2 columns</p>\n",
       "</div>"
      ],
      "text/plain": [
       "                                                  tweets ClassLabels\n",
       "0      @USER She should ask a few native Americans wh...         OFF\n",
       "1      @USER @USER Go home you’re drunk!!! @USER #MAG...         OFF\n",
       "2      Amazon is investigating Chinese employees who ...         NOT\n",
       "3      @USER Someone should'veTaken\" this piece of sh...         OFF\n",
       "4      @USER @USER Obama wanted liberals &amp; illega...         NOT\n",
       "...                                                  ...         ...\n",
       "13235  @USER Sometimes I get strong vibes from people...         OFF\n",
       "13236  Benidorm ✅  Creamfields ✅  Maga ✅   Not too sh...         NOT\n",
       "13237  @USER And why report this garbage.  We don't g...         OFF\n",
       "13238                                        @USER Pussy         OFF\n",
       "13239  #Spanishrevenge vs. #justice #HumanRights and ...         NOT\n",
       "\n",
       "[13240 rows x 2 columns]"
      ]
     },
     "execution_count": 34,
     "metadata": {},
     "output_type": "execute_result"
    }
   ],
   "source": [
    "df"
   ]
  },
  {
   "cell_type": "code",
   "execution_count": 45,
   "id": "ef94b6b8",
   "metadata": {},
   "outputs": [],
   "source": [
    "corpus = []\n",
    "#num_urls_regExp = '(https?:\\/\\/t\\.co\\/\\w+)'\n",
    "char_regExp = '[,\\?:\\|]'\n",
    "#quoteHtml_regExp = '(&#8220;)|(&#8221;)'\n",
    "#andHtml_regExp = '(&amp;)'\n",
    "#emo_happy = '[&#...[514;]$]+|[&#...[513;]$]+'\n",
    "for i in range(0, len(tweets)):\n",
    "    tweetsUpdated = re.sub(char_regExp, ' ',tweets[i]).split()               # 3.1.1 - removing ,:|?\n",
    "    tweetsUpdated = \" \".join(tweetsUpdated)                               # joining the string after split\n",
    "    tweetsUpdated = \" \".join(tweetsUpdated)                               # joining the string after split\n",
    "    tweetsUpdated = segment(tweetsUpdated)\n",
    "    tweetsUpdated = \" \".join(tweetsUpdated)     \n",
    "    corpus.append(tweetsUpdated)                                          # Inserting the updated tweets into a corpus i.e. list of words"
   ]
  },
  {
   "cell_type": "code",
   "execution_count": 46,
   "id": "cd2c10d8",
   "metadata": {},
   "outputs": [
    {
     "data": {
      "text/plain": [
       "'user user go home your edrunkusermagatrump2020 url'"
      ]
     },
     "execution_count": 46,
     "metadata": {},
     "output_type": "execute_result"
    }
   ],
   "source": [
    "corpus[1]"
   ]
  },
  {
   "cell_type": "code",
   "execution_count": 47,
   "id": "b1cdc2b3",
   "metadata": {},
   "outputs": [],
   "source": [
    "df1 = pd.DataFrame(corpus)"
   ]
  },
  {
   "cell_type": "markdown",
   "id": "9ab637c3",
   "metadata": {},
   "source": [
    "## One Hot Encoding "
   ]
  },
  {
   "cell_type": "code",
   "execution_count": 26,
   "id": "3c6575c7",
   "metadata": {},
   "outputs": [],
   "source": [
    "le = preprocessing.LabelEncoder()   #Label Encoder is use to convert categorical label data into numerical labels.\n",
    "\n"
   ]
  },
  {
   "cell_type": "code",
   "execution_count": 57,
   "id": "2083ddd7",
   "metadata": {},
   "outputs": [],
   "source": [
    "le.fit(ClassLabel)\n",
    "\n",
    "ClassLabel=le.transform(ClassLabel)     #Encoding 1 for Offensive, 0 for non offensive."
   ]
  },
  {
   "cell_type": "code",
   "execution_count": 48,
   "id": "acb6bbb1",
   "metadata": {},
   "outputs": [],
   "source": [
    "df1['ClassLabel'] = ClassLabel "
   ]
  },
  {
   "cell_type": "code",
   "execution_count": 58,
   "id": "4a07336a",
   "metadata": {},
   "outputs": [
    {
     "data": {
      "text/html": [
       "<div>\n",
       "<style scoped>\n",
       "    .dataframe tbody tr th:only-of-type {\n",
       "        vertical-align: middle;\n",
       "    }\n",
       "\n",
       "    .dataframe tbody tr th {\n",
       "        vertical-align: top;\n",
       "    }\n",
       "\n",
       "    .dataframe thead th {\n",
       "        text-align: right;\n",
       "    }\n",
       "</style>\n",
       "<table border=\"1\" class=\"dataframe\">\n",
       "  <thead>\n",
       "    <tr style=\"text-align: right;\">\n",
       "      <th></th>\n",
       "      <th>tweets</th>\n",
       "      <th>ClassLabel</th>\n",
       "    </tr>\n",
       "  </thead>\n",
       "  <tbody>\n",
       "    <tr>\n",
       "      <th>0</th>\n",
       "      <td>users he should ask a few native americans wha...</td>\n",
       "      <td>1</td>\n",
       "    </tr>\n",
       "    <tr>\n",
       "      <th>1</th>\n",
       "      <td>user user go home your edrunkusermagatrump2020...</td>\n",
       "      <td>1</td>\n",
       "    </tr>\n",
       "    <tr>\n",
       "      <th>2</th>\n",
       "      <td>amazon is investigating chinese employees who ...</td>\n",
       "      <td>0</td>\n",
       "    </tr>\n",
       "    <tr>\n",
       "      <th>3</th>\n",
       "      <td>user someone shouldve taken this piece of shit...</td>\n",
       "      <td>1</td>\n",
       "    </tr>\n",
       "    <tr>\n",
       "      <th>4</th>\n",
       "      <td>user user obama wanted liberals amp illegals t...</td>\n",
       "      <td>0</td>\n",
       "    </tr>\n",
       "    <tr>\n",
       "      <th>...</th>\n",
       "      <td>...</td>\n",
       "      <td>...</td>\n",
       "    </tr>\n",
       "    <tr>\n",
       "      <th>13235</th>\n",
       "      <td>user sometimes i get strong vibes from people ...</td>\n",
       "      <td>1</td>\n",
       "    </tr>\n",
       "    <tr>\n",
       "      <th>13236</th>\n",
       "      <td>benidorm creamfields maga not too shabby of a ...</td>\n",
       "      <td>0</td>\n",
       "    </tr>\n",
       "    <tr>\n",
       "      <th>13237</th>\n",
       "      <td>user and why report this garbage we dont give ...</td>\n",
       "      <td>1</td>\n",
       "    </tr>\n",
       "    <tr>\n",
       "      <th>13238</th>\n",
       "      <td>user pussy</td>\n",
       "      <td>1</td>\n",
       "    </tr>\n",
       "    <tr>\n",
       "      <th>13239</th>\n",
       "      <td>spanish revenge vs justice human rights and fr...</td>\n",
       "      <td>0</td>\n",
       "    </tr>\n",
       "  </tbody>\n",
       "</table>\n",
       "<p>13240 rows × 2 columns</p>\n",
       "</div>"
      ],
      "text/plain": [
       "                                                  tweets  ClassLabel\n",
       "0      users he should ask a few native americans wha...           1\n",
       "1      user user go home your edrunkusermagatrump2020...           1\n",
       "2      amazon is investigating chinese employees who ...           0\n",
       "3      user someone shouldve taken this piece of shit...           1\n",
       "4      user user obama wanted liberals amp illegals t...           0\n",
       "...                                                  ...         ...\n",
       "13235  user sometimes i get strong vibes from people ...           1\n",
       "13236  benidorm creamfields maga not too shabby of a ...           0\n",
       "13237  user and why report this garbage we dont give ...           1\n",
       "13238                                         user pussy           1\n",
       "13239  spanish revenge vs justice human rights and fr...           0\n",
       "\n",
       "[13240 rows x 2 columns]"
      ]
     },
     "execution_count": 58,
     "metadata": {},
     "output_type": "execute_result"
    }
   ],
   "source": [
    "df1        # Displaying Encoded Class Labels"
   ]
  },
  {
   "cell_type": "code",
   "execution_count": 53,
   "id": "63a0f0d9",
   "metadata": {},
   "outputs": [],
   "source": [
    "df1.columns = ['tweets','ClassLabel']"
   ]
  },
  {
   "cell_type": "code",
   "execution_count": 62,
   "id": "d968eac2",
   "metadata": {},
   "outputs": [],
   "source": [
    "df1.to_csv(r'C:\\Users\\itcomplex\\Desktop\\Final presenation SIC\\UpdatedDataset.csv', index = False, header=True)   # Saving Cleaned tweets in a seperate file"
   ]
  },
  {
   "cell_type": "code",
   "execution_count": null,
   "id": "820ebd34",
   "metadata": {},
   "outputs": [],
   "source": []
  }
 ],
 "metadata": {
  "kernelspec": {
   "display_name": "Python 3",
   "language": "python",
   "name": "python3"
  },
  "language_info": {
   "codemirror_mode": {
    "name": "ipython",
    "version": 3
   },
   "file_extension": ".py",
   "mimetype": "text/x-python",
   "name": "python",
   "nbconvert_exporter": "python",
   "pygments_lexer": "ipython3",
   "version": "3.8.8"
  }
 },
 "nbformat": 4,
 "nbformat_minor": 5
}
