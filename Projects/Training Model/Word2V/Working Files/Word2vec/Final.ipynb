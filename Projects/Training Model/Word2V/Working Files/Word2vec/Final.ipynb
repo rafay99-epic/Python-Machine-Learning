{
 "cells": [
  {
   "cell_type": "code",
   "execution_count": 1,
   "id": "2d95e1c8",
   "metadata": {},
   "outputs": [],
   "source": [
    "import pandas as pd\n",
    "import numpy as np\n",
    "import nltk\n",
    "from nltk.stem.porter import *\n",
    "import re\n",
    "from wordsegment import load, segment, clean\n",
    "load() #loading segment\n",
    "import matplotlib.pyplot as plt\n",
    "from keras.preprocessing.sequence import pad_sequences\n",
    "from sklearn.feature_extraction.text import TfidfVectorizer\n",
    "from sklearn.metrics import pairwise_distances\n",
    "from sklearn.model_selection import train_test_split  \n",
    "from sklearn.svm import SVC\n",
    "from sklearn.preprocessing import StandardScaler    \n",
    "%matplotlib inline"
   ]
  },
  {
   "cell_type": "code",
   "execution_count": 42,
   "id": "a5eb2e00",
   "metadata": {},
   "outputs": [],
   "source": [
    "df = pd.read_csv('Updated_Dataset_Friday.csv',header='infer')"
   ]
  },
  {
   "cell_type": "code",
   "execution_count": 43,
   "id": "8fbdd66d",
   "metadata": {},
   "outputs": [
    {
     "data": {
      "text/plain": [
       "(31962, 2)"
      ]
     },
     "execution_count": 43,
     "metadata": {},
     "output_type": "execute_result"
    }
   ],
   "source": [
    "df.shape"
   ]
  },
  {
   "cell_type": "code",
   "execution_count": 44,
   "id": "07bd9897",
   "metadata": {},
   "outputs": [],
   "source": [
    "corp = df.tweets"
   ]
  },
  {
   "cell_type": "code",
   "execution_count": 45,
   "id": "0d0004d6",
   "metadata": {},
   "outputs": [],
   "source": [
    "TFIDF = TfidfVectorizer(max_features = 100, min_df = 2, max_df = 0.6)"
   ]
  },
  {
   "cell_type": "code",
   "execution_count": 46,
   "id": "64aa4aea",
   "metadata": {},
   "outputs": [
    {
     "data": {
      "text/plain": [
       "TfidfVectorizer(max_df=0.6, max_features=100, min_df=2)"
      ]
     },
     "execution_count": 46,
     "metadata": {},
     "output_type": "execute_result"
    }
   ],
   "source": [
    "TFIDF.fit(corp)    "
   ]
  },
  {
   "cell_type": "code",
   "execution_count": 47,
   "id": "22b1d33a",
   "metadata": {},
   "outputs": [],
   "source": [
    "X = TFIDF.transform(corp)"
   ]
  },
  {
   "cell_type": "code",
   "execution_count": 48,
   "id": "216e1402",
   "metadata": {},
   "outputs": [
    {
     "data": {
      "text/plain": [
       "(31962, 100)"
      ]
     },
     "execution_count": 48,
     "metadata": {},
     "output_type": "execute_result"
    }
   ],
   "source": [
    "X.shape"
   ]
  },
  {
   "cell_type": "code",
   "execution_count": 49,
   "id": "243af017",
   "metadata": {},
   "outputs": [
    {
     "name": "stdout",
     "output_type": "stream",
     "text": [
      "['about', 'all', 'am', 'amp', 'an', 'and', 'are', 'as', 'at', 'be', 'beautiful', 'best', 'bih', 'but', 'by', 'can', 'cant', 'day', 'days', 'do', 'dont', 'family', 'fathers', 'first', 'follow', 'for', 'friday', 'friends', 'from', 'fun', 'get', 'go', 'good', 'great', 'happy', 'has', 'have', 'he', 'healthy', 'how', 'if', 'im', 'in', 'is', 'it', 'its', 'just', 'life', 'like', 'love', 'make', 'me', 'more', 'morning', 'music', 'my', 'need', 'new', 'no', 'not', 'now', 'of', 'on', 'one', 'or', 'orlando', 'our', 'out', 'people', 'positive', 'see', 'smile', 'so', 'summer', 'take', 'thankful', 'that', 'the', 'there', 'they', 'this', 'time', 'to', 'today', 'up', 'us', 'user', 'want', 'was', 'we', 'weekend', 'what', 'when', 'who', 'will', 'with', 'work', 'world', 'you', 'your']\n"
     ]
    }
   ],
   "source": [
    "print(TFIDF.get_feature_names())"
   ]
  },
  {
   "cell_type": "markdown",
   "id": "e5cac5bf",
   "metadata": {},
   "source": [
    "# SVM"
   ]
  },
  {
   "cell_type": "code",
   "execution_count": 53,
   "id": "d83e24e2",
   "metadata": {},
   "outputs": [],
   "source": [
    "ClassLabel = df['ClassLabel']"
   ]
  },
  {
   "cell_type": "code",
   "execution_count": 11,
   "id": "26e0fa7e",
   "metadata": {},
   "outputs": [],
   "source": [
    "y = df.ClassLabel"
   ]
  },
  {
   "cell_type": "code",
   "execution_count": 33,
   "id": "13b7d034",
   "metadata": {},
   "outputs": [],
   "source": [
    "makingNewCSV = X.toarray()"
   ]
  },
  {
   "cell_type": "code",
   "execution_count": 34,
   "id": "03aa5bb1",
   "metadata": {},
   "outputs": [],
   "source": [
    "df2_Final_Data_set_TFIDF = pd.DataFrame(makingNewCSV)"
   ]
  },
  {
   "cell_type": "code",
   "execution_count": 37,
   "id": "283c7e09",
   "metadata": {},
   "outputs": [
    {
     "data": {
      "text/plain": [
       "(31962, 100)"
      ]
     },
     "execution_count": 37,
     "metadata": {},
     "output_type": "execute_result"
    }
   ],
   "source": [
    "df2_Final_Data_set_TFIDF.shape"
   ]
  },
  {
   "cell_type": "code",
   "execution_count": 38,
   "id": "e71acdf5",
   "metadata": {},
   "outputs": [
    {
     "data": {
      "text/html": [
       "<div>\n",
       "<style scoped>\n",
       "    .dataframe tbody tr th:only-of-type {\n",
       "        vertical-align: middle;\n",
       "    }\n",
       "\n",
       "    .dataframe tbody tr th {\n",
       "        vertical-align: top;\n",
       "    }\n",
       "\n",
       "    .dataframe thead th {\n",
       "        text-align: right;\n",
       "    }\n",
       "</style>\n",
       "<table border=\"1\" class=\"dataframe\">\n",
       "  <thead>\n",
       "    <tr style=\"text-align: right;\">\n",
       "      <th></th>\n",
       "      <th>0</th>\n",
       "      <th>1</th>\n",
       "      <th>2</th>\n",
       "      <th>3</th>\n",
       "      <th>4</th>\n",
       "      <th>5</th>\n",
       "      <th>6</th>\n",
       "      <th>7</th>\n",
       "      <th>8</th>\n",
       "      <th>9</th>\n",
       "      <th>...</th>\n",
       "      <th>90</th>\n",
       "      <th>91</th>\n",
       "      <th>92</th>\n",
       "      <th>93</th>\n",
       "      <th>94</th>\n",
       "      <th>95</th>\n",
       "      <th>96</th>\n",
       "      <th>97</th>\n",
       "      <th>98</th>\n",
       "      <th>99</th>\n",
       "    </tr>\n",
       "  </thead>\n",
       "  <tbody>\n",
       "    <tr>\n",
       "      <th>0</th>\n",
       "      <td>0.0</td>\n",
       "      <td>0.000000</td>\n",
       "      <td>0.0</td>\n",
       "      <td>0.0</td>\n",
       "      <td>0.0</td>\n",
       "      <td>0.285398</td>\n",
       "      <td>0.0</td>\n",
       "      <td>0.0</td>\n",
       "      <td>0.0</td>\n",
       "      <td>0.0</td>\n",
       "      <td>...</td>\n",
       "      <td>0.0</td>\n",
       "      <td>0.0</td>\n",
       "      <td>0.411679</td>\n",
       "      <td>0.0</td>\n",
       "      <td>0.0</td>\n",
       "      <td>0.000000</td>\n",
       "      <td>0.0</td>\n",
       "      <td>0.0</td>\n",
       "      <td>0.0</td>\n",
       "      <td>0.000000</td>\n",
       "    </tr>\n",
       "    <tr>\n",
       "      <th>1</th>\n",
       "      <td>0.0</td>\n",
       "      <td>0.000000</td>\n",
       "      <td>0.0</td>\n",
       "      <td>0.0</td>\n",
       "      <td>0.0</td>\n",
       "      <td>0.000000</td>\n",
       "      <td>0.0</td>\n",
       "      <td>0.0</td>\n",
       "      <td>0.0</td>\n",
       "      <td>0.0</td>\n",
       "      <td>...</td>\n",
       "      <td>0.0</td>\n",
       "      <td>0.0</td>\n",
       "      <td>0.000000</td>\n",
       "      <td>0.0</td>\n",
       "      <td>0.0</td>\n",
       "      <td>0.000000</td>\n",
       "      <td>0.0</td>\n",
       "      <td>0.0</td>\n",
       "      <td>0.0</td>\n",
       "      <td>0.000000</td>\n",
       "    </tr>\n",
       "    <tr>\n",
       "      <th>2</th>\n",
       "      <td>0.0</td>\n",
       "      <td>0.000000</td>\n",
       "      <td>0.0</td>\n",
       "      <td>0.0</td>\n",
       "      <td>0.0</td>\n",
       "      <td>0.000000</td>\n",
       "      <td>0.0</td>\n",
       "      <td>0.0</td>\n",
       "      <td>0.0</td>\n",
       "      <td>0.0</td>\n",
       "      <td>...</td>\n",
       "      <td>0.0</td>\n",
       "      <td>0.0</td>\n",
       "      <td>0.000000</td>\n",
       "      <td>0.0</td>\n",
       "      <td>0.0</td>\n",
       "      <td>0.000000</td>\n",
       "      <td>0.0</td>\n",
       "      <td>0.0</td>\n",
       "      <td>0.0</td>\n",
       "      <td>0.543573</td>\n",
       "    </tr>\n",
       "    <tr>\n",
       "      <th>3</th>\n",
       "      <td>0.0</td>\n",
       "      <td>0.387788</td>\n",
       "      <td>0.0</td>\n",
       "      <td>0.0</td>\n",
       "      <td>0.0</td>\n",
       "      <td>0.000000</td>\n",
       "      <td>0.0</td>\n",
       "      <td>0.0</td>\n",
       "      <td>0.0</td>\n",
       "      <td>0.0</td>\n",
       "      <td>...</td>\n",
       "      <td>0.0</td>\n",
       "      <td>0.0</td>\n",
       "      <td>0.000000</td>\n",
       "      <td>0.0</td>\n",
       "      <td>0.0</td>\n",
       "      <td>0.362636</td>\n",
       "      <td>0.0</td>\n",
       "      <td>0.0</td>\n",
       "      <td>0.0</td>\n",
       "      <td>0.000000</td>\n",
       "    </tr>\n",
       "    <tr>\n",
       "      <th>4</th>\n",
       "      <td>0.0</td>\n",
       "      <td>0.000000</td>\n",
       "      <td>0.0</td>\n",
       "      <td>0.0</td>\n",
       "      <td>0.0</td>\n",
       "      <td>0.000000</td>\n",
       "      <td>0.0</td>\n",
       "      <td>0.0</td>\n",
       "      <td>0.0</td>\n",
       "      <td>0.0</td>\n",
       "      <td>...</td>\n",
       "      <td>0.0</td>\n",
       "      <td>0.0</td>\n",
       "      <td>0.000000</td>\n",
       "      <td>0.0</td>\n",
       "      <td>0.0</td>\n",
       "      <td>0.000000</td>\n",
       "      <td>0.0</td>\n",
       "      <td>0.0</td>\n",
       "      <td>0.0</td>\n",
       "      <td>0.000000</td>\n",
       "    </tr>\n",
       "  </tbody>\n",
       "</table>\n",
       "<p>5 rows × 100 columns</p>\n",
       "</div>"
      ],
      "text/plain": [
       "    0         1    2    3    4         5    6    7    8    9   ...   90   91  \\\n",
       "0  0.0  0.000000  0.0  0.0  0.0  0.285398  0.0  0.0  0.0  0.0  ...  0.0  0.0   \n",
       "1  0.0  0.000000  0.0  0.0  0.0  0.000000  0.0  0.0  0.0  0.0  ...  0.0  0.0   \n",
       "2  0.0  0.000000  0.0  0.0  0.0  0.000000  0.0  0.0  0.0  0.0  ...  0.0  0.0   \n",
       "3  0.0  0.387788  0.0  0.0  0.0  0.000000  0.0  0.0  0.0  0.0  ...  0.0  0.0   \n",
       "4  0.0  0.000000  0.0  0.0  0.0  0.000000  0.0  0.0  0.0  0.0  ...  0.0  0.0   \n",
       "\n",
       "         92   93   94        95   96   97   98        99  \n",
       "0  0.411679  0.0  0.0  0.000000  0.0  0.0  0.0  0.000000  \n",
       "1  0.000000  0.0  0.0  0.000000  0.0  0.0  0.0  0.000000  \n",
       "2  0.000000  0.0  0.0  0.000000  0.0  0.0  0.0  0.543573  \n",
       "3  0.000000  0.0  0.0  0.362636  0.0  0.0  0.0  0.000000  \n",
       "4  0.000000  0.0  0.0  0.000000  0.0  0.0  0.0  0.000000  \n",
       "\n",
       "[5 rows x 100 columns]"
      ]
     },
     "execution_count": 38,
     "metadata": {},
     "output_type": "execute_result"
    }
   ],
   "source": [
    "df2_Final_Data_set_TFIDF.head()"
   ]
  },
  {
   "cell_type": "code",
   "execution_count": 67,
   "id": "57bf23ce",
   "metadata": {},
   "outputs": [],
   "source": [
    "df2_Final_Data_set_TFIDF.to_csv(r'C:\\Users\\bse183010\\SIC Project\\Final_TFIDF_Matrix.csv', index = False, header=True)"
   ]
  },
  {
   "cell_type": "code",
   "execution_count": 68,
   "id": "b6c973b1",
   "metadata": {},
   "outputs": [],
   "source": [
    "Final_CSV_Labels = ClassLabel"
   ]
  },
  {
   "cell_type": "code",
   "execution_count": 81,
   "id": "a577aa5d",
   "metadata": {},
   "outputs": [],
   "source": [
    " Heres_the_final_List = Final_CSV_Labels.tolist()"
   ]
  },
  {
   "cell_type": "code",
   "execution_count": 86,
   "id": "bfd45081",
   "metadata": {},
   "outputs": [],
   "source": [
    "Heres_the_final_List = pd.DataFrame(Heres_the_final_List)"
   ]
  },
  {
   "cell_type": "code",
   "execution_count": 88,
   "id": "efa9240a",
   "metadata": {},
   "outputs": [
    {
     "data": {
      "text/plain": [
       "(31962, 1)"
      ]
     },
     "execution_count": 88,
     "metadata": {},
     "output_type": "execute_result"
    }
   ],
   "source": [
    "Heres_the_final_List.shape"
   ]
  },
  {
   "cell_type": "code",
   "execution_count": 89,
   "id": "5d68bb9e",
   "metadata": {},
   "outputs": [],
   "source": [
    "### SVM Here"
   ]
  },
  {
   "cell_type": "code",
   "execution_count": 95,
   "id": "514b893e",
   "metadata": {},
   "outputs": [],
   "source": [
    "x_train, x_test, y_train, y_test= train_test_split(df2_Final_Data_set_TFIDF, Heres_the_final_List, test_size= 0.3, random_state=0)  "
   ]
  },
  {
   "cell_type": "code",
   "execution_count": 97,
   "id": "d466759b",
   "metadata": {},
   "outputs": [
    {
     "name": "stderr",
     "output_type": "stream",
     "text": [
      "C:\\ProgramData\\Anaconda3\\lib\\site-packages\\sklearn\\utils\\validation.py:63: DataConversionWarning: A column-vector y was passed when a 1d array was expected. Please change the shape of y to (n_samples, ), for example using ravel().\n",
      "  return f(*args, **kwargs)\n"
     ]
    },
    {
     "data": {
      "text/plain": [
       "SVC(kernel='linear', random_state=0)"
      ]
     },
     "execution_count": 97,
     "metadata": {},
     "output_type": "execute_result"
    }
   ],
   "source": [
    "classifier = SVC(kernel='linear', random_state=0)  \n",
    "classifier.fit(x_train, y_train) "
   ]
  },
  {
   "cell_type": "code",
   "execution_count": 100,
   "id": "ea12e42a",
   "metadata": {},
   "outputs": [],
   "source": [
    "y_pred= classifier.predict(x_test)  "
   ]
  },
  {
   "cell_type": "code",
   "execution_count": 101,
   "id": "0d855117",
   "metadata": {},
   "outputs": [],
   "source": [
    "from sklearn.metrics import confusion_matrix  \n",
    "cm= confusion_matrix(y_test, y_pred)  "
   ]
  },
  {
   "cell_type": "code",
   "execution_count": 102,
   "id": "80d50c51",
   "metadata": {},
   "outputs": [
    {
     "data": {
      "text/plain": [
       "array([[8954,    0],\n",
       "       [ 635,    0]], dtype=int64)"
      ]
     },
     "execution_count": 102,
     "metadata": {},
     "output_type": "execute_result"
    }
   ],
   "source": [
    "cm"
   ]
  },
  {
   "cell_type": "code",
   "execution_count": null,
   "id": "7fc09684",
   "metadata": {},
   "outputs": [],
   "source": []
  }
 ],
 "metadata": {
  "kernelspec": {
   "display_name": "Python 3 (ipykernel)",
   "language": "python",
   "name": "python3"
  },
  "language_info": {
   "codemirror_mode": {
    "name": "ipython",
    "version": 3
   },
   "file_extension": ".py",
   "mimetype": "text/x-python",
   "name": "python",
   "nbconvert_exporter": "python",
   "pygments_lexer": "ipython3",
   "version": "3.9.7"
  }
 },
 "nbformat": 4,
 "nbformat_minor": 5
}
