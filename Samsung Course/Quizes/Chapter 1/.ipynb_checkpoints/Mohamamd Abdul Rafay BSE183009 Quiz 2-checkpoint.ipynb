{
 "cells": [
  {
   "cell_type": "markdown",
   "metadata": {},
   "source": [
    "## Quiz #0102 "
   ]
  },
  {
   "cell_type": "markdown",
   "metadata": {},
   "source": [
    "#### Use a lambda function and map() to answer the following questions."
   ]
  },
  {
   "cell_type": "markdown",
   "metadata": {},
   "source": [
    "1). Add 1 to each element of the list 'a' and create another list. <br>\n",
    "\n",
    "a = [1, 2, 3, 4, 5, 6, 7, 8, 9, 10]"
   ]
  },
  {
   "cell_type": "code",
   "execution_count": 41,
   "metadata": {},
   "outputs": [
    {
     "name": "stdout",
     "output_type": "stream",
     "text": [
      "[0, 1, 2, 3, 4, 5, 6, 7, 8, 9]\n"
     ]
    }
   ],
   "source": [
    "def new(number):\n",
    "    a = [1, 2, 3, 4, 5, 6, 7, 8, 9, 10]\n",
    "    n = len(a)\n",
    "    answer= []\n",
    "    for i in range(n):\n",
    "        lambda i : i - number\n",
    "        answer.append(i)\n",
    "    return answer\n",
    "print(new(1))"
   ]
  },
  {
   "cell_type": "markdown",
   "metadata": {},
   "source": [
    "2). Multiply element-wise the lists 'a' and 'b'. Show the result as another list.\n",
    "\n",
    "a = [2, 4, 6, 8, 10]\n",
    "\n",
    "b = [10, 8, 6, 4, 2]"
   ]
  },
  {
   "cell_type": "code",
   "execution_count": null,
   "metadata": {},
   "outputs": [],
   "source": []
  },
  {
   "cell_type": "code",
   "execution_count": null,
   "metadata": {},
   "outputs": [],
   "source": []
  },
  {
   "cell_type": "code",
   "execution_count": null,
   "metadata": {},
   "outputs": [],
   "source": []
  },
  {
   "cell_type": "markdown",
   "metadata": {},
   "source": [
    "#### Use a lambda function and filter() to answer the following questions."
   ]
  },
  {
   "cell_type": "markdown",
   "metadata": {},
   "source": [
    "3). Find the multiples of 5 in the range 1~100. Show the result as a list."
   ]
  },
  {
   "cell_type": "code",
   "execution_count": null,
   "metadata": {
    "scrolled": true
   },
   "outputs": [],
   "source": [
    "answer= []\n",
    "for i in range(1,101):\n",
    "    if  lambda i: i%5 == 0:\n",
    "        answer.append(i)\n",
    "print(answer)"
   ]
  },
  {
   "cell_type": "markdown",
   "metadata": {},
   "source": [
    "4). In the following list, find the values larger than 160. Show the result as a list.\n",
    "\n",
    "a = [145.2, 160.3, 155.2, 171.6, 165.34, 167.2, 161.1, 164.9]"
   ]
  },
  {
   "cell_type": "code",
   "execution_count": null,
   "metadata": {},
   "outputs": [],
   "source": [
    "a = [145.2, 160.3, 155.2, 171.6, 165.34, 167.2, 161.1, 164.9]\n",
    "new_List =[]\n",
    "length = len(a)\n",
    "for i in range(length):\n",
    "     if lambda i : a < 165:\n",
    "        new_List.append(a)\n",
    "print(new_List)"
   ]
  },
  {
   "cell_type": "markdown",
   "metadata": {},
   "source": [
    "5). In the following list, find the values larger than 160 and smaller than 165. Show the result as a list.\n",
    "\n",
    "a = [145.2, 160.3, 155.2, 171.6, 165.34, 167.2, 161.1, 164.9]"
   ]
  },
  {
   "cell_type": "code",
   "execution_count": null,
   "metadata": {},
   "outputs": [],
   "source": [
    "a = [145.2, 160.3, 155.2, 171.6, 165.34, 167.2, 161.1, 164.9]\n",
    "new_List =[]\n",
    "length = len(a)\n",
    "for i in range(length):\n",
    "     if lambda i : a < 165:\n",
    "        new_List.append(a)\n",
    "print(new_List)"
   ]
  },
  {
   "cell_type": "markdown",
   "metadata": {},
   "source": [
    "6). In the following list of names, extract only those stargin with 'J'. Show the result as a list.\n",
    "\n",
    "a = ['Sara', 'Jack', 'Rebecca', 'Jennifer', 'Paul', 'Andrew', 'John']"
   ]
  },
  {
   "cell_type": "code",
   "execution_count": null,
   "metadata": {},
   "outputs": [],
   "source": [
    "a = ['Sara', 'Jack', 'Rebecca', 'Jennifer', 'Paul', 'Andrew', 'John']\n",
    "n = len(a)\n",
    "count=0\n",
    "for i in range(n):\n",
    "    if a[i] == 'J':\n",
    "        count +=1\n",
    "        print(\"J found\")\n",
    "        a.remove('J')\n",
    "    print(a)"
   ]
  },
  {
   "cell_type": "code",
   "execution_count": null,
   "metadata": {},
   "outputs": [],
   "source": []
  }
 ],
 "metadata": {
  "kernelspec": {
   "display_name": "Python 3",
   "language": "python",
   "name": "python3"
  },
  "language_info": {
   "codemirror_mode": {
    "name": "ipython",
    "version": 3
   },
   "file_extension": ".py",
   "mimetype": "text/x-python",
   "name": "python",
   "nbconvert_exporter": "python",
   "pygments_lexer": "ipython3",
   "version": "3.8.8"
  }
 },
 "nbformat": 4,
 "nbformat_minor": 2
}
