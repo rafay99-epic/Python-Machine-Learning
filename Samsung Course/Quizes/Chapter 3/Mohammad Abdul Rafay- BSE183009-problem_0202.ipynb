{
 "cells": [
  {
   "cell_type": "markdown",
   "metadata": {},
   "source": [
    "## Quiz #0202"
   ]
  },
  {
   "cell_type": "markdown",
   "metadata": {},
   "source": [
    "Name: Mohammad Abdul Rafay<br>\n",
    "Roll Number: BSE183009"
   ]
  },
  {
   "cell_type": "code",
   "execution_count": 3,
   "metadata": {},
   "outputs": [],
   "source": [
    "import pandas as pd\n",
    "import numpy as np\n",
    "import os"
   ]
  },
  {
   "cell_type": "markdown",
   "metadata": {},
   "source": [
    "#### Read in the data."
   ]
  },
  {
   "cell_type": "code",
   "execution_count": 4,
   "metadata": {},
   "outputs": [],
   "source": [
    "# Go to the directory where the data file is located. \n",
    "# os.chdir(r'~~')                # Please, replace the path with your own."
   ]
  },
  {
   "cell_type": "code",
   "execution_count": 5,
   "metadata": {},
   "outputs": [],
   "source": [
    "df = pd.read_csv('data_census.csv', header='infer')"
   ]
  },
  {
   "cell_type": "code",
   "execution_count": 6,
   "metadata": {},
   "outputs": [
    {
     "data": {
      "text/plain": [
       "(281, 6)"
      ]
     },
     "execution_count": 6,
     "metadata": {},
     "output_type": "execute_result"
    }
   ],
   "source": [
    "df.shape"
   ]
  },
  {
   "cell_type": "code",
   "execution_count": 9,
   "metadata": {},
   "outputs": [
    {
     "data": {
      "text/html": [
       "<div>\n",
       "<style scoped>\n",
       "    .dataframe tbody tr th:only-of-type {\n",
       "        vertical-align: middle;\n",
       "    }\n",
       "\n",
       "    .dataframe tbody tr th {\n",
       "        vertical-align: top;\n",
       "    }\n",
       "\n",
       "    .dataframe thead th {\n",
       "        text-align: right;\n",
       "    }\n",
       "</style>\n",
       "<table border=\"1\" class=\"dataframe\">\n",
       "  <thead>\n",
       "    <tr style=\"text-align: right;\">\n",
       "      <th></th>\n",
       "      <th>ProvinceCode</th>\n",
       "      <th>CityCode</th>\n",
       "      <th>Population</th>\n",
       "      <th>Households</th>\n",
       "      <th>PersonsHousehold</th>\n",
       "      <th>GenderRatio</th>\n",
       "    </tr>\n",
       "  </thead>\n",
       "  <tbody>\n",
       "    <tr>\n",
       "      <th>0</th>\n",
       "      <td>109</td>\n",
       "      <td>1001</td>\n",
       "      <td>10078850</td>\n",
       "      <td>4197478</td>\n",
       "      <td>2.40</td>\n",
       "      <td>0.97</td>\n",
       "    </tr>\n",
       "    <tr>\n",
       "      <th>1</th>\n",
       "      <td>109</td>\n",
       "      <td>1188</td>\n",
       "      <td>155695</td>\n",
       "      <td>72882</td>\n",
       "      <td>2.14</td>\n",
       "      <td>0.98</td>\n",
       "    </tr>\n",
       "    <tr>\n",
       "      <th>2</th>\n",
       "      <td>109</td>\n",
       "      <td>1189</td>\n",
       "      <td>126817</td>\n",
       "      <td>59614</td>\n",
       "      <td>2.13</td>\n",
       "      <td>1.00</td>\n",
       "    </tr>\n",
       "    <tr>\n",
       "      <th>3</th>\n",
       "      <td>109</td>\n",
       "      <td>1158</td>\n",
       "      <td>235186</td>\n",
       "      <td>108138</td>\n",
       "      <td>2.17</td>\n",
       "      <td>0.94</td>\n",
       "    </tr>\n",
       "    <tr>\n",
       "      <th>4</th>\n",
       "      <td>109</td>\n",
       "      <td>1105</td>\n",
       "      <td>298145</td>\n",
       "      <td>126915</td>\n",
       "      <td>2.35</td>\n",
       "      <td>0.99</td>\n",
       "    </tr>\n",
       "    <tr>\n",
       "      <th>5</th>\n",
       "      <td>109</td>\n",
       "      <td>1032</td>\n",
       "      <td>362197</td>\n",
       "      <td>158769</td>\n",
       "      <td>2.28</td>\n",
       "      <td>0.97</td>\n",
       "    </tr>\n",
       "    <tr>\n",
       "      <th>6</th>\n",
       "      <td>109</td>\n",
       "      <td>1065</td>\n",
       "      <td>362604</td>\n",
       "      <td>160110</td>\n",
       "      <td>2.26</td>\n",
       "      <td>1.01</td>\n",
       "    </tr>\n",
       "    <tr>\n",
       "      <th>7</th>\n",
       "      <td>109</td>\n",
       "      <td>1190</td>\n",
       "      <td>417976</td>\n",
       "      <td>177077</td>\n",
       "      <td>2.36</td>\n",
       "      <td>1.00</td>\n",
       "    </tr>\n",
       "    <tr>\n",
       "      <th>8</th>\n",
       "      <td>109</td>\n",
       "      <td>1106</td>\n",
       "      <td>464176</td>\n",
       "      <td>192670</td>\n",
       "      <td>2.41</td>\n",
       "      <td>0.96</td>\n",
       "    </tr>\n",
       "    <tr>\n",
       "      <th>9</th>\n",
       "      <td>109</td>\n",
       "      <td>1006</td>\n",
       "      <td>333523</td>\n",
       "      <td>141325</td>\n",
       "      <td>2.36</td>\n",
       "      <td>0.97</td>\n",
       "    </tr>\n",
       "  </tbody>\n",
       "</table>\n",
       "</div>"
      ],
      "text/plain": [
       "   ProvinceCode  CityCode  Population  Households  PersonsHousehold  \\\n",
       "0           109      1001    10078850     4197478              2.40   \n",
       "1           109      1188      155695       72882              2.14   \n",
       "2           109      1189      126817       59614              2.13   \n",
       "3           109      1158      235186      108138              2.17   \n",
       "4           109      1105      298145      126915              2.35   \n",
       "5           109      1032      362197      158769              2.28   \n",
       "6           109      1065      362604      160110              2.26   \n",
       "7           109      1190      417976      177077              2.36   \n",
       "8           109      1106      464176      192670              2.41   \n",
       "9           109      1006      333523      141325              2.36   \n",
       "\n",
       "   GenderRatio  \n",
       "0         0.97  \n",
       "1         0.98  \n",
       "2         1.00  \n",
       "3         0.94  \n",
       "4         0.99  \n",
       "5         0.97  \n",
       "6         1.01  \n",
       "7         1.00  \n",
       "8         0.96  \n",
       "9         0.97  "
      ]
     },
     "execution_count": 9,
     "metadata": {},
     "output_type": "execute_result"
    }
   ],
   "source": [
    "df.head(10)"
   ]
  },
  {
   "cell_type": "markdown",
   "metadata": {},
   "source": [
    "#### Answer the following questions using Pandas library."
   ]
  },
  {
   "cell_type": "markdown",
   "metadata": {},
   "source": [
    "1). Total population of ProvinceCode equal to 115 and 116:"
   ]
  },
  {
   "cell_type": "code",
   "execution_count": 15,
   "metadata": {},
   "outputs": [
    {
     "name": "stdout",
     "output_type": "stream",
     "text": [
      "Total Population for code 115\n",
      "112833549\n",
      " \n",
      "Total Population for code 116\n",
      "112833549\n"
     ]
    }
   ],
   "source": [
    "print('Total Population for code 115')\n",
    "total_population_115=df[(df.ProvinceCode== 115)]\n",
    "total_population_115 = df.Population.sum()\n",
    "print(total_population_115)\n",
    "print(' ')\n",
    "print('Total Population for code 116')\n",
    "total_population_116=df[(df.ProvinceCode== 11)]\n",
    "total_population_116 = df.Population.sum()\n",
    "print(total_population_116)"
   ]
  },
  {
   "cell_type": "markdown",
   "metadata": {},
   "source": [
    "2). Average population of the cities where there are more males (GenderRatio >1):"
   ]
  },
  {
   "cell_type": "code",
   "execution_count": 23,
   "metadata": {},
   "outputs": [
    {
     "name": "stdout",
     "output_type": "stream",
     "text": [
      "419221.2076923077\n"
     ]
    }
   ],
   "source": [
    "df\n",
    "df.loc[:,'GenderRatio']\n",
    "gender_avg=df[(df.GenderRatio >1)]\n",
    "print(gender_avg.Population.mean())"
   ]
  },
  {
   "cell_type": "markdown",
   "metadata": {},
   "source": [
    "3). Places with more males  (GenderRatio >1) and less than 2 persons per household: "
   ]
  },
  {
   "cell_type": "code",
   "execution_count": 32,
   "metadata": {},
   "outputs": [
    {
     "name": "stdout",
     "output_type": "stream",
     "text": [
      "The Answer is \n",
      "     ProvinceCode  CityCode  Population  Households  PersonsHousehold  \\\n",
      "6             109      1065      362604      160110              2.26   \n",
      "18            109      1043      238367      104331              2.28   \n",
      "21            109      1027      512921      249481              2.06   \n",
      "38            108      1007       86771       35770              2.43   \n",
      "41            108      1089      240772       96928              2.48   \n",
      "..            ...       ...         ...         ...               ...   \n",
      "266           103      1010      252823      100073              2.53   \n",
      "267           103      1131      296521      115235              2.57   \n",
      "269           103      1230       69256       30798              2.25   \n",
      "278           115      1001      615250      251478              2.45   \n",
      "280           115      1096      160577       68769              2.34   \n",
      "\n",
      "     GenderRatio  \n",
      "6           1.01  \n",
      "18          1.04  \n",
      "21          1.02  \n",
      "38          1.08  \n",
      "41          1.04  \n",
      "..           ...  \n",
      "266         1.12  \n",
      "267         1.01  \n",
      "269         1.02  \n",
      "278         1.01  \n",
      "280         1.02  \n",
      "\n",
      "[130 rows x 6 columns]\n"
     ]
    }
   ],
   "source": [
    "gender_avg=df[(df.GenderRatio>1) & (df.GenderRatio <2)]\n",
    "print(gender_avg)"
   ]
  },
  {
   "cell_type": "markdown",
   "metadata": {},
   "source": [
    "4). Sort the DataFrame in ascending order of the 'Households'. Show the top 10."
   ]
  },
  {
   "cell_type": "code",
   "execution_count": null,
   "metadata": {},
   "outputs": [],
   "source": []
  },
  {
   "cell_type": "code",
   "execution_count": null,
   "metadata": {},
   "outputs": [],
   "source": []
  }
 ],
 "metadata": {
  "kernelspec": {
   "display_name": "Python 3",
   "language": "python",
   "name": "python3"
  },
  "language_info": {
   "codemirror_mode": {
    "name": "ipython",
    "version": 3
   },
   "file_extension": ".py",
   "mimetype": "text/x-python",
   "name": "python",
   "nbconvert_exporter": "python",
   "pygments_lexer": "ipython3",
   "version": "3.8.8"
  }
 },
 "nbformat": 4,
 "nbformat_minor": 2
}
