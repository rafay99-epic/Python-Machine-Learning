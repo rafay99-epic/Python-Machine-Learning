{
 "cells": [
  {
   "cell_type": "markdown",
   "metadata": {},
   "source": [
    "## Quiz #0205 "
   ]
  },
  {
   "cell_type": "code",
   "execution_count": 26,
   "metadata": {},
   "outputs": [],
   "source": [
    "import numpy as np\n",
    "import matplotlib.pyplot as plt\n",
    "import os"
   ]
  },
  {
   "cell_type": "markdown",
   "metadata": {},
   "source": [
    "#### Generate the following data using NumPy."
   ]
  },
  {
   "cell_type": "markdown",
   "metadata": {},
   "source": [
    "#### Create following two NumPy Arrays and display them :\n",
    "#### 1. Array Arr1 will contain 100 equally spaced values between 0 and 10.\n",
    "#### 2. Array Arr2 will contain 100 randomly generated numbers between 200 and 500."
   ]
  },
  {
   "cell_type": "code",
   "execution_count": 3,
   "metadata": {},
   "outputs": [],
   "source": [
    "arr1= np.linspace(0,10,100)"
   ]
  },
  {
   "cell_type": "code",
   "execution_count": 37,
   "metadata": {},
   "outputs": [],
   "source": [
    "arr2= np.random.randn(100,200,500)"
   ]
  },
  {
   "cell_type": "markdown",
   "metadata": {},
   "source": [
    "#### Answer the following questions using NumPy and Matplotlib."
   ]
  },
  {
   "cell_type": "markdown",
   "metadata": {},
   "source": [
    "1). Display numbers in Arr1 that are greater than 4 and less than 8:"
   ]
  },
  {
   "cell_type": "code",
   "execution_count": 8,
   "metadata": {},
   "outputs": [
    {
     "data": {
      "text/plain": [
       "array([4.04040404, 4.14141414, 4.24242424, 4.34343434, 4.44444444,\n",
       "       4.54545455, 4.64646465, 4.74747475, 4.84848485, 4.94949495,\n",
       "       5.05050505, 5.15151515, 5.25252525, 5.35353535, 5.45454545,\n",
       "       5.55555556, 5.65656566, 5.75757576, 5.85858586, 5.95959596,\n",
       "       6.06060606, 6.16161616, 6.26262626, 6.36363636, 6.46464646,\n",
       "       6.56565657, 6.66666667, 6.76767677, 6.86868687, 6.96969697,\n",
       "       7.07070707, 7.17171717, 7.27272727, 7.37373737, 7.47474747,\n",
       "       7.57575758, 7.67676768, 7.77777778, 7.87878788, 7.97979798])"
      ]
     },
     "execution_count": 8,
     "metadata": {},
     "output_type": "execute_result"
    }
   ],
   "source": [
    "answer= ((arr1 > 4) & (arr1 < 8))\n",
    "arr1[answer]"
   ]
  },
  {
   "cell_type": "markdown",
   "metadata": {},
   "source": [
    "2). Display numbers in Arr2 that are multiple of 5 and greater than 350:"
   ]
  },
  {
   "cell_type": "code",
   "execution_count": 13,
   "metadata": {},
   "outputs": [
    {
     "data": {
      "text/plain": [
       "array([], dtype=float64)"
      ]
     },
     "execution_count": 13,
     "metadata": {},
     "output_type": "execute_result"
    }
   ],
   "source": [
    "answer= (((arr2 %5)== 0) & (arr2 <350 ))\n",
    "arr2[answer]"
   ]
  },
  {
   "cell_type": "markdown",
   "metadata": {},
   "source": [
    "3). Compute Cosine of the data in array Arr1 and store in array Arr3:"
   ]
  },
  {
   "cell_type": "code",
   "execution_count": 15,
   "metadata": {},
   "outputs": [
    {
     "name": "stdout",
     "output_type": "stream",
     "text": [
      "[ 1.          0.99490282  0.97966323  0.95443659  0.91948007  0.87515004\n",
      "  0.8218984   0.76026803  0.69088721  0.61446323  0.53177518  0.44366602\n",
      "  0.35103397  0.25482335  0.15601496  0.0556161  -0.04534973 -0.14585325\n",
      " -0.24486989 -0.34139023 -0.43443032 -0.52304166 -0.60632092 -0.68341913\n",
      " -0.75355031 -0.81599952 -0.87013012 -0.91539031 -0.95131866 -0.97754893\n",
      " -0.9938137  -0.99994717 -0.9958868  -0.981674   -0.95745366 -0.92347268\n",
      " -0.88007748 -0.82771044 -0.76690542 -0.69828229 -0.6225406  -0.54045251\n",
      " -0.45285485 -0.36064061 -0.26474988 -0.16616018 -0.06587659  0.03507857\n",
      "  0.13567613  0.23489055  0.33171042  0.4251487   0.51425287  0.59811455\n",
      "  0.67587883  0.74675295  0.8100144   0.86501827  0.91120382  0.94810022\n",
      "  0.97533134  0.99261957  0.99978867  0.99676556  0.98358105  0.96036956\n",
      "  0.9273677   0.88491192  0.83343502  0.77346177  0.70560358  0.63055219\n",
      "  0.54907273  0.46199582  0.37020915  0.27464844  0.17628785  0.07613012\n",
      " -0.0248037  -0.12548467 -0.2248864  -0.32199555 -0.41582217 -0.50540974\n",
      " -0.58984498 -0.66826712 -0.7398767  -0.8039437  -0.859815   -0.90692104\n",
      " -0.94478159 -0.97301068 -0.99132055 -0.99952453 -0.99753899 -0.98538417\n",
      " -0.96318398 -0.93116473 -0.88965286 -0.83907153]\n"
     ]
    }
   ],
   "source": [
    "arr3= np.cos(arr1)\n",
    "print(arr3)"
   ]
  },
  {
   "cell_type": "markdown",
   "metadata": {},
   "source": [
    "4). Display scatter plot of the data in the array Arr3:"
   ]
  },
  {
   "cell_type": "code",
   "execution_count": null,
   "metadata": {},
   "outputs": [],
   "source": []
  },
  {
   "cell_type": "markdown",
   "metadata": {},
   "source": [
    "5). Show two plots using the figure object. First plot will display histogram of the data in the array Arr2. Second plot will display boxplot of the data in Arr2:"
   ]
  },
  {
   "cell_type": "code",
   "execution_count": null,
   "metadata": {},
   "outputs": [],
   "source": [
    "fig = plt.figure(figsize=(10,5), dpi =80)\n",
    "axes1= fig.add_axes([0,0,0.3,1])\n",
    "axes2= fig.add_axes([0,0,0.3,1])\n",
    "axes1.plot(arr2,bins= 50, color= 'green')\n",
    "axes2.boxplot([arr2],0, color= 'red')\n",
    "plt.show()"
   ]
  },
  {
   "cell_type": "markdown",
   "metadata": {},
   "source": [
    "6). Reshape the array Arr2 into a 5x20 matrix and store in m22. Also display the matrix:"
   ]
  },
  {
   "cell_type": "code",
   "execution_count": null,
   "metadata": {},
   "outputs": [],
   "source": [
    "m22=arr2.reshape(5,20)\n",
    "print(m22)"
   ]
  },
  {
   "cell_type": "markdown",
   "metadata": {},
   "source": [
    "7). Compute standard deviation of the data in matrix m22 along the rows: "
   ]
  },
  {
   "cell_type": "code",
   "execution_count": null,
   "metadata": {},
   "outputs": [],
   "source": [
    "answer=np.std(m22)\n",
    "print(answer)"
   ]
  },
  {
   "cell_type": "markdown",
   "metadata": {},
   "source": [
    "8). Solve following set of linear equations to find value of unknowns x1, x2 and x3:\n",
    "\n",
    "     5 x1 + 2 x2 - 8 x3 =  21\n",
    "     7 x1 + 7 x2 + 4 x3 = -12\n",
    "     3 x3 - 9 x2 + 6 x3 =  15"
   ]
  },
  {
   "cell_type": "code",
   "execution_count": null,
   "metadata": {},
   "outputs": [],
   "source": []
  },
  {
   "cell_type": "code",
   "execution_count": null,
   "metadata": {},
   "outputs": [],
   "source": []
  }
 ],
 "metadata": {
  "kernelspec": {
   "display_name": "Python 3",
   "language": "python",
   "name": "python3"
  },
  "language_info": {
   "codemirror_mode": {
    "name": "ipython",
    "version": 3
   },
   "file_extension": ".py",
   "mimetype": "text/x-python",
   "name": "python",
   "nbconvert_exporter": "python",
   "pygments_lexer": "ipython3",
   "version": "3.8.8"
  }
 },
 "nbformat": 4,
 "nbformat_minor": 2
}
