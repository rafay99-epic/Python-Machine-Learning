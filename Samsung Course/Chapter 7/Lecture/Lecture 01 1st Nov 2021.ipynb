{
 "cells": [
  {
   "cell_type": "code",
   "execution_count": 1,
   "id": "cebe4b12",
   "metadata": {},
   "outputs": [],
   "source": [
    "import re"
   ]
  },
  {
   "cell_type": "code",
   "execution_count": 3,
   "id": "0eba0069",
   "metadata": {},
   "outputs": [],
   "source": [
    "my_regex = re.compile(\"([0-9]+)[^0-9]+([0-9]+)\")"
   ]
  },
  {
   "cell_type": "code",
   "execution_count": 4,
   "id": "5031846c",
   "metadata": {},
   "outputs": [],
   "source": [
    "m= my_regex.search(\"Rafay is 22 years old and Haseeb is 21 years old\")"
   ]
  },
  {
   "cell_type": "code",
   "execution_count": 8,
   "id": "5b97c8a1",
   "metadata": {},
   "outputs": [
    {
     "name": "stdout",
     "output_type": "stream",
     "text": [
      "22 years old and Haseeb is 21\n",
      "22\n",
      "21\n"
     ]
    }
   ],
   "source": [
    "print(m.group(0))\n",
    "print(m.group(1))\n",
    "print(m.group(2))"
   ]
  },
  {
   "cell_type": "code",
   "execution_count": null,
   "id": "abb2f58d",
   "metadata": {},
   "outputs": [],
   "source": []
  },
  {
   "cell_type": "code",
   "execution_count": null,
   "id": "5efcc35a",
   "metadata": {},
   "outputs": [],
   "source": []
  }
 ],
 "metadata": {
  "kernelspec": {
   "display_name": "Python 3",
   "language": "python",
   "name": "python3"
  },
  "language_info": {
   "codemirror_mode": {
    "name": "ipython",
    "version": 3
   },
   "file_extension": ".py",
   "mimetype": "text/x-python",
   "name": "python",
   "nbconvert_exporter": "python",
   "pygments_lexer": "ipython3",
   "version": "3.8.8"
  }
 },
 "nbformat": 4,
 "nbformat_minor": 5
}
