{
 "cells": [
  {
   "cell_type": "code",
   "execution_count": 1,
   "id": "5a8420cb",
   "metadata": {},
   "outputs": [],
   "source": [
    "import re"
   ]
  },
  {
   "cell_type": "code",
   "execution_count": 3,
   "id": "77071968",
   "metadata": {},
   "outputs": [],
   "source": [
    "my_regex = re.compile(\"([0-9]+)[^0-9]+([0-9]+)\")"
   ]
  },
  {
   "cell_type": "code",
   "execution_count": 4,
   "id": "f7fe0d16",
   "metadata": {},
   "outputs": [],
   "source": [
    "m= my_regex.search(\"Rafay is 22 years old and Haseeb is 21 years old\")"
   ]
  },
  {
   "cell_type": "code",
   "execution_count": 8,
   "id": "2d090b7f",
   "metadata": {},
   "outputs": [
    {
     "name": "stdout",
     "output_type": "stream",
     "text": [
      "22 years old and Haseeb is 21\n",
      "22\n",
      "21\n"
     ]
    }
   ],
   "source": [
    "print(m.group(0))\n",
    "print(m.group(1))\n",
    "print(m.group(2))"
   ]
  },
  {
   "cell_type": "code",
   "execution_count": null,
   "id": "bdb67c69",
   "metadata": {},
   "outputs": [],
   "source": []
  },
  {
   "cell_type": "code",
   "execution_count": null,
   "id": "e6f3066b",
   "metadata": {},
   "outputs": [],
   "source": []
  }
 ],
 "metadata": {
  "kernelspec": {
   "display_name": "Python 3",
   "language": "python",
   "name": "python3"
  },
  "language_info": {
   "codemirror_mode": {
    "name": "ipython",
    "version": 3
   },
   "file_extension": ".py",
   "mimetype": "text/x-python",
   "name": "python",
   "nbconvert_exporter": "python",
   "pygments_lexer": "ipython3",
   "version": "3.8.8"
  }
 },
 "nbformat": 4,
 "nbformat_minor": 5
}
