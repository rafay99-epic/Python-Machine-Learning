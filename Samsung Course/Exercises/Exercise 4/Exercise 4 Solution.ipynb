{
 "cells": [
  {
   "cell_type": "markdown",
   "id": "8b332006",
   "metadata": {},
   "source": [
    "# Home Work\n",
    "\n",
    "## Exercise 4"
   ]
  },
  {
   "cell_type": "markdown",
   "id": "363eb780",
   "metadata": {},
   "source": [
    "# 1: Mutability:"
   ]
  },
  {
   "cell_type": "markdown",
   "id": "73335f5b",
   "metadata": {},
   "source": [
    "## 1.1: Immutable data types:"
   ]
  },
  {
   "cell_type": "code",
   "execution_count": 1,
   "id": "6bbe0321",
   "metadata": {},
   "outputs": [],
   "source": [
    "# a is a tuple and it's data can not be changed\n",
    "a=(1,2,3,[4,5])"
   ]
  },
  {
   "cell_type": "code",
   "execution_count": 2,
   "id": "64419e37",
   "metadata": {},
   "outputs": [
    {
     "ename": "TypeError",
     "evalue": "'tuple' object does not support item assignment",
     "output_type": "error",
     "traceback": [
      "\u001b[0;31m---------------------------------------------------------------------------\u001b[0m",
      "\u001b[0;31mTypeError\u001b[0m                                 Traceback (most recent call last)",
      "\u001b[0;32m<ipython-input-2-f9da761c742a>\u001b[0m in \u001b[0;36m<module>\u001b[0;34m\u001b[0m\n\u001b[0;32m----> 1\u001b[0;31m \u001b[0ma\u001b[0m\u001b[0;34m[\u001b[0m\u001b[0;36m0\u001b[0m\u001b[0;34m]\u001b[0m\u001b[0;34m=\u001b[0m\u001b[0;36m1\u001b[0m\u001b[0;34m\u001b[0m\u001b[0;34m\u001b[0m\u001b[0m\n\u001b[0m",
      "\u001b[0;31mTypeError\u001b[0m: 'tuple' object does not support item assignment"
     ]
    }
   ],
   "source": [
    "a[0]=1"
   ]
  },
  {
   "cell_type": "markdown",
   "id": "634d84c9",
   "metadata": {},
   "source": [
    "You can only modify a tuple when a dictinary is present inside a tuple or list is inside"
   ]
  },
  {
   "cell_type": "code",
   "execution_count": 9,
   "id": "d5addb22",
   "metadata": {},
   "outputs": [
    {
     "data": {
      "text/plain": [
       "(1, 2, 3, [7, 5])"
      ]
     },
     "execution_count": 9,
     "metadata": {},
     "output_type": "execute_result"
    }
   ],
   "source": [
    "a[3][0]=7\n",
    "a"
   ]
  },
  {
   "cell_type": "markdown",
   "id": "ae627bc8",
   "metadata": {},
   "source": [
    "## 1.2 Mutable data type"
   ]
  },
  {
   "cell_type": "markdown",
   "id": "3828df98",
   "metadata": {},
   "source": [
    "- Those Data type where the values can be changed <br>\n",
    "- There are two concepts in this<br>\n",
    "\n",
    "**1) Deep copy**<br>\n",
    "*Deep copy is a process in which the copying process occurs recursively. It means first constructing a new collection object and then recursively populating it with copies of the child objects found in the original. In case of deep copy, a copy of object is copied in other object. It means that any changes made to a copy of object do not reflect in the original object.*<br>\n",
    "**2) Shallow Copy**<br>\n",
    "*A shallow copy means constructing a new collection object and then populating it with references to the child objects found in the original. The copying process does not recurse and therefore won’t create copies of the child objects themselves. In case of shallow copy, a reference of object is copied in other object. It means that any changes made to a copy of object do reflect in the original object.*<br>"
   ]
  },
  {
   "cell_type": "code",
   "execution_count": 24,
   "id": "65bff0ec",
   "metadata": {},
   "outputs": [],
   "source": [
    "# this is deep copy\n",
    "a =[1,2,3,4,5]\n",
    "b=a"
   ]
  },
  {
   "cell_type": "code",
   "execution_count": 13,
   "id": "86e308ca",
   "metadata": {},
   "outputs": [
    {
     "data": {
      "text/plain": [
       "140473220674240"
      ]
     },
     "execution_count": 13,
     "metadata": {},
     "output_type": "execute_result"
    }
   ],
   "source": [
    "id(a)"
   ]
  },
  {
   "cell_type": "code",
   "execution_count": 14,
   "id": "b225aaea",
   "metadata": {},
   "outputs": [
    {
     "data": {
      "text/plain": [
       "140473220674240"
      ]
     },
     "execution_count": 14,
     "metadata": {},
     "output_type": "execute_result"
    }
   ],
   "source": [
    "id(b)"
   ]
  },
  {
   "cell_type": "code",
   "execution_count": 16,
   "id": "465415e9",
   "metadata": {},
   "outputs": [
    {
     "name": "stdout",
     "output_type": "stream",
     "text": [
      "[0.99992, 2, 3, 4, 5]\n"
     ]
    }
   ],
   "source": [
    "b[0]= 0.99992\n",
    "print(b)"
   ]
  },
  {
   "cell_type": "code",
   "execution_count": 17,
   "id": "6dd0ef92",
   "metadata": {},
   "outputs": [
    {
     "name": "stdout",
     "output_type": "stream",
     "text": [
      "[0.99992, 2, 3, 4, 5]\n"
     ]
    }
   ],
   "source": [
    "print(a)"
   ]
  },
  {
   "cell_type": "markdown",
   "id": "27ef89dd",
   "metadata": {},
   "source": [
    "## 1.3: Shallow Copy"
   ]
  },
  {
   "cell_type": "code",
   "execution_count": 19,
   "id": "8cc23933",
   "metadata": {},
   "outputs": [],
   "source": [
    "a =[1,2,3,4,5]\n",
    "b=a.copy()"
   ]
  },
  {
   "cell_type": "code",
   "execution_count": 20,
   "id": "47c9c28d",
   "metadata": {},
   "outputs": [
    {
     "data": {
      "text/plain": [
       "140473221501824"
      ]
     },
     "execution_count": 20,
     "metadata": {},
     "output_type": "execute_result"
    }
   ],
   "source": [
    "id(a)"
   ]
  },
  {
   "cell_type": "code",
   "execution_count": 21,
   "id": "29dc67e9",
   "metadata": {},
   "outputs": [
    {
     "data": {
      "text/plain": [
       "140473220674240"
      ]
     },
     "execution_count": 21,
     "metadata": {},
     "output_type": "execute_result"
    }
   ],
   "source": [
    "id(b)"
   ]
  },
  {
   "cell_type": "code",
   "execution_count": 22,
   "id": "337e995e",
   "metadata": {},
   "outputs": [
    {
     "name": "stdout",
     "output_type": "stream",
     "text": [
      "[99, 2, 3, 4, 5]\n"
     ]
    }
   ],
   "source": [
    "b[0]= 99\n",
    "print(b)"
   ]
  },
  {
   "cell_type": "code",
   "execution_count": 23,
   "id": "d9b69dfe",
   "metadata": {},
   "outputs": [
    {
     "name": "stdout",
     "output_type": "stream",
     "text": [
      "[1, 2, 3, 4, 5]\n"
     ]
    }
   ],
   "source": [
    "print(a)"
   ]
  },
  {
   "cell_type": "markdown",
   "id": "0227825d",
   "metadata": {},
   "source": [
    "## 1.4: Shallow Copy vs Deep Copy"
   ]
  },
  {
   "cell_type": "code",
   "execution_count": 25,
   "id": "b8ae1863",
   "metadata": {},
   "outputs": [],
   "source": [
    "import copy\n",
    "a = [1, 2, [3, 4, 5]]\n",
    "b = a.copy()                                \n",
    "c = copy.deepcopy(a)   "
   ]
  },
  {
   "cell_type": "code",
   "execution_count": 26,
   "id": "742bfa11",
   "metadata": {},
   "outputs": [],
   "source": [
    "a[0] =666"
   ]
  },
  {
   "cell_type": "code",
   "execution_count": 27,
   "id": "62010bef",
   "metadata": {},
   "outputs": [
    {
     "data": {
      "text/plain": [
       "[666, 2, [3, 4, 5]]"
      ]
     },
     "execution_count": 27,
     "metadata": {},
     "output_type": "execute_result"
    }
   ],
   "source": [
    "a"
   ]
  },
  {
   "cell_type": "code",
   "execution_count": 28,
   "id": "3affa549",
   "metadata": {},
   "outputs": [
    {
     "data": {
      "text/plain": [
       "[1, 2, [3, 4, 5]]"
      ]
     },
     "execution_count": 28,
     "metadata": {},
     "output_type": "execute_result"
    }
   ],
   "source": [
    "b"
   ]
  },
  {
   "cell_type": "code",
   "execution_count": 33,
   "id": "bd39a00f",
   "metadata": {},
   "outputs": [
    {
     "data": {
      "text/plain": [
       "[1, 2, [3, 4, 5]]"
      ]
     },
     "execution_count": 33,
     "metadata": {},
     "output_type": "execute_result"
    }
   ],
   "source": [
    "c"
   ]
  },
  {
   "cell_type": "code",
   "execution_count": 30,
   "id": "4ce38570",
   "metadata": {},
   "outputs": [],
   "source": [
    "a[2][0]= - 999"
   ]
  },
  {
   "cell_type": "code",
   "execution_count": 31,
   "id": "9d92356c",
   "metadata": {},
   "outputs": [
    {
     "data": {
      "text/plain": [
       "[666, 2, [-999, 4, 5]]"
      ]
     },
     "execution_count": 31,
     "metadata": {},
     "output_type": "execute_result"
    }
   ],
   "source": [
    "a"
   ]
  },
  {
   "cell_type": "code",
   "execution_count": 32,
   "id": "919c46f0",
   "metadata": {},
   "outputs": [
    {
     "data": {
      "text/plain": [
       "[1, 2, [-999, 4, 5]]"
      ]
     },
     "execution_count": 32,
     "metadata": {},
     "output_type": "execute_result"
    }
   ],
   "source": [
    "b"
   ]
  },
  {
   "cell_type": "code",
   "execution_count": 34,
   "id": "f6970653",
   "metadata": {},
   "outputs": [
    {
     "data": {
      "text/plain": [
       "[1, 2, [3, 4, 5]]"
      ]
     },
     "execution_count": 34,
     "metadata": {},
     "output_type": "execute_result"
    }
   ],
   "source": [
    "c"
   ]
  },
  {
   "cell_type": "markdown",
   "id": "ecd7478d",
   "metadata": {},
   "source": [
    "# 2. Variables:\n"
   ]
  },
  {
   "cell_type": "code",
   "execution_count": 37,
   "id": "81a55585",
   "metadata": {},
   "outputs": [
    {
     "name": "stdout",
     "output_type": "stream",
     "text": [
      "777\n"
     ]
    }
   ],
   "source": [
    "a, b, c = (111, True, 'aaa')\n",
    "a, b, c = [111, True, 'aaa']\n",
    "a = b = c = 777\n",
    "print(a)"
   ]
  },
  {
   "cell_type": "code",
   "execution_count": 36,
   "id": "37f37a3a",
   "metadata": {},
   "outputs": [
    {
     "data": {
      "text/plain": [
       "(777, 666)"
      ]
     },
     "execution_count": 36,
     "metadata": {},
     "output_type": "execute_result"
    }
   ],
   "source": [
    "x, y = 666, 777\n",
    "x, y = y,x\n",
    "x, y"
   ]
  },
  {
   "cell_type": "code",
   "execution_count": null,
   "id": "87da0af4",
   "metadata": {},
   "outputs": [],
   "source": []
  }
 ],
 "metadata": {
  "kernelspec": {
   "display_name": "Python 3",
   "language": "python",
   "name": "python3"
  },
  "language_info": {
   "codemirror_mode": {
    "name": "ipython",
    "version": 3
   },
   "file_extension": ".py",
   "mimetype": "text/x-python",
   "name": "python",
   "nbconvert_exporter": "python",
   "pygments_lexer": "ipython3",
   "version": "3.8.8"
  }
 },
 "nbformat": 4,
 "nbformat_minor": 5
}
