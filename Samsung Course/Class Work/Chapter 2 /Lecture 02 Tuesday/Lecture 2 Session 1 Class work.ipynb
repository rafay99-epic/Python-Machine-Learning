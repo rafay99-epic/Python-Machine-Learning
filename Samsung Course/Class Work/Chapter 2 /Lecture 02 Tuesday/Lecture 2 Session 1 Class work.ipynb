{
 "cells": [
  {
   "cell_type": "markdown",
   "id": "e3cfc582",
   "metadata": {},
   "source": [
    "# For loop with range \n",
    "\n",
    "for x in range(10000):\n",
    "    print(x)"
   ]
  },
  {
   "cell_type": "code",
   "execution_count": null,
   "id": "7ee77df5",
   "metadata": {},
   "outputs": [],
   "source": [
    "def add(x,y):\n",
    "    return x+y\n",
    "\n",
    "print(add(5,6))"
   ]
  },
  {
   "cell_type": "code",
   "execution_count": null,
   "id": "0d24af6e",
   "metadata": {},
   "outputs": [],
   "source": [
    "# # Formula for Area \n",
    "area = 1/2(a+b)**2\n"
   ]
  },
  {
   "cell_type": "markdown",
   "id": "fbb9719c",
   "metadata": {},
   "source": [
    "# code\n",
    "## Hello world\n",
    "* rafay \n",
    "* Moeez\n",
    "* Muqeet\n",
    "\n",
    "\n",
    "**Hello world**\n",
    "*Hello World*\n",
    "<br>\n"
   ]
  },
  {
   "cell_type": "code",
   "execution_count": null,
   "id": "50dbc65c",
   "metadata": {},
   "outputs": [],
   "source": []
  }
 ],
 "metadata": {
  "kernelspec": {
   "display_name": "Python 3",
   "language": "python",
   "name": "python3"
  },
  "language_info": {
   "codemirror_mode": {
    "name": "ipython",
    "version": 3
   },
   "file_extension": ".py",
   "mimetype": "text/x-python",
   "name": "python",
   "nbconvert_exporter": "python",
   "pygments_lexer": "ipython3",
   "version": "3.8.8"
  }
 },
 "nbformat": 4,
 "nbformat_minor": 5
}
