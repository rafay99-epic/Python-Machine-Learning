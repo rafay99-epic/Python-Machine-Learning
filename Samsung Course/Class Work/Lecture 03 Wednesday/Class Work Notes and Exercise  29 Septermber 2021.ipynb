{
 "cells": [
  {
   "cell_type": "markdown",
   "id": "56711c20",
   "metadata": {},
   "source": [
    "### Date: 29 Sep 2021\n",
    "### Day: Wednesday \n",
    "### Lecture 03\n",
    "### Session 01"
   ]
  },
  {
   "cell_type": "markdown",
   "id": "088119c9",
   "metadata": {},
   "source": [
    "## String Data Type"
   ]
  },
  {
   "cell_type": "code",
   "execution_count": 20,
   "id": "ac0cceaf",
   "metadata": {},
   "outputs": [
    {
     "name": "stdout",
     "output_type": "stream",
     "text": [
      "One Attack\n",
      "One Attack\n",
      "One Attack\n",
      "One Attack\n"
     ]
    }
   ],
   "source": [
    "x=\"One Attack\"\n",
    "print(x)\n",
    "# strip space from left side\n",
    "print(x.lstrip())\n",
    "# strip spac from right side\n",
    "print(x.rstrip())\n",
    "# strip spca from both sides\n",
    "print(x.strip())"
   ]
  },
  {
   "cell_type": "markdown",
   "id": "28b15502",
   "metadata": {},
   "source": [
    "## Boolean Data Type\n",
    "\n",
    "1) There are only two values in boolean TRUE or FALSE <br> \n",
    "2) When you are writing True or False the first letter must be captial <br>\n",
    "3) You can use boolean with the if else statement <br>\n",
    "4) 0 Represent the False and 1 represent True"
   ]
  },
  {
   "cell_type": "markdown",
   "id": "0084b3c5",
   "metadata": {},
   "source": [
    "### Truth Table"
   ]
  },
  {
   "cell_type": "code",
   "execution_count": 21,
   "id": "4f0dbbba",
   "metadata": {},
   "outputs": [
    {
     "data": {
      "text/plain": [
       "True"
      ]
     },
     "execution_count": 21,
     "metadata": {},
     "output_type": "execute_result"
    }
   ],
   "source": [
    "True and True"
   ]
  },
  {
   "cell_type": "code",
   "execution_count": 22,
   "id": "7d428116",
   "metadata": {},
   "outputs": [
    {
     "data": {
      "text/plain": [
       "True"
      ]
     },
     "execution_count": 22,
     "metadata": {},
     "output_type": "execute_result"
    }
   ],
   "source": [
    "True or False"
   ]
  },
  {
   "cell_type": "code",
   "execution_count": 23,
   "id": "a4a2669e",
   "metadata": {},
   "outputs": [
    {
     "data": {
      "text/plain": [
       "False"
      ]
     },
     "execution_count": 23,
     "metadata": {},
     "output_type": "execute_result"
    }
   ],
   "source": [
    "False and True"
   ]
  },
  {
   "cell_type": "markdown",
   "id": "0b8db9e7",
   "metadata": {},
   "source": [
    "###  Class Exercise:"
   ]
  },
  {
   "cell_type": "markdown",
   "id": "09f6d5df",
   "metadata": {},
   "source": [
    "#### 1.Number:"
   ]
  },
  {
   "cell_type": "markdown",
   "id": "6ad6bfc2",
   "metadata": {},
   "source": [
    "1.1 Operations with Numbers"
   ]
  },
  {
   "cell_type": "code",
   "execution_count": 29,
   "id": "37683449",
   "metadata": {},
   "outputs": [
    {
     "data": {
      "text/plain": [
       "2"
      ]
     },
     "execution_count": 29,
     "metadata": {},
     "output_type": "execute_result"
    }
   ],
   "source": [
    "1+1"
   ]
  },
  {
   "cell_type": "code",
   "execution_count": 30,
   "id": "77334f2b",
   "metadata": {},
   "outputs": [
    {
     "data": {
      "text/plain": [
       "8"
      ]
     },
     "execution_count": 30,
     "metadata": {},
     "output_type": "execute_result"
    }
   ],
   "source": [
    "2**3"
   ]
  },
  {
   "cell_type": "code",
   "execution_count": 31,
   "id": "86d30557",
   "metadata": {},
   "outputs": [
    {
     "data": {
      "text/plain": [
       "3"
      ]
     },
     "execution_count": 31,
     "metadata": {},
     "output_type": "execute_result"
    }
   ],
   "source": [
    "8%5"
   ]
  },
  {
   "cell_type": "code",
   "execution_count": 32,
   "id": "ffbcf52d",
   "metadata": {},
   "outputs": [
    {
     "data": {
      "text/plain": [
       "1.0"
      ]
     },
     "execution_count": 32,
     "metadata": {},
     "output_type": "execute_result"
    }
   ],
   "source": [
    "8.0//5.0"
   ]
  },
  {
   "cell_type": "markdown",
   "id": "bd0a1a48",
   "metadata": {},
   "source": [
    "#### 2. String"
   ]
  },
  {
   "cell_type": "markdown",
   "id": "f1f3c7df",
   "metadata": {},
   "source": [
    "2.1 Basic"
   ]
  },
  {
   "cell_type": "code",
   "execution_count": 34,
   "id": "c463bc62",
   "metadata": {},
   "outputs": [
    {
     "name": "stdout",
     "output_type": "stream",
     "text": [
      "He said 'Python is very easy'\n",
      "He said 'Python is very Good'\n"
     ]
    }
   ],
   "source": [
    "print(\"He said 'Python is very easy'\")\n",
    "print(\"He said 'Python is very Good'\")"
   ]
  },
  {
   "cell_type": "code",
   "execution_count": 42,
   "id": "c431e22b",
   "metadata": {},
   "outputs": [
    {
     "name": "stdout",
     "output_type": "stream",
     "text": [
      "Hello Name \n",
      "is\n",
      "Rafay\n",
      "and\n",
      "My Brother\n",
      "Name \n",
      "is \n",
      "Moeez \n",
      "and \n",
      "Muqeet\n"
     ]
    }
   ],
   "source": [
    "my_string= \"\"\"Hello Name \n",
    "is\n",
    "Rafay\n",
    "and\n",
    "My Brother\n",
    "Name \n",
    "is \n",
    "Moeez \n",
    "and \n",
    "Muqeet\"\"\"\n",
    "print(my_string)"
   ]
  },
  {
   "cell_type": "markdown",
   "id": "cb78319e",
   "metadata": {},
   "source": [
    "2.2 Operating with String"
   ]
  },
  {
   "cell_type": "code",
   "execution_count": 46,
   "id": "dc90b39f",
   "metadata": {},
   "outputs": [
    {
     "name": "stdout",
     "output_type": "stream",
     "text": [
      "First Meeting Second Meeting\n"
     ]
    }
   ],
   "source": [
    "str1 = 'First Meeting'\n",
    "str2 = ' Second Meeting'\n",
    "print(str1 + str2)"
   ]
  },
  {
   "cell_type": "code",
   "execution_count": 47,
   "id": "a43961a4",
   "metadata": {},
   "outputs": [
    {
     "name": "stdout",
     "output_type": "stream",
     "text": [
      "Hello baby!!Hello baby!!Hello baby!!Hello baby!!Hello baby!!\n"
     ]
    }
   ],
   "source": [
    "str1='Hello baby!!'\n",
    "print(str1*5)"
   ]
  },
  {
   "cell_type": "markdown",
   "id": "230d2164",
   "metadata": {},
   "source": [
    "2.3: Indexing and Silicing String"
   ]
  },
  {
   "cell_type": "code",
   "execution_count": 62,
   "id": "ae059db6",
   "metadata": {},
   "outputs": [
    {
     "name": "stdout",
     "output_type": "stream",
     "text": [
      "L\n",
      "e\n",
      "Life\n",
      "\n"
     ]
    }
   ],
   "source": [
    "str1 = 'Life is too short,You need to learn Python!'\n",
    "print(str1[0])\n",
    "print(str1[3])\n",
    "print(str1[0:4])\n",
    "print(str1[5:1])"
   ]
  },
  {
   "cell_type": "markdown",
   "id": "a92aa6f4",
   "metadata": {},
   "source": [
    "2.4: Function and Methods for String objects\n"
   ]
  },
  {
   "cell_type": "code",
   "execution_count": 64,
   "id": "9b837248",
   "metadata": {},
   "outputs": [
    {
     "name": "stdout",
     "output_type": "stream",
     "text": [
      "6\n"
     ]
    }
   ],
   "source": [
    "x= 'Python'\n",
    "# check the length of the string\n",
    "print(len(x))"
   ]
  },
  {
   "cell_type": "code",
   "execution_count": 65,
   "id": "862097c4",
   "metadata": {},
   "outputs": [
    {
     "data": {
      "text/plain": [
       "1"
      ]
     },
     "execution_count": 65,
     "metadata": {},
     "output_type": "execute_result"
    }
   ],
   "source": [
    "# counting the word that is asked by the user\n",
    "x.count('h')"
   ]
  },
  {
   "cell_type": "code",
   "execution_count": 66,
   "id": "e17c6d38",
   "metadata": {},
   "outputs": [
    {
     "data": {
      "text/plain": [
       "'python'"
      ]
     },
     "execution_count": 66,
     "metadata": {},
     "output_type": "execute_result"
    }
   ],
   "source": [
    "# to turn all CAPS into lower caps\n",
    "x.lower()"
   ]
  },
  {
   "cell_type": "code",
   "execution_count": 68,
   "id": "7db67c43",
   "metadata": {},
   "outputs": [
    {
     "data": {
      "text/plain": [
       "'PYTHON'"
      ]
     },
     "execution_count": 68,
     "metadata": {},
     "output_type": "execute_result"
    }
   ],
   "source": [
    "# to turn all lower caps into CAPS\n",
    "x.upper()\n"
   ]
  },
  {
   "cell_type": "code",
   "execution_count": 72,
   "id": "dee70072",
   "metadata": {},
   "outputs": [
    {
     "data": {
      "text/plain": [
       "4"
      ]
     },
     "execution_count": 72,
     "metadata": {},
     "output_type": "execute_result"
    }
   ],
   "source": [
    "# The find function will find the char in the string where as index will find the index of the char.\n",
    "# if the index of a char is not present then idex will through an error\n",
    "x.find('o')"
   ]
  },
  {
   "cell_type": "code",
   "execution_count": 73,
   "id": "8f2de2b1",
   "metadata": {},
   "outputs": [
    {
     "data": {
      "text/plain": [
       "-1"
      ]
     },
     "execution_count": 73,
     "metadata": {},
     "output_type": "execute_result"
    }
   ],
   "source": [
    "x.find('w')"
   ]
  },
  {
   "cell_type": "code",
   "execution_count": 75,
   "id": "81eeb7a1",
   "metadata": {},
   "outputs": [
    {
     "data": {
      "text/plain": [
       "4"
      ]
     },
     "execution_count": 75,
     "metadata": {},
     "output_type": "execute_result"
    }
   ],
   "source": [
    "# Index will locate and will display the index of the char\n",
    "x.index('o')"
   ]
  },
  {
   "cell_type": "code",
   "execution_count": 77,
   "id": "eee44a53",
   "metadata": {},
   "outputs": [
    {
     "ename": "ValueError",
     "evalue": "substring not found",
     "output_type": "error",
     "traceback": [
      "\u001b[0;31m---------------------------------------------------------------------------\u001b[0m",
      "\u001b[0;31mValueError\u001b[0m                                Traceback (most recent call last)",
      "\u001b[0;32m<ipython-input-77-2e46a34e046f>\u001b[0m in \u001b[0;36m<module>\u001b[0;34m\u001b[0m\n\u001b[1;32m      1\u001b[0m \u001b[0;31m# As you can see index as through an error because was not present in the memory\u001b[0m\u001b[0;34m\u001b[0m\u001b[0;34m\u001b[0m\u001b[0;34m\u001b[0m\u001b[0m\n\u001b[0;32m----> 2\u001b[0;31m \u001b[0mx\u001b[0m\u001b[0;34m.\u001b[0m\u001b[0mindex\u001b[0m\u001b[0;34m(\u001b[0m\u001b[0;34m'w'\u001b[0m\u001b[0;34m)\u001b[0m\u001b[0;34m\u001b[0m\u001b[0;34m\u001b[0m\u001b[0m\n\u001b[0m",
      "\u001b[0;31mValueError\u001b[0m: substring not found"
     ]
    }
   ],
   "source": [
    "# As you can see index as through an error because was not present in the memory\n",
    "x.index('w')"
   ]
  },
  {
   "cell_type": "code",
   "execution_count": 78,
   "id": "920f89a4",
   "metadata": {},
   "outputs": [
    {
     "data": {
      "text/plain": [
       "['Hello',\n",
       " 'World!!',\n",
       " 'Python',\n",
       " 'is',\n",
       " 'great',\n",
       " 'and',\n",
       " 'I',\n",
       " 'will',\n",
       " 'learn',\n",
       " 'it']"
      ]
     },
     "execution_count": 78,
     "metadata": {},
     "output_type": "execute_result"
    }
   ],
   "source": [
    "# will spilt each word\n",
    "x = 'Hello World!! Python is great and I will learn it'\n",
    "x.split(' ')"
   ]
  },
  {
   "cell_type": "code",
   "execution_count": 79,
   "id": "770f1dfc",
   "metadata": {},
   "outputs": [
    {
     "name": "stdout",
     "output_type": "stream",
     "text": [
      "Hello World!! Python is great and I will learn it\n"
     ]
    }
   ],
   "source": [
    "\n",
    "y = x.split(' ')\n",
    "a = ' '\n",
    "print(a.join(y))\n",
    "\n"
   ]
  },
  {
   "cell_type": "markdown",
   "id": "6a37574f",
   "metadata": {},
   "source": [
    "## 3. Boolean:"
   ]
  },
  {
   "cell_type": "markdown",
   "id": "16354678",
   "metadata": {},
   "source": [
    "### AND Operator"
   ]
  },
  {
   "cell_type": "code",
   "execution_count": 80,
   "id": "87ba5ad9",
   "metadata": {},
   "outputs": [
    {
     "data": {
      "text/plain": [
       "False"
      ]
     },
     "execution_count": 80,
     "metadata": {},
     "output_type": "execute_result"
    }
   ],
   "source": [
    "False and False"
   ]
  },
  {
   "cell_type": "code",
   "execution_count": 132,
   "id": "1ac2642e",
   "metadata": {},
   "outputs": [
    {
     "data": {
      "text/plain": [
       "False"
      ]
     },
     "execution_count": 132,
     "metadata": {},
     "output_type": "execute_result"
    }
   ],
   "source": [
    "\n",
    "\n",
    "False and True\n",
    "\n"
   ]
  },
  {
   "cell_type": "code",
   "execution_count": 134,
   "id": "f76c682c",
   "metadata": {},
   "outputs": [
    {
     "data": {
      "text/plain": [
       "False"
      ]
     },
     "execution_count": 134,
     "metadata": {},
     "output_type": "execute_result"
    }
   ],
   "source": [
    "True and False"
   ]
  },
  {
   "cell_type": "code",
   "execution_count": 138,
   "id": "384d26d5",
   "metadata": {},
   "outputs": [
    {
     "data": {
      "text/plain": [
       "True"
      ]
     },
     "execution_count": 138,
     "metadata": {},
     "output_type": "execute_result"
    }
   ],
   "source": [
    "True and True"
   ]
  },
  {
   "cell_type": "code",
   "execution_count": 136,
   "id": "897b2532",
   "metadata": {},
   "outputs": [
    {
     "data": {
      "text/plain": [
       "False"
      ]
     },
     "execution_count": 136,
     "metadata": {},
     "output_type": "execute_result"
    }
   ],
   "source": [
    "(3 > 2) and (5 < 4)"
   ]
  },
  {
   "cell_type": "code",
   "execution_count": 137,
   "id": "7c155edd",
   "metadata": {},
   "outputs": [
    {
     "data": {
      "text/plain": [
       "True"
      ]
     },
     "execution_count": 137,
     "metadata": {},
     "output_type": "execute_result"
    }
   ],
   "source": [
    "(3 > 2) and (5 > 4)"
   ]
  },
  {
   "cell_type": "markdown",
   "id": "933bd20f",
   "metadata": {},
   "source": [
    "### OR Operator"
   ]
  },
  {
   "cell_type": "code",
   "execution_count": 139,
   "id": "82fed03e",
   "metadata": {},
   "outputs": [
    {
     "data": {
      "text/plain": [
       "False"
      ]
     },
     "execution_count": 139,
     "metadata": {},
     "output_type": "execute_result"
    }
   ],
   "source": [
    "False or False"
   ]
  },
  {
   "cell_type": "code",
   "execution_count": 140,
   "id": "a92f2908",
   "metadata": {},
   "outputs": [
    {
     "data": {
      "text/plain": [
       "True"
      ]
     },
     "execution_count": 140,
     "metadata": {},
     "output_type": "execute_result"
    }
   ],
   "source": [
    "True or False"
   ]
  },
  {
   "cell_type": "code",
   "execution_count": 141,
   "id": "028f3c3f",
   "metadata": {},
   "outputs": [
    {
     "data": {
      "text/plain": [
       "True"
      ]
     },
     "execution_count": 141,
     "metadata": {},
     "output_type": "execute_result"
    }
   ],
   "source": [
    "False or True"
   ]
  },
  {
   "cell_type": "code",
   "execution_count": 142,
   "id": "fe44983f",
   "metadata": {},
   "outputs": [
    {
     "data": {
      "text/plain": [
       "True"
      ]
     },
     "execution_count": 142,
     "metadata": {},
     "output_type": "execute_result"
    }
   ],
   "source": [
    "False or True"
   ]
  },
  {
   "cell_type": "code",
   "execution_count": 143,
   "id": "0b037e0a",
   "metadata": {},
   "outputs": [
    {
     "data": {
      "text/plain": [
       "True"
      ]
     },
     "execution_count": 143,
     "metadata": {},
     "output_type": "execute_result"
    }
   ],
   "source": [
    "True or True"
   ]
  },
  {
   "cell_type": "markdown",
   "id": "b6bf4524",
   "metadata": {},
   "source": [
    "### NOT Operator"
   ]
  },
  {
   "cell_type": "code",
   "execution_count": 144,
   "id": "a016ff9c",
   "metadata": {},
   "outputs": [
    {
     "data": {
      "text/plain": [
       "False"
      ]
     },
     "execution_count": 144,
     "metadata": {},
     "output_type": "execute_result"
    }
   ],
   "source": [
    "not True"
   ]
  },
  {
   "cell_type": "code",
   "execution_count": 145,
   "id": "0f14ef2e",
   "metadata": {},
   "outputs": [
    {
     "data": {
      "text/plain": [
       "True"
      ]
     },
     "execution_count": 145,
     "metadata": {},
     "output_type": "execute_result"
    }
   ],
   "source": [
    "not False"
   ]
  },
  {
   "cell_type": "code",
   "execution_count": 146,
   "id": "f6716b76",
   "metadata": {},
   "outputs": [
    {
     "data": {
      "text/plain": [
       "False"
      ]
     },
     "execution_count": 146,
     "metadata": {},
     "output_type": "execute_result"
    }
   ],
   "source": [
    "not (4 > 2)"
   ]
  },
  {
   "cell_type": "code",
   "execution_count": 147,
   "id": "62a96d62",
   "metadata": {},
   "outputs": [
    {
     "data": {
      "text/plain": [
       "False"
      ]
     },
     "execution_count": 147,
     "metadata": {},
     "output_type": "execute_result"
    }
   ],
   "source": [
    "not (4 > 2)"
   ]
  },
  {
   "cell_type": "markdown",
   "id": "de9527a3",
   "metadata": {},
   "source": [
    "\n",
    "3.2. Implicit Boolean:\n"
   ]
  },
  {
   "cell_type": "code",
   "execution_count": 151,
   "id": "2edb3384",
   "metadata": {},
   "outputs": [],
   "source": [
    "x = []\n",
    "y = [1,2,3]\n"
   ]
  },
  {
   "cell_type": "code",
   "execution_count": 152,
   "id": "bd1f780b",
   "metadata": {},
   "outputs": [
    {
     "name": "stdout",
     "output_type": "stream",
     "text": [
      "Empty!\n"
     ]
    }
   ],
   "source": [
    "if x:\n",
    "    print('Not empty.')\n",
    "else:\n",
    "    print('Empty!')"
   ]
  },
  {
   "cell_type": "code",
   "execution_count": 153,
   "id": "30c81069",
   "metadata": {},
   "outputs": [
    {
     "name": "stdout",
     "output_type": "stream",
     "text": [
      "Not empty.\n"
     ]
    }
   ],
   "source": [
    "if y:\n",
    "    print('Not empty.')\n",
    "else:\n",
    "    print('Empty!')"
   ]
  },
  {
   "cell_type": "markdown",
   "id": "575e0bcd",
   "metadata": {},
   "source": [
    "# List "
   ]
  },
  {
   "cell_type": "code",
   "execution_count": 83,
   "id": "9ab7fdab",
   "metadata": {},
   "outputs": [
    {
     "data": {
      "text/plain": [
       "[5, 6, 4, 8, 9]"
      ]
     },
     "execution_count": 83,
     "metadata": {},
     "output_type": "execute_result"
    }
   ],
   "source": [
    "# Display all elements\n",
    "a = [5,6,4,8,9]\n",
    "a[:] "
   ]
  },
  {
   "cell_type": "code",
   "execution_count": 94,
   "id": "a7fbb471",
   "metadata": {},
   "outputs": [
    {
     "name": "stdout",
     "output_type": "stream",
     "text": [
      "[['a', 'b', 'c'], 4]\n"
     ]
    }
   ],
   "source": [
    "a= [1,2,3,['a','b','c'],4,5]\n",
    "print(a[3:5])    "
   ]
  },
  {
   "cell_type": "code",
   "execution_count": 95,
   "id": "f5399b6d",
   "metadata": {},
   "outputs": [
    {
     "name": "stdout",
     "output_type": "stream",
     "text": [
      "['a', 'b']\n"
     ]
    }
   ],
   "source": [
    "# while printing it will not consider the last index\n",
    "print(a[3][:2])"
   ]
  },
  {
   "cell_type": "code",
   "execution_count": 96,
   "id": "5cddaf1b",
   "metadata": {},
   "outputs": [
    {
     "name": "stdout",
     "output_type": "stream",
     "text": [
      "[5, 6, 4, 8, 9, 8, 7, 6, 9, 10]\n"
     ]
    }
   ],
   "source": [
    "# Concatenation\n",
    "a = [5,6,4,8,9]\n",
    "b= [8,7,6,9,10]\n",
    "c = a+b\n",
    "print(c)"
   ]
  },
  {
   "cell_type": "code",
   "execution_count": 109,
   "id": "459ffdca",
   "metadata": {},
   "outputs": [
    {
     "name": "stdout",
     "output_type": "stream",
     "text": [
      "[1, 3, 5, 7]\n"
     ]
    }
   ],
   "source": [
    "# while replaing after the range is over then it will place the value at the end of the string\n",
    "a =[1,7,3]\n",
    "a[1:3]\n",
    "a[1:3] =[3,5,7]\n",
    "print(a)"
   ]
  },
  {
   "cell_type": "markdown",
   "id": "9c517310",
   "metadata": {},
   "source": [
    "# Session 02"
   ]
  },
  {
   "cell_type": "markdown",
   "id": "f92d87a8",
   "metadata": {},
   "source": [
    "#### List Inside a  list"
   ]
  },
  {
   "cell_type": "code",
   "execution_count": 111,
   "id": "9f77839f",
   "metadata": {},
   "outputs": [
    {
     "name": "stdout",
     "output_type": "stream",
     "text": [
      "[1, 7, [3, 5, 7]]\n"
     ]
    }
   ],
   "source": [
    "# List inside a list\n",
    "# In this we will find the index and then go to that index and then replace the value with an list \n",
    "a =[1,7,3]\n",
    "a[2] =[3,5,7]\n",
    "print(a)"
   ]
  },
  {
   "cell_type": "markdown",
   "id": "09e8922d",
   "metadata": {},
   "source": [
    "#### Delete a value from list using in index"
   ]
  },
  {
   "cell_type": "markdown",
   "id": "0809f7b9",
   "metadata": {},
   "source": [
    "1) Delete one value from the list "
   ]
  },
  {
   "cell_type": "code",
   "execution_count": 115,
   "id": "aab2e119",
   "metadata": {},
   "outputs": [
    {
     "name": "stdout",
     "output_type": "stream",
     "text": [
      "[1, 6, 6, 8]\n"
     ]
    }
   ],
   "source": [
    "# this will delete an value at the given index\n",
    "a= [1,6,6,8,0]\n",
    "del a[4]\n",
    "print(a)"
   ]
  },
  {
   "cell_type": "markdown",
   "id": "07fa1a3a",
   "metadata": {},
   "source": [
    "2) Delete alot items from list using the range."
   ]
  },
  {
   "cell_type": "code",
   "execution_count": null,
   "id": "2c6c37d6",
   "metadata": {},
   "outputs": [],
   "source": [
    "# In this we can also remove a part of the list\n",
    "b= [7,8,0,7,12,16]\n",
    "del b[1:4]\n",
    "print(b)"
   ]
  },
  {
   "cell_type": "markdown",
   "id": "c5c36af5",
   "metadata": {},
   "source": [
    "# Function is the list"
   ]
  },
  {
   "cell_type": "markdown",
   "id": "cef654a6",
   "metadata": {},
   "source": [
    "## Sort Function"
   ]
  },
  {
   "cell_type": "markdown",
   "id": "9d5ef03d",
   "metadata": {},
   "source": [
    "1) Sort Problem"
   ]
  },
  {
   "cell_type": "code",
   "execution_count": 116,
   "id": "b8e3df07",
   "metadata": {},
   "outputs": [
    {
     "ename": "TypeError",
     "evalue": "'<' not supported between instances of 'str' and 'int'",
     "output_type": "error",
     "traceback": [
      "\u001b[0;31m---------------------------------------------------------------------------\u001b[0m",
      "\u001b[0;31mTypeError\u001b[0m                                 Traceback (most recent call last)",
      "\u001b[0;32m<ipython-input-116-d8bc5565973c>\u001b[0m in \u001b[0;36m<module>\u001b[0;34m\u001b[0m\n\u001b[1;32m      1\u001b[0m \u001b[0ma\u001b[0m\u001b[0;34m=\u001b[0m \u001b[0;34m[\u001b[0m\u001b[0;36m5\u001b[0m\u001b[0;34m,\u001b[0m\u001b[0;36m7\u001b[0m\u001b[0;34m,\u001b[0m\u001b[0;36m1\u001b[0m\u001b[0;34m,\u001b[0m\u001b[0;34m'a'\u001b[0m\u001b[0;34m,\u001b[0m\u001b[0;34m'b'\u001b[0m\u001b[0;34m]\u001b[0m\u001b[0;34m\u001b[0m\u001b[0;34m\u001b[0m\u001b[0m\n\u001b[0;32m----> 2\u001b[0;31m \u001b[0ma\u001b[0m\u001b[0;34m.\u001b[0m\u001b[0msort\u001b[0m\u001b[0;34m(\u001b[0m\u001b[0;34m)\u001b[0m\u001b[0;34m\u001b[0m\u001b[0;34m\u001b[0m\u001b[0m\n\u001b[0m\u001b[1;32m      3\u001b[0m \u001b[0mprint\u001b[0m\u001b[0;34m(\u001b[0m\u001b[0ma\u001b[0m\u001b[0;34m)\u001b[0m\u001b[0;34m\u001b[0m\u001b[0;34m\u001b[0m\u001b[0m\n",
      "\u001b[0;31mTypeError\u001b[0m: '<' not supported between instances of 'str' and 'int'"
     ]
    }
   ],
   "source": [
    "# sort function will not work with different data type\n",
    "# Data TYpe must be same\n",
    "a= [5,7,1,'a','b']\n",
    "a.sort()\n",
    "print(a)"
   ]
  },
  {
   "cell_type": "markdown",
   "id": "5a71c821",
   "metadata": {},
   "source": [
    "2) Sort the List in deceding order"
   ]
  },
  {
   "cell_type": "code",
   "execution_count": 120,
   "id": "b189ae20",
   "metadata": {},
   "outputs": [
    {
     "name": "stdout",
     "output_type": "stream",
     "text": [
      "[8, 6, 5, 1, 0]\n"
     ]
    }
   ],
   "source": [
    "a =[5,6,8,1,0]\n",
    "a.sort(reverse=True)\n",
    "print(a)"
   ]
  },
  {
   "cell_type": "markdown",
   "id": "dac750c8",
   "metadata": {},
   "source": [
    "3) Sort the list using accesding order"
   ]
  },
  {
   "cell_type": "code",
   "execution_count": 121,
   "id": "a1b97340",
   "metadata": {},
   "outputs": [
    {
     "name": "stdout",
     "output_type": "stream",
     "text": [
      "[0, 1, 5, 6, 8]\n"
     ]
    }
   ],
   "source": [
    "a =[5,6,8,1,0]\n",
    "a.sort()\n",
    "print(a)"
   ]
  },
  {
   "cell_type": "markdown",
   "id": "01f7d386",
   "metadata": {},
   "source": [
    "## Append Function"
   ]
  },
  {
   "cell_type": "markdown",
   "id": "a9548585",
   "metadata": {},
   "source": [
    "1) Adding one value using append"
   ]
  },
  {
   "cell_type": "code",
   "execution_count": 123,
   "id": "6930a1b1",
   "metadata": {},
   "outputs": [
    {
     "name": "stdout",
     "output_type": "stream",
     "text": [
      "[5, 6, 8, 1, 0, 10]\n"
     ]
    }
   ],
   "source": [
    "a =[5,6,8,1,0]\n",
    "a.append(10)\n",
    "print(a)"
   ]
  },
  {
   "cell_type": "markdown",
   "id": "7c9e117c",
   "metadata": {},
   "source": [
    "2) Problem with Append & Add list inside an list using append"
   ]
  },
  {
   "cell_type": "code",
   "execution_count": 126,
   "id": "fecec87f",
   "metadata": {},
   "outputs": [
    {
     "name": "stdout",
     "output_type": "stream",
     "text": [
      "[5, 6, 8, 1, 0, 4, [10, 5]]\n"
     ]
    }
   ],
   "source": [
    "# Append can only add one value at a time,\n",
    "# if more then one values are added then append will add then as a list so list inside a list.\n",
    "a =[5,6,8,1,0]\n",
    "a.append(4)\n",
    "a.append([10,5])\n",
    "print(a)"
   ]
  },
  {
   "cell_type": "markdown",
   "id": "f285058d",
   "metadata": {},
   "source": [
    "# Reverse Function\n"
   ]
  },
  {
   "cell_type": "code",
   "execution_count": 127,
   "id": "75611af9",
   "metadata": {},
   "outputs": [
    {
     "name": "stdout",
     "output_type": "stream",
     "text": [
      "[0, 1, 8, 6, 5]\n"
     ]
    }
   ],
   "source": [
    "a =[5,6,8,1,0]\n",
    "a.reverse()\n",
    "print(a)"
   ]
  },
  {
   "cell_type": "markdown",
   "id": "f0d662e4",
   "metadata": {},
   "source": [
    "# Sorted Function"
   ]
  },
  {
   "cell_type": "markdown",
   "id": "0c1978d9",
   "metadata": {},
   "source": [
    "#### Difference Between Sort() and Sorted() \n",
    "**1) Sorted() function** <br>\n",
    "The only difference is that sorted will only show that the values are sorted but in realitty the values will not be sorted.<br> \n",
    "The main list will not change.<br>\n",
    "**2) Sort() function**\n",
    "The sort function will sort all of the values in a list.<br>\n",
    "The main list will be changed"
   ]
  },
  {
   "cell_type": "code",
   "execution_count": 131,
   "id": "a2fe16df",
   "metadata": {},
   "outputs": [
    {
     "name": "stdout",
     "output_type": "stream",
     "text": [
      "[0, 1, 5, 6, 8]\n",
      "[5, 6, 8, 1, 0]\n"
     ]
    }
   ],
   "source": [
    "a =[5,6,8,1,0]\n",
    "sorted(a)\n",
    "print(sorted(a))\n",
    "print(a)"
   ]
  },
  {
   "cell_type": "markdown",
   "id": "8365adb1",
   "metadata": {},
   "source": [
    "# New Topic"
   ]
  },
  {
   "cell_type": "markdown",
   "id": "986067fe",
   "metadata": {},
   "source": [
    "# Tuple\n"
   ]
  },
  {
   "cell_type": "markdown",
   "id": "f48738dc",
   "metadata": {},
   "source": [
    "1) Tuple Inside a list "
   ]
  },
  {
   "cell_type": "code",
   "execution_count": 160,
   "id": "f115caf3",
   "metadata": {},
   "outputs": [
    {
     "name": "stdout",
     "output_type": "stream",
     "text": [
      "[1, 4, 5, 7, (3, 5, 2)]\n"
     ]
    }
   ],
   "source": [
    "List =[1,4,5,7]\n",
    "Tuple = (3,5,2)\n",
    "List.append(Tuple)\n",
    "print(List)"
   ]
  },
  {
   "cell_type": "markdown",
   "id": "10bdd6f5",
   "metadata": {},
   "source": [
    "2) List inside a Tuple"
   ]
  },
  {
   "cell_type": "code",
   "execution_count": 161,
   "id": "35b815d6",
   "metadata": {},
   "outputs": [
    {
     "ename": "AttributeError",
     "evalue": "'tuple' object has no attribute 'append'",
     "output_type": "error",
     "traceback": [
      "\u001b[0;31m---------------------------------------------------------------------------\u001b[0m",
      "\u001b[0;31mAttributeError\u001b[0m                            Traceback (most recent call last)",
      "\u001b[0;32m<ipython-input-161-ce8fe569c583>\u001b[0m in \u001b[0;36m<module>\u001b[0;34m\u001b[0m\n\u001b[1;32m      1\u001b[0m \u001b[0mList\u001b[0m \u001b[0;34m=\u001b[0m\u001b[0;34m[\u001b[0m\u001b[0;36m1\u001b[0m\u001b[0;34m,\u001b[0m\u001b[0;36m4\u001b[0m\u001b[0;34m,\u001b[0m\u001b[0;36m5\u001b[0m\u001b[0;34m,\u001b[0m\u001b[0;36m7\u001b[0m\u001b[0;34m]\u001b[0m\u001b[0;34m\u001b[0m\u001b[0;34m\u001b[0m\u001b[0m\n\u001b[1;32m      2\u001b[0m \u001b[0mTuple\u001b[0m \u001b[0;34m=\u001b[0m \u001b[0;34m(\u001b[0m\u001b[0;36m3\u001b[0m\u001b[0;34m,\u001b[0m\u001b[0;36m5\u001b[0m\u001b[0;34m,\u001b[0m\u001b[0;36m2\u001b[0m\u001b[0;34m)\u001b[0m\u001b[0;34m\u001b[0m\u001b[0;34m\u001b[0m\u001b[0m\n\u001b[0;32m----> 3\u001b[0;31m \u001b[0mTuple\u001b[0m\u001b[0;34m.\u001b[0m\u001b[0mappend\u001b[0m\u001b[0;34m(\u001b[0m\u001b[0mList\u001b[0m\u001b[0;34m)\u001b[0m\u001b[0;34m\u001b[0m\u001b[0;34m\u001b[0m\u001b[0m\n\u001b[0m\u001b[1;32m      4\u001b[0m \u001b[0mprint\u001b[0m\u001b[0;34m(\u001b[0m\u001b[0mTuple\u001b[0m\u001b[0;34m)\u001b[0m\u001b[0;34m\u001b[0m\u001b[0;34m\u001b[0m\u001b[0m\n",
      "\u001b[0;31mAttributeError\u001b[0m: 'tuple' object has no attribute 'append'"
     ]
    }
   ],
   "source": [
    "# You can not add a list inside a tuple using append \n",
    "# because the values in the tuple does not change\n",
    "List =[1,4,5,7]\n",
    "Tuple = (3,5,2)\n",
    "Tuple.append(List)\n",
    "print(Tuple)"
   ]
  },
  {
   "cell_type": "markdown",
   "id": "828fcae7",
   "metadata": {},
   "source": [
    "3) You can place a list inside a tuple whenyou are declaring the tuple but once done then the values can not be changes\n"
   ]
  },
  {
   "cell_type": "code",
   "execution_count": 162,
   "id": "c54e1120",
   "metadata": {},
   "outputs": [
    {
     "name": "stdout",
     "output_type": "stream",
     "text": [
      "(3, 5, 2, [4, 5, 7])\n"
     ]
    }
   ],
   "source": [
    "Tuple = (3,5,2,[4,5,7])\n",
    "print(Tuple)"
   ]
  },
  {
   "cell_type": "markdown",
   "id": "40b4ccb1",
   "metadata": {},
   "source": [
    "4) Tuple inside a tuple is possiable\n",
    "Only you can find a tuple inside a tuple at the point of decleartion"
   ]
  },
  {
   "cell_type": "code",
   "execution_count": 163,
   "id": "cc20ba7c",
   "metadata": {},
   "outputs": [
    {
     "name": "stdout",
     "output_type": "stream",
     "text": [
      "(3, 5, 2, (4, 5, 7))\n"
     ]
    }
   ],
   "source": [
    "Tuple = (3,5,2,(4,5,7))\n",
    "print(Tuple)"
   ]
  },
  {
   "cell_type": "markdown",
   "id": "010b22e7",
   "metadata": {},
   "source": [
    "5) Deleteing the values is not possiable <br>\n",
    "You can only delete the whole object not the element.<br>"
   ]
  },
  {
   "cell_type": "code",
   "execution_count": 167,
   "id": "26046b42",
   "metadata": {},
   "outputs": [],
   "source": [
    "Tuple = (3,5,2,(4,5,7))\n",
    "del Tuple"
   ]
  },
  {
   "cell_type": "markdown",
   "id": "732d8951",
   "metadata": {},
   "source": [
    "# New Topic"
   ]
  },
  {
   "cell_type": "markdown",
   "id": "ede8b9b1",
   "metadata": {},
   "source": [
    "# Dictionary"
   ]
  },
  {
   "cell_type": "markdown",
   "id": "dade201e",
   "metadata": {},
   "source": [
    "1) Dictionary is the collection of key and the values in pir<br>\n",
    "2) Data is accessed using the Keys in the dictionary like primary key in the database<br>\n",
    "3) You can use normal function to get the data from the dictionary.<br>\n",
    "4) Key used {} brackets,<br>\n",
    "5) Dictionary is not used that much but when needded it can help throug<br>\n"
   ]
  },
  {
   "cell_type": "markdown",
   "id": "e674c7af",
   "metadata": {},
   "source": [
    "#### Geneating the basic Code:"
   ]
  },
  {
   "cell_type": "code",
   "execution_count": 169,
   "id": "8832b7f9",
   "metadata": {},
   "outputs": [
    {
     "name": "stdout",
     "output_type": "stream",
     "text": [
      "{'Name': 'James', 'Gender': 'Male', 'Age': 45}\n",
      "{1: 'Life', 2: 'is', 3: 'Short'}\n"
     ]
    }
   ],
   "source": [
    "a = {}\n",
    "b = {'Name':'James','Gender':'Male','Age':45}\n",
    "c = {1:'Life', 2: 'is', 3: 'Short'}\n",
    "print (b)\n",
    "print(c)"
   ]
  },
  {
   "cell_type": "markdown",
   "id": "0a6fe6d8",
   "metadata": {},
   "source": [
    "#### List inside a dictinary\n",
    "1) You can create a list inside a dictionary"
   ]
  },
  {
   "cell_type": "code",
   "execution_count": 171,
   "id": "43e133f8",
   "metadata": {},
   "outputs": [
    {
     "name": "stdout",
     "output_type": "stream",
     "text": [
      "{1: 'Life', 2: 'is', 3: [1, 4, 5]}\n",
      "{'Name': 'James', 'Gender': 'Male', 'Age': 45}\n",
      "{1: 'Life', 2: 'is', 3: 'Short'}\n"
     ]
    }
   ],
   "source": [
    "a = {}\n",
    "b = {'Name':'James','Gender':'Male','Age':45}\n",
    "c = {1:'Life', 2: 'is', 3: 'Short'}\n",
    "d = {1:'Life', 2: 'is', 3: [1,4,5] }\n",
    "print(d)\n",
    "print (b)\n",
    "print(c)"
   ]
  },
  {
   "cell_type": "markdown",
   "id": "5f7202bb",
   "metadata": {},
   "source": [
    "#### Tuple inside a  Disctionary\n",
    "Is it possiable?? Yes, it is."
   ]
  },
  {
   "cell_type": "code",
   "execution_count": 172,
   "id": "6e2c468b",
   "metadata": {},
   "outputs": [
    {
     "name": "stdout",
     "output_type": "stream",
     "text": [
      "{1: 'Life', 2: 'is', 3: (1, 4, 5)}\n",
      "{'Name': 'James', 'Gender': 'Male', 'Age': 45}\n",
      "{1: 'Life', 2: 'is', 3: 'Short'}\n"
     ]
    }
   ],
   "source": [
    "a = {}\n",
    "b = {'Name':'James','Gender':'Male','Age':45}\n",
    "c = {1:'Life', 2: 'is', 3: 'Short'}\n",
    "d = {1:'Life', 2: 'is', 3: (1,4,5) }\n",
    "print(d)\n",
    "print (b)\n",
    "print(c)"
   ]
  },
  {
   "cell_type": "markdown",
   "id": "7b5ade8c",
   "metadata": {},
   "source": [
    "### Dictionary inside a dictionary"
   ]
  },
  {
   "cell_type": "code",
   "execution_count": 175,
   "id": "a815f4b1",
   "metadata": {},
   "outputs": [
    {
     "name": "stdout",
     "output_type": "stream",
     "text": [
      "{}\n",
      "{'Name': 'James', 'Gender': 'Male', 'Age': 45}\n",
      "{1: 'Life', 2: 'is', 3: 'Short'}\n",
      "{'x': [1, 2, 3], 'y': [4, 5, 6]}\n",
      "{1: 'd', 3: 'e'}\n"
     ]
    }
   ],
   "source": [
    "a = {}\n",
    "b = {'Name':'James','Gender':'Male','Age':45}\n",
    "c = {1:'Life', 2: 'is', 3: 'Short'}\n",
    "d = {'x':[1,2,3], 'y': [4,5,6]}\n",
    "e = {1:'d',3:'e'}\n",
    "print(a)\n",
    "print (b)\n",
    "print(c)\n",
    "print(d)\n",
    "print (e)"
   ]
  },
  {
   "cell_type": "markdown",
   "id": "a86351b9",
   "metadata": {},
   "source": [
    "#### Calling some parts using the Key in Distionary "
   ]
  },
  {
   "cell_type": "code",
   "execution_count": 186,
   "id": "2809246a",
   "metadata": {},
   "outputs": [
    {
     "data": {
      "text/plain": [
       "'d'"
      ]
     },
     "execution_count": 186,
     "metadata": {},
     "output_type": "execute_result"
    }
   ],
   "source": [
    "b['Name']\n",
    "e[1]"
   ]
  },
  {
   "cell_type": "markdown",
   "id": "248c2e3c",
   "metadata": {},
   "source": [
    "### Adding Values in the Dictionary"
   ]
  },
  {
   "cell_type": "code",
   "execution_count": 189,
   "id": "05980a2f",
   "metadata": {},
   "outputs": [
    {
     "name": "stdout",
     "output_type": "stream",
     "text": [
      "{'Name': 'Rafay', 'Age': 67, 'Gender': 'Male'}\n"
     ]
    }
   ],
   "source": [
    "b= {}\n",
    "b['Name']=\"Rafay\"\n",
    "b['Age']=67\n",
    "b['Gender']=\"Male\"\n",
    "print(b)"
   ]
  },
  {
   "cell_type": "markdown",
   "id": "a36eea44",
   "metadata": {},
   "source": [
    "## Check the number of keys"
   ]
  },
  {
   "cell_type": "code",
   "execution_count": 190,
   "id": "e2db2d90",
   "metadata": {},
   "outputs": [
    {
     "data": {
      "text/plain": [
       "dict_keys(['Name', 'Age', 'Gender'])"
      ]
     },
     "execution_count": 190,
     "metadata": {},
     "output_type": "execute_result"
    }
   ],
   "source": [
    "b.keys()"
   ]
  },
  {
   "cell_type": "markdown",
   "id": "52c64798",
   "metadata": {},
   "source": [
    "## Check the values in the key:\n",
    "You can use print function or the items functions"
   ]
  },
  {
   "cell_type": "code",
   "execution_count": 193,
   "id": "7c6fb108",
   "metadata": {},
   "outputs": [
    {
     "data": {
      "text/plain": [
       "dict_items([('Name', 'Rafay'), ('Age', 67), ('Gender', 'Male')])"
      ]
     },
     "execution_count": 193,
     "metadata": {},
     "output_type": "execute_result"
    }
   ],
   "source": [
    "b.items()"
   ]
  },
  {
   "cell_type": "markdown",
   "id": "466f1732",
   "metadata": {},
   "source": [
    "## Get a Specific Value from the Dictionary\n",
    "\n",
    "1) Fetch the value using the key only\n"
   ]
  },
  {
   "cell_type": "code",
   "execution_count": 196,
   "id": "cc3fd08c",
   "metadata": {},
   "outputs": [
    {
     "data": {
      "text/plain": [
       "'Rafay'"
      ]
     },
     "execution_count": 196,
     "metadata": {},
     "output_type": "execute_result"
    }
   ],
   "source": [
    "b.get('Name')"
   ]
  },
  {
   "cell_type": "markdown",
   "id": "f71d3aa3",
   "metadata": {},
   "source": [
    "### In Functions in Dictionary\n",
    "in will tell you that Key exist or not in the dictionary."
   ]
  },
  {
   "cell_type": "code",
   "execution_count": null,
   "id": "4a8b6aa4",
   "metadata": {},
   "outputs": [],
   "source": []
  },
  {
   "cell_type": "markdown",
   "id": "75f4d801",
   "metadata": {},
   "source": [
    "# Sets"
   ]
  },
  {
   "cell_type": "markdown",
   "id": "2065d0a0",
   "metadata": {},
   "source": [
    "## Basic Concept:\n",
    "1) Elements are not repearted <br>\n",
    "2) There is no concept of ordring(sorting) or indexing <br>\n",
    "3) Set is the collection of Data <br>\n",
    "\n",
    "<br>"
   ]
  },
  {
   "cell_type": "code",
   "execution_count": 202,
   "id": "88d5393a",
   "metadata": {},
   "outputs": [
    {
     "data": {
      "text/plain": [
       "{1, 4, 5, 6}"
      ]
     },
     "execution_count": 202,
     "metadata": {},
     "output_type": "execute_result"
    }
   ],
   "source": [
    "set1= set([1,4,5,6])\n",
    "set1"
   ]
  },
  {
   "cell_type": "markdown",
   "id": "0af1dd2d",
   "metadata": {},
   "source": [
    "# Coding Exercise 03"
   ]
  },
  {
   "cell_type": "markdown",
   "id": "19d86bb0",
   "metadata": {},
   "source": [
    "## 1: List"
   ]
  },
  {
   "cell_type": "markdown",
   "id": "dad47be9",
   "metadata": {},
   "source": [
    "### 1.1: Creating List"
   ]
  },
  {
   "cell_type": "code",
   "execution_count": 204,
   "id": "14ec9cb4",
   "metadata": {},
   "outputs": [
    {
     "data": {
      "text/plain": [
       "list"
      ]
     },
     "execution_count": 204,
     "metadata": {},
     "output_type": "execute_result"
    }
   ],
   "source": [
    "x= [1,3,True, False, 'Hello', [5,6,7,]]\n",
    "type(x)"
   ]
  },
  {
   "cell_type": "code",
   "execution_count": 206,
   "id": "74c102bc",
   "metadata": {},
   "outputs": [
    {
     "data": {
      "text/plain": [
       "range(1, 5)"
      ]
     },
     "execution_count": 206,
     "metadata": {},
     "output_type": "execute_result"
    }
   ],
   "source": [
    "# this calculate the range from the given list\n",
    "range(1,5)"
   ]
  },
  {
   "cell_type": "code",
   "execution_count": 208,
   "id": "b6b2cddd",
   "metadata": {},
   "outputs": [
    {
     "data": {
      "text/plain": [
       "[1, 2, 3, 4]"
      ]
     },
     "execution_count": 208,
     "metadata": {},
     "output_type": "execute_result"
    }
   ],
   "source": [
    "# This will list the range\n",
    "x = list(range(1,5))\n",
    "x"
   ]
  },
  {
   "cell_type": "code",
   "execution_count": 209,
   "id": "d08f881f",
   "metadata": {},
   "outputs": [
    {
     "data": {
      "text/plain": [
       "[1, 3, 5, 7, 9]"
      ]
     },
     "execution_count": 209,
     "metadata": {},
     "output_type": "execute_result"
    }
   ],
   "source": [
    "list(range(1,10,2))"
   ]
  },
  {
   "cell_type": "code",
   "execution_count": 210,
   "id": "13eef678",
   "metadata": {},
   "outputs": [
    {
     "data": {
      "text/plain": [
       "[0, 5, 10, 15, 20]"
      ]
     },
     "execution_count": 210,
     "metadata": {},
     "output_type": "execute_result"
    }
   ],
   "source": [
    "list(range(0,21,5))"
   ]
  },
  {
   "cell_type": "markdown",
   "id": "ed9237e3",
   "metadata": {},
   "source": [
    "### 1.2: Indexing and Slicing list"
   ]
  },
  {
   "cell_type": "code",
   "execution_count": 212,
   "id": "48ae017a",
   "metadata": {},
   "outputs": [
    {
     "data": {
      "text/plain": [
       "2"
      ]
     },
     "execution_count": 212,
     "metadata": {},
     "output_type": "execute_result"
    }
   ],
   "source": [
    "x = [1,2,['life','is']]\n",
    "x[1]"
   ]
  },
  {
   "cell_type": "code",
   "execution_count": 213,
   "id": "5f7c30c8",
   "metadata": {},
   "outputs": [
    {
     "data": {
      "text/plain": [
       "['life', 'is']"
      ]
     },
     "execution_count": 213,
     "metadata": {},
     "output_type": "execute_result"
    }
   ],
   "source": [
    "# Accessing value using the index from the list \n",
    "x[2]"
   ]
  },
  {
   "cell_type": "code",
   "execution_count": 214,
   "id": "c290e224",
   "metadata": {},
   "outputs": [
    {
     "data": {
      "text/plain": [
       "'is'"
      ]
     },
     "execution_count": 214,
     "metadata": {},
     "output_type": "execute_result"
    }
   ],
   "source": [
    "# Accessing the data from the list inside a list\n",
    "x[2][1]"
   ]
  },
  {
   "cell_type": "code",
   "execution_count": 216,
   "id": "8d13a50c",
   "metadata": {},
   "outputs": [
    {
     "data": {
      "text/plain": [
       "['a', 'b']"
      ]
     },
     "execution_count": 216,
     "metadata": {},
     "output_type": "execute_result"
    }
   ],
   "source": [
    "# the process is that the counter will go to the provided index and at \n",
    "# that idex will print the value from the list\n",
    "x =[1,2,3,['a','b','c'],4,5]\n",
    "x[3][:2]"
   ]
  },
  {
   "cell_type": "markdown",
   "id": "da6ef447",
   "metadata": {},
   "source": [
    "### 1.3: Opeeration with the lists:"
   ]
  },
  {
   "cell_type": "code",
   "execution_count": 217,
   "id": "41eaa1dc",
   "metadata": {},
   "outputs": [
    {
     "data": {
      "text/plain": [
       "[1, 2, 3, 4, 5, 6]"
      ]
     },
     "execution_count": 217,
     "metadata": {},
     "output_type": "execute_result"
    }
   ],
   "source": [
    "a=[1,2,3]\n",
    "b= [4,5,6]\n",
    "a+ b\n"
   ]
  },
  {
   "cell_type": "code",
   "execution_count": 218,
   "id": "cd197917",
   "metadata": {},
   "outputs": [
    {
     "data": {
      "text/plain": [
       "[1, 2, 3, 1, 2, 3, 1, 2, 3]"
      ]
     },
     "execution_count": 218,
     "metadata": {},
     "output_type": "execute_result"
    }
   ],
   "source": [
    "x = [1, 2, 3]\n",
    "x*3"
   ]
  },
  {
   "cell_type": "markdown",
   "id": "b39ce4e2",
   "metadata": {},
   "source": [
    "### 1.4: Changing the content:"
   ]
  },
  {
   "cell_type": "code",
   "execution_count": 219,
   "id": "100d6f8d",
   "metadata": {},
   "outputs": [
    {
     "data": {
      "text/plain": [
       "[1, -1, 3]"
      ]
     },
     "execution_count": 219,
     "metadata": {},
     "output_type": "execute_result"
    }
   ],
   "source": [
    "# the counter will go the index and will change the value according to \n",
    "#the user\n",
    "x= [1,2,3]\n",
    "x[1] = -1\n",
    "x"
   ]
  },
  {
   "cell_type": "code",
   "execution_count": 220,
   "id": "384be2d2",
   "metadata": {},
   "outputs": [
    {
     "data": {
      "text/plain": [
       "[1, 3, 5, 7, 9, 11, 3]"
      ]
     },
     "execution_count": 220,
     "metadata": {},
     "output_type": "execute_result"
    }
   ],
   "source": [
    "x[1:2] =[3,5,7,9,11]\n",
    "x"
   ]
  },
  {
   "cell_type": "code",
   "execution_count": 232,
   "id": "9e0172ad",
   "metadata": {},
   "outputs": [
    {
     "data": {
      "text/plain": [
       "[1, -1, -2, -3, 3]"
      ]
     },
     "execution_count": 232,
     "metadata": {},
     "output_type": "execute_result"
    }
   ],
   "source": [
    "# Changing somepart of the list\n",
    "x = [1, 2, 3]\n",
    "x[1:2] = [-1, -2, -3]\n",
    "x"
   ]
  },
  {
   "cell_type": "code",
   "execution_count": 233,
   "id": "6520c549",
   "metadata": {},
   "outputs": [
    {
     "data": {
      "text/plain": [
       "[1, [-1, -2, -3], 3]"
      ]
     },
     "execution_count": 233,
     "metadata": {},
     "output_type": "execute_result"
    }
   ],
   "source": [
    "# Changing some elements of the list\n",
    "x = [1, 2, 3]\n",
    "x[1] = [-1, -2, -3]\n",
    "x"
   ]
  },
  {
   "cell_type": "markdown",
   "id": "711529ff",
   "metadata": {},
   "source": [
    "### 1.5: Deleting List"
   ]
  },
  {
   "cell_type": "code",
   "execution_count": 235,
   "id": "c69cd3e6",
   "metadata": {},
   "outputs": [
    {
     "data": {
      "text/plain": [
       "[1, 4, 5, 6, 7, 8, 9]"
      ]
     },
     "execution_count": 235,
     "metadata": {},
     "output_type": "execute_result"
    }
   ],
   "source": [
    "# Deleteing part of the list\n",
    "x= [1,3,2,4,5,6,7,8,9]\n",
    "x[1:3] =[]\n",
    "x"
   ]
  },
  {
   "cell_type": "code",
   "execution_count": 236,
   "id": "d648cc0e",
   "metadata": {},
   "outputs": [
    {
     "data": {
      "text/plain": [
       "[1, 3, 4, 5, 6, 7, 8, 9]"
      ]
     },
     "execution_count": 236,
     "metadata": {},
     "output_type": "execute_result"
    }
   ],
   "source": [
    "# Delete some values at  index from the list\n",
    "x= [1,3,2,4,5,6,7,8,9]\n",
    "del x[2]\n",
    "x"
   ]
  },
  {
   "cell_type": "markdown",
   "id": "708278d0",
   "metadata": {},
   "source": [
    "### 1.6: Functions in the List:\n"
   ]
  },
  {
   "cell_type": "code",
   "execution_count": 237,
   "id": "a4af429e",
   "metadata": {},
   "outputs": [
    {
     "data": {
      "text/plain": [
       "9"
      ]
     },
     "execution_count": 237,
     "metadata": {},
     "output_type": "execute_result"
    }
   ],
   "source": [
    "# checking the length of the lsit\n",
    "x= [1,3,2,4,5,6,7,8,9]\n",
    "len(x)\n"
   ]
  },
  {
   "cell_type": "code",
   "execution_count": 238,
   "id": "fe2206f1",
   "metadata": {},
   "outputs": [
    {
     "data": {
      "text/plain": [
       "[1, 3, 2, 4, 5, 6, 7, 8, 9, 4, [5, 6]]"
      ]
     },
     "execution_count": 238,
     "metadata": {},
     "output_type": "execute_result"
    }
   ],
   "source": [
    "#adding values in the list using append function\n",
    "x= [1,3,2,4,5,6,7,8,9]\n",
    "x.append(4)\n",
    "x.append([5,6])\n",
    "x"
   ]
  },
  {
   "cell_type": "code",
   "execution_count": 243,
   "id": "ad6267c0",
   "metadata": {},
   "outputs": [
    {
     "data": {
      "text/plain": [
       "[9, 8, 7, 6, 5, 4, 2, 3, 1]"
      ]
     },
     "execution_count": 243,
     "metadata": {},
     "output_type": "execute_result"
    }
   ],
   "source": [
    "# Now we will reverse the list\n",
    "x= [1,3,2,4,5,6,7,8,9]\n",
    "x.reverse()\n",
    "x"
   ]
  },
  {
   "cell_type": "code",
   "execution_count": 244,
   "id": "bdf7c823",
   "metadata": {},
   "outputs": [
    {
     "data": {
      "text/plain": [
       "[1, 2, 3, 4, 5, 6, 7, 8, 9]"
      ]
     },
     "execution_count": 244,
     "metadata": {},
     "output_type": "execute_result"
    }
   ],
   "source": [
    "# now we will sort the list\n",
    "x= [1,3,2,4,5,6,7,8,9]\n",
    "x.sort()\n",
    "x"
   ]
  },
  {
   "cell_type": "code",
   "execution_count": 245,
   "id": "5929256e",
   "metadata": {},
   "outputs": [
    {
     "data": {
      "text/plain": [
       "[9, 8, 7, 6, 5, 4, 3, 2, 1]"
      ]
     },
     "execution_count": 245,
     "metadata": {},
     "output_type": "execute_result"
    }
   ],
   "source": [
    "# now we will sorted reverse the list\n",
    "x= [1,3,2,4,5,6,7,8,9]\n",
    "x.sort(reverse=True)\n",
    "x"
   ]
  },
  {
   "cell_type": "code",
   "execution_count": 246,
   "id": "9dbd2a9c",
   "metadata": {},
   "outputs": [
    {
     "data": {
      "text/plain": [
       "[1, 2, 3, 4, 5, 6, 7, 8, 9]"
      ]
     },
     "execution_count": 246,
     "metadata": {},
     "output_type": "execute_result"
    }
   ],
   "source": [
    "# now we will sort the list\n",
    "x= [1,3,2,4,5,6,7,8,9]\n",
    "sorted(x)"
   ]
  },
  {
   "cell_type": "code",
   "execution_count": 247,
   "id": "03ba8354",
   "metadata": {},
   "outputs": [
    {
     "data": {
      "text/plain": [
       "[1, 3, 2, 4, 5, 6, 7, 8, 9]"
      ]
     },
     "execution_count": 247,
     "metadata": {},
     "output_type": "execute_result"
    }
   ],
   "source": [
    "x"
   ]
  },
  {
   "cell_type": "markdown",
   "id": "9f9d1b31",
   "metadata": {},
   "source": [
    "## 2: Tuple: "
   ]
  },
  {
   "cell_type": "markdown",
   "id": "e6e8afe0",
   "metadata": {},
   "source": [
    "### 2.1: Creating Tuple"
   ]
  },
  {
   "cell_type": "code",
   "execution_count": 248,
   "id": "4d4fe852",
   "metadata": {},
   "outputs": [
    {
     "data": {
      "text/plain": [
       "tuple"
      ]
     },
     "execution_count": 248,
     "metadata": {},
     "output_type": "execute_result"
    }
   ],
   "source": [
    "x = (1, 3, True, False, 'Hello', [3,5,7])\n",
    "type(x)"
   ]
  },
  {
   "cell_type": "code",
   "execution_count": 249,
   "id": "bafd6d1f",
   "metadata": {},
   "outputs": [
    {
     "data": {
      "text/plain": [
       "(1, 2, 3, 4)"
      ]
     },
     "execution_count": 249,
     "metadata": {},
     "output_type": "execute_result"
    }
   ],
   "source": [
    "# checking the range in the tuple\n",
    "x= tuple(range(1,5))\n",
    "x"
   ]
  },
  {
   "cell_type": "markdown",
   "id": "26616a28",
   "metadata": {},
   "source": [
    "### 2.2:  Indexing And Slicing Tuple:"
   ]
  },
  {
   "cell_type": "code",
   "execution_count": 250,
   "id": "56e68617",
   "metadata": {},
   "outputs": [
    {
     "data": {
      "text/plain": [
       "('Life', 'is')"
      ]
     },
     "execution_count": 250,
     "metadata": {},
     "output_type": "execute_result"
    }
   ],
   "source": [
    "x = (1, 2, ('Life', 'is'))\n",
    "x[2]"
   ]
  },
  {
   "cell_type": "code",
   "execution_count": 251,
   "id": "c84c2392",
   "metadata": {},
   "outputs": [
    {
     "data": {
      "text/plain": [
       "'is'"
      ]
     },
     "execution_count": 251,
     "metadata": {},
     "output_type": "execute_result"
    }
   ],
   "source": [
    "x[2][1]"
   ]
  },
  {
   "cell_type": "code",
   "execution_count": 252,
   "id": "1e417b08",
   "metadata": {},
   "outputs": [
    {
     "data": {
      "text/plain": [
       "['a', 'b']"
      ]
     },
     "execution_count": 252,
     "metadata": {},
     "output_type": "execute_result"
    }
   ],
   "source": [
    "x = (1, 2, 3, ['a', 'b', 'c'], 4, 5)\n",
    "x[3][:2]"
   ]
  },
  {
   "cell_type": "markdown",
   "id": "0cc0faed",
   "metadata": {},
   "source": [
    "### 2.3: Operation with Tuples:"
   ]
  },
  {
   "cell_type": "code",
   "execution_count": null,
   "id": "5bf2c1b4",
   "metadata": {},
   "outputs": [],
   "source": [
    "a = (1, 2, 3)\n",
    "b = (4, 5, 6)\n",
    "a + b"
   ]
  },
  {
   "cell_type": "code",
   "execution_count": 253,
   "id": "337d3302",
   "metadata": {},
   "outputs": [
    {
     "data": {
      "text/plain": [
       "[1, 2, 3, 1, 2, 3, 1, 2, 3]"
      ]
     },
     "execution_count": 253,
     "metadata": {},
     "output_type": "execute_result"
    }
   ],
   "source": [
    "a*3"
   ]
  },
  {
   "cell_type": "markdown",
   "id": "1e323d4c",
   "metadata": {},
   "source": [
    "## 3: Dictionary "
   ]
  },
  {
   "cell_type": "markdown",
   "id": "6034dbed",
   "metadata": {},
   "source": [
    "### 3.1: Creating Dicctionaries:"
   ]
  },
  {
   "cell_type": "code",
   "execution_count": 263,
   "id": "a40f9284",
   "metadata": {},
   "outputs": [],
   "source": [
    "d = {'x':[1,2,3], 'y':[4,5,6]}"
   ]
  },
  {
   "cell_type": "code",
   "execution_count": 264,
   "id": "2708b23e",
   "metadata": {},
   "outputs": [
    {
     "data": {
      "text/plain": [
       "[1, 2, 3]"
      ]
     },
     "execution_count": 264,
     "metadata": {},
     "output_type": "execute_result"
    }
   ],
   "source": [
    "d['x']"
   ]
  },
  {
   "cell_type": "code",
   "execution_count": 261,
   "id": "d79b3b94",
   "metadata": {},
   "outputs": [
    {
     "ename": "TypeError",
     "evalue": "tuple indices must be integers or slices, not str",
     "output_type": "error",
     "traceback": [
      "\u001b[0;31m---------------------------------------------------------------------------\u001b[0m",
      "\u001b[0;31mTypeError\u001b[0m                                 Traceback (most recent call last)",
      "\u001b[0;32m<ipython-input-261-6bd6461b1d40>\u001b[0m in \u001b[0;36m<module>\u001b[0;34m\u001b[0m\n\u001b[0;32m----> 1\u001b[0;31m \u001b[0mx\u001b[0m\u001b[0;34m[\u001b[0m\u001b[0;34m'y'\u001b[0m\u001b[0;34m]\u001b[0m\u001b[0;34m\u001b[0m\u001b[0;34m\u001b[0m\u001b[0m\n\u001b[0m",
      "\u001b[0;31mTypeError\u001b[0m: tuple indices must be integers or slices, not str"
     ]
    }
   ],
   "source": [
    "x['y']"
   ]
  },
  {
   "cell_type": "markdown",
   "id": "8fef9250",
   "metadata": {},
   "source": [
    "### 3.2: Adding key Values"
   ]
  },
  {
   "cell_type": "code",
   "execution_count": 260,
   "id": "9d11f541",
   "metadata": {},
   "outputs": [
    {
     "data": {
      "text/plain": [
       "{'name': 'John', 'gender': 'Male', 'age': 23}"
      ]
     },
     "execution_count": 260,
     "metadata": {},
     "output_type": "execute_result"
    }
   ],
   "source": [
    "d = {}\n",
    "d['name'] = 'John'\n",
    "d['gender'] = 'Male'\n",
    "d['age'] = 23\n",
    "d"
   ]
  },
  {
   "cell_type": "code",
   "execution_count": 259,
   "id": "324a7ecf",
   "metadata": {},
   "outputs": [
    {
     "data": {
      "text/plain": [
       "{'name': 'John', 'gender': 'Male'}"
      ]
     },
     "execution_count": 259,
     "metadata": {},
     "output_type": "execute_result"
    }
   ],
   "source": [
    "del d['age']\n",
    "d"
   ]
  },
  {
   "cell_type": "code",
   "execution_count": 255,
   "id": "b2ac5f3b",
   "metadata": {},
   "outputs": [
    {
     "data": {
      "text/plain": [
       "{'x': [1, 2, 3], 'y': [4, 5, 6], 'name': 'Andrew'}"
      ]
     },
     "execution_count": 255,
     "metadata": {},
     "output_type": "execute_result"
    }
   ],
   "source": [
    "d['name'] = 'Andrew' \n",
    "d\n"
   ]
  },
  {
   "cell_type": "markdown",
   "id": "86118202",
   "metadata": {},
   "source": [
    "### 3.3. Dictionary methods and operations:"
   ]
  },
  {
   "cell_type": "code",
   "execution_count": 256,
   "id": "6de6689e",
   "metadata": {},
   "outputs": [
    {
     "data": {
      "text/plain": [
       "dict_keys(['x', 'y', 'name'])"
      ]
     },
     "execution_count": 256,
     "metadata": {},
     "output_type": "execute_result"
    }
   ],
   "source": [
    "d.keys()"
   ]
  },
  {
   "cell_type": "code",
   "execution_count": 258,
   "id": "1f077011",
   "metadata": {},
   "outputs": [
    {
     "data": {
      "text/plain": [
       "dict_values(['John', 'Male', 23])"
      ]
     },
     "execution_count": 258,
     "metadata": {},
     "output_type": "execute_result"
    }
   ],
   "source": [
    "d.values()"
   ]
  },
  {
   "cell_type": "code",
   "execution_count": 257,
   "id": "a84e58bf",
   "metadata": {},
   "outputs": [
    {
     "data": {
      "text/plain": [
       "0"
      ]
     },
     "execution_count": 257,
     "metadata": {},
     "output_type": "execute_result"
    }
   ],
   "source": [
    "d.items()\n",
    "d.clear()\n",
    "d\n",
    "d = {'name': 'John', 'gender': 'Male', 'age': 23} \n",
    "d.get('wage', 0)`"
   ]
  },
  {
   "cell_type": "code",
   "execution_count": 265,
   "id": "7ed11807",
   "metadata": {},
   "outputs": [
    {
     "data": {
      "text/plain": [
       "False"
      ]
     },
     "execution_count": 265,
     "metadata": {},
     "output_type": "execute_result"
    }
   ],
   "source": [
    "# Check whether 'name' is a key of d.\n",
    "'name' in d\n",
    "# Check whether 'wage' is a key of d.\n",
    "'wage' in d"
   ]
  },
  {
   "cell_type": "markdown",
   "id": "854ec051",
   "metadata": {},
   "source": [
    "## 4: Sets:"
   ]
  },
  {
   "cell_type": "markdown",
   "id": "4d69b6db",
   "metadata": {},
   "source": [
    "### 4.1: Creating Sets:"
   ]
  },
  {
   "cell_type": "code",
   "execution_count": 266,
   "id": "4bb295eb",
   "metadata": {},
   "outputs": [
    {
     "data": {
      "text/plain": [
       "{1, 2, 3, 4, 5}"
      ]
     },
     "execution_count": 266,
     "metadata": {},
     "output_type": "execute_result"
    }
   ],
   "source": [
    "b = set([1,2,3,3,3,3,4,5])\n",
    "b"
   ]
  },
  {
   "cell_type": "markdown",
   "id": "e2359dbf",
   "metadata": {},
   "source": [
    "### 4.2: operations with Sets:"
   ]
  },
  {
   "cell_type": "code",
   "execution_count": 267,
   "id": "4c4179dc",
   "metadata": {},
   "outputs": [
    {
     "data": {
      "text/plain": [
       "{4, 5}"
      ]
     },
     "execution_count": 267,
     "metadata": {},
     "output_type": "execute_result"
    }
   ],
   "source": [
    "s1 = set([1, 2, 3, 4, 5])\n",
    "s2 = set([4, 5, 6, 7, 8])\n",
    "s1 & s2"
   ]
  },
  {
   "cell_type": "code",
   "execution_count": 269,
   "id": "fa1f25b0",
   "metadata": {},
   "outputs": [
    {
     "data": {
      "text/plain": [
       "{4, 5}"
      ]
     },
     "execution_count": 269,
     "metadata": {},
     "output_type": "execute_result"
    }
   ],
   "source": [
    "s1.intersection(s2)"
   ]
  },
  {
   "cell_type": "code",
   "execution_count": 270,
   "id": "68276317",
   "metadata": {},
   "outputs": [
    {
     "data": {
      "text/plain": [
       "{1, 2, 3, 4, 5, 6, 7, 8}"
      ]
     },
     "execution_count": 270,
     "metadata": {},
     "output_type": "execute_result"
    }
   ],
   "source": [
    "\n",
    "\n",
    "s1 | s2\n",
    "\n"
   ]
  },
  {
   "cell_type": "code",
   "execution_count": 271,
   "id": "12fc0c43",
   "metadata": {},
   "outputs": [
    {
     "data": {
      "text/plain": [
       "{1, 2, 3, 4, 5, 6, 7, 8}"
      ]
     },
     "execution_count": 271,
     "metadata": {},
     "output_type": "execute_result"
    }
   ],
   "source": [
    "s1.union(s2)\n"
   ]
  },
  {
   "cell_type": "code",
   "execution_count": 272,
   "id": "d65f18d9",
   "metadata": {},
   "outputs": [
    {
     "data": {
      "text/plain": [
       "{1, 2, 3}"
      ]
     },
     "execution_count": 272,
     "metadata": {},
     "output_type": "execute_result"
    }
   ],
   "source": [
    "s1 - s2"
   ]
  },
  {
   "cell_type": "code",
   "execution_count": 273,
   "id": "a9328ee8",
   "metadata": {},
   "outputs": [
    {
     "data": {
      "text/plain": [
       "{1, 2, 3}"
      ]
     },
     "execution_count": 273,
     "metadata": {},
     "output_type": "execute_result"
    }
   ],
   "source": [
    "s1.difference(s2)"
   ]
  },
  {
   "cell_type": "code",
   "execution_count": 274,
   "id": "b545108b",
   "metadata": {},
   "outputs": [
    {
     "data": {
      "text/plain": [
       "{1, 2, 3, 4, 5, 6}"
      ]
     },
     "execution_count": 274,
     "metadata": {},
     "output_type": "execute_result"
    }
   ],
   "source": [
    "\n",
    "\n",
    "a = set([1, 2, 3, 4, 5]) \n",
    "a.add(6)\n",
    "a\n",
    "\n"
   ]
  },
  {
   "cell_type": "code",
   "execution_count": 275,
   "id": "03d99c9b",
   "metadata": {},
   "outputs": [
    {
     "data": {
      "text/plain": [
       "{1, 2, 3, 4, 5, 6, 7, 8, 9}"
      ]
     },
     "execution_count": 275,
     "metadata": {},
     "output_type": "execute_result"
    }
   ],
   "source": [
    "a.update([7, 8, 9])\n",
    "a"
   ]
  },
  {
   "cell_type": "code",
   "execution_count": 276,
   "id": "9603f4e3",
   "metadata": {},
   "outputs": [
    {
     "data": {
      "text/plain": [
       "{1, 2, 3, 4, 5, 6, 7, 8}"
      ]
     },
     "execution_count": 276,
     "metadata": {},
     "output_type": "execute_result"
    }
   ],
   "source": [
    "a.remove(9)\n",
    "a"
   ]
  },
  {
   "cell_type": "code",
   "execution_count": 277,
   "id": "07068d72",
   "metadata": {},
   "outputs": [
    {
     "name": "stdout",
     "output_type": "stream",
     "text": [
      "End of Exercise\n"
     ]
    }
   ],
   "source": [
    "print(\"End of Exercise\")"
   ]
  }
 ],
 "metadata": {
  "kernelspec": {
   "display_name": "Python 3",
   "language": "python",
   "name": "python3"
  },
  "language_info": {
   "codemirror_mode": {
    "name": "ipython",
    "version": 3
   },
   "file_extension": ".py",
   "mimetype": "text/x-python",
   "name": "python",
   "nbconvert_exporter": "python",
   "pygments_lexer": "ipython3",
   "version": "3.8.8"
  }
 },
 "nbformat": 4,
 "nbformat_minor": 5
}
