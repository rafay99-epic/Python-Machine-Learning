{
 "cells": [
  {
   "cell_type": "markdown",
   "id": "a93eabe5",
   "metadata": {},
   "source": [
    "Lecture 8<br>\n",
    "Day: wednesday<br>\n",
    "Date: Oct 06th 2021"
   ]
  },
  {
   "cell_type": "markdown",
   "id": "b085d6d0",
   "metadata": {},
   "source": [
    "### Problem Solve:\n"
   ]
  },
  {
   "cell_type": "code",
   "execution_count": 1,
   "id": "74573a0c",
   "metadata": {},
   "outputs": [],
   "source": [
    "import numpy as np"
   ]
  },
  {
   "cell_type": "code",
   "execution_count": 2,
   "id": "8796c4af",
   "metadata": {},
   "outputs": [],
   "source": [
    "import os "
   ]
  },
  {
   "cell_type": "code",
   "execution_count": 3,
   "id": "3ca0c0a2",
   "metadata": {},
   "outputs": [],
   "source": [
    "import random"
   ]
  },
  {
   "cell_type": "code",
   "execution_count": 8,
   "id": "d81c8eaf",
   "metadata": {},
   "outputs": [],
   "source": [
    "Quiz = np.random.randint(0,16,size =40)"
   ]
  },
  {
   "cell_type": "code",
   "execution_count": 9,
   "id": "63b384a8",
   "metadata": {},
   "outputs": [
    {
     "name": "stdout",
     "output_type": "stream",
     "text": [
      "[ 6 14  8  9 13 14 15  8 11  7  2  0  0  7  8  6 14  0  1 14  7  2  0 10\n",
      " 13 11 13 13  7 14  7  6  1  8  1 11 13 14 12 11]\n"
     ]
    }
   ],
   "source": [
    "print(Quiz)"
   ]
  },
  {
   "cell_type": "code",
   "execution_count": 10,
   "id": "c785391d",
   "metadata": {},
   "outputs": [],
   "source": [
    "Assignment = np.random.randint(0,51, size = 50)"
   ]
  },
  {
   "cell_type": "code",
   "execution_count": 11,
   "id": "a2c6c46d",
   "metadata": {},
   "outputs": [
    {
     "name": "stdout",
     "output_type": "stream",
     "text": [
      "[33 37 18 42 38 46  6 36 49 24 17 44 12 41  8 47 21 29 10  4  2 43 48 17\n",
      " 44 45 39 23  9 31 13 26 21 34 24  6  7  9 50 29  4 14 37 29  3 21 39 23\n",
      " 33 15]\n"
     ]
    }
   ],
   "source": [
    "print(Assignment)"
   ]
  },
  {
   "cell_type": "code",
   "execution_count": 12,
   "id": "a633dfbe",
   "metadata": {},
   "outputs": [],
   "source": [
    "Mid= np.random.randint(0,81, size= 80)"
   ]
  },
  {
   "cell_type": "code",
   "execution_count": 14,
   "id": "b60e8c14",
   "metadata": {},
   "outputs": [
    {
     "name": "stdout",
     "output_type": "stream",
     "text": [
      "[59 10 51 60 36 62 75 41 66 44 41 56  3 63 29 15 27 54 22 74  1 71 74 51\n",
      " 22 59 74 11 26 74  8 21 50 53 71 59 51 34 41 33  4 78 53 76 36  6 49  9\n",
      "  8 28 31 37 12  8 25  6 50 37 10 14 62 30  8 52 32  5 69 74 42 35  0 65\n",
      " 42  8 22 51 41 16 36 12]\n"
     ]
    }
   ],
   "source": [
    "print(Mid)"
   ]
  },
  {
   "cell_type": "code",
   "execution_count": 15,
   "id": "4830e902",
   "metadata": {},
   "outputs": [],
   "source": [
    "Final = np.random.randint(0, 151, size = 150 )"
   ]
  },
  {
   "cell_type": "code",
   "execution_count": 16,
   "id": "3f6b82bb",
   "metadata": {},
   "outputs": [
    {
     "name": "stdout",
     "output_type": "stream",
     "text": [
      "[ 49  93 144  54 119  67 138  91 126  53 104 112  81  77   2  74  63  69\n",
      "  47  88 117  97  39 111  65  60  96 101 113  48  67  41  62  72  20  37\n",
      "   0  27   9  97 140  95 140 118  50  42  27 122  53  65  75 116 129 128\n",
      "  13  45  68  65  84  88 108 145  78 136  93  81  31 126  85   1  13  13\n",
      "  89 150  60   7 124  54  67  98  63  41  15  43 130 124 125 146   5   8\n",
      "  87  32  55  91  94  58  64  85 115  13  58 100  79  20 144  70  71 136\n",
      "  20  92  30  23  43  60   1  81   5  22  64  90  52 100  21  17 131 111\n",
      "  49  73  56  58 108  22  96  46 131  73  72  45 112  56  14  43  46  97\n",
      "  49  95 118  68   4  55]\n"
     ]
    }
   ],
   "source": [
    "print(Final)"
   ]
  },
  {
   "cell_type": "code",
   "execution_count": 32,
   "id": "caee4573",
   "metadata": {},
   "outputs": [],
   "source": [
    "Quiz_Sum = (Quiz/15) * 30"
   ]
  },
  {
   "cell_type": "code",
   "execution_count": 33,
   "id": "1354f762",
   "metadata": {},
   "outputs": [
    {
     "name": "stdout",
     "output_type": "stream",
     "text": [
      "[12. 28. 16. 18. 26. 28. 30. 16. 22. 14.  4.  0.  0. 14. 16. 12. 28.  0.\n",
      "  2. 28. 14.  4.  0. 20. 26. 22. 26. 26. 14. 28. 14. 12.  2. 16.  2. 22.\n",
      " 26. 28. 24. 22.]\n"
     ]
    }
   ],
   "source": [
    "print(Quiz_Sum)"
   ]
  },
  {
   "cell_type": "code",
   "execution_count": 30,
   "id": "7265285b",
   "metadata": {},
   "outputs": [],
   "source": [
    "Final_Sum= (Final/150)* 40 "
   ]
  },
  {
   "cell_type": "code",
   "execution_count": 31,
   "id": "908f073f",
   "metadata": {},
   "outputs": [
    {
     "name": "stdout",
     "output_type": "stream",
     "text": [
      "[13.06666667 24.8        38.4        14.4        31.73333333 17.86666667\n",
      " 36.8        24.26666667 33.6        14.13333333 27.73333333 29.86666667\n",
      " 21.6        20.53333333  0.53333333 19.73333333 16.8        18.4\n",
      " 12.53333333 23.46666667 31.2        25.86666667 10.4        29.6\n",
      " 17.33333333 16.         25.6        26.93333333 30.13333333 12.8\n",
      " 17.86666667 10.93333333 16.53333333 19.2         5.33333333  9.86666667\n",
      "  0.          7.2         2.4        25.86666667 37.33333333 25.33333333\n",
      " 37.33333333 31.46666667 13.33333333 11.2         7.2        32.53333333\n",
      " 14.13333333 17.33333333 20.         30.93333333 34.4        34.13333333\n",
      "  3.46666667 12.         18.13333333 17.33333333 22.4        23.46666667\n",
      " 28.8        38.66666667 20.8        36.26666667 24.8        21.6\n",
      "  8.26666667 33.6        22.66666667  0.26666667  3.46666667  3.46666667\n",
      " 23.73333333 40.         16.          1.86666667 33.06666667 14.4\n",
      " 17.86666667 26.13333333 16.8        10.93333333  4.         11.46666667\n",
      " 34.66666667 33.06666667 33.33333333 38.93333333  1.33333333  2.13333333\n",
      " 23.2         8.53333333 14.66666667 24.26666667 25.06666667 15.46666667\n",
      " 17.06666667 22.66666667 30.66666667  3.46666667 15.46666667 26.66666667\n",
      " 21.06666667  5.33333333 38.4        18.66666667 18.93333333 36.26666667\n",
      "  5.33333333 24.53333333  8.          6.13333333 11.46666667 16.\n",
      "  0.26666667 21.6         1.33333333  5.86666667 17.06666667 24.\n",
      " 13.86666667 26.66666667  5.6         4.53333333 34.93333333 29.6\n",
      " 13.06666667 19.46666667 14.93333333 15.46666667 28.8         5.86666667\n",
      " 25.6        12.26666667 34.93333333 19.46666667 19.2        12.\n",
      " 29.86666667 14.93333333  3.73333333 11.46666667 12.26666667 25.86666667\n",
      " 13.06666667 25.33333333 31.46666667 18.13333333  1.06666667 14.66666667]\n"
     ]
    }
   ],
   "source": [
    "print(Final_Sum)"
   ]
  },
  {
   "cell_type": "code",
   "execution_count": 21,
   "id": "f8036a72",
   "metadata": {},
   "outputs": [],
   "source": [
    "Mid_Sum = (Mid / 10 )* 20"
   ]
  },
  {
   "cell_type": "code",
   "execution_count": 22,
   "id": "859e85a9",
   "metadata": {},
   "outputs": [
    {
     "name": "stdout",
     "output_type": "stream",
     "text": [
      "[590. 100. 510. 600. 360. 620. 750. 410. 660. 440. 410. 560.  30. 630.\n",
      " 290. 150. 270. 540. 220. 740.  10. 710. 740. 510. 220. 590. 740. 110.\n",
      " 260. 740.  80. 210. 500. 530. 710. 590. 510. 340. 410. 330.  40. 780.\n",
      " 530. 760. 360.  60. 490.  90.  80. 280. 310. 370. 120.  80. 250.  60.\n",
      " 500. 370. 100. 140. 620. 300.  80. 520. 320.  50. 690. 740. 420. 350.\n",
      "   0. 650. 420.  80. 220. 510. 410. 160. 360. 120.]\n"
     ]
    }
   ],
   "source": [
    "print(Mid_Sum)"
   ]
  },
  {
   "cell_type": "code",
   "execution_count": 34,
   "id": "0deb539f",
   "metadata": {},
   "outputs": [],
   "source": [
    "Assignment_Sum = (Assignment / 50) * 30"
   ]
  },
  {
   "cell_type": "code",
   "execution_count": 35,
   "id": "096f4bac",
   "metadata": {},
   "outputs": [
    {
     "name": "stdout",
     "output_type": "stream",
     "text": [
      "[19.8 22.2 10.8 25.2 22.8 27.6  3.6 21.6 29.4 14.4 10.2 26.4  7.2 24.6\n",
      "  4.8 28.2 12.6 17.4  6.   2.4  1.2 25.8 28.8 10.2 26.4 27.  23.4 13.8\n",
      "  5.4 18.6  7.8 15.6 12.6 20.4 14.4  3.6  4.2  5.4 30.  17.4  2.4  8.4\n",
      " 22.2 17.4  1.8 12.6 23.4 13.8 19.8  9. ]\n"
     ]
    }
   ],
   "source": [
    "print(Assignment_Sum)"
   ]
  },
  {
   "cell_type": "code",
   "execution_count": 27,
   "id": "f992c8dd",
   "metadata": {},
   "outputs": [
    {
     "ename": "ValueError",
     "evalue": "operands could not be broadcast together with shapes (50,) (80,) ",
     "output_type": "error",
     "traceback": [
      "\u001b[0;31m---------------------------------------------------------------------------\u001b[0m",
      "\u001b[0;31mValueError\u001b[0m                                Traceback (most recent call last)",
      "\u001b[0;32m<ipython-input-27-d848128fd179>\u001b[0m in \u001b[0;36m<module>\u001b[0;34m\u001b[0m\n\u001b[0;32m----> 1\u001b[0;31m \u001b[0mFinal_Marks\u001b[0m \u001b[0;34m=\u001b[0m \u001b[0mAssignment_Sum\u001b[0m \u001b[0;34m+\u001b[0m \u001b[0mMid_Sum\u001b[0m\u001b[0;34m+\u001b[0m \u001b[0mFinal_Sum\u001b[0m \u001b[0;34m+\u001b[0m   \u001b[0mQuiz_Sum\u001b[0m\u001b[0;34m\u001b[0m\u001b[0;34m\u001b[0m\u001b[0m\n\u001b[0m\u001b[1;32m      2\u001b[0m \u001b[0mprint\u001b[0m\u001b[0;34m(\u001b[0m\u001b[0mFinal_Marks\u001b[0m\u001b[0;34m)\u001b[0m\u001b[0;34m\u001b[0m\u001b[0;34m\u001b[0m\u001b[0m\n",
      "\u001b[0;31mValueError\u001b[0m: operands could not be broadcast together with shapes (50,) (80,) "
     ]
    }
   ],
   "source": [
    "Final_Marks = Assignment_Sum + Mid_Sum+ Final_Sum +   Quiz_Sum\n",
    "print(Final_Marks)"
   ]
  },
  {
   "cell_type": "code",
   "execution_count": 37,
   "id": "9ecc7315",
   "metadata": {},
   "outputs": [],
   "source": [
    "import pandas as pd"
   ]
  },
  {
   "cell_type": "code",
   "execution_count": 38,
   "id": "ddc4630a",
   "metadata": {},
   "outputs": [],
   "source": [
    "# Create a basic Series:\n",
    "x = pd.Series([1,2,3,4,5,6,7,8])\n",
    "# left side are the index \n",
    "# in Series "
   ]
  },
  {
   "cell_type": "code",
   "execution_count": 39,
   "id": "7e3a56ee",
   "metadata": {},
   "outputs": [
    {
     "name": "stdout",
     "output_type": "stream",
     "text": [
      "0    1\n",
      "1    2\n",
      "2    3\n",
      "3    4\n",
      "4    5\n",
      "5    6\n",
      "6    7\n",
      "7    8\n",
      "dtype: int64\n"
     ]
    }
   ],
   "source": [
    "print(x)"
   ]
  },
  {
   "cell_type": "code",
   "execution_count": 71,
   "id": "bd73a35f",
   "metadata": {},
   "outputs": [
    {
     "name": "stdout",
     "output_type": "stream",
     "text": [
      "a    1\n",
      "b    2\n",
      "c    3\n",
      "d    4\n",
      "dtype: int64\n"
     ]
    }
   ],
   "source": [
    "# in this we can also assign the index in series as well\n",
    "data_new = [1,2,3,4]\n",
    "index_new= ['a','b','c','d']\n",
    "eye = pd.Series(data=data_new , index=index_new )\n",
    "print(eye)"
   ]
  },
  {
   "cell_type": "code",
   "execution_count": 44,
   "id": "cf337a12",
   "metadata": {},
   "outputs": [
    {
     "ename": "SyntaxError",
     "evalue": "invalid syntax (<ipython-input-44-adf280dd3d6d>, line 6)",
     "output_type": "error",
     "traceback": [
      "\u001b[0;36m  File \u001b[0;32m\"<ipython-input-44-adf280dd3d6d>\"\u001b[0;36m, line \u001b[0;32m6\u001b[0m\n\u001b[0;31m    ser.sort_values()ser.sort_index()\u001b[0m\n\u001b[0m                     ^\u001b[0m\n\u001b[0;31mSyntaxError\u001b[0m\u001b[0;31m:\u001b[0m invalid syntax\n"
     ]
    }
   ],
   "source": [
    "# There are different attributies\n",
    "# All of the array function can be imported in the series as well,\n",
    "ser.name\n",
    "ser.index\n",
    "ser.values\n",
    "ser.sort_values()\n",
    "ser.sort_index()\n"
   ]
  },
  {
   "cell_type": "code",
   "execution_count": 45,
   "id": "4f37ffa2",
   "metadata": {},
   "outputs": [],
   "source": [
    "# Splicaing the values and print data using range as well\n",
    "x = pd.Series([1,2,3,4,5,6,7,8])"
   ]
  },
  {
   "cell_type": "code",
   "execution_count": 46,
   "id": "bb8913ff",
   "metadata": {},
   "outputs": [
    {
     "data": {
      "text/plain": [
       "2"
      ]
     },
     "execution_count": 46,
     "metadata": {},
     "output_type": "execute_result"
    }
   ],
   "source": [
    "x[1]"
   ]
  },
  {
   "cell_type": "code",
   "execution_count": 55,
   "id": "539da836",
   "metadata": {},
   "outputs": [],
   "source": [
    "# while adding the index must me same if index are not same then the operation will not be formed\n",
    "# the above will only be implmented when there are two series but if there is one series then you can add vales in the index\n"
   ]
  },
  {
   "cell_type": "code",
   "execution_count": 59,
   "id": "a967e6a9",
   "metadata": {},
   "outputs": [],
   "source": [
    "# for One Series\n",
    "x[3]=x[1]+ x[2] "
   ]
  },
  {
   "cell_type": "code",
   "execution_count": 57,
   "id": "e52fce80",
   "metadata": {},
   "outputs": [
    {
     "data": {
      "text/plain": [
       "5"
      ]
     },
     "execution_count": 57,
     "metadata": {},
     "output_type": "execute_result"
    }
   ],
   "source": [
    "x[3]"
   ]
  },
  {
   "cell_type": "code",
   "execution_count": 58,
   "id": "403ba69a",
   "metadata": {},
   "outputs": [
    {
     "name": "stdout",
     "output_type": "stream",
     "text": [
      "0    1\n",
      "1    2\n",
      "2    3\n",
      "3    5\n",
      "4    5\n",
      "5    6\n",
      "6    7\n",
      "7    8\n",
      "dtype: int64\n"
     ]
    }
   ],
   "source": [
    "print(x)"
   ]
  },
  {
   "cell_type": "code",
   "execution_count": 60,
   "id": "1484957c",
   "metadata": {},
   "outputs": [],
   "source": [
    "# For Two Series:\n",
    "x = pd.Series([1,2,3,4,5,6,7,8])\n",
    "y = pd.Series([17,9,10,11,12,13,15,16])\n",
    "z = x+y "
   ]
  },
  {
   "cell_type": "code",
   "execution_count": 61,
   "id": "b4df4900",
   "metadata": {},
   "outputs": [
    {
     "name": "stdout",
     "output_type": "stream",
     "text": [
      "0    18\n",
      "1    11\n",
      "2    13\n",
      "3    15\n",
      "4    17\n",
      "5    19\n",
      "6    22\n",
      "7    24\n",
      "dtype: int64\n"
     ]
    }
   ],
   "source": [
    "# As you can see the same index values are sum.\n",
    "print(z)"
   ]
  },
  {
   "cell_type": "markdown",
   "id": "43a174b5",
   "metadata": {},
   "source": [
    "# Exercise "
   ]
  },
  {
   "cell_type": "code",
   "execution_count": 66,
   "id": "96f3b53a",
   "metadata": {},
   "outputs": [],
   "source": [
    "my_index =['a','b','c']\n",
    "my_values = [223,224,334]\n",
    "my_dict = {'a':222, 'b':333, 'c':334}\n",
    "my_arr = np.array(my_values)"
   ]
  },
  {
   "cell_type": "code",
   "execution_count": 67,
   "id": "3b8fac71",
   "metadata": {},
   "outputs": [
    {
     "data": {
      "text/plain": [
       "0    223\n",
       "1    224\n",
       "2    334\n",
       "dtype: int64"
      ]
     },
     "execution_count": 67,
     "metadata": {},
     "output_type": "execute_result"
    }
   ],
   "source": [
    "pd.Series(my_values)"
   ]
  },
  {
   "cell_type": "code",
   "execution_count": 73,
   "id": "dcf38e65",
   "metadata": {},
   "outputs": [
    {
     "data": {
      "text/plain": [
       "a    223\n",
       "b    224\n",
       "c    334\n",
       "dtype: int64"
      ]
     },
     "execution_count": 73,
     "metadata": {},
     "output_type": "execute_result"
    }
   ],
   "source": [
    "pd.Series(data= my_values, index= my_index)"
   ]
  },
  {
   "cell_type": "code",
   "execution_count": 74,
   "id": "aff48fce",
   "metadata": {},
   "outputs": [
    {
     "data": {
      "text/plain": [
       "0    223\n",
       "1    224\n",
       "2    334\n",
       "dtype: int64"
      ]
     },
     "execution_count": 74,
     "metadata": {},
     "output_type": "execute_result"
    }
   ],
   "source": [
    "pd.Series(my_arr)"
   ]
  },
  {
   "cell_type": "code",
   "execution_count": 75,
   "id": "932203f4",
   "metadata": {},
   "outputs": [
    {
     "data": {
      "text/plain": [
       "a    222\n",
       "b    333\n",
       "c    334\n",
       "dtype: int64"
      ]
     },
     "execution_count": 75,
     "metadata": {},
     "output_type": "execute_result"
    }
   ],
   "source": [
    "pd.Series(my_dict)"
   ]
  },
  {
   "cell_type": "markdown",
   "id": "184e83fe",
   "metadata": {},
   "source": [
    "1.2. Series attributes and indexing:"
   ]
  },
  {
   "cell_type": "code",
   "execution_count": 76,
   "id": "c4689b7f",
   "metadata": {},
   "outputs": [],
   "source": [
    "s = pd.Series(data =[111,222,333,444], index= ['a','b','c','d'], name= 'MySeries')"
   ]
  },
  {
   "cell_type": "code",
   "execution_count": 78,
   "id": "e1261ece",
   "metadata": {},
   "outputs": [
    {
     "data": {
      "text/plain": [
       "Index(['a', 'b', 'c', 'd'], dtype='object')"
      ]
     },
     "execution_count": 78,
     "metadata": {},
     "output_type": "execute_result"
    }
   ],
   "source": [
    "s.index"
   ]
  },
  {
   "cell_type": "code",
   "execution_count": 79,
   "id": "58b8e188",
   "metadata": {},
   "outputs": [
    {
     "data": {
      "text/plain": [
       "'MySeries'"
      ]
     },
     "execution_count": 79,
     "metadata": {},
     "output_type": "execute_result"
    }
   ],
   "source": [
    "s.name"
   ]
  },
  {
   "cell_type": "code",
   "execution_count": 80,
   "id": "6e330a79",
   "metadata": {},
   "outputs": [
    {
     "data": {
      "text/plain": [
       "dtype('int64')"
      ]
     },
     "execution_count": 80,
     "metadata": {},
     "output_type": "execute_result"
    }
   ],
   "source": [
    "s.dtype"
   ]
  },
  {
   "cell_type": "code",
   "execution_count": 81,
   "id": "1dca7c8b",
   "metadata": {},
   "outputs": [
    {
     "data": {
      "text/plain": [
       "222"
      ]
     },
     "execution_count": 81,
     "metadata": {},
     "output_type": "execute_result"
    }
   ],
   "source": [
    "s[1]"
   ]
  },
  {
   "cell_type": "code",
   "execution_count": 82,
   "id": "9caa8e96",
   "metadata": {},
   "outputs": [
    {
     "data": {
      "text/plain": [
       "111"
      ]
     },
     "execution_count": 82,
     "metadata": {},
     "output_type": "execute_result"
    }
   ],
   "source": [
    "s['a']"
   ]
  },
  {
   "cell_type": "code",
   "execution_count": 83,
   "id": "4954939a",
   "metadata": {},
   "outputs": [
    {
     "data": {
      "text/plain": [
       "a    111\n",
       "d    444\n",
       "Name: MySeries, dtype: int64"
      ]
     },
     "execution_count": 83,
     "metadata": {},
     "output_type": "execute_result"
    }
   ],
   "source": [
    "s[['a','d']]"
   ]
  },
  {
   "cell_type": "code",
   "execution_count": 84,
   "id": "76f83998",
   "metadata": {},
   "outputs": [],
   "source": [
    "s1 = pd.Series(data=[1,2,3,4], index = ['d','b','c','a'])\n",
    "s2 = pd.Series(data=[1,2,3,4], index = ['a','b','d','e'])\n"
   ]
  },
  {
   "cell_type": "code",
   "execution_count": 86,
   "id": "34cbb0b7",
   "metadata": {},
   "outputs": [
    {
     "data": {
      "text/plain": [
       "a    5.0\n",
       "b    4.0\n",
       "c    NaN\n",
       "d    4.0\n",
       "e    NaN\n",
       "dtype: float64"
      ]
     },
     "execution_count": 86,
     "metadata": {},
     "output_type": "execute_result"
    }
   ],
   "source": [
    "s1 + s2"
   ]
  },
  {
   "cell_type": "code",
   "execution_count": 87,
   "id": "7fe5d294",
   "metadata": {},
   "outputs": [
    {
     "data": {
      "text/plain": [
       "a    3.0\n",
       "b    0.0\n",
       "c    NaN\n",
       "d   -2.0\n",
       "e    NaN\n",
       "dtype: float64"
      ]
     },
     "execution_count": 87,
     "metadata": {},
     "output_type": "execute_result"
    }
   ],
   "source": [
    "s1-s2"
   ]
  },
  {
   "cell_type": "code",
   "execution_count": 88,
   "id": "7f1f7f99",
   "metadata": {},
   "outputs": [
    {
     "data": {
      "text/plain": [
       "a    4.0\n",
       "b    4.0\n",
       "c    NaN\n",
       "d    3.0\n",
       "e    NaN\n",
       "dtype: float64"
      ]
     },
     "execution_count": 88,
     "metadata": {},
     "output_type": "execute_result"
    }
   ],
   "source": [
    "s1* s2"
   ]
  },
  {
   "cell_type": "code",
   "execution_count": 89,
   "id": "9e43866c",
   "metadata": {},
   "outputs": [
    {
     "data": {
      "text/plain": [
       "a    4.000000\n",
       "b    1.000000\n",
       "c         NaN\n",
       "d    0.333333\n",
       "e         NaN\n",
       "dtype: float64"
      ]
     },
     "execution_count": 89,
     "metadata": {},
     "output_type": "execute_result"
    }
   ],
   "source": [
    "s1/s2"
   ]
  },
  {
   "cell_type": "code",
   "execution_count": 90,
   "id": "7af00b81",
   "metadata": {},
   "outputs": [
    {
     "data": {
      "text/plain": [
       "d    2\n",
       "b    4\n",
       "c    6\n",
       "a    8\n",
       "dtype: int64"
      ]
     },
     "execution_count": 90,
     "metadata": {},
     "output_type": "execute_result"
    }
   ],
   "source": [
    "2*s1"
   ]
  },
  {
   "cell_type": "code",
   "execution_count": 91,
   "id": "e13b3562",
   "metadata": {},
   "outputs": [
    {
     "data": {
      "text/plain": [
       "10"
      ]
     },
     "execution_count": 91,
     "metadata": {},
     "output_type": "execute_result"
    }
   ],
   "source": [
    "s1.sum()"
   ]
  },
  {
   "cell_type": "code",
   "execution_count": 92,
   "id": "0d4aee86",
   "metadata": {},
   "outputs": [
    {
     "data": {
      "text/plain": [
       "2.5"
      ]
     },
     "execution_count": 92,
     "metadata": {},
     "output_type": "execute_result"
    }
   ],
   "source": [
    "s1.mean()"
   ]
  },
  {
   "cell_type": "code",
   "execution_count": 93,
   "id": "35c8c150",
   "metadata": {},
   "outputs": [
    {
     "data": {
      "text/plain": [
       "2.5"
      ]
     },
     "execution_count": 93,
     "metadata": {},
     "output_type": "execute_result"
    }
   ],
   "source": [
    "s1.median()"
   ]
  },
  {
   "cell_type": "code",
   "execution_count": 94,
   "id": "395b556a",
   "metadata": {},
   "outputs": [
    {
     "data": {
      "text/plain": [
       "4"
      ]
     },
     "execution_count": 94,
     "metadata": {},
     "output_type": "execute_result"
    }
   ],
   "source": [
    "s1.max()"
   ]
  },
  {
   "cell_type": "code",
   "execution_count": 95,
   "id": "fff35949",
   "metadata": {},
   "outputs": [
    {
     "data": {
      "text/plain": [
       "1.2909944487358056"
      ]
     },
     "execution_count": 95,
     "metadata": {},
     "output_type": "execute_result"
    }
   ],
   "source": [
    "s1.std()"
   ]
  },
  {
   "cell_type": "code",
   "execution_count": 97,
   "id": "a0b7d291",
   "metadata": {},
   "outputs": [
    {
     "data": {
      "text/plain": [
       "d    1\n",
       "b    2\n",
       "c    3\n",
       "a    4\n",
       "dtype: int64"
      ]
     },
     "execution_count": 97,
     "metadata": {},
     "output_type": "execute_result"
    }
   ],
   "source": [
    "s1.sort_values()"
   ]
  },
  {
   "cell_type": "code",
   "execution_count": 99,
   "id": "f6bb1a30",
   "metadata": {},
   "outputs": [
    {
     "data": {
      "text/plain": [
       "a    4\n",
       "b    2\n",
       "c    3\n",
       "d    1\n",
       "dtype: int64"
      ]
     },
     "execution_count": 99,
     "metadata": {},
     "output_type": "execute_result"
    }
   ],
   "source": [
    "s1.sort_index()"
   ]
  },
  {
   "cell_type": "code",
   "execution_count": 100,
   "id": "ed0ca1ea",
   "metadata": {},
   "outputs": [
    {
     "data": {
      "text/plain": [
       "0     165.3\n",
       "1     170.1\n",
       "2     175.0\n",
       "3     182.1\n",
       "4     168.0\n",
       "5     162.0\n",
       "6     155.2\n",
       "7     176.9\n",
       "8     178.5\n",
       "9     176.1\n",
       "10    167.1\n",
       "11    180.0\n",
       "12    162.2\n",
       "13    176.1\n",
       "14    158.2\n",
       "15    168.6\n",
       "16    169.2\n",
       "Name: height, dtype: float64"
      ]
     },
     "execution_count": 100,
     "metadata": {},
     "output_type": "execute_result"
    }
   ],
   "source": [
    "ser_height = pd.Series([165.3, 170.1, 175.0, 182.1, 168.0, 162.0, 155.2, 176.9, 178.5, 176.1, 167.1, 180.0, 162.2, 176.1, 158.2, 168.6, 169.2],name='height')\n",
    "ser_height "
   ]
  },
  {
   "cell_type": "code",
   "execution_count": 102,
   "id": "a67bf996",
   "metadata": {},
   "outputs": [
    {
     "data": {
      "text/plain": [
       "0     1.653\n",
       "1     1.701\n",
       "2     1.750\n",
       "3     1.821\n",
       "4     1.680\n",
       "5     1.620\n",
       "6     1.552\n",
       "7     1.769\n",
       "8     1.785\n",
       "9     1.761\n",
       "10    1.671\n",
       "11    1.800\n",
       "12    1.622\n",
       "13    1.761\n",
       "14    1.582\n",
       "15    1.686\n",
       "16    1.692\n",
       "Name: height, dtype: float64"
      ]
     },
     "execution_count": 102,
     "metadata": {},
     "output_type": "execute_result"
    }
   ],
   "source": [
    "ser_height.apply(lambda x : x/100)"
   ]
  },
  {
   "cell_type": "markdown",
   "id": "de33f72d",
   "metadata": {},
   "source": [
    "# Data Frame:"
   ]
  },
  {
   "cell_type": "code",
   "execution_count": 105,
   "id": "4df51018",
   "metadata": {},
   "outputs": [],
   "source": [
    "# it's s 2D array and it is used the most\n",
    "# the list of Numpy is that all of the data type must be same"
   ]
  },
  {
   "cell_type": "code",
   "execution_count": 106,
   "id": "d773e3fa",
   "metadata": {},
   "outputs": [],
   "source": [
    "# to create a data frame"
   ]
  },
  {
   "cell_type": "markdown",
   "id": "d175f2b0",
   "metadata": {},
   "source": [
    "# Exercise 05"
   ]
  },
  {
   "cell_type": "code",
   "execution_count": 107,
   "id": "e3a33d10",
   "metadata": {},
   "outputs": [],
   "source": [
    "import pandas as pd\n",
    "import numpy as np\n",
    "import os"
   ]
  },
  {
   "cell_type": "code",
   "execution_count": 113,
   "id": "c72adb3b",
   "metadata": {},
   "outputs": [],
   "source": [
    "data = {'Name': ['Jake','Jennifer', 'Rafay', 'Paul Walker', ' Jake Paul'], 'Age': [24,21,25,19,22], 'Gender': ['M','F','M','M','M']}"
   ]
  },
  {
   "cell_type": "markdown",
   "id": "f6c309ae",
   "metadata": {},
   "source": [
    "# this will print data into the dataframe"
   ]
  },
  {
   "cell_type": "code",
   "execution_count": 114,
   "id": "3b32a8c9",
   "metadata": {},
   "outputs": [
    {
     "data": {
      "text/html": [
       "<div>\n",
       "<style scoped>\n",
       "    .dataframe tbody tr th:only-of-type {\n",
       "        vertical-align: middle;\n",
       "    }\n",
       "\n",
       "    .dataframe tbody tr th {\n",
       "        vertical-align: top;\n",
       "    }\n",
       "\n",
       "    .dataframe thead th {\n",
       "        text-align: right;\n",
       "    }\n",
       "</style>\n",
       "<table border=\"1\" class=\"dataframe\">\n",
       "  <thead>\n",
       "    <tr style=\"text-align: right;\">\n",
       "      <th></th>\n",
       "      <th>Name</th>\n",
       "      <th>Age</th>\n",
       "      <th>Gender</th>\n",
       "    </tr>\n",
       "  </thead>\n",
       "  <tbody>\n",
       "    <tr>\n",
       "      <th>0</th>\n",
       "      <td>Jake</td>\n",
       "      <td>24</td>\n",
       "      <td>M</td>\n",
       "    </tr>\n",
       "    <tr>\n",
       "      <th>1</th>\n",
       "      <td>Jennifer</td>\n",
       "      <td>21</td>\n",
       "      <td>F</td>\n",
       "    </tr>\n",
       "    <tr>\n",
       "      <th>2</th>\n",
       "      <td>Rafay</td>\n",
       "      <td>25</td>\n",
       "      <td>M</td>\n",
       "    </tr>\n",
       "    <tr>\n",
       "      <th>3</th>\n",
       "      <td>Paul Walker</td>\n",
       "      <td>19</td>\n",
       "      <td>M</td>\n",
       "    </tr>\n",
       "    <tr>\n",
       "      <th>4</th>\n",
       "      <td>Jake Paul</td>\n",
       "      <td>22</td>\n",
       "      <td>M</td>\n",
       "    </tr>\n",
       "  </tbody>\n",
       "</table>\n",
       "</div>"
      ],
      "text/plain": [
       "          Name  Age Gender\n",
       "0         Jake   24      M\n",
       "1     Jennifer   21      F\n",
       "2        Rafay   25      M\n",
       "3  Paul Walker   19      M\n",
       "4    Jake Paul   22      M"
      ]
     },
     "execution_count": 114,
     "metadata": {},
     "output_type": "execute_result"
    }
   ],
   "source": [
    "df=pd.DataFrame(data)\n",
    "df"
   ]
  },
  {
   "cell_type": "markdown",
   "id": "6d04b827",
   "metadata": {},
   "source": [
    "### Reading data from DataFrame:"
   ]
  },
  {
   "cell_type": "code",
   "execution_count": null,
   "id": "0b7a166a",
   "metadata": {},
   "outputs": [],
   "source": [
    "df.pd.read_cdv('')"
   ]
  }
 ],
 "metadata": {
  "kernelspec": {
   "display_name": "Python 3",
   "language": "python",
   "name": "python3"
  },
  "language_info": {
   "codemirror_mode": {
    "name": "ipython",
    "version": 3
   },
   "file_extension": ".py",
   "mimetype": "text/x-python",
   "name": "python",
   "nbconvert_exporter": "python",
   "pygments_lexer": "ipython3",
   "version": "3.8.8"
  }
 },
 "nbformat": 4,
 "nbformat_minor": 5
}
