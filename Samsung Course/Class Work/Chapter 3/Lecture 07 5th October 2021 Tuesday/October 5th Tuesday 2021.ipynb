{
 "cells": [
  {
   "cell_type": "code",
   "execution_count": 159,
   "id": "e2584d46",
   "metadata": {},
   "outputs": [],
   "source": [
    "import numpy as np"
   ]
  },
  {
   "cell_type": "code",
   "execution_count": 160,
   "id": "7621f81b",
   "metadata": {},
   "outputs": [
    {
     "data": {
      "text/plain": [
       "'1.20.1'"
      ]
     },
     "execution_count": 160,
     "metadata": {},
     "output_type": "execute_result"
    }
   ],
   "source": [
    "np.__version__"
   ]
  },
  {
   "cell_type": "code",
   "execution_count": 161,
   "id": "28695a6e",
   "metadata": {},
   "outputs": [],
   "source": [
    "x = np.array([1,2,3,4,5,6])"
   ]
  },
  {
   "cell_type": "code",
   "execution_count": 162,
   "id": "fc05fe94",
   "metadata": {},
   "outputs": [
    {
     "data": {
      "text/plain": [
       "numpy.ndarray"
      ]
     },
     "execution_count": 162,
     "metadata": {},
     "output_type": "execute_result"
    }
   ],
   "source": [
    "type(x)"
   ]
  },
  {
   "cell_type": "code",
   "execution_count": 163,
   "id": "d42da1dd",
   "metadata": {},
   "outputs": [
    {
     "data": {
      "text/plain": [
       "140102266303376"
      ]
     },
     "execution_count": 163,
     "metadata": {},
     "output_type": "execute_result"
    }
   ],
   "source": [
    "id(x)"
   ]
  },
  {
   "cell_type": "code",
   "execution_count": 164,
   "id": "639039e1",
   "metadata": {},
   "outputs": [],
   "source": [
    "y = np.array(['Rafay', 5,6,7,'Hello'])"
   ]
  },
  {
   "cell_type": "code",
   "execution_count": 165,
   "id": "500b99c6",
   "metadata": {},
   "outputs": [
    {
     "name": "stdout",
     "output_type": "stream",
     "text": [
      "['Rafay' '5' '6' '7' 'Hello']\n"
     ]
    }
   ],
   "source": [
    "print(y)"
   ]
  },
  {
   "cell_type": "code",
   "execution_count": 166,
   "id": "2d917c9b",
   "metadata": {},
   "outputs": [
    {
     "data": {
      "text/plain": [
       "array(['Rafay', '5', '6', '7', 'Hello'], dtype='<U21')"
      ]
     },
     "execution_count": 166,
     "metadata": {},
     "output_type": "execute_result"
    }
   ],
   "source": [
    "y"
   ]
  },
  {
   "cell_type": "code",
   "execution_count": 167,
   "id": "0d0cc683",
   "metadata": {},
   "outputs": [
    {
     "data": {
      "text/plain": [
       "array([0, 1, 2, 3, 4, 5, 6, 7, 8, 9])"
      ]
     },
     "execution_count": 167,
     "metadata": {},
     "output_type": "execute_result"
    }
   ],
   "source": [
    "np.arange(10)"
   ]
  },
  {
   "cell_type": "code",
   "execution_count": 168,
   "id": "8434edba",
   "metadata": {},
   "outputs": [],
   "source": [
    "x = np.arange(10,20,3)"
   ]
  },
  {
   "cell_type": "code",
   "execution_count": 169,
   "id": "07c73c0e",
   "metadata": {},
   "outputs": [
    {
     "name": "stdout",
     "output_type": "stream",
     "text": [
      "[10 13 16 19]\n"
     ]
    }
   ],
   "source": [
    "print(x)"
   ]
  },
  {
   "cell_type": "code",
   "execution_count": 170,
   "id": "d6c39de0",
   "metadata": {},
   "outputs": [],
   "source": [
    "m = np.linspace(10,100,5)"
   ]
  },
  {
   "cell_type": "code",
   "execution_count": 171,
   "id": "5428d46c",
   "metadata": {},
   "outputs": [
    {
     "name": "stdout",
     "output_type": "stream",
     "text": [
      "[ 10.   32.5  55.   77.5 100. ]\n"
     ]
    }
   ],
   "source": [
    "print(m)"
   ]
  },
  {
   "cell_type": "code",
   "execution_count": null,
   "id": "0ed5a432",
   "metadata": {},
   "outputs": [],
   "source": []
  },
  {
   "cell_type": "code",
   "execution_count": 172,
   "id": "343884ab",
   "metadata": {},
   "outputs": [],
   "source": [
    "y=np.zeros(20)"
   ]
  },
  {
   "cell_type": "code",
   "execution_count": 173,
   "id": "69aff041",
   "metadata": {},
   "outputs": [
    {
     "name": "stdout",
     "output_type": "stream",
     "text": [
      "[0. 0. 0. 0. 0. 0. 0. 0. 0. 0. 0. 0. 0. 0. 0. 0. 0. 0. 0. 0.]\n"
     ]
    }
   ],
   "source": [
    "print(y)"
   ]
  },
  {
   "cell_type": "code",
   "execution_count": 174,
   "id": "f869cb85",
   "metadata": {},
   "outputs": [],
   "source": [
    "m= np.array(([1,2,3],[4,5,6]))"
   ]
  },
  {
   "cell_type": "code",
   "execution_count": 175,
   "id": "0e6c93f9",
   "metadata": {},
   "outputs": [
    {
     "name": "stdout",
     "output_type": "stream",
     "text": [
      "[[1 2 3]\n",
      " [4 5 6]]\n"
     ]
    }
   ],
   "source": [
    "print(m)"
   ]
  },
  {
   "cell_type": "code",
   "execution_count": 176,
   "id": "5d8e2a3a",
   "metadata": {},
   "outputs": [
    {
     "data": {
      "text/plain": [
       "0.0"
      ]
     },
     "execution_count": 176,
     "metadata": {},
     "output_type": "execute_result"
    }
   ],
   "source": [
    "y[-1]"
   ]
  },
  {
   "cell_type": "markdown",
   "id": "6a1dfdb2",
   "metadata": {},
   "source": [
    "# Indexing and Silicing"
   ]
  },
  {
   "cell_type": "code",
   "execution_count": 177,
   "id": "54156541",
   "metadata": {},
   "outputs": [
    {
     "data": {
      "text/plain": [
       "10"
      ]
     },
     "execution_count": 177,
     "metadata": {},
     "output_type": "execute_result"
    }
   ],
   "source": [
    "a =[1,2,3,4,5,6,10]\n",
    "a[:2]\n",
    "a[-1]"
   ]
  },
  {
   "cell_type": "code",
   "execution_count": 178,
   "id": "750152dc",
   "metadata": {},
   "outputs": [],
   "source": [
    "a = np.array([[1,2,3],[4,5,6],[7,8,9]])"
   ]
  },
  {
   "cell_type": "code",
   "execution_count": 179,
   "id": "849fa9d9",
   "metadata": {},
   "outputs": [
    {
     "name": "stdout",
     "output_type": "stream",
     "text": [
      "[[1 2 3]\n",
      " [4 5 6]\n",
      " [7 8 9]]\n"
     ]
    }
   ],
   "source": [
    "print(a)"
   ]
  },
  {
   "cell_type": "code",
   "execution_count": 180,
   "id": "5421cfc9",
   "metadata": {},
   "outputs": [
    {
     "data": {
      "text/plain": [
       "8"
      ]
     },
     "execution_count": 180,
     "metadata": {},
     "output_type": "execute_result"
    }
   ],
   "source": [
    "a[2][1]"
   ]
  },
  {
   "cell_type": "code",
   "execution_count": 181,
   "id": "4811443d",
   "metadata": {},
   "outputs": [
    {
     "data": {
      "text/plain": [
       "array([[1, 2, 3],\n",
       "       [7, 8, 9]])"
      ]
     },
     "execution_count": 181,
     "metadata": {},
     "output_type": "execute_result"
    }
   ],
   "source": [
    "a[[0,2]]"
   ]
  },
  {
   "cell_type": "code",
   "execution_count": 182,
   "id": "243fb396",
   "metadata": {},
   "outputs": [
    {
     "data": {
      "text/plain": [
       "array([[5, 6],\n",
       "       [8, 9]])"
      ]
     },
     "execution_count": 182,
     "metadata": {},
     "output_type": "execute_result"
    }
   ],
   "source": [
    "a[1:,1:]"
   ]
  },
  {
   "cell_type": "code",
   "execution_count": 183,
   "id": "365ebe51",
   "metadata": {},
   "outputs": [
    {
     "data": {
      "text/plain": [
       "array([[1, 2, 3]])"
      ]
     },
     "execution_count": 183,
     "metadata": {},
     "output_type": "execute_result"
    }
   ],
   "source": [
    "a[:1]"
   ]
  },
  {
   "cell_type": "code",
   "execution_count": 184,
   "id": "2692623d",
   "metadata": {},
   "outputs": [
    {
     "data": {
      "text/plain": [
       "array([[7]])"
      ]
     },
     "execution_count": 184,
     "metadata": {},
     "output_type": "execute_result"
    }
   ],
   "source": [
    "a[2: , :1]"
   ]
  },
  {
   "cell_type": "markdown",
   "id": "6cfcf982",
   "metadata": {},
   "source": [
    "Facing Indexing"
   ]
  },
  {
   "cell_type": "code",
   "execution_count": 185,
   "id": "412f1ade",
   "metadata": {},
   "outputs": [],
   "source": [
    "arr = np.arange(100)"
   ]
  },
  {
   "cell_type": "code",
   "execution_count": 186,
   "id": "89afa2e1",
   "metadata": {},
   "outputs": [],
   "source": [
    "arrMask = ((arr%5==0))"
   ]
  },
  {
   "cell_type": "code",
   "execution_count": 187,
   "id": "b61dadb5",
   "metadata": {},
   "outputs": [
    {
     "name": "stdout",
     "output_type": "stream",
     "text": [
      "[ True False False False False  True False False False False  True False\n",
      " False False False  True False False False False  True False False False\n",
      " False  True False False False False  True False False False False  True\n",
      " False False False False  True False False False False  True False False\n",
      " False False  True False False False False  True False False False False\n",
      "  True False False False False  True False False False False  True False\n",
      " False False False  True False False False False  True False False False\n",
      " False  True False False False False  True False False False False  True\n",
      " False False False False]\n"
     ]
    }
   ],
   "source": [
    "print(arrMask)"
   ]
  },
  {
   "cell_type": "code",
   "execution_count": 188,
   "id": "2767386f",
   "metadata": {},
   "outputs": [
    {
     "data": {
      "text/plain": [
       "array([ 0,  5, 10, 15, 20, 25, 30, 35, 40, 45, 50, 55, 60, 65, 70, 75, 80,\n",
       "       85, 90, 95])"
      ]
     },
     "execution_count": 188,
     "metadata": {},
     "output_type": "execute_result"
    }
   ],
   "source": [
    "arr[arrMask]"
   ]
  },
  {
   "cell_type": "code",
   "execution_count": 189,
   "id": "2e5f6007",
   "metadata": {},
   "outputs": [],
   "source": [
    "arr = np.arange(100)"
   ]
  },
  {
   "cell_type": "code",
   "execution_count": 190,
   "id": "4909702c",
   "metadata": {},
   "outputs": [],
   "source": [
    "arrMas = (((arr%2) == 0) & (arr>50)  & (arr<80))"
   ]
  },
  {
   "cell_type": "code",
   "execution_count": 191,
   "id": "e30ec1d5",
   "metadata": {},
   "outputs": [
    {
     "data": {
      "text/plain": [
       "array([52, 54, 56, 58, 60, 62, 64, 66, 68, 70, 72, 74, 76, 78])"
      ]
     },
     "execution_count": 191,
     "metadata": {},
     "output_type": "execute_result"
    }
   ],
   "source": [
    "arr[arrMas]"
   ]
  },
  {
   "cell_type": "code",
   "execution_count": 192,
   "id": "1225948e",
   "metadata": {},
   "outputs": [
    {
     "data": {
      "text/plain": [
       "(100,)"
      ]
     },
     "execution_count": 192,
     "metadata": {},
     "output_type": "execute_result"
    }
   ],
   "source": [
    "arr.shape"
   ]
  },
  {
   "cell_type": "code",
   "execution_count": 193,
   "id": "34c5f5ca",
   "metadata": {},
   "outputs": [
    {
     "data": {
      "text/plain": [
       "100"
      ]
     },
     "execution_count": 193,
     "metadata": {},
     "output_type": "execute_result"
    }
   ],
   "source": [
    "arr.size"
   ]
  },
  {
   "cell_type": "code",
   "execution_count": 194,
   "id": "2072b970",
   "metadata": {},
   "outputs": [
    {
     "data": {
      "text/plain": [
       "<function ndarray.transpose>"
      ]
     },
     "execution_count": 194,
     "metadata": {},
     "output_type": "execute_result"
    }
   ],
   "source": [
    "arr.transpose"
   ]
  },
  {
   "cell_type": "code",
   "execution_count": 195,
   "id": "4adfa7e1",
   "metadata": {},
   "outputs": [
    {
     "data": {
      "text/plain": [
       "1"
      ]
     },
     "execution_count": 195,
     "metadata": {},
     "output_type": "execute_result"
    }
   ],
   "source": [
    "arr.ndim"
   ]
  },
  {
   "cell_type": "code",
   "execution_count": 196,
   "id": "70968722",
   "metadata": {},
   "outputs": [
    {
     "data": {
      "text/plain": [
       "array([1, 2, 3, 4, 5, 6])"
      ]
     },
     "execution_count": 196,
     "metadata": {},
     "output_type": "execute_result"
    }
   ],
   "source": [
    "arrr= np.array([1,2,3,4,5,6])\n",
    "b = arrr.T\n",
    "b"
   ]
  },
  {
   "cell_type": "code",
   "execution_count": 197,
   "id": "e31f7ba1",
   "metadata": {},
   "outputs": [
    {
     "name": "stdout",
     "output_type": "stream",
     "text": [
      "[[ 0  1  2  3  4]\n",
      " [ 5  6  7  8  9]\n",
      " [10 11 12 13 14]]\n"
     ]
    }
   ],
   "source": [
    "arr= np.arange(15)\n",
    "r=arr.reshape(3,5)\n",
    "print(r)"
   ]
  },
  {
   "cell_type": "markdown",
   "id": "fd10d872",
   "metadata": {},
   "source": [
    "# Append"
   ]
  },
  {
   "cell_type": "code",
   "execution_count": 198,
   "id": "05b606c6",
   "metadata": {},
   "outputs": [],
   "source": [
    "a = np.array([[1,2],[3,4]])\n",
    "b= np.append(a,[[9,9]], axis=0)"
   ]
  },
  {
   "cell_type": "code",
   "execution_count": 199,
   "id": "20bbdb29",
   "metadata": {},
   "outputs": [
    {
     "data": {
      "text/plain": [
       "array([[1, 2],\n",
       "       [3, 4],\n",
       "       [9, 9]])"
      ]
     },
     "execution_count": 199,
     "metadata": {},
     "output_type": "execute_result"
    }
   ],
   "source": [
    "b"
   ]
  },
  {
   "cell_type": "code",
   "execution_count": 200,
   "id": "7af281df",
   "metadata": {},
   "outputs": [],
   "source": [
    "a = np.array([[1,2],[3,4]])\n",
    "b= np.append(a,[[9],[9]], axis=1).copy()"
   ]
  },
  {
   "cell_type": "code",
   "execution_count": 201,
   "id": "0bc22fd1",
   "metadata": {},
   "outputs": [
    {
     "data": {
      "text/plain": [
       "array([[1, 2, 9],\n",
       "       [3, 4, 9]])"
      ]
     },
     "execution_count": 201,
     "metadata": {},
     "output_type": "execute_result"
    }
   ],
   "source": [
    "b"
   ]
  },
  {
   "cell_type": "markdown",
   "id": "bdb0c26b",
   "metadata": {},
   "source": [
    "# Removing"
   ]
  },
  {
   "cell_type": "code",
   "execution_count": 202,
   "id": "4072b511",
   "metadata": {},
   "outputs": [
    {
     "name": "stdout",
     "output_type": "stream",
     "text": [
      "[[3 4 9]]\n"
     ]
    }
   ],
   "source": [
    "d = np.delete(b,0,axis=0)\n",
    "print(d)"
   ]
  },
  {
   "cell_type": "code",
   "execution_count": 203,
   "id": "9f951a2c",
   "metadata": {},
   "outputs": [
    {
     "name": "stdout",
     "output_type": "stream",
     "text": [
      "[[3 4 9]]\n"
     ]
    }
   ],
   "source": [
    "print(d)"
   ]
  },
  {
   "cell_type": "markdown",
   "id": "357a302f",
   "metadata": {},
   "source": [
    "# Pratice Question"
   ]
  },
  {
   "cell_type": "code",
   "execution_count": 204,
   "id": "c733d243",
   "metadata": {},
   "outputs": [],
   "source": [
    "import numpy as np"
   ]
  },
  {
   "cell_type": "code",
   "execution_count": 205,
   "id": "82d799b4",
   "metadata": {},
   "outputs": [],
   "source": [
    "# creating an array\n",
    "arr= np.linspace(1,50,25)"
   ]
  },
  {
   "cell_type": "code",
   "execution_count": 206,
   "id": "33aa11ba",
   "metadata": {},
   "outputs": [
    {
     "name": "stdout",
     "output_type": "stream",
     "text": [
      "[ 1.          3.04166667  5.08333333  7.125       9.16666667 11.20833333\n",
      " 13.25       15.29166667 17.33333333 19.375      21.41666667 23.45833333\n",
      " 25.5        27.54166667 29.58333333 31.625      33.66666667 35.70833333\n",
      " 37.75       39.79166667 41.83333333 43.875      45.91666667 47.95833333\n",
      " 50.        ]\n",
      "25\n"
     ]
    }
   ],
   "source": [
    "# printing an array\n",
    "print(arr)\n",
    "print(len(arr))"
   ]
  },
  {
   "cell_type": "code",
   "execution_count": 207,
   "id": "410b6ab0",
   "metadata": {},
   "outputs": [
    {
     "data": {
      "text/plain": [
       "numpy.ndarray"
      ]
     },
     "execution_count": 207,
     "metadata": {},
     "output_type": "execute_result"
    }
   ],
   "source": [
    "# displaying the type of the array\n",
    "type(arr)"
   ]
  },
  {
   "cell_type": "code",
   "execution_count": 208,
   "id": "186f8567",
   "metadata": {},
   "outputs": [
    {
     "data": {
      "text/plain": [
       "(25,)"
      ]
     },
     "execution_count": 208,
     "metadata": {},
     "output_type": "execute_result"
    }
   ],
   "source": [
    "# display the shape\n",
    "arr.shape"
   ]
  },
  {
   "cell_type": "code",
   "execution_count": 209,
   "id": "7bf9d965",
   "metadata": {},
   "outputs": [],
   "source": [
    "display_value = ((arr>20))"
   ]
  },
  {
   "cell_type": "code",
   "execution_count": 210,
   "id": "667e9088",
   "metadata": {},
   "outputs": [],
   "source": [
    "c =arr[display_value].copy()\n"
   ]
  },
  {
   "cell_type": "code",
   "execution_count": 211,
   "id": "efbde96f",
   "metadata": {},
   "outputs": [
    {
     "name": "stdout",
     "output_type": "stream",
     "text": [
      "[21.41666667 23.45833333 25.5        27.54166667 29.58333333 31.625\n",
      " 33.66666667 35.70833333 37.75       39.79166667 41.83333333 43.875\n",
      " 45.91666667 47.95833333 50.        ]\n"
     ]
    }
   ],
   "source": [
    "print(c)"
   ]
  },
  {
   "cell_type": "code",
   "execution_count": 212,
   "id": "1c68b5ac",
   "metadata": {},
   "outputs": [],
   "source": [
    "r = arr.reshape(5,5)"
   ]
  },
  {
   "cell_type": "code",
   "execution_count": 213,
   "id": "8a245a5f",
   "metadata": {},
   "outputs": [
    {
     "name": "stdout",
     "output_type": "stream",
     "text": [
      "[[ 1.          3.04166667  5.08333333  7.125       9.16666667]\n",
      " [11.20833333 13.25       15.29166667 17.33333333 19.375     ]\n",
      " [21.41666667 23.45833333 25.5        27.54166667 29.58333333]\n",
      " [31.625      33.66666667 35.70833333 37.75       39.79166667]\n",
      " [41.83333333 43.875      45.91666667 47.95833333 50.        ]]\n"
     ]
    }
   ],
   "source": [
    "print(r)"
   ]
  },
  {
   "cell_type": "code",
   "execution_count": 214,
   "id": "d20cc299",
   "metadata": {},
   "outputs": [],
   "source": [
    "# only delete is left from this program"
   ]
  },
  {
   "cell_type": "markdown",
   "id": "4dab42ad",
   "metadata": {},
   "source": [
    "# Session 02"
   ]
  },
  {
   "cell_type": "code",
   "execution_count": 215,
   "id": "99e15ba8",
   "metadata": {},
   "outputs": [],
   "source": [
    "x = np.arange(50)"
   ]
  },
  {
   "cell_type": "code",
   "execution_count": 216,
   "id": "e02df4bc",
   "metadata": {},
   "outputs": [
    {
     "data": {
      "text/plain": [
       "array([     0,      1,      8,     27,     64,    125,    216,    343,\n",
       "          512,    729,   1000,   1331,   1728,   2197,   2744,   3375,\n",
       "         4096,   4913,   5832,   6859,   8000,   9261,  10648,  12167,\n",
       "        13824,  15625,  17576,  19683,  21952,  24389,  27000,  29791,\n",
       "        32768,  35937,  39304,  42875,  46656,  50653,  54872,  59319,\n",
       "        64000,  68921,  74088,  79507,  85184,  91125,  97336, 103823,\n",
       "       110592, 117649])"
      ]
     },
     "execution_count": 216,
     "metadata": {},
     "output_type": "execute_result"
    }
   ],
   "source": [
    "## this is th power of element and in the below example the powser is 3 \n",
    "x**3"
   ]
  },
  {
   "cell_type": "code",
   "execution_count": 217,
   "id": "2960e963",
   "metadata": {},
   "outputs": [
    {
     "data": {
      "text/plain": [
       "array([ 0,  1,  2,  3,  4,  5,  6,  7,  8,  9, 10, 11, 12, 13, 14, 15, 16,\n",
       "       17, 18, 19, 20, 21, 22, 23, 24, 25, 26, 27, 28, 29, 30, 31, 32, 33,\n",
       "       34, 35, 36, 37, 38, 39, 40, 41, 42, 43, 44, 45, 46, 47, 48, 49])"
      ]
     },
     "execution_count": 217,
     "metadata": {},
     "output_type": "execute_result"
    }
   ],
   "source": [
    "x.round()"
   ]
  },
  {
   "cell_type": "code",
   "execution_count": 218,
   "id": "8584c3c4",
   "metadata": {},
   "outputs": [
    {
     "data": {
      "text/plain": [
       "49"
      ]
     },
     "execution_count": 218,
     "metadata": {},
     "output_type": "execute_result"
    }
   ],
   "source": [
    "# this will show the max values in the matrix\n",
    "x.max()"
   ]
  },
  {
   "cell_type": "code",
   "execution_count": 219,
   "id": "7f4be3dd",
   "metadata": {},
   "outputs": [
    {
     "data": {
      "text/plain": [
       "24.5"
      ]
     },
     "execution_count": 219,
     "metadata": {},
     "output_type": "execute_result"
    }
   ],
   "source": [
    "# this will display a mean of the matrix\n",
    "x.mean()"
   ]
  },
  {
   "cell_type": "markdown",
   "id": "2a193632",
   "metadata": {},
   "source": [
    "### 50 and 80 equal 20\n",
    "### underroor\n",
    "### sum\n",
    "### mean\n",
    "### vairiance\n",
    "### standard diviation"
   ]
  },
  {
   "cell_type": "code",
   "execution_count": 220,
   "id": "b1f1a726",
   "metadata": {},
   "outputs": [],
   "source": [
    "arr= np.linspace(50,80,20)"
   ]
  },
  {
   "cell_type": "code",
   "execution_count": 221,
   "id": "8f50180e",
   "metadata": {},
   "outputs": [
    {
     "name": "stdout",
     "output_type": "stream",
     "text": [
      "[50.         51.57894737 53.15789474 54.73684211 56.31578947 57.89473684\n",
      " 59.47368421 61.05263158 62.63157895 64.21052632 65.78947368 67.36842105\n",
      " 68.94736842 70.52631579 72.10526316 73.68421053 75.26315789 76.84210526\n",
      " 78.42105263 80.        ]\n"
     ]
    }
   ],
   "source": [
    "print(arr)"
   ]
  },
  {
   "cell_type": "code",
   "execution_count": 222,
   "id": "a611137b",
   "metadata": {},
   "outputs": [],
   "source": [
    "arr=arr.round()"
   ]
  },
  {
   "cell_type": "code",
   "execution_count": 223,
   "id": "a1285258",
   "metadata": {},
   "outputs": [],
   "source": [
    "# sum\n",
    "sum1=arr.sum().copy()"
   ]
  },
  {
   "cell_type": "code",
   "execution_count": 224,
   "id": "0f76a1cf",
   "metadata": {},
   "outputs": [
    {
     "name": "stdout",
     "output_type": "stream",
     "text": [
      "1300.0\n"
     ]
    }
   ],
   "source": [
    "print(sum1)"
   ]
  },
  {
   "cell_type": "code",
   "execution_count": 225,
   "id": "2a75d87e",
   "metadata": {},
   "outputs": [],
   "source": [
    "# mean\n",
    "mean= arr.mean().copy()"
   ]
  },
  {
   "cell_type": "code",
   "execution_count": 226,
   "id": "f3d0185e",
   "metadata": {},
   "outputs": [
    {
     "name": "stdout",
     "output_type": "stream",
     "text": [
      "65.0\n"
     ]
    }
   ],
   "source": [
    "print(mean)"
   ]
  },
  {
   "cell_type": "code",
   "execution_count": 227,
   "id": "74582422",
   "metadata": {},
   "outputs": [],
   "source": [
    "# variance\n",
    "variance =arr.var().copy() "
   ]
  },
  {
   "cell_type": "code",
   "execution_count": 228,
   "id": "ca94786b",
   "metadata": {},
   "outputs": [
    {
     "name": "stdout",
     "output_type": "stream",
     "text": [
      "82.5\n"
     ]
    }
   ],
   "source": [
    "print(variance)"
   ]
  },
  {
   "cell_type": "code",
   "execution_count": 229,
   "id": "8131e08a",
   "metadata": {},
   "outputs": [],
   "source": [
    "# under root\n",
    "under_root = arr.std().copy()"
   ]
  },
  {
   "cell_type": "code",
   "execution_count": 230,
   "id": "8789707c",
   "metadata": {},
   "outputs": [
    {
     "name": "stdout",
     "output_type": "stream",
     "text": [
      "9.082951062292475\n"
     ]
    }
   ],
   "source": [
    "print(under_root)"
   ]
  },
  {
   "cell_type": "code",
   "execution_count": 231,
   "id": "f72d59f2",
   "metadata": {},
   "outputs": [
    {
     "data": {
      "text/plain": [
       "array([1, 2, 3, 5, 6, 7])"
      ]
     },
     "execution_count": 231,
     "metadata": {},
     "output_type": "execute_result"
    }
   ],
   "source": [
    "# unique functin wills how only the unique value but it is a numpy function \n",
    "arr = np.array([1,1,2,3,3,5,6,6,7])\n",
    "np.unique(arr)"
   ]
  },
  {
   "cell_type": "code",
   "execution_count": 232,
   "id": "8ef72821",
   "metadata": {},
   "outputs": [],
   "source": [
    "arr.sort()"
   ]
  },
  {
   "cell_type": "code",
   "execution_count": 233,
   "id": "cea31a6f",
   "metadata": {},
   "outputs": [
    {
     "data": {
      "text/plain": [
       "3.0"
      ]
     },
     "execution_count": 233,
     "metadata": {},
     "output_type": "execute_result"
    }
   ],
   "source": [
    "# this is a numpy function and it will sort first and then find the mid point from the array\n",
    "np.median(arr)"
   ]
  },
  {
   "cell_type": "code",
   "execution_count": 234,
   "id": "aed45a25",
   "metadata": {},
   "outputs": [],
   "source": [
    "x = np.arange(1,10)"
   ]
  },
  {
   "cell_type": "code",
   "execution_count": 235,
   "id": "b89181bd",
   "metadata": {},
   "outputs": [],
   "source": [
    "x = x.reshape(3,-1)"
   ]
  },
  {
   "cell_type": "code",
   "execution_count": 236,
   "id": "c5692eb4",
   "metadata": {},
   "outputs": [
    {
     "name": "stdout",
     "output_type": "stream",
     "text": [
      "[[1 2 3]\n",
      " [4 5 6]\n",
      " [7 8 9]]\n"
     ]
    }
   ],
   "source": [
    "print(x)"
   ]
  },
  {
   "cell_type": "code",
   "execution_count": 237,
   "id": "28d90956",
   "metadata": {},
   "outputs": [
    {
     "name": "stdout",
     "output_type": "stream",
     "text": [
      "[4. 5. 6.]\n"
     ]
    }
   ],
   "source": [
    "# zero represent x axis\n",
    "# one represent y axis\n",
    "print(x.mean(axis=0))"
   ]
  },
  {
   "cell_type": "code",
   "execution_count": 238,
   "id": "87d22144",
   "metadata": {},
   "outputs": [],
   "source": [
    "np.random.seed(123)"
   ]
  },
  {
   "cell_type": "code",
   "execution_count": 239,
   "id": "e12ce085",
   "metadata": {},
   "outputs": [],
   "source": [
    "x= np.random.randint(10, size =1000 )"
   ]
  },
  {
   "cell_type": "code",
   "execution_count": 240,
   "id": "82abb3f5",
   "metadata": {},
   "outputs": [
    {
     "name": "stdout",
     "output_type": "stream",
     "text": [
      "[2 2 6 1 3 9 6 1 0 1 9 0 0 9 3 4 0 0 4 1 7 3 2 4 7 2 4 8 0 7 9 3 4 6 1 5 6\n",
      " 2 1 8 3 5 0 2 6 2 4 4 6 3 0 6 4 7 6 7 1 5 7 9 2 4 8 1 2 1 1 3 5 9 0 8 1 6\n",
      " 3 3 5 9 7 9 2 3 3 3 8 6 9 7 6 3 9 6 6 6 1 3 4 3 1 0 5 8 6 8 9 1 0 3 1 3 4\n",
      " 7 6 1 4 3 3 7 6 8 6 4 4 7 0 0 9 8 8 4 8 6 1 6 8 7 9 1 7 1 7 9 8 7 1 3 1 8\n",
      " 7 5 1 2 5 2 2 9 3 2 6 7 9 1 3 8 3 7 9 9 3 3 5 6 0 8 7 7 4 4 5 0 8 9 2 5 1\n",
      " 5 9 2 4 3 0 3 7 7 2 5 1 7 5 9 1 2 8 5 0 9 3 3 3 1 7 6 3 1 7 2 6 5 9 8 9 4\n",
      " 7 8 5 9 2 4 3 3 1 7 8 5 7 7 7 5 0 0 8 1 0 4 5 4 5 0 7 1 2 2 7 7 3 6 1 8 4\n",
      " 1 6 5 9 0 3 1 3 7 7 7 5 3 6 3 5 1 5 9 1 3 9 1 5 6 1 5 0 7 0 3 0 6 2 7 5 1\n",
      " 0 0 2 6 5 9 1 5 3 6 4 7 1 6 0 3 1 3 0 8 5 1 4 3 2 2 0 2 0 2 7 9 0 3 9 7 0\n",
      " 5 4 6 0 7 8 8 1 0 1 7 5 3 0 4 8 4 9 3 5 1 8 0 9 1 5 8 8 4 6 8 7 9 2 0 0 9\n",
      " 9 5 3 5 5 2 2 7 3 1 3 9 3 6 2 3 1 9 8 0 2 3 7 9 2 7 9 7 1 4 7 4 7 8 0 2 7\n",
      " 4 3 7 3 7 0 7 6 8 6 8 0 5 3 2 4 3 3 9 7 1 8 0 1 4 7 2 4 8 3 4 9 6 2 7 7 7\n",
      " 4 7 8 4 0 7 6 3 4 1 1 7 2 7 8 9 4 4 4 7 7 9 9 4 1 5 5 8 9 5 1 0 6 0 9 4 6\n",
      " 4 5 3 4 6 2 5 2 4 3 2 4 8 0 6 8 8 5 6 5 6 0 4 9 0 8 0 5 6 6 8 8 4 4 0 1 9\n",
      " 0 7 5 4 7 2 3 5 5 4 2 6 9 7 9 4 9 6 5 7 3 9 1 3 9 3 8 3 5 6 7 6 5 7 1 1 6\n",
      " 6 4 9 0 9 3 8 5 3 3 8 7 0 1 7 2 3 5 5 0 2 5 8 9 7 9 7 4 5 1 8 6 8 4 2 7 1\n",
      " 6 2 6 5 6 0 3 2 2 9 7 5 5 0 0 9 3 7 1 8 2 5 0 1 0 7 7 5 8 1 5 6 7 0 6 4 1\n",
      " 4 2 2 1 0 9 1 1 6 6 3 9 6 7 7 6 1 9 3 7 2 3 8 0 3 3 9 8 6 3 7 5 8 4 8 5 1\n",
      " 7 2 7 8 1 7 1 8 1 9 2 3 4 2 0 7 5 9 8 5 0 5 5 1 3 8 0 8 0 0 9 2 5 1 2 3 0\n",
      " 6 7 3 9 7 9 4 8 0 9 7 0 0 2 4 9 1 9 5 8 5 6 8 4 8 4 1 3 2 7 0 6 2 7 3 6 4\n",
      " 2 6 9 9 4 7 0 3 3 1 2 1 3 0 4 7 4 4 7 6 3 3 9 6 7 4 9 1 7 4 0 1 2 3 9 0 6\n",
      " 8 2 4 1 9 6 0 3 5 2 9 6 7 9 5 7 5 4 4 7 8 0 2 2 0 7 1 1 0 2 7 5 9 3 3 6 5\n",
      " 4 8 9 6 4 8 0 6 4 9 0 0 5 8 0 8 1 6 4 7 2 5 4 6 3 0 4 9 9 0 2 7 6 0 3 6 4\n",
      " 1 5 3 8 9 0 8 9 7 2 4 0 8 3 2 3 6 2 8 5 4 4 0 0 3 8 5 4 1 4 2 1 4 1 8 1 1\n",
      " 7 2 8 9 8 3 3 4 3 3 6 1 6 2 7 7 0 5 4 6 1 1 4 0 7 6 8 7 6 8 2 6 4 0 5 8 6\n",
      " 4 2 4 0 0 5 9 0 9 8 6 5 5 3 8 1 8 3 7 8 5 9 1 4 9 3 4 4 4 0 0 6 8 4 8 0 1\n",
      " 7 6 2 6 4 2 4 7 5 8 1 3 3 9 1 5 5 2 4 6 9 0 9 5 3 1 7 6 5 6 2 8 1 2 4 7 9\n",
      " 5]\n"
     ]
    }
   ],
   "source": [
    "print(x)"
   ]
  },
  {
   "cell_type": "code",
   "execution_count": 241,
   "id": "6d533b4e",
   "metadata": {},
   "outputs": [],
   "source": [
    "quiz= np.random.randint(0,15, size =15 )"
   ]
  },
  {
   "cell_type": "code",
   "execution_count": 242,
   "id": "b63faab0",
   "metadata": {},
   "outputs": [
    {
     "name": "stdout",
     "output_type": "stream",
     "text": [
      "[ 2  1  6  5  3 11  1  5  8  8  5 13 13  5 14]\n"
     ]
    }
   ],
   "source": [
    "print(quiz)"
   ]
  },
  {
   "cell_type": "code",
   "execution_count": 243,
   "id": "e3fd8b3a",
   "metadata": {},
   "outputs": [],
   "source": [
    "assignment= np.random.randint(0,15, size= 50)"
   ]
  },
  {
   "cell_type": "code",
   "execution_count": 244,
   "id": "a0f199f5",
   "metadata": {},
   "outputs": [
    {
     "name": "stdout",
     "output_type": "stream",
     "text": [
      "[ 4  9  3 12 10  3  4  1 13 10  9  5  9 11 13  7 13  8  2 11  8  1  6 10\n",
      "  0 11  2  4  5  8 12 11  4  5  0 11  3  7 14 12  2 10  5  0  0  2  2  2\n",
      "  7  8]\n"
     ]
    }
   ],
   "source": [
    "print(assignment)"
   ]
  },
  {
   "cell_type": "code",
   "execution_count": 245,
   "id": "ddc7c6cd",
   "metadata": {},
   "outputs": [
    {
     "data": {
      "text/plain": [
       "14"
      ]
     },
     "execution_count": 245,
     "metadata": {},
     "output_type": "execute_result"
    }
   ],
   "source": [
    "quiz.max()"
   ]
  },
  {
   "cell_type": "code",
   "execution_count": 246,
   "id": "66ecb834",
   "metadata": {},
   "outputs": [
    {
     "data": {
      "text/plain": [
       "14"
      ]
     },
     "execution_count": 246,
     "metadata": {},
     "output_type": "execute_result"
    }
   ],
   "source": [
    "assignment.max()"
   ]
  },
  {
   "cell_type": "code",
   "execution_count": 247,
   "id": "4d15d600",
   "metadata": {},
   "outputs": [],
   "source": [
    "max_quiz= (quiz > 10)"
   ]
  },
  {
   "cell_type": "code",
   "execution_count": 248,
   "id": "b2bc8167",
   "metadata": {},
   "outputs": [
    {
     "data": {
      "text/plain": [
       "array([11, 13, 13, 14])"
      ]
     },
     "execution_count": 248,
     "metadata": {},
     "output_type": "execute_result"
    }
   ],
   "source": [
    "quiz[max_quiz]"
   ]
  },
  {
   "cell_type": "code",
   "execution_count": 249,
   "id": "f243a152",
   "metadata": {},
   "outputs": [],
   "source": [
    "max_assignment = (assignment < 30)"
   ]
  },
  {
   "cell_type": "code",
   "execution_count": 250,
   "id": "2b6c9027",
   "metadata": {},
   "outputs": [],
   "source": [
    "student_max_assignment=assignment[max_assignment].copy()"
   ]
  },
  {
   "cell_type": "code",
   "execution_count": 251,
   "id": "e1f3ed93",
   "metadata": {},
   "outputs": [
    {
     "name": "stdout",
     "output_type": "stream",
     "text": [
      "[ 4  9  3 12 10  3  4  1 13 10  9  5  9 11 13  7 13  8  2 11  8  1  6 10\n",
      "  0 11  2  4  5  8 12 11  4  5  0 11  3  7 14 12  2 10  5  0  0  2  2  2\n",
      "  7  8]\n"
     ]
    }
   ],
   "source": [
    "print(student_max_assignment)"
   ]
  },
  {
   "cell_type": "code",
   "execution_count": 255,
   "id": "8678d038",
   "metadata": {},
   "outputs": [],
   "source": [
    "import numpy as np\n",
    "A = np.array([[3,5,9],[8,1,6],[2,7,4]])"
   ]
  },
  {
   "cell_type": "code",
   "execution_count": 256,
   "id": "13b5ed39",
   "metadata": {},
   "outputs": [
    {
     "name": "stdout",
     "output_type": "stream",
     "text": [
      "[[3 5 9]\n",
      " [8 1 6]\n",
      " [2 7 4]]\n"
     ]
    }
   ],
   "source": [
    "print(A)"
   ]
  },
  {
   "cell_type": "code",
   "execution_count": 260,
   "id": "c142d8df",
   "metadata": {},
   "outputs": [],
   "source": [
    "B = np.array([[35],[29],[1]])"
   ]
  },
  {
   "cell_type": "code",
   "execution_count": 261,
   "id": "3a4c1deb",
   "metadata": {},
   "outputs": [
    {
     "name": "stdout",
     "output_type": "stream",
     "text": [
      "[[35]\n",
      " [29]\n",
      " [ 1]]\n"
     ]
    }
   ],
   "source": [
    "print(B)"
   ]
  },
  {
   "cell_type": "code",
   "execution_count": 262,
   "id": "14b818cb",
   "metadata": {},
   "outputs": [],
   "source": [
    "inverse_A=np.linalg.inv(A).copy()"
   ]
  },
  {
   "cell_type": "code",
   "execution_count": 265,
   "id": "08ee1f0d",
   "metadata": {},
   "outputs": [
    {
     "name": "stdout",
     "output_type": "stream",
     "text": [
      "[[-0.13970588  0.15808824  0.07720588]\n",
      " [-0.07352941 -0.02205882  0.19852941]\n",
      " [ 0.19852941 -0.04044118 -0.13602941]]\n"
     ]
    }
   ],
   "source": [
    "print(inverse_A)"
   ]
  },
  {
   "cell_type": "code",
   "execution_count": 267,
   "id": "a79d69b2",
   "metadata": {},
   "outputs": [],
   "source": [
    "ans= np.dot(inverse_A,B)"
   ]
  },
  {
   "cell_type": "code",
   "execution_count": 268,
   "id": "8ff62012",
   "metadata": {},
   "outputs": [
    {
     "name": "stdout",
     "output_type": "stream",
     "text": [
      "[[-0.22794118]\n",
      " [-3.01470588]\n",
      " [ 5.63970588]]\n"
     ]
    }
   ],
   "source": [
    "print(ans)"
   ]
  },
  {
   "cell_type": "code",
   "execution_count": null,
   "id": "38cf26f6",
   "metadata": {},
   "outputs": [],
   "source": []
  }
 ],
 "metadata": {
  "interpreter": {
   "hash": "e7370f93d1d0cde622a1f8e1c04877d8463912d04d973331ad4851f04de6915a"
  },
  "kernelspec": {
   "display_name": "Python 3",
   "language": "python",
   "name": "python3"
  },
  "language_info": {
   "codemirror_mode": {
    "name": "ipython",
    "version": 3
   },
   "file_extension": ".py",
   "mimetype": "text/x-python",
   "name": "python",
   "nbconvert_exporter": "python",
   "pygments_lexer": "ipython3",
   "version": "3.8.8"
  }
 },
 "nbformat": 4,
 "nbformat_minor": 5
}
