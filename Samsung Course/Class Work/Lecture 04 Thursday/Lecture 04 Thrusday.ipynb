{
 "cells": [
  {
   "cell_type": "markdown",
   "id": "f79c6fd9",
   "metadata": {},
   "source": [
    "### Lecture 04\n",
    "### Day: Thrusday\n",
    "### Name: Mohammad Abdul Rafay\n",
    "### Roll Number: BSE183009\n",
    "### 'Session 01'"
   ]
  },
  {
   "cell_type": "markdown",
   "id": "ea68dad6",
   "metadata": {},
   "source": [
    "### In operator in Python\n",
    "- in is used to check some charter are present in list or not <br>\n",
    "- in will check for every value at every single index <br>"
   ]
  },
  {
   "cell_type": "code",
   "execution_count": 1,
   "id": "4419ef1c",
   "metadata": {},
   "outputs": [
    {
     "data": {
      "text/plain": [
       "True"
      ]
     },
     "execution_count": 1,
     "metadata": {},
     "output_type": "execute_result"
    }
   ],
   "source": [
    "1 in [1,2,3]\n"
   ]
  },
  {
   "cell_type": "code",
   "execution_count": 3,
   "id": "0aa494ab",
   "metadata": {},
   "outputs": [
    {
     "data": {
      "text/plain": [
       "True"
      ]
     },
     "execution_count": 3,
     "metadata": {},
     "output_type": "execute_result"
    }
   ],
   "source": [
    "'o' in 'python'"
   ]
  },
  {
   "cell_type": "markdown",
   "id": "45b9c807",
   "metadata": {},
   "source": [
    "## While Loop"
   ]
  },
  {
   "cell_type": "code",
   "execution_count": 4,
   "id": "46dc61d2",
   "metadata": {},
   "outputs": [
    {
     "name": "stdout",
     "output_type": "stream",
     "text": [
      "0\n",
      "Loop is working\n",
      "1\n",
      "Loop is working\n",
      "2\n",
      "Loop is working\n",
      "3\n",
      "Loop is working\n"
     ]
    }
   ],
   "source": [
    "i =0 \n",
    "while i<4:\n",
    "    print(i)\n",
    "    i+=1\n",
    "    print(\"Loop is working\")"
   ]
  },
  {
   "cell_type": "markdown",
   "id": "79f4f329",
   "metadata": {},
   "source": [
    "### Note: \n",
    "i++ does not work in python use i+=1"
   ]
  },
  {
   "cell_type": "code",
   "execution_count": 5,
   "id": "855eb3ec",
   "metadata": {},
   "outputs": [
    {
     "ename": "SyntaxError",
     "evalue": "invalid syntax (<ipython-input-5-15809f4ae61a>, line 4)",
     "output_type": "error",
     "traceback": [
      "\u001b[0;36m  File \u001b[0;32m\"<ipython-input-5-15809f4ae61a>\"\u001b[0;36m, line \u001b[0;32m4\u001b[0m\n\u001b[0;31m    i++\u001b[0m\n\u001b[0m       ^\u001b[0m\n\u001b[0;31mSyntaxError\u001b[0m\u001b[0;31m:\u001b[0m invalid syntax\n"
     ]
    }
   ],
   "source": [
    "i =0 \n",
    "while i<4:\n",
    "    print(i)\n",
    "    i++\n",
    "    print(\"Loop is working\")"
   ]
  },
  {
   "cell_type": "markdown",
   "id": "ed04b61a",
   "metadata": {},
   "source": [
    "## Break"
   ]
  },
  {
   "cell_type": "markdown",
   "id": "30ab5017",
   "metadata": {},
   "source": [
    "Break will break a loop when break will exit you from the loop"
   ]
  },
  {
   "cell_type": "markdown",
   "id": "ab9aff03",
   "metadata": {},
   "source": [
    "### contine"
   ]
  },
  {
   "cell_type": "markdown",
   "id": "88f29c74",
   "metadata": {},
   "source": [
    "Continue will move your itternation to one more step"
   ]
  },
  {
   "cell_type": "markdown",
   "id": "97ae37e5",
   "metadata": {},
   "source": [
    "### For loop"
   ]
  },
  {
   "cell_type": "code",
   "execution_count": 6,
   "id": "184dc372",
   "metadata": {},
   "outputs": [
    {
     "name": "stdout",
     "output_type": "stream",
     "text": [
      "You\n",
      "need\n",
      "Python\n"
     ]
    }
   ],
   "source": [
    "#X is the list \n",
    "#x is a varaible\n",
    "X =['You','need','Python']\n",
    "for x in X:\n",
    "    print(x)"
   ]
  },
  {
   "cell_type": "code",
   "execution_count": 8,
   "id": "4f3a09f6",
   "metadata": {},
   "outputs": [
    {
     "name": "stdout",
     "output_type": "stream",
     "text": [
      "55\n"
     ]
    }
   ],
   "source": [
    "# range will take numbers from 1 to 11 and then adding them\n",
    "sum=0\n",
    "for x in range(1,11):\n",
    "    sum += x\n",
    "\n",
    "print(sum)"
   ]
  },
  {
   "cell_type": "markdown",
   "id": "9030b114",
   "metadata": {},
   "source": [
    "# Exercise 5"
   ]
  },
  {
   "cell_type": "markdown",
   "id": "c25417ba",
   "metadata": {},
   "source": [
    "## 1. Conditional Structure:"
   ]
  },
  {
   "cell_type": "code",
   "execution_count": 12,
   "id": "22a6c541",
   "metadata": {},
   "outputs": [
    {
     "name": "stdout",
     "output_type": "stream",
     "text": [
      "Ho old are you? 25\n",
      "You are all grown up!!\n"
     ]
    }
   ],
   "source": [
    "x = input(\"Ho old are you? \")\n",
    "x = int(x)\n",
    "if x < 8:\n",
    "    print(str(x) + 'Years old ...you are a bit too young')\n",
    "elif x>=8 and x<19:\n",
    "    print(str(x) + \"years old... You must be a student\")\n",
    "else:\n",
    "    print(\"You are all grown up!!\")"
   ]
  },
  {
   "cell_type": "code",
   "execution_count": 13,
   "id": "82ad3aeb",
   "metadata": {},
   "outputs": [
    {
     "name": "stdout",
     "output_type": "stream",
     "text": [
      "How much is 2*3 ? 6\n",
      "Correct\n"
     ]
    }
   ],
   "source": [
    "x= input(\"How much is 2*3 ? \")\n",
    "x = int(x)\n",
    "if x==2*3:\n",
    "    print('Correct')\n",
    "else:\n",
    "    print('Incorrect')"
   ]
  },
  {
   "cell_type": "code",
   "execution_count": 15,
   "id": "b291ddab",
   "metadata": {},
   "outputs": [
    {
     "name": "stdout",
     "output_type": "stream",
     "text": [
      "How much is 2*3 ? 6\n",
      "Incorrect\n"
     ]
    }
   ],
   "source": [
    "x= input(\"How much is 2*3 ? \")\n",
    "x = int(x)\n",
    "if x !=2*3:\n",
    "    print('Correct')\n",
    "else:\n",
    "    print('Incorrect')"
   ]
  },
  {
   "cell_type": "code",
   "execution_count": 20,
   "id": "2b630d61",
   "metadata": {},
   "outputs": [
    {
     "name": "stdout",
     "output_type": "stream",
     "text": [
      "How much is 2*3? 5\n",
      "Wrong\n"
     ]
    }
   ],
   "source": [
    "x= input(\"How much is 2*3? \")\n",
    "x = int(x)\n",
    "y = ( x == 2*3)\n",
    "if y:\n",
    "    print('Correct!!')\n",
    "else:\n",
    "    print(\"Wrong\")"
   ]
  },
  {
   "cell_type": "markdown",
   "id": "0e093654",
   "metadata": {},
   "source": [
    "# 2. Loop Structure:"
   ]
  },
  {
   "cell_type": "markdown",
   "id": "e937a123",
   "metadata": {},
   "source": [
    "## 2.1. for loops:"
   ]
  },
  {
   "cell_type": "code",
   "execution_count": 23,
   "id": "7c4fc8da",
   "metadata": {},
   "outputs": [
    {
     "name": "stdout",
     "output_type": "stream",
     "text": [
      "The value of sum is: 55\n"
     ]
    }
   ],
   "source": [
    "sum=0\n",
    "for x in range(1,11):\n",
    "    sum += x\n",
    "\n",
    "print('The value of sum is:',sum)"
   ]
  },
  {
   "cell_type": "code",
   "execution_count": 24,
   "id": "bf87278c",
   "metadata": {},
   "outputs": [
    {
     "name": "stdout",
     "output_type": "stream",
     "text": [
      "Hello!! That is the sum of the ranger is:  2550\n"
     ]
    }
   ],
   "source": [
    "sum= 0\n",
    "for x in range(2,101,2):\n",
    "    sum += x\n",
    "print('Hello!! That is the sum of the ranger is: ', sum)"
   ]
  },
  {
   "cell_type": "code",
   "execution_count": 25,
   "id": "07ec8c7b",
   "metadata": {},
   "outputs": [
    {
     "name": "stdout",
     "output_type": "stream",
     "text": [
      "Sum of all even number are: 2550\n"
     ]
    }
   ],
   "source": [
    "sum=0\n",
    "for x in range(1,101):\n",
    "    if(x % 2 == 0):\n",
    "        sum += x\n",
    "print(\"Sum of all even number are:\", sum)"
   ]
  },
  {
   "cell_type": "code",
   "execution_count": 26,
   "id": "8707ad8e",
   "metadata": {},
   "outputs": [
    {
     "name": "stdout",
     "output_type": "stream",
     "text": [
      "Sum of all odd number are: 2500\n"
     ]
    }
   ],
   "source": [
    "sum=0\n",
    "for x in range(1,101):\n",
    "    if(x % 2 != 0):\n",
    "        sum += x\n",
    "print(\"Sum of all odd number are:\", sum)"
   ]
  },
  {
   "cell_type": "code",
   "execution_count": 27,
   "id": "1137af71",
   "metadata": {},
   "outputs": [
    {
     "name": "stdout",
     "output_type": "stream",
     "text": [
      "Sum of all 5 multiples are: 1050\n"
     ]
    }
   ],
   "source": [
    "sum =0\n",
    "for x in range(1,101):\n",
    "    if(x % 5 == 0):\n",
    "        sum += x\n",
    "print(\"Sum of all 5 multiples are:\", sum)"
   ]
  },
  {
   "cell_type": "code",
   "execution_count": 28,
   "id": "9fe472b9",
   "metadata": {},
   "outputs": [
    {
     "name": "stdout",
     "output_type": "stream",
     "text": [
      "Hello\n",
      "How\n",
      "are\n",
      "you\n"
     ]
    }
   ],
   "source": [
    "my_list =[\"Hello\", \"How\", \"are\", \"you\"]\n",
    "for x in my_list:\n",
    "    print(x)"
   ]
  },
  {
   "cell_type": "code",
   "execution_count": 30,
   "id": "5a89171b",
   "metadata": {},
   "outputs": [
    {
     "name": "stdout",
     "output_type": "stream",
     "text": [
      "2 * 2 =  4\n",
      "2 * 3 =  6\n",
      "2 * 4 =  8\n",
      "2 * 5 = 10\n",
      "2 * 6 = 12\n",
      "2 * 7 = 14\n",
      "2 * 8 = 16\n",
      "2 * 9 = 18\n",
      "3 * 2 =  6\n",
      "3 * 3 =  9\n",
      "3 * 4 = 12\n",
      "3 * 5 = 15\n",
      "3 * 6 = 18\n",
      "3 * 7 = 21\n",
      "3 * 8 = 24\n",
      "3 * 9 = 27\n",
      "4 * 2 =  8\n",
      "4 * 3 = 12\n",
      "4 * 4 = 16\n",
      "4 * 5 = 20\n",
      "4 * 6 = 24\n",
      "4 * 7 = 28\n",
      "4 * 8 = 32\n",
      "4 * 9 = 36\n",
      "5 * 2 = 10\n",
      "5 * 3 = 15\n",
      "5 * 4 = 20\n",
      "5 * 5 = 25\n",
      "5 * 6 = 30\n",
      "5 * 7 = 35\n",
      "5 * 8 = 40\n",
      "5 * 9 = 45\n",
      "6 * 2 = 12\n",
      "6 * 3 = 18\n",
      "6 * 4 = 24\n",
      "6 * 5 = 30\n",
      "6 * 6 = 36\n",
      "6 * 7 = 42\n",
      "6 * 8 = 48\n",
      "6 * 9 = 54\n",
      "7 * 2 = 14\n",
      "7 * 3 = 21\n",
      "7 * 4 = 28\n",
      "7 * 5 = 35\n",
      "7 * 6 = 42\n",
      "7 * 7 = 49\n",
      "7 * 8 = 56\n",
      "7 * 9 = 63\n",
      "8 * 2 = 16\n",
      "8 * 3 = 24\n",
      "8 * 4 = 32\n",
      "8 * 5 = 40\n",
      "8 * 6 = 48\n",
      "8 * 7 = 56\n",
      "8 * 8 = 64\n",
      "8 * 9 = 72\n",
      "9 * 2 = 18\n",
      "9 * 3 = 27\n",
      "9 * 4 = 36\n",
      "9 * 5 = 45\n",
      "9 * 6 = 54\n",
      "9 * 7 = 63\n",
      "9 * 8 = 72\n",
      "9 * 9 = 81\n"
     ]
    }
   ],
   "source": [
    "for i in range(2,10):\n",
    "    for j in range(2,10):\n",
    "        print(\"%d * %d = %2d\" %(i,j,i*j))"
   ]
  },
  {
   "cell_type": "markdown",
   "id": "ddbb3308",
   "metadata": {},
   "source": [
    "## 2.2. While loop:"
   ]
  },
  {
   "cell_type": "code",
   "execution_count": 32,
   "id": "e8edb90f",
   "metadata": {},
   "outputs": [
    {
     "name": "stdout",
     "output_type": "stream",
     "text": [
      "Sum of number between 1 and 10 are: 55\n"
     ]
    }
   ],
   "source": [
    "counter = 0\n",
    "sum = 0\n",
    "while counter <11:\n",
    "    sum += counter\n",
    "    counter += 1\n",
    "print(\"Sum of number between 1 and 10 are:\", sum)"
   ]
  },
  {
   "cell_type": "code",
   "execution_count": 33,
   "id": "0129b19b",
   "metadata": {},
   "outputs": [
    {
     "name": "stdout",
     "output_type": "stream",
     "text": [
      "Sum of all od the multiple number are: 100485\n"
     ]
    }
   ],
   "source": [
    "coounter =0 \n",
    "sum =0\n",
    "while counter < 1001:\n",
    "    if counter % 5 ==0:\n",
    "        sum += counter\n",
    "    counter +=1\n",
    "print(\"Sum of all od the multiple number are:\", sum)"
   ]
  },
  {
   "cell_type": "code",
   "execution_count": 41,
   "id": "f5fea16c",
   "metadata": {},
   "outputs": [
    {
     "name": "stdout",
     "output_type": "stream",
     "text": [
      "2 * 2 =                    4 \n",
      "2 * 3 =                    6 \n",
      "2 * 4 =                    8 \n",
      "2 * 5 =                   10 \n",
      "2 * 6 =                   12 \n",
      "2 * 7 =                   14 \n",
      "2 * 8 =                   16 \n",
      "2 * 9 =                   18 \n",
      "2 * 10 =                   20 \n",
      "3 * 2 =                    6 \n",
      "3 * 3 =                    9 \n",
      "3 * 4 =                   12 \n",
      "3 * 5 =                   15 \n",
      "3 * 6 =                   18 \n",
      "3 * 7 =                   21 \n",
      "3 * 8 =                   24 \n",
      "3 * 9 =                   27 \n",
      "3 * 10 =                   30 \n",
      "4 * 2 =                    8 \n",
      "4 * 3 =                   12 \n",
      "4 * 4 =                   16 \n",
      "4 * 5 =                   20 \n",
      "4 * 6 =                   24 \n",
      "4 * 7 =                   28 \n",
      "4 * 8 =                   32 \n",
      "4 * 9 =                   36 \n",
      "4 * 10 =                   40 \n",
      "5 * 2 =                   10 \n",
      "5 * 3 =                   15 \n",
      "5 * 4 =                   20 \n",
      "5 * 5 =                   25 \n",
      "5 * 6 =                   30 \n",
      "5 * 7 =                   35 \n",
      "5 * 8 =                   40 \n",
      "5 * 9 =                   45 \n",
      "5 * 10 =                   50 \n",
      "6 * 2 =                   12 \n",
      "6 * 3 =                   18 \n",
      "6 * 4 =                   24 \n",
      "6 * 5 =                   30 \n",
      "6 * 6 =                   36 \n",
      "6 * 7 =                   42 \n",
      "6 * 8 =                   48 \n",
      "6 * 9 =                   54 \n",
      "6 * 10 =                   60 \n",
      "7 * 2 =                   14 \n",
      "7 * 3 =                   21 \n",
      "7 * 4 =                   28 \n",
      "7 * 5 =                   35 \n",
      "7 * 6 =                   42 \n",
      "7 * 7 =                   49 \n",
      "7 * 8 =                   56 \n",
      "7 * 9 =                   63 \n",
      "7 * 10 =                   70 \n",
      "8 * 2 =                   16 \n",
      "8 * 3 =                   24 \n",
      "8 * 4 =                   32 \n",
      "8 * 5 =                   40 \n",
      "8 * 6 =                   48 \n",
      "8 * 7 =                   56 \n",
      "8 * 8 =                   64 \n",
      "8 * 9 =                   72 \n",
      "8 * 10 =                   80 \n",
      "9 * 2 =                   18 \n",
      "9 * 3 =                   27 \n",
      "9 * 4 =                   36 \n",
      "9 * 5 =                   45 \n",
      "9 * 6 =                   54 \n",
      "9 * 7 =                   63 \n",
      "9 * 8 =                   72 \n",
      "9 * 9 =                   81 \n",
      "9 * 10 =                   90 \n"
     ]
    }
   ],
   "source": [
    "# Multiplication table.\n",
    "# A 'while' loop within another.\n",
    "i = 1\n",
    "while i < 9:\n",
    "    i += 1\n",
    "    j = 2\n",
    "    while j < 11:\n",
    "        print( \"%1d * %1d = %20d \" % ( i, j, i*j))\n",
    "        j += 1"
   ]
  },
  {
   "cell_type": "code",
   "execution_count": 42,
   "id": "926ee486",
   "metadata": {},
   "outputs": [
    {
     "name": "stdout",
     "output_type": "stream",
     "text": [
      "2* 1= 22\n",
      "2* 2= 24\n",
      "2* 3= 26\n",
      "2* 4= 28\n",
      "2* 5= 210\n",
      "2* 6= 212\n",
      "2* 7= 214\n",
      "2* 8= 216\n",
      "2* 9= 218\n",
      "3* 1= 23\n",
      "3* 2= 26\n",
      "3* 3= 29\n",
      "3* 4= 212\n",
      "3* 5= 215\n",
      "3* 6= 218\n",
      "3* 7= 221\n",
      "3* 8= 224\n",
      "3* 9= 227\n",
      "4* 1= 24\n",
      "4* 2= 28\n",
      "4* 3= 212\n",
      "4* 4= 216\n",
      "4* 5= 220\n",
      "4* 6= 224\n",
      "4* 7= 228\n",
      "4* 8= 232\n",
      "4* 9= 236\n",
      "5* 1= 25\n",
      "5* 2= 210\n",
      "5* 3= 215\n",
      "5* 4= 220\n",
      "5* 5= 225\n",
      "5* 6= 230\n",
      "5* 7= 235\n",
      "5* 8= 240\n",
      "5* 9= 245\n",
      "6* 1= 26\n",
      "6* 2= 212\n",
      "6* 3= 218\n",
      "6* 4= 224\n",
      "6* 5= 230\n",
      "6* 6= 236\n",
      "6* 7= 242\n",
      "6* 8= 248\n",
      "6* 9= 254\n",
      "7* 1= 27\n",
      "7* 2= 214\n",
      "7* 3= 221\n",
      "7* 4= 228\n",
      "7* 5= 235\n",
      "7* 6= 242\n",
      "7* 7= 249\n",
      "7* 8= 256\n",
      "7* 9= 263\n",
      "8* 1= 28\n",
      "8* 2= 216\n",
      "8* 3= 224\n",
      "8* 4= 232\n",
      "8* 5= 240\n",
      "8* 6= 248\n",
      "8* 7= 256\n",
      "8* 8= 264\n",
      "8* 9= 272\n",
      "9* 1= 29\n",
      "9* 2= 218\n",
      "9* 3= 227\n",
      "9* 4= 236\n",
      "9* 5= 245\n",
      "9* 6= 254\n",
      "9* 7= 263\n",
      "9* 8= 272\n",
      "9* 9= 281\n"
     ]
    }
   ],
   "source": [
    "i =1\n",
    "while i<9:\n",
    "    i+=1\n",
    "    for j in range(1,10):\n",
    "        print(\"%d* %d= 2%d\" %(i,j,i*j))\n",
    "    j +=1"
   ]
  },
  {
   "cell_type": "markdown",
   "id": "0e2fd31a",
   "metadata": {},
   "source": [
    "# Functions"
   ]
  },
  {
   "cell_type": "code",
   "execution_count": 48,
   "id": "0fe74c79",
   "metadata": {},
   "outputs": [
    {
     "name": "stdout",
     "output_type": "stream",
     "text": [
      "['Class Work', 'Home Notes and Pratice', 'Exercises', 'Required Files', 'Quizes']\n"
     ]
    }
   ],
   "source": [
    "# OS functin will help us to manpulate with the OS files\n",
    "import os\n",
    "# to find your current direct\n",
    "os.getcwd()\n",
    "\n",
    "# list all of directories \n",
    "os.listdir('.')\n",
    "\n",
    "# to change the directories\n",
    "#os.chdir('..')\n",
    "\n",
    "# to find your current direct\n",
    "a=os.getcwd()\n",
    "print(os.listdir(a))"
   ]
  },
  {
   "cell_type": "markdown",
   "id": "cb1f848e",
   "metadata": {},
   "source": [
    "## User defined Functions"
   ]
  },
  {
   "cell_type": "code",
   "execution_count": 50,
   "id": "31d2d16a",
   "metadata": {},
   "outputs": [
    {
     "name": "stdout",
     "output_type": "stream",
     "text": [
      "Enter a Number: 5\n",
      "Enter second Number: 5\n"
     ]
    },
    {
     "data": {
      "text/plain": [
       "'55'"
      ]
     },
     "execution_count": 50,
     "metadata": {},
     "output_type": "execute_result"
    }
   ],
   "source": [
    "# Normal Funcions in every language \n",
    "def sum1(a,b):\n",
    "    c= a+b\n",
    "    return c\n",
    "def product1(a,b):\n",
    "    d= a*b\n",
    "    return d\n",
    "def divide2(a,b):\n",
    "    e= a/b\n",
    "    return e\n",
    "def subtract(a,b):\n",
    "    f= a-b\n",
    "    return f\n",
    "a= input(\"Enter a Number: \")\n",
    "b = input(\"Enter second Number: \")\n",
    "sum(a,b)\n"
   ]
  },
  {
   "cell_type": "markdown",
   "id": "7cd366ba",
   "metadata": {},
   "source": [
    "### Power Python with functions:\n",
    "- using * you can sent as much parameter as you want with no limit.<br>\n",
    "- You can do multiple maths operaters using one functions<br>\n",
    "- You can aslo set the default values in the function. <br> \n",
    "- Default values will only work when no value is sent<br>\n",
    "- The variable scope is do in python as well, If a vaiable is in function then it can be only be used within the function.<br>"
   ]
  },
  {
   "cell_type": "code",
   "execution_count": 61,
   "id": "39281ecf",
   "metadata": {},
   "outputs": [
    {
     "data": {
      "text/plain": [
       "6"
      ]
     },
     "execution_count": 61,
     "metadata": {},
     "output_type": "execute_result"
    }
   ],
   "source": [
    "# Python Power\n",
    "# using * you can send as much parmaeter as user want.\n",
    "def sum(*val):\n",
    "    total =0\n",
    "    for x in val:\n",
    "        total +=x\n",
    "    return total\n",
    "sum(1,2,3)"
   ]
  },
  {
   "cell_type": "code",
   "execution_count": 60,
   "id": "5d40ea21",
   "metadata": {},
   "outputs": [
    {
     "data": {
      "text/plain": [
       "tuple"
      ]
     },
     "execution_count": 60,
     "metadata": {},
     "output_type": "execute_result"
    }
   ],
   "source": [
    "# do more with one function\n",
    "def maths(a,b):\n",
    "    return a+b , a-b , a*b, a/b\n",
    "\n",
    "maths(10,5)\n",
    "type(maths(10,5))"
   ]
  },
  {
   "cell_type": "code",
   "execution_count": 64,
   "id": "64780f64",
   "metadata": {},
   "outputs": [
    {
     "data": {
      "text/plain": [
       "(13, -1, 42, 0.8571428571428571)"
      ]
     },
     "execution_count": 64,
     "metadata": {},
     "output_type": "execute_result"
    }
   ],
   "source": [
    "def defaultvalue(a=6,b=7):\n",
    "    return a+b, a-b, a*b, a/b\n",
    "\n",
    "defaultvalue()"
   ]
  },
  {
   "cell_type": "code",
   "execution_count": 74,
   "id": "59fe1882",
   "metadata": {},
   "outputs": [
    {
     "name": "stdout",
     "output_type": "stream",
     "text": [
      "0.0\n",
      "333\n"
     ]
    }
   ],
   "source": [
    "# Global and Local Variables\n",
    "result= 333\n",
    "def average(*a):\n",
    "    result = 0\n",
    "    for x in a:\n",
    "        result = result / len(a)\n",
    "    return result\n",
    "print(average(10,50,67))\n",
    "print(result)"
   ]
  },
  {
   "cell_type": "markdown",
   "id": "0e3cc76b",
   "metadata": {},
   "source": [
    "### Find about filter functions and Maps function."
   ]
  },
  {
   "cell_type": "markdown",
   "id": "fa1e9d59",
   "metadata": {},
   "source": [
    "### Lambda Function:\n",
    "- lambda is a function it self.<br>\n",
    "- It will create one object and will store it's own value and second value will be sent by the user so lambda will get both values and through an answer"
   ]
  },
  {
   "cell_type": "code",
   "execution_count": 78,
   "id": "db10cfc9",
   "metadata": {},
   "outputs": [
    {
     "data": {
      "text/plain": [
       "12"
      ]
     },
     "execution_count": 78,
     "metadata": {},
     "output_type": "execute_result"
    }
   ],
   "source": [
    "# Example 1:\n",
    "def makeMyFunc(a):\n",
    "    return lambda x: a*x\n",
    "\n",
    "# this is th fix values and the object is fixed\n",
    "myfunc = makeMyFunc(3)\n",
    "# the value will be sent by the user\n",
    "myfunc(4)"
   ]
  },
  {
   "cell_type": "code",
   "execution_count": 90,
   "id": "db6089b6",
   "metadata": {},
   "outputs": [
    {
     "name": "stdout",
     "output_type": "stream",
     "text": [
      "Enter a value: 5\n",
      "125\n"
     ]
    }
   ],
   "source": [
    "# Exmaple 2:\n",
    "a = input(\"Enter a value: \")\n",
    "cube = lambda a: a*a*a \n",
    "print(cube(5))"
   ]
  },
  {
   "cell_type": "code",
   "execution_count": 9,
   "id": "34dbde10",
   "metadata": {},
   "outputs": [
    {
     "name": "stdout",
     "output_type": "stream",
     "text": [
      "Enter a Value: 5\n"
     ]
    },
    {
     "data": {
      "text/plain": [
       "10"
      ]
     },
     "execution_count": 9,
     "metadata": {},
     "output_type": "execute_result"
    }
   ],
   "source": [
    "# Example 3:\n",
    "a = input(\"Enter a Value: \")\n",
    "b = int(a)\n",
    "x= 5\n",
    "sum = lambda x: x+b\n",
    "sum(b)"
   ]
  },
  {
   "cell_type": "markdown",
   "id": "fd9e9295",
   "metadata": {},
   "source": [
    "## Importing Multiple Files in another file usinf import\n",
    "In this files are being imported"
   ]
  },
  {
   "cell_type": "code",
   "execution_count": 10,
   "id": "0c208cc5",
   "metadata": {},
   "outputs": [],
   "source": [
    "# Importing Files in python\n",
    "import rafay as march "
   ]
  },
  {
   "cell_type": "code",
   "execution_count": 12,
   "id": "83d0cf54",
   "metadata": {},
   "outputs": [
    {
     "name": "stdout",
     "output_type": "stream",
     "text": [
      "Enter a Value: 5\n",
      "125\n"
     ]
    }
   ],
   "source": [
    "a = input(\"Enter a Value: \")\n",
    "b = int(a)\n",
    "c = march.cube(b)\n",
    "type(c)\n",
    "print(c)"
   ]
  },
  {
   "cell_type": "markdown",
   "id": "c11a4d98",
   "metadata": {},
   "source": [
    "## check the function do you have all of the requird functions or not\n"
   ]
  },
  {
   "cell_type": "code",
   "execution_count": 2,
   "id": "eebff686",
   "metadata": {},
   "outputs": [
    {
     "name": "stdout",
     "output_type": "stream",
     "text": [
      "9\n",
      "even\n",
      "None\n"
     ]
    }
   ],
   "source": [
    "import rafay as march\n",
    "if __name__ == \"__main__\":\n",
    "    print(march.summ(4,5))\n",
    "    print(march.evenOdd(2))"
   ]
  },
  {
   "cell_type": "markdown",
   "id": "61d407cc",
   "metadata": {},
   "source": [
    "# Coding Exercise 06\n"
   ]
  },
  {
   "cell_type": "markdown",
   "id": "b0ba9a2c",
   "metadata": {},
   "source": [
    "## 1. Functions"
   ]
  },
  {
   "cell_type": "markdown",
   "id": "3e01dea2",
   "metadata": {},
   "source": [
    "### 1.1: User-defined Functions(UDFs):\n",
    "A function will input arguments and a returned value"
   ]
  },
  {
   "cell_type": "code",
   "execution_count": 3,
   "id": "0012ac19",
   "metadata": {},
   "outputs": [
    {
     "data": {
      "text/plain": [
       "12"
      ]
     },
     "execution_count": 3,
     "metadata": {},
     "output_type": "execute_result"
    }
   ],
   "source": [
    "def prod(a,b):\n",
    "    x = a*b\n",
    "    return x\n",
    "prod(3,4)"
   ]
  },
  {
   "cell_type": "markdown",
   "id": "8043eaec",
   "metadata": {},
   "source": [
    "A function without input arrguments:"
   ]
  },
  {
   "cell_type": "code",
   "execution_count": 5,
   "id": "2d44b255",
   "metadata": {},
   "outputs": [
    {
     "name": "stdout",
     "output_type": "stream",
     "text": [
      "Hello world\n"
     ]
    }
   ],
   "source": [
    "def output():\n",
    "    return \"Hello world\"\n",
    "print(output())"
   ]
  },
  {
   "cell_type": "markdown",
   "id": "c5a8bc95",
   "metadata": {},
   "source": [
    "A function without input argument nor returned value:"
   ]
  },
  {
   "cell_type": "code",
   "execution_count": 10,
   "id": "8ddc8a4a",
   "metadata": {},
   "outputs": [
    {
     "data": {
      "text/plain": [
       "55"
      ]
     },
     "execution_count": 10,
     "metadata": {},
     "output_type": "execute_result"
    }
   ],
   "source": [
    "sum_total = 0\n",
    "def increase():\n",
    "    global sum_total\n",
    "    for i in range(11):\n",
    "        sum_total += i\n",
    "increase()\n",
    "sum_total"
   ]
  },
  {
   "cell_type": "markdown",
   "id": "610e0ad7",
   "metadata": {},
   "source": [
    "A function without returned value\n"
   ]
  },
  {
   "cell_type": "code",
   "execution_count": 11,
   "id": "caec36b8",
   "metadata": {},
   "outputs": [
    {
     "name": "stdout",
     "output_type": "stream",
     "text": [
      "21\n"
     ]
    }
   ],
   "source": [
    "def times3(a):\n",
    "    print(3*a)\n",
    "    return\n",
    "times3(7)"
   ]
  },
  {
   "cell_type": "markdown",
   "id": "5aaffbf6",
   "metadata": {},
   "source": [
    "A function with undetermined number of input arguments"
   ]
  },
  {
   "cell_type": "code",
   "execution_count": 16,
   "id": "6fb36ffd",
   "metadata": {},
   "outputs": [],
   "source": [
    "def sum_up(*vals):\n",
    "    total = 0\n",
    "    for x in vals:\n",
    "        total += x\n",
    "    return total"
   ]
  },
  {
   "cell_type": "code",
   "execution_count": 14,
   "id": "cd05c268",
   "metadata": {},
   "outputs": [
    {
     "data": {
      "text/plain": [
       "6"
      ]
     },
     "execution_count": 14,
     "metadata": {},
     "output_type": "execute_result"
    }
   ],
   "source": [
    "sum_up(1,2,3)"
   ]
  },
  {
   "cell_type": "code",
   "execution_count": 15,
   "id": "85a2558e",
   "metadata": {},
   "outputs": [
    {
     "data": {
      "text/plain": [
       "29"
      ]
     },
     "execution_count": 15,
     "metadata": {},
     "output_type": "execute_result"
    }
   ],
   "source": [
    "sum_up(1,2,5,6,7,8,)"
   ]
  },
  {
   "cell_type": "markdown",
   "id": "eb144a8d",
   "metadata": {},
   "source": [
    "A function with multiple return values:"
   ]
  },
  {
   "cell_type": "code",
   "execution_count": 17,
   "id": "4cc3eb6f",
   "metadata": {},
   "outputs": [
    {
     "data": {
      "text/plain": [
       "(32, -12, 220, 0.45454545454545453)"
      ]
     },
     "execution_count": 17,
     "metadata": {},
     "output_type": "execute_result"
    }
   ],
   "source": [
    "def maths(a,b):\n",
    "    return a+b, a-b, a*b, a/b\n",
    "type(maths)\n",
    "maths(10,22)"
   ]
  },
  {
   "cell_type": "markdown",
   "id": "005ce5e0",
   "metadata": {},
   "source": [
    "Default values for the input arguments:"
   ]
  },
  {
   "cell_type": "code",
   "execution_count": 19,
   "id": "74850b5c",
   "metadata": {},
   "outputs": [
    {
     "data": {
      "text/plain": [
       "(32, -12, 220, 0.45454545454545453)"
      ]
     },
     "execution_count": 19,
     "metadata": {},
     "output_type": "execute_result"
    }
   ],
   "source": [
    "def maths(a= 5,b=7):\n",
    "    return a+b, a-b, a*b, a/b\n",
    "type(maths)\n",
    "maths(10,22)"
   ]
  },
  {
   "cell_type": "code",
   "execution_count": 20,
   "id": "0b5499b0",
   "metadata": {},
   "outputs": [
    {
     "data": {
      "text/plain": [
       "(10, -4, 21, 0.42857142857142855)"
      ]
     },
     "execution_count": 20,
     "metadata": {},
     "output_type": "execute_result"
    }
   ],
   "source": [
    "maths(3)"
   ]
  },
  {
   "cell_type": "code",
   "execution_count": 21,
   "id": "d821728e",
   "metadata": {},
   "outputs": [
    {
     "data": {
      "text/plain": [
       "(8, 2, 15, 1.6666666666666667)"
      ]
     },
     "execution_count": 21,
     "metadata": {},
     "output_type": "execute_result"
    }
   ],
   "source": [
    "maths(b=3)"
   ]
  },
  {
   "cell_type": "markdown",
   "id": "62cc50cb",
   "metadata": {},
   "source": [
    "A local variable's scope is limited to the function body where it is defined:"
   ]
  },
  {
   "cell_type": "code",
   "execution_count": 22,
   "id": "eda63ef9",
   "metadata": {},
   "outputs": [],
   "source": [
    "# 'result' inside of the function body and 'result' outside of it are different variables.\n",
    "result = 333\n",
    "def average(*a):\n",
    "    result = 0 \n",
    "    for x in a:\n",
    "        result += x\n",
    "    result /= len(a)\n",
    "    return result"
   ]
  },
  {
   "cell_type": "code",
   "execution_count": 23,
   "id": "630cfd81",
   "metadata": {},
   "outputs": [
    {
     "data": {
      "text/plain": [
       "3.0"
      ]
     },
     "execution_count": 23,
     "metadata": {},
     "output_type": "execute_result"
    }
   ],
   "source": [
    "average(1,2,3,4,5)"
   ]
  },
  {
   "cell_type": "markdown",
   "id": "d4418cb3",
   "metadata": {},
   "source": [
    "### 1.2: lambda Function"
   ]
  },
  {
   "cell_type": "code",
   "execution_count": 24,
   "id": "c486a47d",
   "metadata": {},
   "outputs": [],
   "source": [
    "# This function returns a lambda function.\n",
    "def makeMyFunc(a):\n",
    "    return lambda x: a*x "
   ]
  },
  {
   "cell_type": "code",
   "execution_count": 25,
   "id": "a0ea8a72",
   "metadata": {},
   "outputs": [
    {
     "data": {
      "text/plain": [
       "function"
      ]
     },
     "execution_count": 25,
     "metadata": {},
     "output_type": "execute_result"
    }
   ],
   "source": [
    "myFunc = makeMyFunc(3)\n",
    "type(myFunc)"
   ]
  },
  {
   "cell_type": "code",
   "execution_count": 26,
   "id": "e59ab34f",
   "metadata": {},
   "outputs": [
    {
     "data": {
      "text/plain": [
       "12"
      ]
     },
     "execution_count": 26,
     "metadata": {},
     "output_type": "execute_result"
    }
   ],
   "source": [
    "myFunc(4)"
   ]
  },
  {
   "cell_type": "markdown",
   "id": "72e050d1",
   "metadata": {},
   "source": [
    "Lambda function with map() and filter():"
   ]
  },
  {
   "cell_type": "code",
   "execution_count": 27,
   "id": "0dfc68ba",
   "metadata": {},
   "outputs": [
    {
     "ename": "NameError",
     "evalue": "name 'a' is not defined",
     "output_type": "error",
     "traceback": [
      "\u001b[0;31m---------------------------------------------------------------------------\u001b[0m",
      "\u001b[0;31mNameError\u001b[0m                                 Traceback (most recent call last)",
      "\u001b[0;32m<ipython-input-27-dace83f40301>\u001b[0m in \u001b[0;36m<module>\u001b[0;34m\u001b[0m\n\u001b[0;32m----> 1\u001b[0;31m \u001b[0mlist\u001b[0m\u001b[0;34m(\u001b[0m\u001b[0mmap\u001b[0m\u001b[0;34m(\u001b[0m\u001b[0;32mlambda\u001b[0m \u001b[0mx\u001b[0m\u001b[0;34m:\u001b[0m \u001b[0mx\u001b[0m \u001b[0;34m*\u001b[0m \u001b[0;36m2\u001b[0m\u001b[0;34m,\u001b[0m \u001b[0ma\u001b[0m\u001b[0;34m)\u001b[0m\u001b[0;34m)\u001b[0m\u001b[0;34m\u001b[0m\u001b[0;34m\u001b[0m\u001b[0m\n\u001b[0m",
      "\u001b[0;31mNameError\u001b[0m: name 'a' is not defined"
     ]
    }
   ],
   "source": [
    "list(map(lambda x: x * 2, a))"
   ]
  },
  {
   "cell_type": "code",
   "execution_count": 28,
   "id": "e44dc202",
   "metadata": {},
   "outputs": [
    {
     "ename": "NameError",
     "evalue": "name 'a' is not defined",
     "output_type": "error",
     "traceback": [
      "\u001b[0;31m---------------------------------------------------------------------------\u001b[0m",
      "\u001b[0;31mNameError\u001b[0m                                 Traceback (most recent call last)",
      "\u001b[0;32m<ipython-input-28-db8eda0cc55e>\u001b[0m in \u001b[0;36m<module>\u001b[0;34m\u001b[0m\n\u001b[1;32m      1\u001b[0m \u001b[0;31m# Filter the list elements according to the condition given by the lambda function.\u001b[0m\u001b[0;34m\u001b[0m\u001b[0;34m\u001b[0m\u001b[0;34m\u001b[0m\u001b[0m\n\u001b[0;32m----> 2\u001b[0;31m \u001b[0mlist\u001b[0m\u001b[0;34m(\u001b[0m\u001b[0mfilter\u001b[0m\u001b[0;34m(\u001b[0m\u001b[0;32mlambda\u001b[0m \u001b[0mx\u001b[0m\u001b[0;34m:\u001b[0m \u001b[0mx\u001b[0m \u001b[0;34m%\u001b[0m \u001b[0;36m3\u001b[0m \u001b[0;34m==\u001b[0m\u001b[0;36m0\u001b[0m\u001b[0;34m,\u001b[0m \u001b[0ma\u001b[0m\u001b[0;34m)\u001b[0m\u001b[0;34m)\u001b[0m\u001b[0;34m\u001b[0m\u001b[0;34m\u001b[0m\u001b[0m\n\u001b[0m\u001b[1;32m      3\u001b[0m \u001b[0;34m\u001b[0m\u001b[0m\n",
      "\u001b[0;31mNameError\u001b[0m: name 'a' is not defined"
     ]
    }
   ],
   "source": [
    "list(filter(lambda x: x % 3 ==0, a))"
   ]
  },
  {
   "cell_type": "markdown",
   "id": "b86b2250",
   "metadata": {},
   "source": [
    "## 1.3: Custom Modules:"
   ]
  },
  {
   "cell_type": "code",
   "execution_count": null,
   "id": "e704066a",
   "metadata": {},
   "outputs": [],
   "source": [
    "import myModule as md"
   ]
  },
  {
   "cell_type": "code",
   "execution_count": null,
   "id": "b2c4faec",
   "metadata": {},
   "outputs": [],
   "source": [
    "md.sum(3,4)"
   ]
  },
  {
   "cell_type": "code",
   "execution_count": null,
   "id": "6c41e946",
   "metadata": {},
   "outputs": [],
   "source": [
    "md.product(4,5)"
   ]
  },
  {
   "cell_type": "code",
   "execution_count": 30,
   "id": "a7648718",
   "metadata": {},
   "outputs": [
    {
     "name": "stdout",
     "output_type": "stream",
     "text": [
      "End of Exercise\n"
     ]
    }
   ],
   "source": [
    "print(\"End of Exercise\")"
   ]
  },
  {
   "cell_type": "markdown",
   "id": "05523304",
   "metadata": {},
   "source": [
    "# 3.3 Python input & Output:"
   ]
  },
  {
   "cell_type": "markdown",
   "id": "74766479",
   "metadata": {},
   "source": [
    "## Input from User and then Output the result"
   ]
  },
  {
   "cell_type": "code",
   "execution_count": 32,
   "id": "25729bcf",
   "metadata": {},
   "outputs": [
    {
     "name": "stdout",
     "output_type": "stream",
     "text": [
      "Enter a number5\n",
      "Enter a second Number6\n",
      "11\n"
     ]
    }
   ],
   "source": [
    "# you must convert String into int\n",
    "x = input(\"Enter a number\")\n",
    "y = input(\"Enter a second Number\")\n",
    "x= int(x)\n",
    "y= int(y)\n",
    "\n",
    "print(x+y)"
   ]
  },
  {
   "cell_type": "markdown",
   "id": "43dc2788",
   "metadata": {},
   "source": [
    "## File Read and Write:"
   ]
  },
  {
   "cell_type": "markdown",
   "id": "0662d74f",
   "metadata": {},
   "source": [
    "### Read File"
   ]
  },
  {
   "cell_type": "code",
   "execution_count": 34,
   "id": "ef8e5339",
   "metadata": {},
   "outputs": [],
   "source": [
    "# w will create a file if not present and then it will write some data into the file as well\n",
    "f =open('rafay.txt','w')"
   ]
  },
  {
   "cell_type": "code",
   "execution_count": 36,
   "id": "77ccad98",
   "metadata": {},
   "outputs": [
    {
     "name": "stdout",
     "output_type": "stream",
     "text": [
      "Hello World who are you\n"
     ]
    }
   ],
   "source": [
    "# r will ready the file and once read is complete it must be store the data in a varaible\n",
    "# the print that varaible to display the file data\n",
    "f= open('rafay.txt','r')\n",
    "data= f.read()\n",
    "print(data)\n"
   ]
  },
  {
   "cell_type": "code",
   "execution_count": 43,
   "id": "ab8a9090",
   "metadata": {},
   "outputs": [
    {
     "name": "stdout",
     "output_type": "stream",
     "text": [
      "Rafay \"Who are you\"\n",
      "\n",
      "Moeez \"I am good\"\n",
      "\n",
      "Moeez \"What about you, Are you okay?\"\n",
      "\n",
      "Rafay \"Yeah, I am good\"\n",
      "\n"
     ]
    },
    {
     "data": {
      "text/plain": [
       "str"
      ]
     },
     "execution_count": 43,
     "metadata": {},
     "output_type": "execute_result"
    }
   ],
   "source": [
    "# readlines will print data line by line using the loop\n",
    "f= open('rafay.txt','r')\n",
    "data= f.readlines()\n",
    "for line in data:\n",
    "    print(line)\n",
    "type(line)"
   ]
  },
  {
   "cell_type": "code",
   "execution_count": 45,
   "id": "19b8df53",
   "metadata": {},
   "outputs": [
    {
     "name": "stdout",
     "output_type": "stream",
     "text": [
      "Rafay \"Who are you\"\n",
      "\n",
      "Moeez \"I am good\"\n",
      "\n",
      "Moeez \"What about you, Are you okay?\"\n",
      "\n",
      "Rafay \"Yeah, I am good\"\n",
      "\n"
     ]
    }
   ],
   "source": [
    "# this will check do you have some data in the file if there is no data in the file then it will exit the file\n",
    "f= open('rafay.txt','r')\n",
    "while True:\n",
    "    lines= f.readline()\n",
    "    if not lines:\n",
    "        break\n",
    "    print(lines)\n",
    "    \n"
   ]
  },
  {
   "cell_type": "markdown",
   "id": "c5dd7e6b",
   "metadata": {},
   "source": [
    "### Write File:\n"
   ]
  },
  {
   "cell_type": "markdown",
   "id": "73cb6b74",
   "metadata": {},
   "source": [
    "### From the user"
   ]
  },
  {
   "cell_type": "code",
   "execution_count": 59,
   "id": "d3317c21",
   "metadata": {},
   "outputs": [
    {
     "name": "stdout",
     "output_type": "stream",
     "text": [
      "What Do You Want To Write To Your File? Rafay hello babay\n"
     ]
    }
   ],
   "source": [
    "#f= open('rafay.txt','w') \n",
    "#f.write(raw_input(\"Enter some data to fale into the file: \"))\n",
    "#f.close\n",
    "#print(\"Data is Saved in the file\")\n",
    "\n",
    "saveFile = open('rafay.txt', 'w')\n",
    "\n",
    "text = input('What Do You Want To Write To Your File? ')\n",
    "saveFile.write(text)\n",
    "\n",
    "saveFile.close()\n"
   ]
  },
  {
   "cell_type": "markdown",
   "id": "2a5a9949",
   "metadata": {},
   "source": [
    "# Unit 4: Python Object Oriented Programming"
   ]
  },
  {
   "cell_type": "code",
   "execution_count": null,
   "id": "6a62818f",
   "metadata": {},
   "outputs": [],
   "source": []
  }
 ],
 "metadata": {
  "kernelspec": {
   "display_name": "Python 3",
   "language": "python",
   "name": "python3"
  },
  "language_info": {
   "codemirror_mode": {
    "name": "ipython",
    "version": 3
   },
   "file_extension": ".py",
   "mimetype": "text/x-python",
   "name": "python",
   "nbconvert_exporter": "python",
   "pygments_lexer": "ipython3",
   "version": "3.8.8"
  }
 },
 "nbformat": 4,
 "nbformat_minor": 5
}
