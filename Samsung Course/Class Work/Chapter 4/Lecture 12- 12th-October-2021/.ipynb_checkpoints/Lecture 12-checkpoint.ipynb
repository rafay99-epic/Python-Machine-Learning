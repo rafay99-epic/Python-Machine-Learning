{
 "cells": [
  {
   "cell_type": "markdown",
   "id": "24414c87",
   "metadata": {},
   "source": [
    "## Lecture 12\n",
    "## Date: 12th Oct 2021\n",
    "## Day: Tuesday\n"
   ]
  },
  {
   "cell_type": "markdown",
   "id": "76fc28fb",
   "metadata": {},
   "source": [
    "Exercise 1:"
   ]
  },
  {
   "cell_type": "code",
   "execution_count": 6,
   "id": "06d700c2",
   "metadata": {},
   "outputs": [],
   "source": [
    "import scipy.stats as st"
   ]
  },
  {
   "cell_type": "code",
   "execution_count": 18,
   "id": "cdb5d9ad",
   "metadata": {},
   "outputs": [],
   "source": [
    "import matplotlib.pyplot as plt\n",
    "import numpy as np"
   ]
  },
  {
   "cell_type": "code",
   "execution_count": 19,
   "id": "b1d0c8a2",
   "metadata": {},
   "outputs": [],
   "source": [
    "%matplotlib inline"
   ]
  },
  {
   "cell_type": "code",
   "execution_count": 20,
   "id": "456cdbf8",
   "metadata": {},
   "outputs": [],
   "source": [
    "n= 10\n",
    "p= 0.5\n"
   ]
  },
  {
   "cell_type": "code",
   "execution_count": 34,
   "id": "4a23d6f7",
   "metadata": {},
   "outputs": [
    {
     "data": {
      "text/plain": [
       "0.24609375000000025"
      ]
     },
     "execution_count": 34,
     "metadata": {},
     "output_type": "execute_result"
    }
   ],
   "source": [
    "st.binom.pmf(5,n,p)"
   ]
  },
  {
   "cell_type": "code",
   "execution_count": 35,
   "id": "69fc99b5",
   "metadata": {},
   "outputs": [
    {
     "data": {
      "text/plain": [
       "4.0"
      ]
     },
     "execution_count": 35,
     "metadata": {},
     "output_type": "execute_result"
    }
   ],
   "source": [
    "st.binom.ppf(0.3,n,p)"
   ]
  },
  {
   "cell_type": "code",
   "execution_count": 36,
   "id": "d83fdb05",
   "metadata": {},
   "outputs": [
    {
     "data": {
      "text/plain": [
       "7.0"
      ]
     },
     "execution_count": 36,
     "metadata": {},
     "output_type": "execute_result"
    }
   ],
   "source": [
    "st.binom.ppf(0.9, n, p) "
   ]
  },
  {
   "cell_type": "code",
   "execution_count": 37,
   "id": "5d880981",
   "metadata": {},
   "outputs": [
    {
     "data": {
      "text/plain": [
       "0.0009765625"
      ]
     },
     "execution_count": 37,
     "metadata": {},
     "output_type": "execute_result"
    }
   ],
   "source": [
    "st.binom.cdf(0.89,n,p)"
   ]
  },
  {
   "cell_type": "code",
   "execution_count": 38,
   "id": "3471cf5c",
   "metadata": {},
   "outputs": [
    {
     "data": {
      "text/plain": [
       "0.009765625"
      ]
     },
     "execution_count": 38,
     "metadata": {},
     "output_type": "execute_result"
    }
   ],
   "source": [
    "st.binom.cdf(9,n,p)-st.binom.cdf(8,n,p) "
   ]
  },
  {
   "cell_type": "code",
   "execution_count": 39,
   "id": "e38e0db9",
   "metadata": {},
   "outputs": [
    {
     "data": {
      "image/png": "[encoded data removed]",
      "text/plain": [
       "<Figure size 432x288 with 1 Axes>"
      ]
     },
     "metadata": {
      "needs_background": "light"
     },
     "output_type": "display_data"
    }
   ],
   "source": [
    "x=np.arange(0,11)\n",
    "plt.scatter(x, st.binom.pmf(x,n,p),color='red')\n",
    "plt.show()"
   ]
  },
  {
   "cell_type": "markdown",
   "id": "060dbb69",
   "metadata": {},
   "source": [
    "Exercise 2:"
   ]
  },
  {
   "cell_type": "code",
   "execution_count": 40,
   "id": "6ecb9524",
   "metadata": {},
   "outputs": [],
   "source": [
    "import random"
   ]
  },
  {
   "cell_type": "code",
   "execution_count": 43,
   "id": "0fffacc5",
   "metadata": {},
   "outputs": [
    {
     "name": "stdout",
     "output_type": "stream",
     "text": [
      "[0.20410309 0.97667041 0.69150134 0.23811381 0.81563871 0.05282563\n",
      " 0.55582015 0.00302906 0.55570988 0.03563305 0.11356563 0.64950978\n",
      " 0.55667483 0.61447128 0.88012598 0.95531161 0.82864637 0.43778975\n",
      " 0.69633179 0.53855859 0.21216146 0.46250197 0.56521778 0.83501419\n",
      " 0.07151446 0.16423611 0.82816544 0.56918566 0.14844415 0.95962137\n",
      " 0.67237384 0.58225161 0.77385276 0.18313352 0.28423285 0.64330411\n",
      " 0.40970703 0.97114096 0.9227971  0.02706269 0.29304412 0.77125581\n",
      " 0.70655307 0.59236903 0.53022539 0.83923595 0.18498791 0.62784689\n",
      " 0.81041512 0.47357791 0.48538435 0.51377313 0.50684481 0.40401651\n",
      " 0.78319628 0.84661263 0.32401255 0.77518825 0.23065509 0.0720166\n",
      " 0.38503973 0.57425225 0.27989753 0.8966236  0.09180348 0.6060833\n",
      " 0.52756932 0.54635946 0.35567794 0.0367972  0.8838396  0.62334776\n",
      " 0.2078639  0.7786734  0.39260069 0.3627279  0.2521931  0.23560918\n",
      " 0.2460004  0.42000607 0.30919968 0.12019972 0.53461832 0.2875671\n",
      " 0.83107604 0.11697663 0.86077307 0.86462841 0.13400967 0.10267506\n",
      " 0.22170756 0.04486938 0.47776579 0.5145595  0.67144245 0.48059554\n",
      " 0.02915957 0.03517861 0.40139804 0.30380199]\n",
      "47.50232914129654\n",
      "0.9999999999999997\n"
     ]
    }
   ],
   "source": [
    "list_of_random_floats = np.random.random(100)\n",
    "print(list_of_random_floats)\n",
    "sum_of_values = list_of_random_floats.sum()\n",
    "print(sum_of_values)\n",
    "normalized_values = list_of_random_floats / sum_of_values\n",
    "print(normalized_values.sum())"
   ]
  },
  {
   "cell_type": "code",
   "execution_count": 44,
   "id": "9d84a65e",
   "metadata": {},
   "outputs": [],
   "source": [
    "import random\n"
   ]
  },
  {
   "cell_type": "code",
   "execution_count": 45,
   "id": "496b1c64",
   "metadata": {},
   "outputs": [],
   "source": [
    "import os"
   ]
  },
  {
   "cell_type": "code",
   "execution_count": 55,
   "id": "d16da39c",
   "metadata": {},
   "outputs": [],
   "source": [
    "list2= np.random.randint(1,6, 10)"
   ]
  },
  {
   "cell_type": "code",
   "execution_count": 56,
   "id": "5baf03e3",
   "metadata": {},
   "outputs": [
    {
     "name": "stdout",
     "output_type": "stream",
     "text": [
      "[4 5 5 4 5 4 3 2 2 3]\n"
     ]
    }
   ],
   "source": [
    "print(list2)"
   ]
  },
  {
   "cell_type": "code",
   "execution_count": null,
   "id": "f0943add",
   "metadata": {},
   "outputs": [],
   "source": []
  }
 ],
 "metadata": {
  "kernelspec": {
   "display_name": "Python 3",
   "language": "python",
   "name": "python3"
  },
  "language_info": {
   "codemirror_mode": {
    "name": "ipython",
    "version": 3
   },
   "file_extension": ".py",
   "mimetype": "text/x-python",
   "name": "python",
   "nbconvert_exporter": "python",
   "pygments_lexer": "ipython3",
   "version": "3.8.8"
  }
 },
 "nbformat": 4,
 "nbformat_minor": 5
}
