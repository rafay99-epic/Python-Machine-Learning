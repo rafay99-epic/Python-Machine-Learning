{
 "cells": [
  {
   "cell_type": "markdown",
   "id": "2813e59e",
   "metadata": {},
   "source": [
    "## Date: 04 Oct 2021\n",
    "## Day: Monday\n",
    "## Lecture 06"
   ]
  },
  {
   "cell_type": "markdown",
   "id": "d344aab0",
   "metadata": {},
   "source": [
    "# Data Structures"
   ]
  },
  {
   "cell_type": "markdown",
   "id": "2e577bf9",
   "metadata": {},
   "source": [
    "## Stack"
   ]
  },
  {
   "cell_type": "code",
   "execution_count": 1,
   "id": "f9cfda09",
   "metadata": {},
   "outputs": [
    {
     "name": "stdout",
     "output_type": "stream",
     "text": [
      "10\n"
     ]
    }
   ],
   "source": [
    "# for stack\n",
    "# remove a vlue\n",
    "st =[1,2,3,4,5,6,10]\n",
    "x = st.pop()\n",
    "print(x)"
   ]
  },
  {
   "cell_type": "code",
   "execution_count": 2,
   "id": "2627f43c",
   "metadata": {},
   "outputs": [
    {
     "name": "stdout",
     "output_type": "stream",
     "text": [
      "Enter a Number11\n",
      "[1, 2, 3, 4, 5, 6, 11]\n"
     ]
    }
   ],
   "source": [
    "# for input of element\n",
    "y = int(input(\"Enter a Number\"))\n",
    "st.append(y)\n",
    "print(st)"
   ]
  },
  {
   "cell_type": "markdown",
   "id": "e1cf46ff",
   "metadata": {},
   "source": [
    "## Queue"
   ]
  },
  {
   "cell_type": "code",
   "execution_count": null,
   "id": "4a161c75",
   "metadata": {},
   "outputs": [],
   "source": [
    "# for queue\n",
    "que= [10,12,34,56]\n"
   ]
  },
  {
   "cell_type": "markdown",
   "id": "c6a362b8",
   "metadata": {},
   "source": [
    "# Exercise 10"
   ]
  },
  {
   "cell_type": "markdown",
   "id": "c6253656",
   "metadata": {},
   "source": [
    "# 1: Queue vs Stack"
   ]
  },
  {
   "cell_type": "code",
   "execution_count": 3,
   "id": "d27a9a63",
   "metadata": {},
   "outputs": [
    {
     "name": "stdout",
     "output_type": "stream",
     "text": [
      "a\n",
      "b\n",
      "c\n",
      "d\n",
      "e\n"
     ]
    }
   ],
   "source": [
    "a =['a','b','c','d','e']\n",
    "while a:\n",
    "    print(a.pop(0))\n",
    "    "
   ]
  },
  {
   "cell_type": "code",
   "execution_count": 4,
   "id": "c25e211a",
   "metadata": {},
   "outputs": [
    {
     "name": "stdout",
     "output_type": "stream",
     "text": [
      "e\n",
      "d\n",
      "c\n",
      "b\n",
      "a\n"
     ]
    }
   ],
   "source": [
    "a =['a','b','c','d','e']\n",
    "while a:\n",
    "    print(a.pop())"
   ]
  },
  {
   "cell_type": "markdown",
   "id": "462e377c",
   "metadata": {},
   "source": [
    "# 2. Using stack"
   ]
  },
  {
   "cell_type": "markdown",
   "id": "9cfe3b6c",
   "metadata": {},
   "source": [
    "## 2.1: Revrse the order of a list:"
   ]
  },
  {
   "cell_type": "code",
   "execution_count": 8,
   "id": "0c4a4259",
   "metadata": {},
   "outputs": [
    {
     "name": "stdout",
     "output_type": "stream",
     "text": [
      "['e', 'd', 'c', 'b', 'a']\n"
     ]
    }
   ],
   "source": [
    "a = ['a','b','c','d','e']\n",
    "b = []\n",
    "while a:\n",
    "    x = a.pop()\n",
    "    b.append(x)\n",
    "print(b)"
   ]
  },
  {
   "cell_type": "markdown",
   "id": "f6b4f737",
   "metadata": {},
   "source": [
    "Reverse the order of a string"
   ]
  },
  {
   "cell_type": "code",
   "execution_count": 13,
   "id": "fe9cde29",
   "metadata": {},
   "outputs": [],
   "source": [
    "def inverse_string(a):\n",
    "    b = ' '\n",
    "    letter = []\n",
    "    \n",
    "    for x in a:\n",
    "        letter.append(x)\n",
    "        \n",
    "    while letter:\n",
    "        c = letter.pop()\n",
    "        b +=c\n",
    "    return b"
   ]
  },
  {
   "cell_type": "code",
   "execution_count": 14,
   "id": "839c51f4",
   "metadata": {},
   "outputs": [
    {
     "data": {
      "text/plain": [
       "' rafay'"
      ]
     },
     "execution_count": 14,
     "metadata": {},
     "output_type": "execute_result"
    }
   ],
   "source": [
    "inverse_string('yafar')"
   ]
  },
  {
   "cell_type": "markdown",
   "id": "e0d090bb",
   "metadata": {},
   "source": [
    "Removing the spaces from the string"
   ]
  },
  {
   "cell_type": "code",
   "execution_count": 15,
   "id": "897a9c40",
   "metadata": {},
   "outputs": [],
   "source": [
    "def invers_string2(a):\n",
    "    b = ''\n",
    "    letters =[]\n",
    "    for x in a:\n",
    "        if x .isalpha():\n",
    "            letters.append(x)\n",
    "    while letters:\n",
    "        c = letters.pop()\n",
    "        b+= c\n",
    "    return b"
   ]
  },
  {
   "cell_type": "code",
   "execution_count": 17,
   "id": "7ef44c24",
   "metadata": {},
   "outputs": [
    {
     "data": {
      "text/plain": [
       "'wasitacatisaw'"
      ]
     },
     "execution_count": 17,
     "metadata": {},
     "output_type": "execute_result"
    }
   ],
   "source": [
    "invers_string2('was it a cat i saw')"
   ]
  },
  {
   "cell_type": "code",
   "execution_count": null,
   "id": "269e303b",
   "metadata": {},
   "outputs": [],
   "source": []
  }
 ],
 "metadata": {
  "kernelspec": {
   "display_name": "Python 3",
   "language": "python",
   "name": "python3"
  },
  "language_info": {
   "codemirror_mode": {
    "name": "ipython",
    "version": 3
   },
   "file_extension": ".py",
   "mimetype": "text/x-python",
   "name": "python",
   "nbconvert_exporter": "python",
   "pygments_lexer": "ipython3",
   "version": "3.8.8"
  }
 },
 "nbformat": 4,
 "nbformat_minor": 5
}
