{
 "cells": [
  {
   "cell_type": "markdown",
   "id": "2da6ba1f",
   "metadata": {},
   "source": [
    "## Day: Friday\n",
    "## Date: 01-October-2021\n",
    "## Lecture 05"
   ]
  },
  {
   "cell_type": "markdown",
   "id": "e6e3c280",
   "metadata": {},
   "source": [
    "# Python 4: Object Oriented Program"
   ]
  },
  {
   "cell_type": "code",
   "execution_count": 10,
   "id": "d3ac54c5",
   "metadata": {},
   "outputs": [],
   "source": [
    "import Functions as f"
   ]
  },
  {
   "cell_type": "code",
   "execution_count": 19,
   "id": "5b688841",
   "metadata": {},
   "outputs": [
    {
     "name": "stdout",
     "output_type": "stream",
     "text": [
      "A Dog object is created: \n"
     ]
    }
   ],
   "source": [
    "# class in once file\n",
    "class Dog:\n",
    "    def __init__(self, name, age): # this is an constructor\n",
    "        self.name= name\n",
    "        self.age= age\n",
    "        print(\"A Dog object is created: \")\n",
    "\n",
    "dog1 = Dog('Fido', 2)       "
   ]
  },
  {
   "cell_type": "markdown",
   "id": "98281d4b",
   "metadata": {},
   "source": [
    "**Note: Destructor function will be called automatically,**"
   ]
  },
  {
   "cell_type": "code",
   "execution_count": 20,
   "id": "92f4bd54",
   "metadata": {},
   "outputs": [
    {
     "name": "stdout",
     "output_type": "stream",
     "text": [
      "A Dog object is created: \n"
     ]
    }
   ],
   "source": [
    "dog1=f.Dog('Bob', 56)  # creating and calling default connstructor \n",
    "del dog1"
   ]
  },
  {
   "cell_type": "code",
   "execution_count": 25,
   "id": "acde2beb",
   "metadata": {},
   "outputs": [
    {
     "name": "stdout",
     "output_type": "stream",
     "text": [
      "9\n"
     ]
    }
   ],
   "source": [
    "# in this we are calling a method and providing the values to the\n",
    "# Function, The code of the function is another module called functions\n",
    "dog2= f.add(5,4)\n",
    "print(dog2)"
   ]
  },
  {
   "cell_type": "markdown",
   "id": "a47d6990",
   "metadata": {},
   "source": [
    "## Inhertance in the Same class"
   ]
  },
  {
   "cell_type": "code",
   "execution_count": 55,
   "id": "5ad63dd6",
   "metadata": {},
   "outputs": [],
   "source": [
    "class Pet1:\n",
    "    def __init__(self,age): # this is an constructor\n",
    "        self.age= age\n",
    "        print(\"A Dog object is created: \")\n",
    "    def hello():\n",
    "        print(\"Hello World Pet1 class\")\n",
    "\n",
    "class Pet:\n",
    "    def __init__(self, name): # this is an constructor\n",
    "        self.name= name\n",
    "        print(\"A Dog object is created: \")\n",
    "    def hello():\n",
    "        print(\"Hello World Pet class\")\n",
    "\n",
    "class cat(Pet,Pet1):\n",
    "    def __init__(self, name, age):\n",
    "        self.name= name\n",
    "        self.age= age\n",
    "        print(\"Cat object Created\")"
   ]
  },
  {
   "cell_type": "code",
   "execution_count": 54,
   "id": "d1d9bbed",
   "metadata": {},
   "outputs": [
    {
     "name": "stdout",
     "output_type": "stream",
     "text": [
      "Cat object Created\n"
     ]
    }
   ],
   "source": [
    "cat1 = cat(\"Wow\",\"4\")"
   ]
  },
  {
   "cell_type": "code",
   "execution_count": 47,
   "id": "23336f8c",
   "metadata": {},
   "outputs": [],
   "source": [
    "# class in once file\n",
    "class pet:\n",
    "    def __init__(self, name, age): # this is an constructor\n",
    "        self.name= name\n",
    "        self.age= age\n",
    "        print(\"A Dog object is created: \")\n",
    "    def hello():\n",
    "        print(\"Hello World\")\n",
    "class Dog(pet):\n",
    "    def __init__(self, name, age):\n",
    "              self.name= name\n",
    "              self.age= age"
   ]
  },
  {
   "cell_type": "code",
   "execution_count": 49,
   "id": "a8206d09",
   "metadata": {},
   "outputs": [
    {
     "name": "stdout",
     "output_type": "stream",
     "text": [
      "Hello World\n"
     ]
    }
   ],
   "source": [
    "cat1= Dog(\"Wow\",5)\n",
    "cat2=Dog.hello()"
   ]
  },
  {
   "cell_type": "markdown",
   "id": "9b0953ba",
   "metadata": {},
   "source": [
    "# Inhertance in the different Module:\n"
   ]
  },
  {
   "cell_type": "code",
   "execution_count": 57,
   "id": "9ee10085",
   "metadata": {},
   "outputs": [],
   "source": [
    "import Inhertance as P"
   ]
  },
  {
   "cell_type": "code",
   "execution_count": 58,
   "id": "30cb3230",
   "metadata": {},
   "outputs": [
    {
     "ename": "TypeError",
     "evalue": "__init__() takes 2 positional arguments but 3 were given",
     "output_type": "error",
     "traceback": [
      "\u001b[0;31m---------------------------------------------------------------------------\u001b[0m",
      "\u001b[0;31mTypeError\u001b[0m                                 Traceback (most recent call last)",
      "\u001b[0;32m<ipython-input-58-67ca46fb4527>\u001b[0m in \u001b[0;36m<module>\u001b[0;34m\u001b[0m\n\u001b[0;32m----> 1\u001b[0;31m \u001b[0mP\u001b[0m\u001b[0;34m.\u001b[0m\u001b[0mcat\u001b[0m\u001b[0;34m(\u001b[0m\u001b[0;34m\"hello\"\u001b[0m\u001b[0;34m,\u001b[0m \u001b[0;36m4\u001b[0m\u001b[0;34m)\u001b[0m\u001b[0;34m\u001b[0m\u001b[0;34m\u001b[0m\u001b[0m\n\u001b[0m",
      "\u001b[0;31mTypeError\u001b[0m: __init__() takes 2 positional arguments but 3 were given"
     ]
    }
   ],
   "source": [
    "P.cat(\"hello\", 4)"
   ]
  },
  {
   "cell_type": "code",
   "execution_count": null,
   "id": "cffffc54",
   "metadata": {},
   "outputs": [],
   "source": []
  },
  {
   "cell_type": "code",
   "execution_count": null,
   "id": "d96959fb",
   "metadata": {},
   "outputs": [],
   "source": []
  },
  {
   "cell_type": "markdown",
   "id": "75a1c8fc",
   "metadata": {},
   "source": [
    "# Exercise 07:"
   ]
  },
  {
   "cell_type": "markdown",
   "id": "5391c253",
   "metadata": {},
   "source": [
    "## 1. Class:\n",
    "### 1.1 Constructor Method:"
   ]
  },
  {
   "cell_type": "code",
   "execution_count": 65,
   "id": "2d0f20e6",
   "metadata": {},
   "outputs": [],
   "source": [
    "class Dog:\n",
    "    def __init__(self,name,age):\n",
    "        self.name= name\n",
    "        self.age= age\n",
    "        print(\"Dog object is created\")"
   ]
  },
  {
   "cell_type": "code",
   "execution_count": 66,
   "id": "5848728c",
   "metadata": {},
   "outputs": [
    {
     "name": "stdout",
     "output_type": "stream",
     "text": [
      "Dog object is created\n"
     ]
    }
   ],
   "source": [
    "dog1= Dog(\"Hello\", 5)"
   ]
  },
  {
   "cell_type": "markdown",
   "id": "5f9af25a",
   "metadata": {},
   "source": [
    "### 1.2: Destructor Method"
   ]
  },
  {
   "cell_type": "code",
   "execution_count": 67,
   "id": "ecf88353",
   "metadata": {},
   "outputs": [],
   "source": [
    "class Dog:\n",
    "    def __init__(self, name, age):\n",
    "        self.name = name\n",
    "        self.age = age\n",
    "        print('A Dog object is created!')\n",
    "    def __del__(self):\n",
    "        print('A Dog object is deleted!')\n",
    "    "
   ]
  },
  {
   "cell_type": "code",
   "execution_count": 68,
   "id": "89bc0ad3",
   "metadata": {},
   "outputs": [
    {
     "name": "stdout",
     "output_type": "stream",
     "text": [
      "A Dog object is created!\n"
     ]
    }
   ],
   "source": [
    "a_dog = Dog(\"Amazing\", 5)"
   ]
  },
  {
   "cell_type": "code",
   "execution_count": 69,
   "id": "ea7443c7",
   "metadata": {},
   "outputs": [
    {
     "name": "stdout",
     "output_type": "stream",
     "text": [
      "A Dog object is deleted!\n"
     ]
    }
   ],
   "source": [
    "del a_dog"
   ]
  },
  {
   "cell_type": "markdown",
   "id": "5446687d",
   "metadata": {},
   "source": [
    "### 1.3: Member Variables:\n"
   ]
  },
  {
   "cell_type": "code",
   "execution_count": 70,
   "id": "68d6212c",
   "metadata": {},
   "outputs": [],
   "source": [
    "class Dog:      \n",
    "    def __init__(self, name, age):\n",
    "        self.name = name\n",
    "        self.age = age\n"
   ]
  },
  {
   "cell_type": "code",
   "execution_count": 71,
   "id": "5c25c566",
   "metadata": {},
   "outputs": [],
   "source": [
    "dog1 = Dog('Fido', 2)\n",
    "dog2 = Dog('Dido', 3)"
   ]
  },
  {
   "cell_type": "code",
   "execution_count": 72,
   "id": "d7f4f2b5",
   "metadata": {},
   "outputs": [
    {
     "name": "stdout",
     "output_type": "stream",
     "text": [
      "Name: Fido \n",
      "Age: 2\n"
     ]
    }
   ],
   "source": [
    "print(\"Name: {0} \\nAge: {1}\".format(dog1.name, dog1.age))"
   ]
  },
  {
   "cell_type": "code",
   "execution_count": 73,
   "id": "78e5dec4",
   "metadata": {},
   "outputs": [
    {
     "name": "stdout",
     "output_type": "stream",
     "text": [
      "Name: Dido \n",
      "Age: 3\n"
     ]
    }
   ],
   "source": [
    "print(\"Name: {0} \\nAge: {1}\".format(dog2.name, dog2.age))"
   ]
  },
  {
   "cell_type": "markdown",
   "id": "943e8ae3",
   "metadata": {},
   "source": [
    "### 1.4 Class Variable:"
   ]
  },
  {
   "cell_type": "code",
   "execution_count": null,
   "id": "dae2c2fc",
   "metadata": {},
   "outputs": [],
   "source": [
    "class Dog:"
   ]
  }
 ],
 "metadata": {
  "kernelspec": {
   "display_name": "Python 3",
   "language": "python",
   "name": "python3"
  },
  "language_info": {
   "codemirror_mode": {
    "name": "ipython",
    "version": 3
   },
   "file_extension": ".py",
   "mimetype": "text/x-python",
   "name": "python",
   "nbconvert_exporter": "python",
   "pygments_lexer": "ipython3",
   "version": "3.8.8"
  }
 },
 "nbformat": 4,
 "nbformat_minor": 5
}
