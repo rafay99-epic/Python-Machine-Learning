{
 "cells": [
  {
   "cell_type": "markdown",
   "id": "2da6ba1f",
   "metadata": {},
   "source": [
    "## Day: Friday\n",
    "## Date: 01-October-2021\n",
    "## Lecture 05"
   ]
  },
  {
   "cell_type": "markdown",
   "id": "e6e3c280",
   "metadata": {},
   "source": [
    "# Python 4: Object Oriented Program"
   ]
  },
  {
   "cell_type": "code",
   "execution_count": 10,
   "id": "d3ac54c5",
   "metadata": {},
   "outputs": [],
   "source": [
    "import Functions as f"
   ]
  },
  {
   "cell_type": "code",
   "execution_count": 19,
   "id": "5b688841",
   "metadata": {},
   "outputs": [
    {
     "name": "stdout",
     "output_type": "stream",
     "text": [
      "A Dog object is created: \n"
     ]
    }
   ],
   "source": [
    "# class in once file\n",
    "class Dog:\n",
    "    def __init__(self, name, age): # this is an constructor\n",
    "        self.name= name\n",
    "        self.age= age\n",
    "        print(\"A Dog object is created: \")\n",
    "\n",
    "dog1 = Dog('Fido', 2)       "
   ]
  },
  {
   "cell_type": "markdown",
   "id": "98281d4b",
   "metadata": {},
   "source": [
    "**Note: Destructor function will be called automatically,**"
   ]
  },
  {
   "cell_type": "code",
   "execution_count": 20,
   "id": "92f4bd54",
   "metadata": {},
   "outputs": [
    {
     "name": "stdout",
     "output_type": "stream",
     "text": [
      "A Dog object is created: \n"
     ]
    }
   ],
   "source": [
    "dog1=f.Dog('Bob', 56)  # creating and calling default connstructor \n",
    "del dog1"
   ]
  },
  {
   "cell_type": "code",
   "execution_count": 25,
   "id": "acde2beb",
   "metadata": {},
   "outputs": [
    {
     "name": "stdout",
     "output_type": "stream",
     "text": [
      "9\n"
     ]
    }
   ],
   "source": [
    "# in this we are calling a method and providing the values to the\n",
    "# Function, The code of the function is another module called functions\n",
    "dog2= f.add(5,4)\n",
    "print(dog2)"
   ]
  },
  {
   "cell_type": "markdown",
   "id": "a47d6990",
   "metadata": {},
   "source": [
    "## Inhertance in the Same class"
   ]
  },
  {
   "cell_type": "code",
   "execution_count": 55,
   "id": "5ad63dd6",
   "metadata": {},
   "outputs": [],
   "source": [
    "class Pet1:\n",
    "    def __init__(self,age): # this is an constructor\n",
    "        self.age= age\n",
    "        print(\"A Dog object is created: \")\n",
    "    def hello():\n",
    "        print(\"Hello World Pet1 class\")\n",
    "\n",
    "class Pet:\n",
    "    def __init__(self, name): # this is an constructor\n",
    "        self.name= name\n",
    "        print(\"A Dog object is created: \")\n",
    "    def hello():\n",
    "        print(\"Hello World Pet class\")\n",
    "\n",
    "class cat(Pet,Pet1):\n",
    "    def __init__(self, name, age):\n",
    "        self.name= name\n",
    "        self.age= age\n",
    "        print(\"Cat object Created\")"
   ]
  },
  {
   "cell_type": "code",
   "execution_count": 54,
   "id": "d1d9bbed",
   "metadata": {},
   "outputs": [
    {
     "name": "stdout",
     "output_type": "stream",
     "text": [
      "Cat object Created\n"
     ]
    }
   ],
   "source": [
    "cat1 = cat(\"Wow\",\"4\")"
   ]
  },
  {
   "cell_type": "code",
   "execution_count": 47,
   "id": "23336f8c",
   "metadata": {},
   "outputs": [],
   "source": [
    "# class in once file\n",
    "class pet:\n",
    "    def __init__(self, name, age): # this is an constructor\n",
    "        self.name= name\n",
    "        self.age= age\n",
    "        print(\"A Dog object is created: \")\n",
    "    def hello():\n",
    "        print(\"Hello World\")\n",
    "class Dog(pet):\n",
    "    def __init__(self, name, age):\n",
    "              self.name= name\n",
    "              self.age= age"
   ]
  },
  {
   "cell_type": "code",
   "execution_count": 49,
   "id": "a8206d09",
   "metadata": {},
   "outputs": [
    {
     "name": "stdout",
     "output_type": "stream",
     "text": [
      "Hello World\n"
     ]
    }
   ],
   "source": [
    "cat1= Dog(\"Wow\",5)\n",
    "cat2=Dog.hello()"
   ]
  },
  {
   "cell_type": "markdown",
   "id": "9b0953ba",
   "metadata": {},
   "source": [
    "# Inhertance in the different Module:\n"
   ]
  },
  {
   "cell_type": "code",
   "execution_count": 57,
   "id": "9ee10085",
   "metadata": {},
   "outputs": [],
   "source": [
    "import Inhertance as P"
   ]
  },
  {
   "cell_type": "code",
   "execution_count": 58,
   "id": "30cb3230",
   "metadata": {},
   "outputs": [
    {
     "ename": "TypeError",
     "evalue": "__init__() takes 2 positional arguments but 3 were given",
     "output_type": "error",
     "traceback": [
      "\u001b[0;31m---------------------------------------------------------------------------\u001b[0m",
      "\u001b[0;31mTypeError\u001b[0m                                 Traceback (most recent call last)",
      "\u001b[0;32m<ipython-input-58-67ca46fb4527>\u001b[0m in \u001b[0;36m<module>\u001b[0;34m\u001b[0m\n\u001b[0;32m----> 1\u001b[0;31m \u001b[0mP\u001b[0m\u001b[0;34m.\u001b[0m\u001b[0mcat\u001b[0m\u001b[0;34m(\u001b[0m\u001b[0;34m\"hello\"\u001b[0m\u001b[0;34m,\u001b[0m \u001b[0;36m4\u001b[0m\u001b[0;34m)\u001b[0m\u001b[0;34m\u001b[0m\u001b[0;34m\u001b[0m\u001b[0m\n\u001b[0m",
      "\u001b[0;31mTypeError\u001b[0m: __init__() takes 2 positional arguments but 3 were given"
     ]
    }
   ],
   "source": [
    "P.cat(\"hello\", 4)"
   ]
  },
  {
   "cell_type": "code",
   "execution_count": null,
   "id": "cffffc54",
   "metadata": {},
   "outputs": [],
   "source": []
  },
  {
   "cell_type": "code",
   "execution_count": null,
   "id": "d96959fb",
   "metadata": {},
   "outputs": [],
   "source": []
  },
  {
   "cell_type": "markdown",
   "id": "75a1c8fc",
   "metadata": {},
   "source": [
    "# Exercise 07:"
   ]
  },
  {
   "cell_type": "markdown",
   "id": "5391c253",
   "metadata": {},
   "source": [
    "## 1. Class:\n",
    "### 1.1 Constructor Method:"
   ]
  },
  {
   "cell_type": "code",
   "execution_count": 65,
   "id": "2d0f20e6",
   "metadata": {},
   "outputs": [],
   "source": [
    "class Dog:\n",
    "    def __init__(self,name,age):\n",
    "        self.name= name\n",
    "        self.age= age\n",
    "        print(\"Dog object is created\")"
   ]
  },
  {
   "cell_type": "code",
   "execution_count": 66,
   "id": "5848728c",
   "metadata": {},
   "outputs": [
    {
     "name": "stdout",
     "output_type": "stream",
     "text": [
      "Dog object is created\n"
     ]
    }
   ],
   "source": [
    "dog1= Dog(\"Hello\", 5)"
   ]
  },
  {
   "cell_type": "markdown",
   "id": "5f9af25a",
   "metadata": {},
   "source": [
    "### 1.2: Destructor Method"
   ]
  },
  {
   "cell_type": "code",
   "execution_count": 67,
   "id": "ecf88353",
   "metadata": {},
   "outputs": [],
   "source": [
    "class Dog:\n",
    "    def __init__(self, name, age):\n",
    "        self.name = name\n",
    "        self.age = age\n",
    "        print('A Dog object is created!')\n",
    "    def __del__(self):\n",
    "        print('A Dog object is deleted!')\n",
    "    "
   ]
  },
  {
   "cell_type": "code",
   "execution_count": 68,
   "id": "89bc0ad3",
   "metadata": {},
   "outputs": [
    {
     "name": "stdout",
     "output_type": "stream",
     "text": [
      "A Dog object is created!\n"
     ]
    }
   ],
   "source": [
    "a_dog = Dog(\"Amazing\", 5)"
   ]
  },
  {
   "cell_type": "code",
   "execution_count": 69,
   "id": "ea7443c7",
   "metadata": {},
   "outputs": [
    {
     "name": "stdout",
     "output_type": "stream",
     "text": [
      "A Dog object is deleted!\n"
     ]
    }
   ],
   "source": [
    "del a_dog"
   ]
  },
  {
   "cell_type": "markdown",
   "id": "5446687d",
   "metadata": {},
   "source": [
    "### 1.3: Member Variables:\n"
   ]
  },
  {
   "cell_type": "code",
   "execution_count": 70,
   "id": "68d6212c",
   "metadata": {},
   "outputs": [],
   "source": [
    "class Dog:      \n",
    "    def __init__(self, name, age):\n",
    "        self.name = name\n",
    "        self.age = age\n"
   ]
  },
  {
   "cell_type": "code",
   "execution_count": 71,
   "id": "5c25c566",
   "metadata": {},
   "outputs": [],
   "source": [
    "dog1 = Dog('Fido', 2)\n",
    "dog2 = Dog('Dido', 3)"
   ]
  },
  {
   "cell_type": "code",
   "execution_count": 72,
   "id": "d7f4f2b5",
   "metadata": {},
   "outputs": [
    {
     "name": "stdout",
     "output_type": "stream",
     "text": [
      "Name: Fido \n",
      "Age: 2\n"
     ]
    }
   ],
   "source": [
    "print(\"Name: {0} \\nAge: {1}\".format(dog1.name, dog1.age))"
   ]
  },
  {
   "cell_type": "code",
   "execution_count": 73,
   "id": "78e5dec4",
   "metadata": {},
   "outputs": [
    {
     "name": "stdout",
     "output_type": "stream",
     "text": [
      "Name: Dido \n",
      "Age: 3\n"
     ]
    }
   ],
   "source": [
    "print(\"Name: {0} \\nAge: {1}\".format(dog2.name, dog2.age))"
   ]
  },
  {
   "cell_type": "markdown",
   "id": "943e8ae3",
   "metadata": {},
   "source": [
    "### 1.4 Class Variable:"
   ]
  },
  {
   "cell_type": "code",
   "execution_count": 1,
   "id": "dae2c2fc",
   "metadata": {},
   "outputs": [],
   "source": [
    "class Dog:\n",
    "    counter = 0                            # This is a class variable.\n",
    "    def __init__(self, name):\n",
    "        self.name = name\n",
    "        Dog.counter += 1\n",
    "    def __del__(self):\n",
    "        Dog.counter -= 1"
   ]
  },
  {
   "cell_type": "code",
   "execution_count": 2,
   "id": "170827c2",
   "metadata": {},
   "outputs": [],
   "source": [
    "dog1= Dog('Fide')\n",
    "dog2= Dog(\"Wow\")"
   ]
  },
  {
   "cell_type": "code",
   "execution_count": 3,
   "id": "ca3ec03d",
   "metadata": {},
   "outputs": [
    {
     "data": {
      "text/plain": [
       "1"
      ]
     },
     "execution_count": 3,
     "metadata": {},
     "output_type": "execute_result"
    }
   ],
   "source": [
    "del dog2\n",
    "Dog.counter"
   ]
  },
  {
   "cell_type": "code",
   "execution_count": 4,
   "id": "fcdd85a3",
   "metadata": {},
   "outputs": [
    {
     "data": {
      "text/plain": [
       "0"
      ]
     },
     "execution_count": 4,
     "metadata": {},
     "output_type": "execute_result"
    }
   ],
   "source": [
    "del dog1\n",
    "Dog.counter"
   ]
  },
  {
   "cell_type": "markdown",
   "id": "59b79a47",
   "metadata": {},
   "source": [
    "## 1.5:  Member Method"
   ]
  },
  {
   "cell_type": "code",
   "execution_count": 7,
   "id": "64be799f",
   "metadata": {},
   "outputs": [],
   "source": [
    "class Dog:\n",
    "    def __init__(self,name,age):\n",
    "        self.name = name\n",
    "        self.age = age\n",
    "    def bark(self):\n",
    "        print(self.name+ \"is barking\")\n",
    "        "
   ]
  },
  {
   "cell_type": "code",
   "execution_count": 8,
   "id": "49e04510",
   "metadata": {},
   "outputs": [
    {
     "name": "stdout",
     "output_type": "stream",
     "text": [
      "Badukis barking\n"
     ]
    }
   ],
   "source": [
    "a_dog = Dog('Baduk', 2)\n",
    "a_dog.bark()"
   ]
  },
  {
   "cell_type": "markdown",
   "id": "7c80b3e4",
   "metadata": {},
   "source": [
    "# Coding Exercise 08"
   ]
  },
  {
   "cell_type": "markdown",
   "id": "d4e720f6",
   "metadata": {},
   "source": [
    "## 1. Class Inheritance:"
   ]
  },
  {
   "cell_type": "code",
   "execution_count": 9,
   "id": "acdc4daa",
   "metadata": {},
   "outputs": [],
   "source": [
    "class Pet: \n",
    "    counter = 0 \n",
    "    def __init__(self,name):\n",
    "        self.name = name\n",
    "        Pet.counter += 1\n",
    "    def __del__(self):\n",
    "        Pet.counter -= 1"
   ]
  },
  {
   "cell_type": "code",
   "execution_count": 10,
   "id": "f5898fa7",
   "metadata": {},
   "outputs": [],
   "source": [
    "class Cat(Pet):             \n",
    "    def purr(self):\n",
    "        print(self.name + ' is purring...')\n",
    "        \n",
    "class Dog(Pet):\n",
    "    def bark(self):\n",
    "        print(self.name + ' is barking...')"
   ]
  },
  {
   "cell_type": "code",
   "execution_count": 12,
   "id": "1c3772d5",
   "metadata": {},
   "outputs": [],
   "source": [
    "a_cat= Cat('Kitty')\n",
    "a_dog= Dog ('Wow')"
   ]
  },
  {
   "cell_type": "code",
   "execution_count": 13,
   "id": "6bbe4f08",
   "metadata": {},
   "outputs": [
    {
     "name": "stdout",
     "output_type": "stream",
     "text": [
      "Kitty is purring...\n",
      "Wow is barking...\n"
     ]
    }
   ],
   "source": [
    "a_cat.purr()\n",
    "a_dog.bark()"
   ]
  },
  {
   "cell_type": "code",
   "execution_count": 14,
   "id": "20ea3116",
   "metadata": {},
   "outputs": [],
   "source": [
    "\n",
    "\n",
    "class Shitzu(Dog):\n",
    "    def sleep(self):\n",
    "        print(self.name + ' sleeps 15 hours a day.')\n",
    "    def play(self):\n",
    "        print(self.name + ' plays 2 hours a day.')\n",
    "        \n",
    "class Beagle(Dog):\n",
    "    def sleep(self):\n",
    "        print(self.name + ' sleeps 12 hours a day.')\n",
    "    def play(self):\n",
    "        print(self.name + ' plays 6 hours a day.')\n",
    "\n"
   ]
  },
  {
   "cell_type": "code",
   "execution_count": 15,
   "id": "87a60596",
   "metadata": {},
   "outputs": [],
   "source": [
    "dog1 = Shitzu('Ruby')\n",
    "dog2 = Shitzu('Buddy')\n",
    "dog3 = Beagle('Rocky')\n"
   ]
  },
  {
   "cell_type": "code",
   "execution_count": 16,
   "id": "2655a9a1",
   "metadata": {},
   "outputs": [
    {
     "name": "stdout",
     "output_type": "stream",
     "text": [
      "Ruby sleeps 15 hours a day.\n",
      "Rocky sleeps 12 hours a day.\n",
      "Buddy plays 2 hours a day.\n",
      "Rocky plays 6 hours a day.\n"
     ]
    },
    {
     "data": {
      "text/plain": [
       "5"
      ]
     },
     "execution_count": 16,
     "metadata": {},
     "output_type": "execute_result"
    }
   ],
   "source": [
    "dog1.sleep()\n",
    "dog3.sleep()\n",
    "dog2.play()\n",
    "dog3.play()\n",
    "Pet.counter"
   ]
  },
  {
   "cell_type": "markdown",
   "id": "93529346",
   "metadata": {},
   "source": [
    "## The end of Exercise"
   ]
  },
  {
   "cell_type": "markdown",
   "id": "98bd23cf",
   "metadata": {},
   "source": [
    "#  Rock\", Paper, Scissors Game"
   ]
  },
  {
   "cell_type": "code",
   "execution_count": 17,
   "id": "cba1c88c",
   "metadata": {},
   "outputs": [
    {
     "name": "stdout",
     "output_type": "stream",
     "text": [
      "Enter a choice (rock, paper, scissors): rock\n",
      "\n",
      "You chose rock, computer chose scissors.\n",
      "\n",
      "Rock smashes scissors! You win!\n",
      "Play again? (y/n): y\n",
      "Enter a choice (rock, paper, scissors): paper\n",
      "\n",
      "You chose paper, computer chose paper.\n",
      "\n",
      "Both players selected paper. It's a tie!\n",
      "Play again? (y/n): n\n"
     ]
    }
   ],
   "source": [
    "import random\n",
    "\n",
    "while True:\n",
    "    user_action = input(\"Enter a choice (rock, paper, scissors): \")\n",
    "    possible_actions = [\"rock\", \"paper\", \"scissors\"]\n",
    "    computer_action = random.choice(possible_actions)\n",
    "    print(f\"\\nYou chose {user_action}, computer chose {computer_action}.\\n\")\n",
    "\n",
    "    if user_action == computer_action:\n",
    "        print(f\"Both players selected {user_action}. It's a tie!\")\n",
    "    elif user_action == \"rock\":\n",
    "        if computer_action == \"scissors\":\n",
    "            print(\"Rock smashes scissors! You win!\")\n",
    "        else:\n",
    "            print(\"Paper covers rock! You lose.\")\n",
    "    elif user_action == \"paper\":\n",
    "        if computer_action == \"rock\":\n",
    "            print(\"Paper covers rock! You win!\")\n",
    "        else:\n",
    "            print(\"Scissors cuts paper! You lose.\")\n",
    "    elif user_action == \"scissors\":\n",
    "        if computer_action == \"paper\":\n",
    "            print(\"Scissors cuts paper! You win!\")\n",
    "        else:\n",
    "            print(\"Rock smashes scissors! You lose.\")\n",
    "\n",
    "    play_again = input(\"Play again? (y/n): \")\n",
    "    if play_again.lower() != \"y\":\n",
    "        break"
   ]
  },
  {
   "cell_type": "markdown",
   "id": "dd887f5f",
   "metadata": {},
   "source": [
    "# Expection Handling:"
   ]
  },
  {
   "cell_type": "code",
   "execution_count": 20,
   "id": "c92b35f9",
   "metadata": {},
   "outputs": [
    {
     "name": "stdout",
     "output_type": "stream",
     "text": [
      "name 'x' is not defined\n",
      "The End\n"
     ]
    }
   ],
   "source": [
    "try:\n",
    "    result = 173/x\n",
    "except Exception as err:\n",
    "    print(err)\n",
    "else:\n",
    "    print(result)\n",
    "finally: \n",
    "    print(\"The End\")"
   ]
  },
  {
   "cell_type": "markdown",
   "id": "a24e46f5",
   "metadata": {},
   "source": [
    "# Unit 5: Python"
   ]
  },
  {
   "cell_type": "markdown",
   "id": "d189edc8",
   "metadata": {},
   "source": [
    "### Algo 1:"
   ]
  },
  {
   "cell_type": "code",
   "execution_count": 33,
   "id": "ddf7c0a4",
   "metadata": {},
   "outputs": [
    {
     "name": "stdout",
     "output_type": "stream",
     "text": [
      "Enter a Number: -5\n",
      "NUmber is negative\n"
     ]
    },
    {
     "data": {
      "text/plain": [
       "-5"
      ]
     },
     "execution_count": 33,
     "metadata": {},
     "output_type": "execute_result"
    }
   ],
   "source": [
    "def check(number):\n",
    "    if number >0:\n",
    "        print(\"Number is postive\")\n",
    "    elif number < 0:\n",
    "        print(\"NUmber is negative\")\n",
    "    return number\n",
    "x = input(\"Enter a Number: \")\n",
    "x= int(x)\n",
    "check(x)"
   ]
  },
  {
   "cell_type": "code",
   "execution_count": 39,
   "id": "ee8f4169",
   "metadata": {},
   "outputs": [
    {
     "name": "stdout",
     "output_type": "stream",
     "text": [
      "5\n",
      "6\n",
      "7\n",
      "8\n"
     ]
    }
   ],
   "source": [
    "def max(list1):\n",
    "    for x in list1:\n",
    "        print (x)\n",
    "        \n",
    "mylist=[5,6,7,8]\n",
    "max(mylist)"
   ]
  },
  {
   "cell_type": "code",
   "execution_count": 82,
   "id": "61992107",
   "metadata": {},
   "outputs": [
    {
     "name": "stdout",
     "output_type": "stream",
     "text": [
      "[3, 4, 5, 6, 7, 3]\n"
     ]
    },
    {
     "ename": "TypeError",
     "evalue": "'type' object is not subscriptable",
     "output_type": "error",
     "traceback": [
      "\u001b[0;31m---------------------------------------------------------------------------\u001b[0m",
      "\u001b[0;31mTypeError\u001b[0m                                 Traceback (most recent call last)",
      "\u001b[0;32m<ipython-input-82-7da6abdb15fe>\u001b[0m in \u001b[0;36m<module>\u001b[0;34m\u001b[0m\n\u001b[1;32m     10\u001b[0m \u001b[0;34m\u001b[0m\u001b[0m\n\u001b[1;32m     11\u001b[0m \u001b[0mcheck\u001b[0m \u001b[0;34m=\u001b[0m \u001b[0;34m[\u001b[0m\u001b[0;36m3\u001b[0m\u001b[0;34m,\u001b[0m\u001b[0;36m4\u001b[0m\u001b[0;34m,\u001b[0m\u001b[0;36m5\u001b[0m\u001b[0;34m,\u001b[0m\u001b[0;36m6\u001b[0m\u001b[0;34m,\u001b[0m\u001b[0;36m7\u001b[0m\u001b[0;34m,\u001b[0m\u001b[0;36m3\u001b[0m\u001b[0;34m]\u001b[0m\u001b[0;34m\u001b[0m\u001b[0;34m\u001b[0m\u001b[0m\n\u001b[0;32m---> 12\u001b[0;31m \u001b[0mmax\u001b[0m\u001b[0;34m(\u001b[0m\u001b[0mcheck\u001b[0m\u001b[0;34m)\u001b[0m\u001b[0;34m\u001b[0m\u001b[0;34m\u001b[0m\u001b[0m\n\u001b[0m",
      "\u001b[0;32m<ipython-input-82-7da6abdb15fe>\u001b[0m in \u001b[0;36mmax\u001b[0;34m(list1)\u001b[0m\n\u001b[1;32m      6\u001b[0m         \u001b[0;32mfor\u001b[0m \u001b[0mj\u001b[0m \u001b[0;32min\u001b[0m \u001b[0mrange\u001b[0m\u001b[0;34m(\u001b[0m\u001b[0mi\u001b[0m\u001b[0;34m,\u001b[0m\u001b[0mn\u001b[0m\u001b[0;34m-\u001b[0m\u001b[0;36m1\u001b[0m\u001b[0;34m)\u001b[0m\u001b[0;34m:\u001b[0m\u001b[0;34m\u001b[0m\u001b[0;34m\u001b[0m\u001b[0m\n\u001b[1;32m      7\u001b[0m             \u001b[0;32mif\u001b[0m \u001b[0mlist1\u001b[0m\u001b[0;34m[\u001b[0m\u001b[0mi\u001b[0m\u001b[0;34m]\u001b[0m\u001b[0;34m==\u001b[0m\u001b[0mlist1\u001b[0m\u001b[0;34m[\u001b[0m\u001b[0mj\u001b[0m \u001b[0;34m+\u001b[0m \u001b[0;36m1\u001b[0m\u001b[0;34m]\u001b[0m\u001b[0;34m:\u001b[0m\u001b[0;34m\u001b[0m\u001b[0;34m\u001b[0m\u001b[0m\n\u001b[0;32m----> 8\u001b[0;31m                 \u001b[0mseta\u001b[0m\u001b[0;34m.\u001b[0m\u001b[0madd\u001b[0m\u001b[0;34m(\u001b[0m\u001b[0mlist\u001b[0m\u001b[0;34m[\u001b[0m\u001b[0mi\u001b[0m\u001b[0;34m]\u001b[0m\u001b[0;34m)\u001b[0m\u001b[0;34m\u001b[0m\u001b[0;34m\u001b[0m\u001b[0m\n\u001b[0m\u001b[1;32m      9\u001b[0m     \u001b[0;32mreturn\u001b[0m \u001b[0mseta\u001b[0m\u001b[0;34m\u001b[0m\u001b[0;34m\u001b[0m\u001b[0m\n\u001b[1;32m     10\u001b[0m \u001b[0;34m\u001b[0m\u001b[0m\n",
      "\u001b[0;31mTypeError\u001b[0m: 'type' object is not subscriptable"
     ]
    }
   ],
   "source": [
    "# Mine Code\n",
    "def max(list1):\n",
    "    seta=set()\n",
    "    n =len(list1)\n",
    "    print(list1)\n",
    "    for i in range(n):\n",
    "        for j in range(i,n-1):\n",
    "            if list1[i]==list1[j + 1]:\n",
    "                seta.add(list[i])\n",
    "    return seta\n",
    "    \n",
    "check = [3,4,5,6,7,3]\n",
    "max(check)\n"
   ]
  },
  {
   "cell_type": "code",
   "execution_count": 74,
   "id": "573d4033",
   "metadata": {},
   "outputs": [
    {
     "data": {
      "text/plain": [
       "{1, 2}"
      ]
     },
     "execution_count": 74,
     "metadata": {},
     "output_type": "execute_result"
    }
   ],
   "source": [
    "# Hasseb Code\n",
    "def sortthe(lista):\n",
    "    seta = set()\n",
    "    length = len(lista)\n",
    "    for i in range(length):\n",
    "        for j in range(i,length-1):\n",
    "            if lista[i]==lista[j+1]:\n",
    "                seta.add(lista[i])\n",
    "    return seta\n",
    "lista = [1,2,3,4,5,1,2]\n",
    "sortthe(lista)"
   ]
  },
  {
   "cell_type": "code",
   "execution_count": 89,
   "id": "b5996752",
   "metadata": {},
   "outputs": [
    {
     "name": "stdout",
     "output_type": "stream",
     "text": [
      "{1: 1, 2: 1, 5: 1, 9: 1}\n"
     ]
    }
   ],
   "source": [
    "def look(lista):\n",
    "    count = 0\n",
    "    disc={}\n",
    "    n = len(lista)\n",
    "    for x in range(n):\n",
    "        if lista[x] is disc:\n",
    "            count += 1\n",
    "        else:\n",
    "            disc[lista[x]]= 1\n",
    "    print(disc)\n",
    "            \n",
    "thislist=[1,2,1,5,5,9,9,2]\n",
    "look(thislist)"
   ]
  },
  {
   "cell_type": "code",
   "execution_count": 92,
   "id": "4179d426",
   "metadata": {},
   "outputs": [
    {
     "data": {
      "text/plain": [
       "-1"
      ]
     },
     "execution_count": 92,
     "metadata": {},
     "output_type": "execute_result"
    }
   ],
   "source": [
    "def binary(a,x):\n",
    "    left=0\n",
    "    right=len(a)-1\n",
    "    while left <-right:\n",
    "        mid(left + right)//2\n",
    "        if x== a[mid]:\n",
    "            return mid\n",
    "        elif x>a(mid):\n",
    "            left = mid +1\n",
    "        else:\n",
    "            right = mid +1\n",
    "    return -1 \n",
    "\n",
    "binary([1,2,3,4,5,6,7,8,9],6)"
   ]
  },
  {
   "cell_type": "code",
   "execution_count": null,
   "id": "1b86dea9",
   "metadata": {},
   "outputs": [],
   "source": []
  }
 ],
 "metadata": {
  "kernelspec": {
   "display_name": "Python 3",
   "language": "python",
   "name": "python3"
  },
  "language_info": {
   "codemirror_mode": {
    "name": "ipython",
    "version": 3
   },
   "file_extension": ".py",
   "mimetype": "text/x-python",
   "name": "python",
   "nbconvert_exporter": "python",
   "pygments_lexer": "ipython3",
   "version": "3.8.8"
  }
 },
 "nbformat": 4,
 "nbformat_minor": 5
}
