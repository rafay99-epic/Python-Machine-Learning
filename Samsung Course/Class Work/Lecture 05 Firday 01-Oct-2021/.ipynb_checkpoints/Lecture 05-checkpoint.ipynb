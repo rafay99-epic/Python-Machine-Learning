{
 "cells": [
  {
   "cell_type": "markdown",
   "id": "b9d528b8",
   "metadata": {},
   "source": [
    "## Day: Friday\n",
    "## Date: 01-October-2021\n",
    "## Lecture 05"
   ]
  },
  {
   "cell_type": "markdown",
   "id": "66d2a0d7",
   "metadata": {},
   "source": [
    "# Python 4: Object Oriented Program"
   ]
  },
  {
   "cell_type": "code",
   "execution_count": 10,
   "id": "ec13a605",
   "metadata": {},
   "outputs": [],
   "source": [
    "import Functions as f"
   ]
  },
  {
   "cell_type": "code",
   "execution_count": 19,
   "id": "02874c33",
   "metadata": {},
   "outputs": [
    {
     "name": "stdout",
     "output_type": "stream",
     "text": [
      "A Dog object is created: \n"
     ]
    }
   ],
   "source": [
    "# class in once file\n",
    "class Dog:\n",
    "    def __init__(self, name, age): # this is an constructor\n",
    "        self.name= name\n",
    "        self.age= age\n",
    "        print(\"A Dog object is created: \")\n",
    "\n",
    "dog1 = Dog('Fido', 2)       "
   ]
  },
  {
   "cell_type": "markdown",
   "id": "cf469976",
   "metadata": {},
   "source": [
    "**Note: Destructor function will be called automatically,**"
   ]
  },
  {
   "cell_type": "code",
   "execution_count": 20,
   "id": "71441d61",
   "metadata": {},
   "outputs": [
    {
     "name": "stdout",
     "output_type": "stream",
     "text": [
      "A Dog object is created: \n"
     ]
    }
   ],
   "source": [
    "dog1=f.Dog('Bob', 56)  # creating and calling default connstructor \n",
    "del dog1"
   ]
  },
  {
   "cell_type": "code",
   "execution_count": 25,
   "id": "14aeeb11",
   "metadata": {},
   "outputs": [
    {
     "name": "stdout",
     "output_type": "stream",
     "text": [
      "9\n"
     ]
    }
   ],
   "source": [
    "# in this we are calling a method and providing the values to the\n",
    "# Function, The code of the function is another module called functions\n",
    "dog2= f.add(5,4)\n",
    "print(dog2)"
   ]
  },
  {
   "cell_type": "code",
   "execution_count": 41,
   "id": "292628bd",
   "metadata": {},
   "outputs": [],
   "source": [
    "import Inhertance as I"
   ]
  },
  {
   "cell_type": "code",
   "execution_count": 53,
   "id": "256d395d",
   "metadata": {},
   "outputs": [],
   "source": [
    "class Pet1:\n",
    "    def __init__(self,age): # this is an constructor\n",
    "        self.age= age\n",
    "        print(\"A Dog object is created: \")\n",
    "    def hello():\n",
    "        print(\"Hello World Pet1 class\")\n",
    "\n",
    "class Pet:\n",
    "    def __init__(self, name): # this is an constructor\n",
    "        self.name= name\n",
    "        print(\"A Dog object is created: \")\n",
    "    def hello():\n",
    "        print(\"Hello World Pet class\")\n",
    "\n",
    "class cat(Pet,Pet1):\n",
    "    def __init__(self, name, age):\n",
    "        self.name= name\n",
    "        self.age= age\n",
    "        print(\"Cat object Created\")"
   ]
  },
  {
   "cell_type": "code",
   "execution_count": 54,
   "id": "bcdd0fcf",
   "metadata": {},
   "outputs": [
    {
     "name": "stdout",
     "output_type": "stream",
     "text": [
      "Cat object Created\n"
     ]
    }
   ],
   "source": [
    "cat1 = cat(\"Wow\",\"4\")"
   ]
  },
  {
   "cell_type": "code",
   "execution_count": 43,
   "id": "05b2b5b3",
   "metadata": {},
   "outputs": [],
   "source": [
    "import Inhertance as P"
   ]
  },
  {
   "cell_type": "code",
   "execution_count": 47,
   "id": "032432ee",
   "metadata": {},
   "outputs": [],
   "source": [
    "# class in once file\n",
    "class pet:\n",
    "    def __init__(self, name, age): # this is an constructor\n",
    "        self.name= name\n",
    "        self.age= age\n",
    "        print(\"A Dog object is created: \")\n",
    "    def hello():\n",
    "        print(\"Hello World\")\n",
    "class Dog(pet):\n",
    "    def __init__(self, name, age):\n",
    "              self.name= name\n",
    "              self.age= age"
   ]
  },
  {
   "cell_type": "code",
   "execution_count": 49,
   "id": "9692845c",
   "metadata": {},
   "outputs": [
    {
     "name": "stdout",
     "output_type": "stream",
     "text": [
      "Hello World\n"
     ]
    }
   ],
   "source": [
    "cat1= Dog(\"Wow\",5)\n",
    "cat2=Dog.hello()"
   ]
  },
  {
   "cell_type": "code",
   "execution_count": null,
   "id": "3013dcc9",
   "metadata": {},
   "outputs": [],
   "source": []
  }
 ],
 "metadata": {
  "kernelspec": {
   "display_name": "Python 3",
   "language": "python",
   "name": "python3"
  },
  "language_info": {
   "codemirror_mode": {
    "name": "ipython",
    "version": 3
   },
   "file_extension": ".py",
   "mimetype": "text/x-python",
   "name": "python",
   "nbconvert_exporter": "python",
   "pygments_lexer": "ipython3",
   "version": "3.8.8"
  }
 },
 "nbformat": 4,
 "nbformat_minor": 5
}
