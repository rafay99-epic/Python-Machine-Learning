{
 "cells": [
  {
   "cell_type": "code",
   "execution_count": 9,
   "id": "07dd0feb",
   "metadata": {},
   "outputs": [
    {
     "name": "stdout",
     "output_type": "stream",
     "text": [
      "[3, 4, 5, 6, 7, 3]\n"
     ]
    },
    {
     "data": {
      "text/plain": [
       "set()"
      ]
     },
     "execution_count": 9,
     "metadata": {},
     "output_type": "execute_result"
    }
   ],
   "source": [
    "def max(list1):\n",
    "    thisset=set()\n",
    "    n =len(list1)\n",
    "    print(list1)\n",
    "    j =1\n",
    "    for x in range(n):\n",
    "        for j in range(x,j - 1):\n",
    "            if list1[x] == list1[j + 1]:\n",
    "                thisset.append(list[i])\n",
    "    \n",
    "    return thisset\n",
    "    \n",
    "check = [3,4,5,6,7,3]\n",
    "max(check)"
   ]
  },
  {
   "cell_type": "code",
   "execution_count": null,
   "id": "6001d550",
   "metadata": {},
   "outputs": [],
   "source": []
  },
  {
   "cell_type": "code",
   "execution_count": null,
   "id": "68672f48",
   "metadata": {},
   "outputs": [],
   "source": []
  }
 ],
 "metadata": {
  "kernelspec": {
   "display_name": "Python 3",
   "language": "python",
   "name": "python3"
  },
  "language_info": {
   "codemirror_mode": {
    "name": "ipython",
    "version": 3
   },
   "file_extension": ".py",
   "mimetype": "text/x-python",
   "name": "python",
   "nbconvert_exporter": "python",
   "pygments_lexer": "ipython3",
   "version": "3.8.8"
  }
 },
 "nbformat": 4,
 "nbformat_minor": 5
}
