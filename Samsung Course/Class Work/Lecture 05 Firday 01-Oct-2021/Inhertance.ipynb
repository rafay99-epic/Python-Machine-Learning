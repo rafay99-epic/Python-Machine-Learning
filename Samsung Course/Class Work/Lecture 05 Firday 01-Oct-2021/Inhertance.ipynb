{
 "cells": [
  {
   "cell_type": "code",
   "execution_count": 6,
   "id": "3615b4ee",
   "metadata": {},
   "outputs": [],
   "source": [
    "class Pet1:\n",
    "    def __init__(self,age): # this is an constructor\n",
    "        self.age= age\n",
    "        print(\"A Dog object is created: \")\n",
    "\n",
    "class Pet:\n",
    "    def __init__(self, name): # this is an constructor\n",
    "        self.name= name\n",
    "        print(\"A Dog object is created: \")\n",
    "\n",
    "class cat(Pet,Pet1):\n",
    "    def __init__(self, name, age):\n",
    "              self.name= name\n",
    "              self.age= age\n",
    "              \n",
    "    "
   ]
  },
  {
   "cell_type": "code",
   "execution_count": null,
   "id": "2975566f",
   "metadata": {},
   "outputs": [],
   "source": [
    "# class in once file\n",
    "class pet:\n",
    "    def __init__(self, name, age): # this is an constructor\n",
    "        self.name= name\n",
    "        self.age= age\n",
    "        print(\"A Dog object is created: \")\n",
    "class Dog(pet):\n",
    "    def __init__(self, name, age):\n",
    "              self.name= name\n",
    "              self.age= age"
   ]
  }
 ],
 "metadata": {
  "kernelspec": {
   "display_name": "Python 3",
   "language": "python",
   "name": "python3"
  },
  "language_info": {
   "codemirror_mode": {
    "name": "ipython",
    "version": 3
   },
   "file_extension": ".py",
   "mimetype": "text/x-python",
   "name": "python",
   "nbconvert_exporter": "python",
   "pygments_lexer": "ipython3",
   "version": "3.8.8"
  }
 },
 "nbformat": 4,
 "nbformat_minor": 5
}
