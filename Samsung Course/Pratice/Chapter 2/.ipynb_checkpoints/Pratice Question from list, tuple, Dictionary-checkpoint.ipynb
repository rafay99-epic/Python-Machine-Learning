{
 "cells": [
  {
   "cell_type": "markdown",
   "id": "c45e1a12",
   "metadata": {},
   "source": [
    "Copy the elemesnts without using thired list and no repearted elements"
   ]
  },
  {
   "cell_type": "code",
   "execution_count": 4,
   "id": "0799d11c",
   "metadata": {},
   "outputs": [
    {
     "name": "stdout",
     "output_type": "stream",
     "text": [
      "[1, 2, 3, 4, 5, 1, 3, 6, 7, 8, 9, 10]\n"
     ]
    }
   ],
   "source": [
    "list1 =[1,2,3,4,5]\n",
    "list2=[1,3,6,7,8,9,10]\n",
    "list1.extend(list2)\n",
    "print(list1)"
   ]
  },
  {
   "cell_type": "code",
   "execution_count": 14,
   "id": "055b04e9",
   "metadata": {},
   "outputs": [
    {
     "name": "stdout",
     "output_type": "stream",
     "text": [
      "[0, 1, 2, 3, 4, 5, 6, 7, 8, 9, 10, 11]\n"
     ]
    }
   ],
   "source": [
    "n= len(list1)\n",
    "newlist=[]\n",
    "for item in range(n):\n",
    "    if item not in newlist:\n",
    "        newlist.append(item)\n",
    "print(newlist)"
   ]
  },
  {
   "cell_type": "markdown",
   "id": "436b8f89",
   "metadata": {},
   "source": [
    "Take transpose of a matrix"
   ]
  },
  {
   "cell_type": "code",
   "execution_count": 15,
   "id": "c2adfd70",
   "metadata": {},
   "outputs": [],
   "source": [
    "matrix = [\n",
    "    [1,2,3],\n",
    "    [4,5,6],\n",
    "    [7,8,9]   \n",
    "]\n",
    "# output\n",
    "#transpose matrix= [\n",
    "# [1,4,7],\n",
    "#  [2,5,6],\n",
    "#   [3,6,9],\n",
    "\n",
    "#]"
   ]
  },
  {
   "cell_type": "code",
   "execution_count": 17,
   "id": "0baf9565",
   "metadata": {},
   "outputs": [
    {
     "data": {
      "text/plain": [
       "[[1, 4, 7], [2, 5, 8], [3, 6, 9]]"
      ]
     },
     "execution_count": 17,
     "metadata": {},
     "output_type": "execute_result"
    }
   ],
   "source": [
    "transpose =[]\n",
    "cols = len(matrix[0])\n",
    "for i in range(cols):\n",
    "    t_row=[]\n",
    "    for row in matrix:\n",
    "        t_row.append(row[i])\n",
    "    transpose.append(t_row)\n",
    "    \n",
    "transpose"
   ]
  },
  {
   "cell_type": "markdown",
   "id": "02de06d5",
   "metadata": {},
   "source": [
    "Sum all of the values in a list"
   ]
  },
  {
   "cell_type": "code",
   "execution_count": 21,
   "id": "112ae2d4",
   "metadata": {},
   "outputs": [
    {
     "data": {
      "text/plain": [
       "15"
      ]
     },
     "execution_count": 21,
     "metadata": {},
     "output_type": "execute_result"
    }
   ],
   "source": [
    "list1 =[1,2,3,4,5,6]\n",
    "def sum(list1):\n",
    "    result=0\n",
    "    for sum1 in range(len(list1)):\n",
    "        result += sum1\n",
    "        \n",
    "    return result\n",
    "\n",
    "sum(list1)\n",
    "\n",
    "     \n"
   ]
  },
  {
   "cell_type": "code",
   "execution_count": 29,
   "id": "805a0b92",
   "metadata": {},
   "outputs": [
    {
     "data": {
      "text/plain": [
       "16800"
      ]
     },
     "execution_count": 29,
     "metadata": {},
     "output_type": "execute_result"
    }
   ],
   "source": [
    "def multiple1(list1):\n",
    "    result = 1\n",
    "    for x in list1:\n",
    "        result *= x\n",
    "    return result\n",
    "\n",
    "list1 =[5,6,7,8,10]\n",
    "multiple1(list1)"
   ]
  },
  {
   "cell_type": "markdown",
   "id": "00fbe32a",
   "metadata": {},
   "source": [
    "Find the max number from the list"
   ]
  },
  {
   "cell_type": "code",
   "execution_count": 31,
   "id": "e9a24911",
   "metadata": {},
   "outputs": [
    {
     "data": {
      "text/plain": [
       "1000"
      ]
     },
     "execution_count": 31,
     "metadata": {},
     "output_type": "execute_result"
    }
   ],
   "source": [
    "def max_number_in_list(list):\n",
    "    max = 0\n",
    "    for a in list:\n",
    "        if a > max:\n",
    "            max = a\n",
    "    return max\n",
    "list1=[1,2,3,4,5,0,1000]\n",
    "max_number_in_list(list1)"
   ]
  },
  {
   "cell_type": "markdown",
   "id": "a9961153",
   "metadata": {},
   "source": [
    "Write a Python program to count the number of strings where the string length is 2 or more and the first and last character are same from a given list of strings."
   ]
  },
  {
   "cell_type": "code",
   "execution_count": 38,
   "id": "020e3ae5",
   "metadata": {
    "scrolled": true
   },
   "outputs": [
    {
     "data": {
      "text/plain": [
       "1"
      ]
     },
     "execution_count": 38,
     "metadata": {},
     "output_type": "execute_result"
    }
   ],
   "source": [
    "def match_word(list1):\n",
    "    ctr = 0\n",
    "    for x in list1:\n",
    "        if len(x) > 1 and x[0] == x[-1]:\n",
    "            ctr += 1\n",
    "    return ctr    \n",
    "list1 = [\"abc\",\"def\",\"aba\",\"rst\"]\n",
    "match_word(list1)"
   ]
  },
  {
   "cell_type": "markdown",
   "id": "b4c9ca1f",
   "metadata": {},
   "source": [
    "Write a Python program to get a list, sorted in increasing order by the last element in each tuple from a given list of non-empty tuples."
   ]
  },
  {
   "cell_type": "code",
   "execution_count": 43,
   "id": "16a908b6",
   "metadata": {},
   "outputs": [
    {
     "data": {
      "text/plain": [
       "[(2, 1), (1, 2), (2, 3), (4, 4), (2, 5)]"
      ]
     },
     "execution_count": 43,
     "metadata": {},
     "output_type": "execute_result"
    }
   ],
   "source": [
    "def last(n):\n",
    "    return n[-1]\n",
    "def sort_list_last(list):\n",
    "     return sorted(list, key=last)\n",
    "    \n",
    "list = [(2, 5), (1, 2), (4, 4), (2, 3), (2, 1)]\n",
    "sort_list_last(list)"
   ]
  },
  {
   "cell_type": "markdown",
   "id": "c849b2a4",
   "metadata": {},
   "source": [
    "Remove duplicate from list"
   ]
  },
  {
   "cell_type": "code",
   "execution_count": 45,
   "id": "53e6bf13",
   "metadata": {},
   "outputs": [
    {
     "name": "stdout",
     "output_type": "stream",
     "text": [
      "{1, 2, 3, 4, 5}\n"
     ]
    }
   ],
   "source": [
    "def removedep(a):\n",
    "    dep_item =set()\n",
    "    unique_item =[]\n",
    "    for x in a:\n",
    "        if x not in dep_item:\n",
    "            unique_item.append(x)\n",
    "            dep_item.add(x)\n",
    "    print(dep_item)\n",
    "    \n",
    "list1=[1,2,3,4,5,3]\n",
    "removedep(list1)"
   ]
  },
  {
   "cell_type": "markdown",
   "id": "c5670bf5",
   "metadata": {},
   "source": [
    "Write a Python program to find the list of words that are longer than n from a given list of words."
   ]
  },
  {
   "cell_type": "code",
   "execution_count": 70,
   "id": "a4537cca",
   "metadata": {},
   "outputs": [
    {
     "name": "stdout",
     "output_type": "stream",
     "text": [
      "enter a pharse: hello i\n"
     ]
    },
    {
     "data": {
      "text/plain": [
       "['hello']"
      ]
     },
     "execution_count": 70,
     "metadata": {},
     "output_type": "execute_result"
    }
   ],
   "source": [
    "def log_word(n,str):\n",
    "    word_len = []\n",
    "    txt = word.split(\" \")\n",
    "    for x in txt:\n",
    "        if len(x) > n:\n",
    "            word_len.append(x)\n",
    "    return word_len\n",
    " \n",
    "word=input(\"enter a pharse: \")\n",
    "#n=str(input(\"Enter a number of word you don't want to see!!: \"))\n",
    "#word = \"The quick brown fox jumps over the lazy dog\"\n",
    "log_word(3,word)"
   ]
  },
  {
   "cell_type": "markdown",
   "id": "b64f2673",
   "metadata": {},
   "source": [
    "Write a Python function that takes two lists and returns True if they have at least one common member."
   ]
  },
  {
   "cell_type": "code",
   "execution_count": 72,
   "id": "c4debfe2",
   "metadata": {},
   "outputs": [
    {
     "name": "stdout",
     "output_type": "stream",
     "text": [
      "True\n"
     ]
    }
   ],
   "source": [
    "def common_data(list1,list2):\n",
    "    result = False\n",
    "    for x in list1:\n",
    "        for y in list2:\n",
    "            if x==y:\n",
    "                result= True\n",
    "    return result\n",
    "    \n",
    "    \n",
    "list1= [1,2,3,4,5,6,7,8,99,100]\n",
    "list2= [1,2,4,6,7,100,99,98]\n",
    "a=common_data(list1,list2)\n",
    "print(a)"
   ]
  },
  {
   "cell_type": "markdown",
   "id": "1c678dd2",
   "metadata": {},
   "source": [
    "Write a Python program to print the numbers of a specified list after removing even numbers from it."
   ]
  },
  {
   "cell_type": "code",
   "execution_count": 74,
   "id": "6dee7998",
   "metadata": {},
   "outputs": [
    {
     "ename": "TypeError",
     "evalue": "'int' object is not iterable",
     "output_type": "error",
     "traceback": [
      "\u001b[0;31m---------------------------------------------------------------------------\u001b[0m",
      "\u001b[0;31mTypeError\u001b[0m                                 Traceback (most recent call last)",
      "\u001b[0;32m<ipython-input-74-857ac1c178f6>\u001b[0m in \u001b[0;36m<module>\u001b[0;34m\u001b[0m\n\u001b[1;32m      7\u001b[0m     \u001b[0;32mreturn\u001b[0m \u001b[0mfinal_list\u001b[0m\u001b[0;34m\u001b[0m\u001b[0;34m\u001b[0m\u001b[0m\n\u001b[1;32m      8\u001b[0m \u001b[0mlist1\u001b[0m\u001b[0;34m=\u001b[0m \u001b[0;34m[\u001b[0m\u001b[0;36m1\u001b[0m\u001b[0;34m,\u001b[0m\u001b[0;36m2\u001b[0m\u001b[0;34m,\u001b[0m\u001b[0;36m3\u001b[0m\u001b[0;34m,\u001b[0m\u001b[0;36m4\u001b[0m\u001b[0;34m,\u001b[0m\u001b[0;36m5\u001b[0m\u001b[0;34m,\u001b[0m\u001b[0;36m6\u001b[0m\u001b[0;34m,\u001b[0m\u001b[0;36m7\u001b[0m\u001b[0;34m,\u001b[0m\u001b[0;36m10\u001b[0m\u001b[0;34m]\u001b[0m\u001b[0;34m\u001b[0m\u001b[0;34m\u001b[0m\u001b[0m\n\u001b[0;32m----> 9\u001b[0;31m \u001b[0mremove_list\u001b[0m\u001b[0;34m(\u001b[0m\u001b[0mlist1\u001b[0m\u001b[0;34m)\u001b[0m\u001b[0;34m\u001b[0m\u001b[0;34m\u001b[0m\u001b[0m\n\u001b[0m",
      "\u001b[0;32m<ipython-input-74-857ac1c178f6>\u001b[0m in \u001b[0;36mremove_list\u001b[0;34m(list1)\u001b[0m\n\u001b[1;32m      2\u001b[0m     \u001b[0mfinal_list\u001b[0m \u001b[0;34m=\u001b[0m\u001b[0;34m[\u001b[0m\u001b[0;34m]\u001b[0m\u001b[0;34m\u001b[0m\u001b[0;34m\u001b[0m\u001b[0m\n\u001b[1;32m      3\u001b[0m     \u001b[0mn\u001b[0m \u001b[0;34m=\u001b[0m \u001b[0mlen\u001b[0m\u001b[0;34m(\u001b[0m\u001b[0mlist1\u001b[0m\u001b[0;34m)\u001b[0m\u001b[0;34m\u001b[0m\u001b[0;34m\u001b[0m\u001b[0m\n\u001b[0;32m----> 4\u001b[0;31m     \u001b[0;32mfor\u001b[0m \u001b[0mx\u001b[0m \u001b[0;32min\u001b[0m \u001b[0mn\u001b[0m\u001b[0;34m:\u001b[0m\u001b[0;34m\u001b[0m\u001b[0;34m\u001b[0m\u001b[0m\n\u001b[0m\u001b[1;32m      5\u001b[0m         \u001b[0;32mif\u001b[0m \u001b[0mx\u001b[0m\u001b[0;34m%\u001b[0m\u001b[0;36m2\u001b[0m \u001b[0;34m!=\u001b[0m \u001b[0;36m0\u001b[0m\u001b[0;34m:\u001b[0m\u001b[0;34m\u001b[0m\u001b[0;34m\u001b[0m\u001b[0m\n\u001b[1;32m      6\u001b[0m             \u001b[0mfinal_list\u001b[0m\u001b[0;34m[\u001b[0m\u001b[0mx\u001b[0m\u001b[0;34m]\u001b[0m \u001b[0;34m=\u001b[0m\u001b[0mx\u001b[0m\u001b[0;34m\u001b[0m\u001b[0;34m\u001b[0m\u001b[0m\n",
      "\u001b[0;31mTypeError\u001b[0m: 'int' object is not iterable"
     ]
    }
   ],
   "source": [
    "def remove_list(list1):\n",
    "    final_list = []\n",
    "    n = len(list1)\n",
    "    for x in n:\n",
    "        if x%2 != 0:\n",
    "            final_list[x] =x\n",
    "    return final_list\n",
    "list1= [1,2,3,4,5,6,7,10]\n",
    "remove_list(list1)"
   ]
  },
  {
   "cell_type": "markdown",
   "id": "bb4e863c",
   "metadata": {},
   "source": [
    "Dictionary"
   ]
  },
  {
   "cell_type": "markdown",
   "id": "cf53c515",
   "metadata": {},
   "source": [
    "Arrange using Key only"
   ]
  },
  {
   "cell_type": "code",
   "execution_count": 76,
   "id": "0b236d22",
   "metadata": {},
   "outputs": [
    {
     "name": "stdout",
     "output_type": "stream",
     "text": [
      "1 2 3 4 5 6 "
     ]
    }
   ],
   "source": [
    "def dic():\n",
    "    key_value ={}\n",
    "    key_value[2] = 56      \n",
    "    key_value[1] = 2\n",
    "    key_value[5] = 12\n",
    "    key_value[4] = 24\n",
    "    key_value[6] = 18     \n",
    "    key_value[3] = 323\n",
    "    \n",
    "    for i in sorted(key_value.keys()):\n",
    "        print(i, end = \" \")\n",
    "def main():\n",
    "    dic()\n",
    "if __name__== '__main__':\n",
    "    main()\n",
    " "
   ]
  },
  {
   "cell_type": "markdown",
   "id": "de996a68",
   "metadata": {},
   "source": [
    "Arrage using value and Key in dictionary"
   ]
  },
  {
   "cell_type": "code",
   "execution_count": 81,
   "id": "ba70408b",
   "metadata": {},
   "outputs": [
    {
     "name": "stdout",
     "output_type": "stream",
     "text": [
      "2 56 323 24 12 18 "
     ]
    }
   ],
   "source": [
    "def dic():\n",
    "    key_value ={}\n",
    "    key_value[2] = 56      \n",
    "    key_value[1] = 2\n",
    "    key_value[5] = 12\n",
    "    key_value[4] = 24\n",
    "    key_value[6] = 18     \n",
    "    key_value[3] = 323\n",
    "    \n",
    "    for i in sorted(key_value):\n",
    "        print(key_value[i], end =' ')\n",
    "def main():\n",
    "    dic()\n",
    "if __name__ == '__main__':\n",
    "    main()"
   ]
  },
  {
   "cell_type": "markdown",
   "id": "d5396796",
   "metadata": {},
   "source": [
    "Checking if the key is present or not"
   ]
  },
  {
   "cell_type": "code",
   "execution_count": 6,
   "id": "7d39575f",
   "metadata": {},
   "outputs": [
    {
     "name": "stdout",
     "output_type": "stream",
     "text": [
      "Enter the key: 2\n",
      "Key is not present\n"
     ]
    }
   ],
   "source": [
    "def check_key(dict, key):\n",
    "    if key in dict:\n",
    "        print(\"Key is present in the dictionary\")\n",
    "    else: \n",
    "        print(\"Key is not present\")\n",
    "dict ={1: 'a', 2: 'b'}\n",
    "key = input(\"Enter the key: \")\n",
    "check_key(dict, key)"
   ]
  },
  {
   "cell_type": "markdown",
   "id": "1adac435",
   "metadata": {},
   "source": [
    "Enter a value in the dictionary"
   ]
  },
  {
   "cell_type": "code",
   "execution_count": 1,
   "id": "5da6fc25",
   "metadata": {},
   "outputs": [
    {
     "ename": "TypeError",
     "evalue": "'dict' object cannot be interpreted as an integer",
     "output_type": "error",
     "traceback": [
      "\u001b[0;31m---------------------------------------------------------------------------\u001b[0m",
      "\u001b[0;31mTypeError\u001b[0m                                 Traceback (most recent call last)",
      "\u001b[0;32m<ipython-input-1-151ab9feba72>\u001b[0m in \u001b[0;36m<module>\u001b[0;34m\u001b[0m\n\u001b[1;32m      1\u001b[0m \u001b[0mdict\u001b[0m \u001b[0;34m=\u001b[0m\u001b[0;34m{\u001b[0m\u001b[0;36m1\u001b[0m\u001b[0;34m:\u001b[0m \u001b[0;34m'a'\u001b[0m\u001b[0;34m,\u001b[0m \u001b[0;36m2\u001b[0m\u001b[0;34m:\u001b[0m \u001b[0;34m'b'\u001b[0m\u001b[0;34m}\u001b[0m\u001b[0;34m\u001b[0m\u001b[0;34m\u001b[0m\u001b[0m\n\u001b[0;32m----> 2\u001b[0;31m \u001b[0;32mfor\u001b[0m \u001b[0mi\u001b[0m \u001b[0;32min\u001b[0m \u001b[0mrange\u001b[0m\u001b[0;34m(\u001b[0m\u001b[0mdict\u001b[0m\u001b[0;34m)\u001b[0m\u001b[0;34m:\u001b[0m\u001b[0;34m\u001b[0m\u001b[0;34m\u001b[0m\u001b[0m\n\u001b[0m\u001b[1;32m      3\u001b[0m     \u001b[0;32mif\u001b[0m \u001b[0mdict\u001b[0m\u001b[0;34m.\u001b[0m\u001b[0mkey\u001b[0m\u001b[0;34m(\u001b[0m\u001b[0mi\u001b[0m\u001b[0;34m)\u001b[0m \u001b[0;34m%\u001b[0m \u001b[0;36m2\u001b[0m \u001b[0;34m==\u001b[0m \u001b[0;36m0\u001b[0m\u001b[0;34m:\u001b[0m\u001b[0;34m\u001b[0m\u001b[0;34m\u001b[0m\u001b[0m\n\u001b[1;32m      4\u001b[0m         \u001b[0mprint\u001b[0m\u001b[0;34m(\u001b[0m\u001b[0mdisc\u001b[0m\u001b[0;34m)\u001b[0m\u001b[0;34m\u001b[0m\u001b[0;34m\u001b[0m\u001b[0m\n\u001b[1;32m      5\u001b[0m \u001b[0;34m\u001b[0m\u001b[0m\n",
      "\u001b[0;31mTypeError\u001b[0m: 'dict' object cannot be interpreted as an integer"
     ]
    }
   ],
   "source": [
    "dict ={1: 'a', 2: 'b'}\n",
    "\n",
    "        \n"
   ]
  },
  {
   "cell_type": "code",
   "execution_count": 10,
   "id": "b6ece772",
   "metadata": {},
   "outputs": [],
   "source": [
    "car= {1: 'w', 2: \"red\" }"
   ]
  },
  {
   "cell_type": "code",
   "execution_count": 16,
   "id": "8b07d57b",
   "metadata": {},
   "outputs": [
    {
     "ename": "TypeError",
     "evalue": "not all arguments converted during string formatting",
     "output_type": "error",
     "traceback": [
      "\u001b[0;31m---------------------------------------------------------------------------\u001b[0m",
      "\u001b[0;31mTypeError\u001b[0m                                 Traceback (most recent call last)",
      "\u001b[0;32m<ipython-input-16-f42a81fa95a0>\u001b[0m in \u001b[0;36m<module>\u001b[0;34m\u001b[0m\n\u001b[1;32m      1\u001b[0m \u001b[0;32mfor\u001b[0m \u001b[0mi\u001b[0m \u001b[0;32min\u001b[0m \u001b[0mcar\u001b[0m\u001b[0;34m:\u001b[0m\u001b[0;34m\u001b[0m\u001b[0;34m\u001b[0m\u001b[0m\n\u001b[0;32m----> 2\u001b[0;31m     \u001b[0;32mif\u001b[0m \u001b[0mcar\u001b[0m\u001b[0;34m[\u001b[0m\u001b[0mi\u001b[0m\u001b[0;34m]\u001b[0m \u001b[0;34m%\u001b[0m\u001b[0;36m2\u001b[0m \u001b[0;34m==\u001b[0m\u001b[0;36m0\u001b[0m\u001b[0;34m:\u001b[0m\u001b[0;34m\u001b[0m\u001b[0;34m\u001b[0m\u001b[0m\n\u001b[0m\u001b[1;32m      3\u001b[0m         \u001b[0mprint\u001b[0m\u001b[0;34m(\u001b[0m\u001b[0mcar\u001b[0m\u001b[0;34m)\u001b[0m\u001b[0;34m\u001b[0m\u001b[0;34m\u001b[0m\u001b[0m\n",
      "\u001b[0;31mTypeError\u001b[0m: not all arguments converted during string formatting"
     ]
    }
   ],
   "source": [
    "for i in car:\n",
    "    if car[i] %2 ==0:\n",
    "        print(car)"
   ]
  },
  {
   "cell_type": "code",
   "execution_count": 22,
   "id": "a143469c",
   "metadata": {},
   "outputs": [
    {
     "name": "stdout",
     "output_type": "stream",
     "text": [
      "Odd Numbers 1\n",
      "Odd Numbers 3\n",
      "Odd Numbers 5\n",
      "Even Number 6\n"
     ]
    }
   ],
   "source": [
    "car = {1:1, 2: 3, 3: 5, 4: 6}\n",
    "for i in car.values():\n",
    "    if i %2 ==0:\n",
    "        print(\"Even Number\", end =\" \")\n",
    "        print(i)\n",
    "    else:\n",
    "        print(\"Odd Numbers\",  end= \" \")\n",
    "        print(i)\n"
   ]
  },
  {
   "cell_type": "markdown",
   "id": "b08bcf09",
   "metadata": {},
   "source": [
    "Enter the range and then enter the values using loop"
   ]
  },
  {
   "cell_type": "code",
   "execution_count": 26,
   "id": "9136209c",
   "metadata": {},
   "outputs": [
    {
     "name": "stdout",
     "output_type": "stream",
     "text": [
      "Enter the range of the Dictionary2\n",
      "Enter new key: 1\n",
      "Enter new age: 25\n",
      "Enter new key: 2\n",
      "Enter new age: 26\n",
      "{'1': '25', '2': '26'}\n"
     ]
    }
   ],
   "source": [
    "pupils_dictionary = {}\n",
    "\n",
    "rag= int(input(\"Enter the range of the Dictionary\"))\n",
    "for x in range(rag):    \n",
    "    new_key = input('Enter new key: ')\n",
    "    new_age = input('Enter new age: ')\n",
    "    pupils_dictionary[new_key] = new_age\n",
    "print(pupils_dictionary)"
   ]
  },
  {
   "cell_type": "markdown",
   "id": "e895e960",
   "metadata": {},
   "source": [
    "File Handling"
   ]
  },
  {
   "cell_type": "markdown",
   "id": "137bca0a",
   "metadata": {},
   "source": [
    "Adding data into the file\n"
   ]
  },
  {
   "cell_type": "code",
   "execution_count": 2,
   "id": "cf0fc9cc",
   "metadata": {},
   "outputs": [
    {
     "name": "stdout",
     "output_type": "stream",
     "text": [
      "Enter some message: fuck you ass hole\n"
     ]
    }
   ],
   "source": [
    "file = open('geek.txt','a')\n",
    "data=input(\"Enter some message: \")\n",
    "file.write(data + '\\n')\n",
    "file.close()"
   ]
  },
  {
   "cell_type": "markdown",
   "id": "a57ea05e",
   "metadata": {},
   "source": [
    "Displaying all of the data from the file"
   ]
  },
  {
   "cell_type": "code",
   "execution_count": null,
   "id": "8da7802e",
   "metadata": {},
   "outputs": [],
   "source": [
    "file= open('geek.txt', 'r')\n",
    "data=file.readline()\n",
    "count= 0\n",
    "for i in data:\n",
    "    count += 1\n",
    "    if not data:\n",
    "        break\n",
    "    print(data)\n",
    "file.close()"
   ]
  },
  {
   "cell_type": "code",
   "execution_count": null,
   "id": "680c2142",
   "metadata": {},
   "outputs": [],
   "source": [
    "file= open('geek.txt', 'r')\n",
    "data=file.readline()\n",
    "count= 0\n",
    "for i in data:\n",
    "    count += 1\n",
    "    if not data:\n",
    "        break\n",
    "    print(data)\n",
    "file.close()"
   ]
  },
  {
   "cell_type": "code",
   "execution_count": null,
   "id": "e7acd19d",
   "metadata": {},
   "outputs": [],
   "source": [
    "try:\n",
    "    f = open(\"geek.txt\")\n",
    "    print(f)\n",
    "    # Do something with the file\n",
    "except IOError:\n",
    "    print(\"File not accessible\")\n",
    "finally:\n",
    "    f.close()\n"
   ]
  },
  {
   "cell_type": "code",
   "execution_count": null,
   "id": "1ded059b",
   "metadata": {},
   "outputs": [],
   "source": []
  },
  {
   "cell_type": "code",
   "execution_count": null,
   "id": "63c39aa4",
   "metadata": {},
   "outputs": [],
   "source": []
  }
 ],
 "metadata": {
  "kernelspec": {
   "display_name": "Python 3",
   "language": "python",
   "name": "python3"
  },
  "language_info": {
   "codemirror_mode": {
    "name": "ipython",
    "version": 3
   },
   "file_extension": ".py",
   "mimetype": "text/x-python",
   "name": "python",
   "nbconvert_exporter": "python",
   "pygments_lexer": "ipython3",
   "version": "3.8.8"
  }
 },
 "nbformat": 4,
 "nbformat_minor": 5
}
