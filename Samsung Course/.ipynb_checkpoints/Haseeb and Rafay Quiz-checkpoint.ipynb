{
 "cells": [
  {
   "cell_type": "markdown",
   "id": "3ff73557",
   "metadata": {},
   "source": [
    "#### Question 1:\n",
    "Pattern #1: Simple Number Triangle Pattern\n",
    "#### Question 2:\n",
    "Pattern #3: Half Pyramid Pattern of Numbers\n",
    "#### Question 3:\n",
    "Pattern #16: Equilateral Triangle with Stars (Asterisk Symbol)\n",
    "Pattern:\n",
    "\n",
    "            *   \n",
    "\n",
    "           * *   \n",
    "\n",
    "          * * *   \n",
    "\n",
    "         * * * *   \n",
    "\n",
    "        * * * * *   \n",
    "\n",
    "       * * * * * *   \n",
    "\n",
    "      * * * * * * *\n"
   ]
  },
  {
   "cell_type": "code",
   "execution_count": null,
   "id": "21efc9ab",
   "metadata": {},
   "outputs": [],
   "source": []
  }
 ],
 "metadata": {
  "kernelspec": {
   "display_name": "Python 3",
   "language": "python",
   "name": "python3"
  },
  "language_info": {
   "codemirror_mode": {
    "name": "ipython",
    "version": 3
   },
   "file_extension": ".py",
   "mimetype": "text/x-python",
   "name": "python",
   "nbconvert_exporter": "python",
   "pygments_lexer": "ipython3",
   "version": "3.8.8"
  }
 },
 "nbformat": 4,
 "nbformat_minor": 5
}
