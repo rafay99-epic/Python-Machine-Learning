{
 "cells": [
  {
   "cell_type": "code",
   "execution_count": 39,
   "id": "58f2307f",
   "metadata": {},
   "outputs": [],
   "source": [
    "import numpy as np\n",
    "import pandas as pd\n",
    "import matplotlib.pyplot as plt\n",
    "import seaborn as sns\n",
    "import os\n",
    "from sklearn.linear_model import LinearRegression\n",
    "%matplotlib inline"
   ]
  },
  {
   "cell_type": "code",
   "execution_count": 40,
   "id": "875e282a",
   "metadata": {},
   "outputs": [],
   "source": [
    "df = pd.read_csv('data_galton.csv', header='infer')"
   ]
  },
  {
   "cell_type": "code",
   "execution_count": 41,
   "id": "2cf6c23c",
   "metadata": {},
   "outputs": [
    {
     "data": {
      "text/html": [
       "<div>\n",
       "<style scoped>\n",
       "    .dataframe tbody tr th:only-of-type {\n",
       "        vertical-align: middle;\n",
       "    }\n",
       "\n",
       "    .dataframe tbody tr th {\n",
       "        vertical-align: top;\n",
       "    }\n",
       "\n",
       "    .dataframe thead th {\n",
       "        text-align: right;\n",
       "    }\n",
       "</style>\n",
       "<table border=\"1\" class=\"dataframe\">\n",
       "  <thead>\n",
       "    <tr style=\"text-align: right;\">\n",
       "      <th></th>\n",
       "      <th>child</th>\n",
       "      <th>parent</th>\n",
       "    </tr>\n",
       "  </thead>\n",
       "  <tbody>\n",
       "    <tr>\n",
       "      <th>0</th>\n",
       "      <td>61.7</td>\n",
       "      <td>70.5</td>\n",
       "    </tr>\n",
       "    <tr>\n",
       "      <th>1</th>\n",
       "      <td>61.7</td>\n",
       "      <td>68.5</td>\n",
       "    </tr>\n",
       "    <tr>\n",
       "      <th>2</th>\n",
       "      <td>61.7</td>\n",
       "      <td>65.5</td>\n",
       "    </tr>\n",
       "    <tr>\n",
       "      <th>3</th>\n",
       "      <td>61.7</td>\n",
       "      <td>64.5</td>\n",
       "    </tr>\n",
       "    <tr>\n",
       "      <th>4</th>\n",
       "      <td>61.7</td>\n",
       "      <td>64.0</td>\n",
       "    </tr>\n",
       "  </tbody>\n",
       "</table>\n",
       "</div>"
      ],
      "text/plain": [
       "   child  parent\n",
       "0   61.7    70.5\n",
       "1   61.7    68.5\n",
       "2   61.7    65.5\n",
       "3   61.7    64.5\n",
       "4   61.7    64.0"
      ]
     },
     "execution_count": 41,
     "metadata": {},
     "output_type": "execute_result"
    }
   ],
   "source": [
    "df.head()"
   ]
  },
  {
   "cell_type": "code",
   "execution_count": 42,
   "id": "d93d8b1f",
   "metadata": {},
   "outputs": [
    {
     "data": {
      "text/html": [
       "<div>\n",
       "<style scoped>\n",
       "    .dataframe tbody tr th:only-of-type {\n",
       "        vertical-align: middle;\n",
       "    }\n",
       "\n",
       "    .dataframe tbody tr th {\n",
       "        vertical-align: top;\n",
       "    }\n",
       "\n",
       "    .dataframe thead th {\n",
       "        text-align: right;\n",
       "    }\n",
       "</style>\n",
       "<table border=\"1\" class=\"dataframe\">\n",
       "  <thead>\n",
       "    <tr style=\"text-align: right;\">\n",
       "      <th>child</th>\n",
       "      <th>61.7</th>\n",
       "      <th>62.2</th>\n",
       "      <th>63.2</th>\n",
       "      <th>64.2</th>\n",
       "      <th>65.2</th>\n",
       "      <th>66.2</th>\n",
       "      <th>67.2</th>\n",
       "      <th>68.2</th>\n",
       "      <th>69.2</th>\n",
       "      <th>70.2</th>\n",
       "      <th>71.2</th>\n",
       "      <th>72.2</th>\n",
       "      <th>73.2</th>\n",
       "      <th>73.7</th>\n",
       "    </tr>\n",
       "    <tr>\n",
       "      <th>parent</th>\n",
       "      <th></th>\n",
       "      <th></th>\n",
       "      <th></th>\n",
       "      <th></th>\n",
       "      <th></th>\n",
       "      <th></th>\n",
       "      <th></th>\n",
       "      <th></th>\n",
       "      <th></th>\n",
       "      <th></th>\n",
       "      <th></th>\n",
       "      <th></th>\n",
       "      <th></th>\n",
       "      <th></th>\n",
       "    </tr>\n",
       "  </thead>\n",
       "  <tbody>\n",
       "    <tr>\n",
       "      <th>64.0</th>\n",
       "      <td>1</td>\n",
       "      <td>0</td>\n",
       "      <td>2</td>\n",
       "      <td>4</td>\n",
       "      <td>1</td>\n",
       "      <td>2</td>\n",
       "      <td>2</td>\n",
       "      <td>1</td>\n",
       "      <td>1</td>\n",
       "      <td>0</td>\n",
       "      <td>0</td>\n",
       "      <td>0</td>\n",
       "      <td>0</td>\n",
       "      <td>0</td>\n",
       "    </tr>\n",
       "    <tr>\n",
       "      <th>64.5</th>\n",
       "      <td>1</td>\n",
       "      <td>1</td>\n",
       "      <td>4</td>\n",
       "      <td>4</td>\n",
       "      <td>1</td>\n",
       "      <td>5</td>\n",
       "      <td>5</td>\n",
       "      <td>0</td>\n",
       "      <td>2</td>\n",
       "      <td>0</td>\n",
       "      <td>0</td>\n",
       "      <td>0</td>\n",
       "      <td>0</td>\n",
       "      <td>0</td>\n",
       "    </tr>\n",
       "    <tr>\n",
       "      <th>65.5</th>\n",
       "      <td>1</td>\n",
       "      <td>0</td>\n",
       "      <td>9</td>\n",
       "      <td>5</td>\n",
       "      <td>7</td>\n",
       "      <td>11</td>\n",
       "      <td>11</td>\n",
       "      <td>7</td>\n",
       "      <td>7</td>\n",
       "      <td>5</td>\n",
       "      <td>2</td>\n",
       "      <td>1</td>\n",
       "      <td>0</td>\n",
       "      <td>0</td>\n",
       "    </tr>\n",
       "    <tr>\n",
       "      <th>66.5</th>\n",
       "      <td>0</td>\n",
       "      <td>3</td>\n",
       "      <td>3</td>\n",
       "      <td>5</td>\n",
       "      <td>2</td>\n",
       "      <td>17</td>\n",
       "      <td>17</td>\n",
       "      <td>14</td>\n",
       "      <td>13</td>\n",
       "      <td>4</td>\n",
       "      <td>0</td>\n",
       "      <td>0</td>\n",
       "      <td>0</td>\n",
       "      <td>0</td>\n",
       "    </tr>\n",
       "    <tr>\n",
       "      <th>67.5</th>\n",
       "      <td>0</td>\n",
       "      <td>3</td>\n",
       "      <td>5</td>\n",
       "      <td>14</td>\n",
       "      <td>15</td>\n",
       "      <td>36</td>\n",
       "      <td>38</td>\n",
       "      <td>28</td>\n",
       "      <td>38</td>\n",
       "      <td>19</td>\n",
       "      <td>11</td>\n",
       "      <td>4</td>\n",
       "      <td>0</td>\n",
       "      <td>0</td>\n",
       "    </tr>\n",
       "    <tr>\n",
       "      <th>68.5</th>\n",
       "      <td>1</td>\n",
       "      <td>0</td>\n",
       "      <td>7</td>\n",
       "      <td>11</td>\n",
       "      <td>16</td>\n",
       "      <td>25</td>\n",
       "      <td>31</td>\n",
       "      <td>34</td>\n",
       "      <td>48</td>\n",
       "      <td>21</td>\n",
       "      <td>18</td>\n",
       "      <td>4</td>\n",
       "      <td>3</td>\n",
       "      <td>0</td>\n",
       "    </tr>\n",
       "    <tr>\n",
       "      <th>69.5</th>\n",
       "      <td>0</td>\n",
       "      <td>0</td>\n",
       "      <td>1</td>\n",
       "      <td>16</td>\n",
       "      <td>4</td>\n",
       "      <td>17</td>\n",
       "      <td>27</td>\n",
       "      <td>20</td>\n",
       "      <td>33</td>\n",
       "      <td>25</td>\n",
       "      <td>20</td>\n",
       "      <td>11</td>\n",
       "      <td>4</td>\n",
       "      <td>5</td>\n",
       "    </tr>\n",
       "    <tr>\n",
       "      <th>70.5</th>\n",
       "      <td>1</td>\n",
       "      <td>0</td>\n",
       "      <td>1</td>\n",
       "      <td>0</td>\n",
       "      <td>1</td>\n",
       "      <td>1</td>\n",
       "      <td>3</td>\n",
       "      <td>12</td>\n",
       "      <td>18</td>\n",
       "      <td>14</td>\n",
       "      <td>7</td>\n",
       "      <td>4</td>\n",
       "      <td>3</td>\n",
       "      <td>3</td>\n",
       "    </tr>\n",
       "    <tr>\n",
       "      <th>71.5</th>\n",
       "      <td>0</td>\n",
       "      <td>0</td>\n",
       "      <td>0</td>\n",
       "      <td>0</td>\n",
       "      <td>1</td>\n",
       "      <td>3</td>\n",
       "      <td>4</td>\n",
       "      <td>3</td>\n",
       "      <td>5</td>\n",
       "      <td>10</td>\n",
       "      <td>4</td>\n",
       "      <td>9</td>\n",
       "      <td>2</td>\n",
       "      <td>2</td>\n",
       "    </tr>\n",
       "    <tr>\n",
       "      <th>72.5</th>\n",
       "      <td>0</td>\n",
       "      <td>0</td>\n",
       "      <td>0</td>\n",
       "      <td>0</td>\n",
       "      <td>0</td>\n",
       "      <td>0</td>\n",
       "      <td>0</td>\n",
       "      <td>1</td>\n",
       "      <td>2</td>\n",
       "      <td>1</td>\n",
       "      <td>2</td>\n",
       "      <td>7</td>\n",
       "      <td>2</td>\n",
       "      <td>4</td>\n",
       "    </tr>\n",
       "    <tr>\n",
       "      <th>73.0</th>\n",
       "      <td>0</td>\n",
       "      <td>0</td>\n",
       "      <td>0</td>\n",
       "      <td>0</td>\n",
       "      <td>0</td>\n",
       "      <td>0</td>\n",
       "      <td>0</td>\n",
       "      <td>0</td>\n",
       "      <td>0</td>\n",
       "      <td>0</td>\n",
       "      <td>0</td>\n",
       "      <td>1</td>\n",
       "      <td>3</td>\n",
       "      <td>0</td>\n",
       "    </tr>\n",
       "  </tbody>\n",
       "</table>\n",
       "</div>"
      ],
      "text/plain": [
       "child   61.7  62.2  63.2  64.2  65.2  66.2  67.2  68.2  69.2  70.2  71.2  \\\n",
       "parent                                                                     \n",
       "64.0       1     0     2     4     1     2     2     1     1     0     0   \n",
       "64.5       1     1     4     4     1     5     5     0     2     0     0   \n",
       "65.5       1     0     9     5     7    11    11     7     7     5     2   \n",
       "66.5       0     3     3     5     2    17    17    14    13     4     0   \n",
       "67.5       0     3     5    14    15    36    38    28    38    19    11   \n",
       "68.5       1     0     7    11    16    25    31    34    48    21    18   \n",
       "69.5       0     0     1    16     4    17    27    20    33    25    20   \n",
       "70.5       1     0     1     0     1     1     3    12    18    14     7   \n",
       "71.5       0     0     0     0     1     3     4     3     5    10     4   \n",
       "72.5       0     0     0     0     0     0     0     1     2     1     2   \n",
       "73.0       0     0     0     0     0     0     0     0     0     0     0   \n",
       "\n",
       "child   72.2  73.2  73.7  \n",
       "parent                    \n",
       "64.0       0     0     0  \n",
       "64.5       0     0     0  \n",
       "65.5       1     0     0  \n",
       "66.5       0     0     0  \n",
       "67.5       4     0     0  \n",
       "68.5       4     3     0  \n",
       "69.5      11     4     5  \n",
       "70.5       4     3     3  \n",
       "71.5       9     2     2  \n",
       "72.5       7     2     4  \n",
       "73.0       1     3     0  "
      ]
     },
     "execution_count": 42,
     "metadata": {},
     "output_type": "execute_result"
    }
   ],
   "source": [
    "# cross table will show us how many time values are there in the dataset.\n",
    "myTable = pd.crosstab(df.parent,df.child)\n",
    "myTable"
   ]
  },
  {
   "cell_type": "code",
   "execution_count": 43,
   "id": "550d5ef8",
   "metadata": {},
   "outputs": [],
   "source": [
    "nrows = myTable.shape[0]\n",
    "ncols = myTable.shape[1]\n",
    "# the calues on the x-axies is called headers or columns\n",
    "childHeights = list(myTable.columns)\n",
    "# the values on the y axes are called the indexs\n",
    "parentHeights = list(myTable.index)\n",
    "# This will tell about the location of x and y on each index\n",
    "combo = [ (x,y,myTable.loc[x,y]) for x in parentHeights for y in childHeights]\n",
    "combo = pd.DataFrame(combo, columns = ['x','y','freq'])"
   ]
  },
  {
   "cell_type": "code",
   "execution_count": 44,
   "id": "55a66b0c",
   "metadata": {},
   "outputs": [
    {
     "data": {
      "image/png": "[encoded data removed]",
      "text/plain": [
       "<Figure size 432x288 with 1 Axes>"
      ]
     },
     "metadata": {
      "needs_background": "light"
     },
     "output_type": "display_data"
    }
   ],
   "source": [
    "\n",
    "\n",
    "# Show the Scatter plot.\n",
    "plt.scatter(combo.x, combo.y, s=combo.freq*6, c='green',alpha=0.5)\n",
    "plt.xlabel('Parent height')\n",
    "plt.ylabel('Child height')\n",
    "plt.title(\"Galton's Data\")\n",
    "plt.show()\n",
    "\n",
    "# By visualization what we have learn:\n",
    "#the middle point on the graph will tell us that the frequence of the ages is much higher\n",
    "\n"
   ]
  },
  {
   "cell_type": "code",
   "execution_count": 45,
   "id": "f1633e6b",
   "metadata": {},
   "outputs": [],
   "source": [
    "# Linera regression will tell us continus predication, not one result\n",
    "# If you give the values of the age of the parent then we will get the height of the child\n",
    "\n",
    "lm = LinearRegression(fit_intercept= True)"
   ]
  },
  {
   "cell_type": "code",
   "execution_count": 46,
   "id": "ebeb6bbe",
   "metadata": {},
   "outputs": [
    {
     "data": {
      "text/plain": [
       "LinearRegression()"
      ]
     },
     "execution_count": 46,
     "metadata": {},
     "output_type": "execute_result"
    }
   ],
   "source": [
    "lm.fit(df[['parent']],df[['child']])"
   ]
  },
  {
   "cell_type": "code",
   "execution_count": 53,
   "id": "b6217059",
   "metadata": {},
   "outputs": [
    {
     "data": {
      "text/plain": [
       "array([23.94153018])"
      ]
     },
     "execution_count": 53,
     "metadata": {},
     "output_type": "execute_result"
    }
   ],
   "source": [
    "# this will find the vales of the formula which is y = a+bx\n",
    "lm.intercept_"
   ]
  },
  {
   "cell_type": "code",
   "execution_count": 54,
   "id": "fd3ff434",
   "metadata": {},
   "outputs": [
    {
     "data": {
      "text/plain": [
       "array([[0.64629058]])"
      ]
     },
     "execution_count": 54,
     "metadata": {},
     "output_type": "execute_result"
    }
   ],
   "source": [
    "lm.coef_"
   ]
  },
  {
   "cell_type": "code",
   "execution_count": 55,
   "id": "a39f0f3a",
   "metadata": {},
   "outputs": [],
   "source": [
    "predY= lm.predict(df[['parent']])"
   ]
  },
  {
   "cell_type": "code",
   "execution_count": 56,
   "id": "2e137888",
   "metadata": {},
   "outputs": [
    {
     "data": {
      "image/png": "[encoded data removed]",
      "text/plain": [
       "<Figure size 432x288 with 1 Axes>"
      ]
     },
     "metadata": {
      "needs_background": "light"
     },
     "output_type": "display_data"
    }
   ],
   "source": [
    "# Show the Scatter plot + Regression line.\n",
    "plt.plot(df.parent.values,predY,c = 'red',linestyle='-',linewidth=0.5)\n",
    "plt.scatter(combo.x, combo.y, s=combo.freq*2, c='blue',alpha=0.5)\n",
    "plt.xlabel('Parent height')\n",
    "plt.ylabel('Child height')\n",
    "plt.title(\"Galton's Regression\")\n",
    "plt.show()"
   ]
  },
  {
   "cell_type": "code",
   "execution_count": null,
   "id": "cd2f052d",
   "metadata": {},
   "outputs": [],
   "source": []
  }
 ],
 "metadata": {
  "kernelspec": {
   "display_name": "Python 3",
   "language": "python",
   "name": "python3"
  },
  "language_info": {
   "codemirror_mode": {
    "name": "ipython",
    "version": 3
   },
   "file_extension": ".py",
   "mimetype": "text/x-python",
   "name": "python",
   "nbconvert_exporter": "python",
   "pygments_lexer": "ipython3",
   "version": "3.8.8"
  }
 },
 "nbformat": 4,
 "nbformat_minor": 5
}
