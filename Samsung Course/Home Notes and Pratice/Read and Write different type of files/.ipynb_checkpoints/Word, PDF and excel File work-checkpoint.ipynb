{
 "cells": [
  {
   "cell_type": "markdown",
   "id": "ff1dea7e",
   "metadata": {},
   "source": [
    "# Excel file"
   ]
  },
  {
   "cell_type": "markdown",
   "id": "cba05168",
   "metadata": {},
   "source": [
    "Excel Read File"
   ]
  },
  {
   "cell_type": "code",
   "execution_count": 2,
   "id": "be4f5382",
   "metadata": {},
   "outputs": [],
   "source": [
    "import openpyxl"
   ]
  },
  {
   "cell_type": "code",
   "execution_count": 3,
   "id": "3603f257",
   "metadata": {},
   "outputs": [],
   "source": [
    "wb= openpyxl.load_workbook('BSE183009.xlsx')"
   ]
  },
  {
   "cell_type": "code",
   "execution_count": 4,
   "id": "cbae24a3",
   "metadata": {},
   "outputs": [
    {
     "data": {
      "text/plain": [
       "['Sheet1']"
      ]
     },
     "execution_count": 4,
     "metadata": {},
     "output_type": "execute_result"
    }
   ],
   "source": [
    "wb.sheetnames"
   ]
  },
  {
   "cell_type": "code",
   "execution_count": 5,
   "id": "483a6615",
   "metadata": {},
   "outputs": [
    {
     "name": "stdout",
     "output_type": "stream",
     "text": [
      "name \n"
     ]
    }
   ],
   "source": [
    "sh= wb['Sheet1']\n",
    "cl = sh['A1']\n",
    "print(cl.value)"
   ]
  },
  {
   "cell_type": "code",
   "execution_count": 8,
   "id": "60d2a82b",
   "metadata": {},
   "outputs": [
    {
     "name": "stdout",
     "output_type": "stream",
     "text": [
      "name \n",
      "rafay\n",
      "haseeb\n",
      "None\n",
      "None\n",
      "None\n",
      "None\n",
      "None\n",
      "None\n",
      "None\n",
      "None\n"
     ]
    }
   ],
   "source": [
    "for i in range(1,12):\n",
    "    print(sh.cell(i,1).value)"
   ]
  },
  {
   "cell_type": "markdown",
   "id": "f754872b",
   "metadata": {},
   "source": [
    "Excel write file"
   ]
  },
  {
   "cell_type": "code",
   "execution_count": 10,
   "id": "71c4f9f2",
   "metadata": {},
   "outputs": [],
   "source": [
    "import openpyxl\n",
    "import os"
   ]
  },
  {
   "cell_type": "code",
   "execution_count": 14,
   "id": "d1eeee0d",
   "metadata": {},
   "outputs": [],
   "source": [
    "my_wb = openpyxl.Workbook()"
   ]
  },
  {
   "cell_type": "code",
   "execution_count": 15,
   "id": "7f39387f",
   "metadata": {},
   "outputs": [
    {
     "name": "stdout",
     "output_type": "stream",
     "text": [
      "['Sheet']\n"
     ]
    }
   ],
   "source": [
    "print(my_wb.sheetnames)"
   ]
  },
  {
   "cell_type": "code",
   "execution_count": 18,
   "id": "ede58f12",
   "metadata": {},
   "outputs": [],
   "source": [
    "my_sh = my_wb['Sheet']\n",
    "my_sh['A1'].value =999"
   ]
  },
  {
   "cell_type": "code",
   "execution_count": 21,
   "id": "c1caa5b5",
   "metadata": {},
   "outputs": [],
   "source": [
    "my_sh.title= 'MySheet1'\n",
    "my_sh2= my_wb.create_sheet(index=0,title ='Sheet2')"
   ]
  },
  {
   "cell_type": "code",
   "execution_count": 22,
   "id": "55b2262c",
   "metadata": {},
   "outputs": [],
   "source": [
    "my_wb.save('BSE183009-2.xlsx')"
   ]
  },
  {
   "cell_type": "markdown",
   "id": "159e435e",
   "metadata": {},
   "source": [
    "# Word File"
   ]
  },
  {
   "cell_type": "code",
   "execution_count": 1,
   "id": "4f179648",
   "metadata": {},
   "outputs": [],
   "source": [
    "import docx\n",
    "import os"
   ]
  },
  {
   "cell_type": "code",
   "execution_count": 2,
   "id": "62172a3b",
   "metadata": {},
   "outputs": [],
   "source": [
    "my_doc = docx.Document('Artificial Intelligence.docx')"
   ]
  },
  {
   "cell_type": "code",
   "execution_count": 3,
   "id": "18d33fb5",
   "metadata": {},
   "outputs": [
    {
     "name": "stdout",
     "output_type": "stream",
     "text": [
      "2\n"
     ]
    }
   ],
   "source": [
    "m = len(my_doc.paragraphs[34].runs)         # Number of runs within a specific document.\n",
    "print(m)"
   ]
  },
  {
   "cell_type": "code",
   "execution_count": null,
   "id": "e4973025",
   "metadata": {},
   "outputs": [],
   "source": []
  }
 ],
 "metadata": {
  "kernelspec": {
   "display_name": "Python 3",
   "language": "python",
   "name": "python3"
  },
  "language_info": {
   "codemirror_mode": {
    "name": "ipython",
    "version": 3
   },
   "file_extension": ".py",
   "mimetype": "text/x-python",
   "name": "python",
   "nbconvert_exporter": "python",
   "pygments_lexer": "ipython3",
   "version": "3.8.8"
  }
 },
 "nbformat": 4,
 "nbformat_minor": 5
}
