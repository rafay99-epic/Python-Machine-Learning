{
 "cells": [
  {
   "cell_type": "markdown",
   "id": "526d92d0",
   "metadata": {},
   "source": [
    "# Making List and Printing List"
   ]
  },
  {
   "cell_type": "code",
   "execution_count": 2,
   "id": "cf14a1c6",
   "metadata": {},
   "outputs": [
    {
     "name": "stdout",
     "output_type": "stream",
     "text": [
      "[4, 5, 7, 9, 20]\n"
     ]
    }
   ],
   "source": [
    "#this ismy list\n",
    "mylist =[4,5,7,9,20]\n",
    "\n",
    "#this will print the list\n",
    "print(mylist)"
   ]
  },
  {
   "cell_type": "markdown",
   "id": "810d89e1",
   "metadata": {},
   "source": [
    "# Check the length of the list "
   ]
  },
  {
   "cell_type": "code",
   "execution_count": 3,
   "id": "9f6de63a",
   "metadata": {},
   "outputs": [
    {
     "name": "stdout",
     "output_type": "stream",
     "text": [
      "5\n"
     ]
    }
   ],
   "source": [
    "# This will check and inform the length of the list  mylist = [\"apple\", \"banana\", \"cherry\"]\n",
    "print(len(mylist))"
   ]
  },
  {
   "cell_type": "markdown",
   "id": "473308f8",
   "metadata": {},
   "source": [
    "# Printing The vales from the list"
   ]
  },
  {
   "cell_type": "code",
   "execution_count": 8,
   "id": "8be2e8c6",
   "metadata": {},
   "outputs": [
    {
     "name": "stdout",
     "output_type": "stream",
     "text": [
      "<class 'list'>\n"
     ]
    }
   ],
   "source": [
    "# thiswill tell the type of the list \n",
    "Hellolist = [\"apple\", \"banana\", \"cherry\"]\n",
    "print(type(Hellolist))"
   ]
  },
  {
   "cell_type": "markdown",
   "id": "1320f59e",
   "metadata": {},
   "source": [
    "# Access Data From List"
   ]
  },
  {
   "cell_type": "code",
   "execution_count": 12,
   "id": "9e949b54",
   "metadata": {},
   "outputs": [
    {
     "name": "stdout",
     "output_type": "stream",
     "text": [
      "90\n"
     ]
    }
   ],
   "source": [
    "# You can access the elements from the list\n",
    "# index value matter if greater then it will through an error\n",
    "rafaylist= [10,50,69,78,90]\n",
    "#print(rafaylist[2])\n",
    "print(rafaylist[4])s"
   ]
  },
  {
   "cell_type": "markdown",
   "id": "77773991",
   "metadata": {},
   "source": [
    "# Negative Indexing\n",
    "\n",
    "Negative indexing means start from the end\n",
    "\n",
    "-1 refers to the last item, -2 refers to the second last item etc."
   ]
  },
  {
   "cell_type": "code",
   "execution_count": 15,
   "id": "43e7ee51",
   "metadata": {},
   "outputs": [
    {
     "name": "stdout",
     "output_type": "stream",
     "text": [
      "cherry\n"
     ]
    }
   ],
   "source": [
    "thislist = [\"apple\", \"banana\", \"cherry\"]\n",
    "print(thislist[-1])"
   ]
  },
  {
   "cell_type": "markdown",
   "id": "2c738231",
   "metadata": {},
   "source": [
    "# Range From the Index\n",
    "\n",
    "This will tell us about the range of the list from the starting point to the end point"
   ]
  },
  {
   "cell_type": "code",
   "execution_count": 21,
   "id": "f772df61",
   "metadata": {},
   "outputs": [
    {
     "name": "stdout",
     "output_type": "stream",
     "text": [
      "['Saqib', 'Saima', 'Moeez', 'Muqeet', 'Rafay', 'Kashif']\n"
     ]
    }
   ],
   "source": [
    "rafaylist2 = [\"Saqib\", \"Saima\", \"Moeez\", \"Muqeet\", \"Rafay\", \"Kashif\", \"Shazia\"]\n",
    "print(rafaylist2[0:6])"
   ]
  },
  {
   "cell_type": "markdown",
   "id": "7ade03f9",
   "metadata": {},
   "source": [
    "# Check for some Items in the list\n",
    "\n",
    "In this we shall check if an item is present in the list or not if the item is not installed then it will show an error"
   ]
  },
  {
   "cell_type": "code",
   "execution_count": 32,
   "id": "db919aec",
   "metadata": {},
   "outputs": [
    {
     "name": "stdout",
     "output_type": "stream",
     "text": [
      "The Word is not aviable in the list\n"
     ]
    }
   ],
   "source": [
    "rafaylist = [\"Rafay\",\"Moeez\",\"Muqeet\"]\n",
    "if \"Saqib\" in Rafaylist:\n",
    "    print(\"Yes,'Rafay' is in the fruits list\")\n",
    "else:\n",
    "    print(\"The Word is not aviable in the list\")\n",
    "# Rafaylist = [\"Rafay\", \"Moeez\", \"Muqeet\"]\n",
    "# if \"Ssqib\" in rafaylist:\n",
    "#       print(\"Yes, 'Saqib' is in the fruits list\") "
   ]
  },
  {
   "cell_type": "markdown",
   "id": "d9c90a69",
   "metadata": {},
   "source": [
    "# Change the values in the Index\n",
    "\n",
    "This will change the value in the list at the given index"
   ]
  },
  {
   "cell_type": "code",
   "execution_count": 34,
   "id": "4603404c",
   "metadata": {},
   "outputs": [
    {
     "name": "stdout",
     "output_type": "stream",
     "text": [
      "[56, 67, 90, 89, 67, 66]\n"
     ]
    }
   ],
   "source": [
    "rafaylist =[ 56,89,90,89,67,66]\n",
    "rafaylist[1]= 67\n",
    "print(rafaylist)"
   ]
  },
  {
   "cell_type": "markdown",
   "id": "8889a7c1",
   "metadata": {},
   "source": [
    "# Changing the values using Range\n",
    "\n",
    "In this we will replace the compoents of the list with the range, the value in the ranger will be chaged only as shown in the example bellow\n"
   ]
  },
  {
   "cell_type": "code",
   "execution_count": 36,
   "id": "43614042",
   "metadata": {},
   "outputs": [
    {
     "name": "stdout",
     "output_type": "stream",
     "text": [
      "['apple', 'blackcurrant', 'watermelon', 'orange', 'kiwi', 'mango']\n"
     ]
    }
   ],
   "source": [
    " thislist = [\"apple\", \"banana\", \"cherry\", \"orange\", \"kiwi\", \"mango\"]\n",
    "thislist[1:3] = [\"blackcurrant\", \"watermelon\"]\n",
    "print(thislist)"
   ]
  },
  {
   "cell_type": "markdown",
   "id": "81409ea7",
   "metadata": {},
   "source": [
    "## In case of less values:\n",
    "\n",
    "\n",
    "If you insert less items than you replace, the new items will be inserted where you specified, and the remaining items will move accordingly:"
   ]
  },
  {
   "cell_type": "code",
   "execution_count": 37,
   "id": "18117aa5",
   "metadata": {},
   "outputs": [
    {
     "name": "stdout",
     "output_type": "stream",
     "text": [
      "['apple', 'watermelon']\n"
     ]
    }
   ],
   "source": [
    "thislist = [\"apple\", \"banana\", \"cherry\"]\n",
    "thislist[1:3] = [\"watermelon\"]\n",
    "print(thislist)"
   ]
  },
  {
   "cell_type": "markdown",
   "id": "5a1af6ef",
   "metadata": {},
   "source": [
    "# Insert Values:\n",
    "\n",
    "You can add an element in the list using the insert command in the list"
   ]
  },
  {
   "cell_type": "code",
   "execution_count": 40,
   "id": "496255a4",
   "metadata": {},
   "outputs": [
    {
     "name": "stdout",
     "output_type": "stream",
     "text": [
      "['Saqib', 'Saima', 'Moeez', 'Chess']\n"
     ]
    }
   ],
   "source": [
    "Rafaylist = [\"Saqib\", \"Saima\", \"Chess\"]\n",
    "Rafaylist.insert(2, \"Moeez\")\n",
    "print(Rafaylist)"
   ]
  },
  {
   "cell_type": "markdown",
   "id": "a7954a30",
   "metadata": {},
   "source": [
    "# Join List\n",
    "\n",
    "There are different ways to join two more more then two list, You can join using function or using for loop as well."
   ]
  },
  {
   "cell_type": "markdown",
   "id": "b6be8b88",
   "metadata": {},
   "source": [
    "##  1) Simple Way Joinning List\n",
    " In this we use plus sign to combine lists"
   ]
  },
  {
   "cell_type": "code",
   "execution_count": 2,
   "id": "e7dd8103",
   "metadata": {},
   "outputs": [
    {
     "name": "stdout",
     "output_type": "stream",
     "text": [
      "['Saqib', 'Saima', 'rafay', 'Moeez', 'Muqeet']\n"
     ]
    }
   ],
   "source": [
    "family1=[\"Saqib\", \"Saima\"]\n",
    "family2= [\"rafay\",\"Moeez\",\"Muqeet\"]\n",
    "\n",
    "list3= family1 + family2\n",
    "print(list3)"
   ]
  },
  {
   "cell_type": "markdown",
   "id": "e2c4839b",
   "metadata": {},
   "source": [
    "## 2) Joining using Append function\n",
    "\n",
    "In this we will be using the append() function and this function will help you to join list, but for append function we can use for loop"
   ]
  },
  {
   "cell_type": "code",
   "execution_count": null,
   "id": "48334bad",
   "metadata": {},
   "outputs": [],
   "source": [
    "family1=[\"Saqib\", \"Saima\"]\n",
    "family2= [\"Rafay\",\"Moeez\",\"Muqeet\"]\n",
    "\n",
    "for x in family2:\n",
    "    family1.append(x)\n",
    "print(family1)"
   ]
  }
 ],
 "metadata": {
  "kernelspec": {
   "display_name": "Python 3",
   "language": "python",
   "name": "python3"
  },
  "language_info": {
   "codemirror_mode": {
    "name": "ipython",
    "version": 3
   },
   "file_extension": ".py",
   "mimetype": "text/x-python",
   "name": "python",
   "nbconvert_exporter": "python",
   "pygments_lexer": "ipython3",
   "version": "3.8.8"
  }
 },
 "nbformat": 4,
 "nbformat_minor": 5
}
