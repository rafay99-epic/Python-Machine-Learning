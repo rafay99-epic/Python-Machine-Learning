{
 "cells": [
  {
   "cell_type": "markdown",
   "id": "2a4a6d5b",
   "metadata": {},
   "source": [
    "# Shallow Copy and Deep Copy"
   ]
  },
  {
   "cell_type": "markdown",
   "id": "2d8c5e31",
   "metadata": {},
   "source": [
    "**1) Deep copy**<br>\n",
    "*Deep copy is a process in which the copying process occurs recursively. It means first constructing a new collection object and then recursively populating it with copies of the child objects found in the original. In case of deep copy, a copy of object is copied in other object. It means that any changes made to a copy of object do not reflect in the original object.*<br>\n",
    "**2) Shallow Copy**<br>\n",
    "*A shallow copy means constructing a new collection object and then populating it with references to the child objects found in the original. The copying process does not recurse and therefore won’t create copies of the child objects themselves. In case of shallow copy, a reference of object is copied in other object. It means that any changes made to a copy of object do reflect in the original object.*<br>"
   ]
  },
  {
   "cell_type": "code",
   "execution_count": 1,
   "id": "68530613",
   "metadata": {},
   "outputs": [],
   "source": [
    "import copy\n",
    "list1=[3,4,5,6,[-400,-500,-600]]\n",
    "list2=list1\n",
    "list3= copy.deepcopy(list1)"
   ]
  },
  {
   "cell_type": "code",
   "execution_count": 2,
   "id": "5aba211f",
   "metadata": {},
   "outputs": [
    {
     "data": {
      "text/plain": [
       "[3, 4, 5, 6, [-400, -500, -600]]"
      ]
     },
     "execution_count": 2,
     "metadata": {},
     "output_type": "execute_result"
    }
   ],
   "source": [
    "list1"
   ]
  },
  {
   "cell_type": "code",
   "execution_count": 3,
   "id": "5e06eda3",
   "metadata": {},
   "outputs": [
    {
     "data": {
      "text/plain": [
       "[3, 4, 5, 6, [-400, -500, -600]]"
      ]
     },
     "execution_count": 3,
     "metadata": {},
     "output_type": "execute_result"
    }
   ],
   "source": [
    "list2"
   ]
  },
  {
   "cell_type": "code",
   "execution_count": 4,
   "id": "0a69c437",
   "metadata": {},
   "outputs": [
    {
     "data": {
      "text/plain": [
       "[3, 4, 5, 6, [-400, -500, -600]]"
      ]
     },
     "execution_count": 4,
     "metadata": {},
     "output_type": "execute_result"
    }
   ],
   "source": [
    "list3"
   ]
  },
  {
   "cell_type": "code",
   "execution_count": 6,
   "id": "f97569c9",
   "metadata": {},
   "outputs": [],
   "source": [
    "list1[4][1] = -999657412398"
   ]
  },
  {
   "cell_type": "code",
   "execution_count": 7,
   "id": "0d65a943",
   "metadata": {},
   "outputs": [
    {
     "data": {
      "text/plain": [
       "[3, 4, 5, 6, [-400, -999657412398, -600]]"
      ]
     },
     "execution_count": 7,
     "metadata": {},
     "output_type": "execute_result"
    }
   ],
   "source": [
    "list1"
   ]
  },
  {
   "cell_type": "code",
   "execution_count": 8,
   "id": "ab18efa4",
   "metadata": {},
   "outputs": [
    {
     "data": {
      "text/plain": [
       "[3, 4, 5, 6, [-400, -999657412398, -600]]"
      ]
     },
     "execution_count": 8,
     "metadata": {},
     "output_type": "execute_result"
    }
   ],
   "source": [
    "list2"
   ]
  },
  {
   "cell_type": "code",
   "execution_count": 9,
   "id": "d967c3e6",
   "metadata": {},
   "outputs": [
    {
     "data": {
      "text/plain": [
       "[3, 4, 5, 6, [-400, -500, -600]]"
      ]
     },
     "execution_count": 9,
     "metadata": {},
     "output_type": "execute_result"
    }
   ],
   "source": [
    "list3"
   ]
  },
  {
   "cell_type": "markdown",
   "id": "7f7769b6",
   "metadata": {},
   "source": [
    "# Shallow Copy"
   ]
  },
  {
   "cell_type": "code",
   "execution_count": 16,
   "id": "bb229b99",
   "metadata": {},
   "outputs": [
    {
     "name": "stdout",
     "output_type": "stream",
     "text": [
      "[1, 4, 5, 9, 6, 7, [-99856, 45600, 5688]]\n",
      "[1, 4, 5, 9, 6, 7, [-99856, 45600, 5688]]\n",
      "Value have changed!!\n",
      "[1, 4, 5, 9, 100, 7, [-99856, 45600, 5688]]\n",
      "[1, 4, 5, 9, 100, 7, [-99856, 45600, 5688]]\n"
     ]
    }
   ],
   "source": [
    "\n",
    "# creating List\n",
    "list4= [1,4,5,9,6,7,[-99856,45600,5688]]\n",
    "# copying data using shallow copy\n",
    "list5=list4\n",
    "# Priniting the list\n",
    "print(list4)\n",
    "print(list5)\n",
    "\n",
    "#Assigning Vales\n",
    "list4[4]= 100\n",
    "print(\"Value have changed!!\")\n",
    "# Value changed in both list\n",
    "print(list4)\n",
    "print(list5)\n",
    "\n"
   ]
  },
  {
   "cell_type": "code",
   "execution_count": 19,
   "id": "21d35000",
   "metadata": {},
   "outputs": [
    {
     "name": "stdout",
     "output_type": "stream",
     "text": [
      "[1, 4, 5, 9, 6, 7, [-99856, 45600, 5688]]\n",
      "[1, 4, 5, 9, 6, 7, [-99856, 45600, 5688]]\n",
      "140452367331392\n",
      "140452367333312\n",
      "[1, 4, 5, 9, 6, 7, [-99856, 45600, 88888]]\n",
      "[1, 4, 5, 9, 6, 7, [-99856, 45600, 5688]]\n"
     ]
    }
   ],
   "source": [
    "# build in libiary for the deep copy\n",
    "import copy\n",
    "\n",
    "# creating List\n",
    "list4= [1,4,5,9,6,7,[-99856,45600,5688]]\n",
    "# copying data using Deep copy\n",
    "list5=copy.deepcopy(list4)\n",
    "# Priniting the list\n",
    "print(list4)\n",
    "print(list5)\n",
    "\n",
    "# Printing Id of list 4 and List 5\n",
    "print(id(list4))\n",
    "print(id(list5))\n",
    "\n",
    "# changing values in list 4\n",
    "list4[6][2]= 88888\n",
    "\n",
    "# printing list 4\n",
    "print(list4)\n",
    "\n",
    "# checking does list 5 have any effect or not.\n",
    "print(list5)\n",
    "\n"
   ]
  }
 ],
 "metadata": {
  "kernelspec": {
   "display_name": "Python 3",
   "language": "python",
   "name": "python3"
  },
  "language_info": {
   "codemirror_mode": {
    "name": "ipython",
    "version": 3
   },
   "file_extension": ".py",
   "mimetype": "text/x-python",
   "name": "python",
   "nbconvert_exporter": "python",
   "pygments_lexer": "ipython3",
   "version": "3.8.8"
  }
 },
 "nbformat": 4,
 "nbformat_minor": 5
}
