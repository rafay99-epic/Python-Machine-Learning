{
 "cells": [
  {
   "cell_type": "code",
   "execution_count": 16,
   "id": "76f428e8",
   "metadata": {},
   "outputs": [
    {
     "name": "stdout",
     "output_type": "stream",
     "text": [
      "Enter the lower Limit: 800\n",
      "Enter the upper limit: 1500\n",
      "\n",
      "\tYou've only  9  chances to guess the integer!\n",
      "\n",
      "Guess a number:- 900\n",
      "You guessed too small!\n",
      "Guess a number:- 1000\n",
      "You guessed too small!\n",
      "Guess a number:- 1150\n",
      "You guessed too small!\n",
      "Guess a number:- 1200\n",
      "You guessed too small!\n",
      "Guess a number:- 1300\n",
      "You guessed too small!\n",
      "Guess a number:- 1400\n",
      "You guessed too small!\n",
      "Guess a number:- 1500\n",
      "You Guessed too high!\n",
      "Guess a number:- 1450\n",
      "You guessed too small!\n",
      "Guess a number:- 1455\n",
      "You guessed too small!\n",
      "Guess a number:- 1456\n",
      "You guessed too small!\n",
      "\n",
      "The number is 1458\n",
      "\tBetter Luck Next time!\n"
     ]
    }
   ],
   "source": [
    "import random\n",
    "import math\n",
    "\n",
    "# Set the limit by the user\n",
    "lower = int(input(\"Enter the lower Limit: \"))\n",
    "upper = int(input(\"Enter the upper limit: \"))\n",
    "\n",
    "# rmadom number is choose and stored in the x variable\n",
    "x = random.randint(lower, upper)\n",
    "\n",
    "y = math.log(upper - lower +1, 2)\n",
    "print(\"\\n\\tYou've only \", round(y),\" chances to guess the integer!\\n\")\n",
    "\n",
    "count = 0\n",
    "while count < math.log(upper - lower + 1, 2):\n",
    "    count += 1\n",
    " \n",
    "    guess = int(input(\"Guess a number:- \"))\n",
    " \n",
    "    if x == guess:\n",
    "        print(\"Congratulations you did it in \",\n",
    "              count, \" try\")\n",
    "        \n",
    "        break\n",
    "    elif x > guess:\n",
    "        print(\"You guessed too small!\")\n",
    "    elif x < guess:\n",
    "        print(\"You Guessed too high!\")\n",
    "\n",
    "if count >= y:\n",
    "    print(\"\\nThe number is %d\" % x)\n",
    "    print(\"\\tBetter Luck Next time!\")\n",
    "          \n",
    "\n",
    "\n",
    "\n"
   ]
  },
  {
   "cell_type": "code",
   "execution_count": 17,
   "id": "f1fa0209",
   "metadata": {},
   "outputs": [
    {
     "name": "stdout",
     "output_type": "stream",
     "text": [
      "Hello How are You\n",
      "What the hell you doing\n",
      "Hi haseeb \n",
      "What the fuck is this\n",
      "\n"
     ]
    }
   ],
   "source": [
    "my_string= \"\"\"Hello How are You\n",
    "What the hell you doing\n",
    "Hi haseeb \n",
    "What the fuck is this\n",
    "\"\"\"\n",
    "print(my_string)"
   ]
  },
  {
   "cell_type": "code",
   "execution_count": 19,
   "id": "58f6ffad",
   "metadata": {},
   "outputs": [
    {
     "data": {
      "text/plain": [
       "'Mohamamd Abdul Rafay'"
      ]
     },
     "execution_count": 19,
     "metadata": {},
     "output_type": "execute_result"
    }
   ],
   "source": [
    "str1 = 'Mohamamd Abdul '\n",
    "str2 = 'Rafay'\n",
    "str1 + str2"
   ]
  },
  {
   "cell_type": "code",
   "execution_count": 20,
   "id": "5e58eb1b",
   "metadata": {},
   "outputs": [
    {
     "data": {
      "text/plain": [
       "'Python3is good and fun to learn'"
      ]
     },
     "execution_count": 20,
     "metadata": {},
     "output_type": "execute_result"
    }
   ],
   "source": [
    "str1 = 'Python3'\n",
    "str2 = 'is good and fun to learn'\n",
    "str1+ str2"
   ]
  },
  {
   "cell_type": "code",
   "execution_count": 28,
   "id": "962fec87",
   "metadata": {},
   "outputs": [
    {
     "data": {
      "text/plain": [
       "'Rafay Rafay Rafay Rafay Rafay Rafay Rafay Rafay Rafay Rafay Rafay Rafay Rafay Rafay Rafay Rafay Rafay Rafay Rafay Rafay Rafay Rafay Rafay Rafay Rafay Rafay Rafay Rafay Rafay Rafay Rafay Rafay Rafay Rafay Rafay Rafay Rafay Rafay Rafay Rafay Rafay Rafay Rafay Rafay Rafay Rafay Rafay Rafay Rafay Rafay '"
      ]
     },
     "execution_count": 28,
     "metadata": {},
     "output_type": "execute_result"
    }
   ],
   "source": [
    "str1= 'Rafay '\n",
    "str1 * (50)\n"
   ]
  },
  {
   "cell_type": "code",
   "execution_count": 31,
   "id": "b18ca1d5",
   "metadata": {},
   "outputs": [
    {
     "name": "stdout",
     "output_type": "stream",
     "text": [
      "Life is too short to life and must learn python while living the life\n"
     ]
    }
   ],
   "source": [
    "str3 = 'Life is too short to life and must learn python while living the life'\n",
    "str3[5]\n",
    "print(str3)"
   ]
  },
  {
   "cell_type": "code",
   "execution_count": 34,
   "id": "2ce69157",
   "metadata": {},
   "outputs": [
    {
     "data": {
      "text/plain": [
       "69"
      ]
     },
     "execution_count": 34,
     "metadata": {},
     "output_type": "execute_result"
    }
   ],
   "source": [
    "\n",
    "len(str3)"
   ]
  },
  {
   "cell_type": "code",
   "execution_count": 40,
   "id": "096d245d",
   "metadata": {},
   "outputs": [
    {
     "data": {
      "text/plain": [
       "6"
      ]
     },
     "execution_count": 40,
     "metadata": {},
     "output_type": "execute_result"
    }
   ],
   "source": [
    "str3.count('h')\n",
    "str3.count('t')"
   ]
  },
  {
   "cell_type": "code",
   "execution_count": 42,
   "id": "2a412cec",
   "metadata": {},
   "outputs": [
    {
     "data": {
      "text/plain": [
       "'LIFE IS TOO SHORT TO LIFE AND MUST LEARN PYTHON WHILE LIVING THE LIFE'"
      ]
     },
     "execution_count": 42,
     "metadata": {},
     "output_type": "execute_result"
    }
   ],
   "source": [
    "str3.upper()\n"
   ]
  },
  {
   "cell_type": "code",
   "execution_count": 44,
   "id": "f0ad1cc0",
   "metadata": {},
   "outputs": [
    {
     "data": {
      "text/plain": [
       "41"
      ]
     },
     "execution_count": 44,
     "metadata": {},
     "output_type": "execute_result"
    }
   ],
   "source": [
    "str3.find('p')"
   ]
  },
  {
   "cell_type": "code",
   "execution_count": 53,
   "id": "c1573480",
   "metadata": {},
   "outputs": [
    {
     "data": {
      "text/plain": [
       "['Life',\n",
       " 'is',\n",
       " 'too',\n",
       " 'short',\n",
       " 'to',\n",
       " 'life',\n",
       " 'and',\n",
       " 'must',\n",
       " 'learn',\n",
       " 'python',\n",
       " 'while',\n",
       " 'living',\n",
       " 'the',\n",
       " 'life']"
      ]
     },
     "execution_count": 53,
     "metadata": {},
     "output_type": "execute_result"
    }
   ],
   "source": [
    "str3.split(' ')"
   ]
  },
  {
   "cell_type": "code",
   "execution_count": 54,
   "id": "681eb8c3",
   "metadata": {},
   "outputs": [
    {
     "ename": "NameError",
     "evalue": "name 's' is not defined",
     "output_type": "error",
     "traceback": [
      "\u001b[0;31m---------------------------------------------------------------------------\u001b[0m",
      "\u001b[0;31mNameError\u001b[0m                                 Traceback (most recent call last)",
      "\u001b[0;32m<ipython-input-54-27ac20b87583>\u001b[0m in \u001b[0;36m<module>\u001b[0;34m\u001b[0m\n\u001b[1;32m      1\u001b[0m \u001b[0my\u001b[0m \u001b[0;34m=\u001b[0m \u001b[0mstr3\u001b[0m\u001b[0;34m.\u001b[0m\u001b[0msplit\u001b[0m\u001b[0;34m(\u001b[0m\u001b[0;34m' '\u001b[0m\u001b[0;34m)\u001b[0m\u001b[0;34m\u001b[0m\u001b[0;34m\u001b[0m\u001b[0m\n\u001b[1;32m      2\u001b[0m \u001b[0ma\u001b[0m \u001b[0;34m=\u001b[0m \u001b[0;34m''\u001b[0m\u001b[0;34m\u001b[0m\u001b[0;34m\u001b[0m\u001b[0m\n\u001b[0;32m----> 3\u001b[0;31m \u001b[0ms\u001b[0m\u001b[0;34m.\u001b[0m\u001b[0mjoin\u001b[0m\u001b[0;34m(\u001b[0m\u001b[0my\u001b[0m\u001b[0;34m)\u001b[0m\u001b[0;34m\u001b[0m\u001b[0;34m\u001b[0m\u001b[0m\n\u001b[0m",
      "\u001b[0;31mNameError\u001b[0m: name 's' is not defined"
     ]
    }
   ],
   "source": [
    "y = str3.split(' ')\n",
    "a = ''\n",
    "s.join(y)"
   ]
  }
 ],
 "metadata": {
  "kernelspec": {
   "display_name": "Python 3",
   "language": "python",
   "name": "python3"
  },
  "language_info": {
   "codemirror_mode": {
    "name": "ipython",
    "version": 3
   },
   "file_extension": ".py",
   "mimetype": "text/x-python",
   "name": "python",
   "nbconvert_exporter": "python",
   "pygments_lexer": "ipython3",
   "version": "3.8.8"
  }
 },
 "nbformat": 4,
 "nbformat_minor": 5
}
