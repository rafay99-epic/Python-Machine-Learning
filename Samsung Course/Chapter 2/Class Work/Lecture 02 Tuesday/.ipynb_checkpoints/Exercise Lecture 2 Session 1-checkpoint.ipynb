{
 "cells": [
  {
   "cell_type": "markdown",
   "id": "bab8dee5",
   "metadata": {},
   "source": [
    "# Title 1\n",
    "\n",
    "## Title 2\n",
    "\n",
    "### Title 3\n",
    "\n",
    "Title 4\n",
    "\n",
    "[Google](https://www.google.com/)\n",
    "\n",
    "*Rafay is my name*\n",
    "\n",
    "**Bold Font** \n",
    "\n",
    "An expression in LaTex: Area =  r**2\n",
    "\n",
    "My friends:\n",
    "* Rafay \n",
    "* Moeez\n",
    "* Muqeet\n",
    "\n",
    "\n",
    "# This is a Quote:\n",
    ">Another Quote\n"
   ]
  },
  {
   "cell_type": "code",
   "execution_count": 1,
   "id": "b794bb5b",
   "metadata": {},
   "outputs": [
    {
     "name": "stdout",
     "output_type": "stream",
     "text": [
      "Hello world\n"
     ]
    }
   ],
   "source": [
    "#print out the hello world!!\n",
    "print(('Hello world'))"
   ]
  },
  {
   "cell_type": "code",
   "execution_count": 2,
   "id": "f418ef6a",
   "metadata": {},
   "outputs": [
    {
     "data": {
      "text/plain": [
       "2"
      ]
     },
     "execution_count": 2,
     "metadata": {},
     "output_type": "execute_result"
    }
   ],
   "source": [
    "# Simple Maths\n",
    "1+1"
   ]
  },
  {
   "cell_type": "code",
   "execution_count": 3,
   "id": "781c021f",
   "metadata": {},
   "outputs": [
    {
     "ename": "SyntaxError",
     "evalue": "invalid syntax (<ipython-input-3-54a530488c46>, line 1)",
     "output_type": "error",
     "traceback": [
      "\u001b[0;36m  File \u001b[0;32m\"<ipython-input-3-54a530488c46>\"\u001b[0;36m, line \u001b[0;32m1\u001b[0m\n\u001b[0;31m    4/3jj\\|/\\\u001b[0m\n\u001b[0m        ^\u001b[0m\n\u001b[0;31mSyntaxError\u001b[0m\u001b[0;31m:\u001b[0m invalid syntax\n"
     ]
    }
   ],
   "source": [
    "4/3jj\\|/\\"
   ]
  },
  {
   "cell_type": "code",
   "execution_count": null,
   "id": "f476bb9b",
   "metadata": {},
   "outputs": [],
   "source": [
    "# floor Division\n",
    "4/3"
   ]
  },
  {
   "cell_type": "code",
   "execution_count": 6,
   "id": "f34c6cd8",
   "metadata": {},
   "outputs": [
    {
     "name": "stdout",
     "output_type": "stream",
     "text": [
      "<class 'int'>\n",
      "<class 'int'>\n"
     ]
    }
   ],
   "source": [
    "# Data types.\n",
    "print(type(2**30))\n",
    "print(type(2**100))"
   ]
  },
  {
   "cell_type": "code",
   "execution_count": null,
   "id": "bffb38e7",
   "metadata": {},
   "outputs": [],
   "source": [
    "# Variable.\n",
    "x = 3\n",
    "print(x * 5)"
   ]
  },
  {
   "cell_type": "code",
   "execution_count": null,
   "id": "a808c63e",
   "metadata": {},
   "outputs": [],
   "source": [
    "# Iteration.\n",
    "for x in [1,2,3,4,5]:\n",
    "    print(x)\n"
   ]
  },
  {
   "cell_type": "code",
   "execution_count": 7,
   "id": "103a8aa3",
   "metadata": {},
   "outputs": [
    {
     "name": "stdout",
     "output_type": "stream",
     "text": [
      "x is smaller than 10.\n"
     ]
    }
   ],
   "source": [
    "# Conditional structure.\n",
    "x = 7\n",
    "if x < 10:\n",
    "    print('x is smaller than 10.')\n",
    "else:\n",
    "    print('x is larger than 10.')"
   ]
  },
  {
   "cell_type": "code",
   "execution_count": null,
   "id": "9a29fc15",
   "metadata": {},
   "outputs": [],
   "source": []
  }
 ],
 "metadata": {
  "kernelspec": {
   "display_name": "Python 3",
   "language": "python",
   "name": "python3"
  },
  "language_info": {
   "codemirror_mode": {
    "name": "ipython",
    "version": 3
   },
   "file_extension": ".py",
   "mimetype": "text/x-python",
   "name": "python",
   "nbconvert_exporter": "python",
   "pygments_lexer": "ipython3",
   "version": "3.8.8"
  }
 },
 "nbformat": 4,
 "nbformat_minor": 5
}
