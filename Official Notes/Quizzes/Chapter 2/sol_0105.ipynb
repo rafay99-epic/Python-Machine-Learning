{
 "cells": [
  {
   "cell_type": "markdown",
   "metadata": {},
   "source": [
    "## Quiz #0105 (Solution)"
   ]
  },
  {
   "cell_type": "markdown",
   "metadata": {},
   "source": [
    "#### Assignment: \n",
    "- Write a function named 'palindrome' to test whether the entered word or sentence is a palindrome.<br>\n",
    "- Ignore capitalization, spaces, punctuation marks, symbols, etc. <br>\n",
    "- Use the properties of 'queue' and 'stack' data structures. <br>"
   ]
  },
  {
   "cell_type": "markdown",
   "metadata": {},
   "source": [
    "Palindrome examples: <br>\n",
    "- mom\n",
    "- wow\n",
    "- noon\n",
    "- level\n",
    "- radar\n",
    "- kayak\n",
    "- racecar\n",
    "- God's dog\n",
    "- Madam, I'm Adam"
   ]
  },
  {
   "cell_type": "code",
   "execution_count": null,
   "metadata": {},
   "outputs": [],
   "source": [
    "def palindrome(d):\n",
    "    b1 = ''\n",
    "    letters1 = []\n",
    "\n",
    "    for x in d:\n",
    "        if x.isalpha():\n",
    "            letters1.append(x.upper())\n",
    "    \n",
    "    letters2 = letters1[:]\n",
    "    \n",
    "    while letters1:    \n",
    "        c = letters1.pop(0)                     # Dequeue as a queue.\n",
    "        b1 += c\n",
    "    \n",
    "    b2 = ''\n",
    "    while letters2:    \n",
    "        c = letters2.pop()                      # Pop as a stack.\n",
    "        b2 += c\n",
    "    \n",
    "    if b1 == b2:\n",
    "        return True\n",
    "    else:\n",
    "        return False"
   ]
  },
  {
   "cell_type": "markdown",
   "metadata": {},
   "source": [
    "Test results:"
   ]
  },
  {
   "cell_type": "code",
   "execution_count": null,
   "metadata": {},
   "outputs": [],
   "source": [
    "palindrome(\"Kayak\")"
   ]
  },
  {
   "cell_type": "code",
   "execution_count": null,
   "metadata": {},
   "outputs": [],
   "source": [
    "palindrome(\"Madam, I'm Adam\")"
   ]
  },
  {
   "cell_type": "code",
   "execution_count": null,
   "metadata": {},
   "outputs": [],
   "source": [
    "palindrome(\"Hello\")"
   ]
  },
  {
   "cell_type": "code",
   "execution_count": null,
   "metadata": {},
   "outputs": [],
   "source": []
  }
 ],
 "metadata": {
  "kernelspec": {
   "display_name": "Python 3",
   "language": "python",
   "name": "python3"
  },
  "language_info": {
   "codemirror_mode": {
    "name": "ipython",
    "version": 3
   },
   "file_extension": ".py",
   "mimetype": "text/x-python",
   "name": "python",
   "nbconvert_exporter": "python",
   "pygments_lexer": "ipython3",
   "version": "3.7.3"
  }
 },
 "nbformat": 4,
 "nbformat_minor": 2
}
